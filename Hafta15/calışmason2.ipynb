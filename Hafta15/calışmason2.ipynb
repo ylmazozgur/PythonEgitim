{
 "cells": [
  {
   "cell_type": "markdown",
   "id": "f681bc54",
   "metadata": {},
   "source": [
    "Problem Senaryosu: Telekomünikasyon Şirketi Müşteri Kaybı (Churn) Tahmini\n",
    "\n",
    "Problemin Tanımı:\n",
    "\n",
    "Bir telekomünikasyon şirketi olan \"X\", son zamanlarda artan müşteri kaybından (churn) şikayetçidir. Şirket, hangi müşterilerin aboneliklerini iptal etme olasılığının yüksek olduğunu önceden tahmin etmek istiyor. Bu sayede, risk altındaki müşterilere özel indirimler, kampanyalar veya daha iyi hizmetler sunarak onları elde tutmayı hedefliyorlar.\n",
    "\n",
    "Öğrencilerden Beklenen Görev:\n",
    "\n",
    "Öğrencilere verilecek olan \"X\" müşteri veri setini kullanarak, bir müşterinin şirketi terk edip etmeyeceğini (Churn_Durumu) tahmin eden bir makine öğrenmesi modeli geliştirmeleri istenmektedir. En yüksek doğrulukla tahmin yapan modeli geliştiren ekip/öğrenci başarılı sayılacaktır."
   ]
  },
  {
   "cell_type": "code",
   "execution_count": 2,
   "id": "e9b873ed",
   "metadata": {},
   "outputs": [],
   "source": [
    "import pandas as pd #veri okuma ve işlemi için.\n",
    "import numpy as np #sayısal işlemler için .\n",
    "import seaborn as sns # gelişmiş görselleştirme için.\n",
    "import matplotlib.pyplot as plt #görselleştirme\n",
    "import datetime # aşağıda bu son aktif tarihi bugunden çıkarıp kullanım zamanına bakcam\n"
   ]
  },
  {
   "cell_type": "code",
   "execution_count": 3,
   "id": "35738c1d",
   "metadata": {},
   "outputs": [],
   "source": [
    "# BUNLARI YÜKLEMENİN AMACI DA VERİ ANALİZİ YA DA MAKİNE ÖĞRENİMİ İÇİN. \n",
    "from sklearn.model_selection import train_test_split \n",
    "from sklearn.preprocessing import StandardScaler\n",
    "from sklearn.linear_model import LinearRegression , LogisticRegression\n",
    "from sklearn.metrics import accuracy_score , confusion_matrix , classification_report , mean_squared_error"
   ]
  },
  {
   "cell_type": "code",
   "execution_count": 4,
   "id": "50e63293",
   "metadata": {},
   "outputs": [],
   "source": [
    "df = pd.read_csv(\"Veri.csv\")"
   ]
  },
  {
   "cell_type": "code",
   "execution_count": 5,
   "id": "2051c6c9",
   "metadata": {},
   "outputs": [
    {
     "data": {
      "text/plain": [
       "['MusteriID',\n",
       " 'Cinsiyet',\n",
       " 'Yas',\n",
       " 'AbonelikSuresi_Ay',\n",
       " 'AylikUcret',\n",
       " 'TeknikDestekAramalari',\n",
       " 'KullanilanServisler',\n",
       " 'SonAktiviteTarihi',\n",
       " 'Churn_Durumu',\n",
       " 'ToplamHarcananTutar']"
      ]
     },
     "execution_count": 5,
     "metadata": {},
     "output_type": "execute_result"
    }
   ],
   "source": [
    "df.columns.tolist()"
   ]
  },
  {
   "cell_type": "code",
   "execution_count": 6,
   "id": "9d2b1e46",
   "metadata": {},
   "outputs": [
    {
     "name": "stdout",
     "output_type": "stream",
     "text": [
      "<class 'pandas.core.frame.DataFrame'>\n",
      "RangeIndex: 100000 entries, 0 to 99999\n",
      "Data columns (total 10 columns):\n",
      " #   Column                 Non-Null Count   Dtype  \n",
      "---  ------                 --------------   -----  \n",
      " 0   MusteriID              100000 non-null  object \n",
      " 1   Cinsiyet               95938 non-null   object \n",
      " 2   Yas                    95000 non-null   float64\n",
      " 3   AbonelikSuresi_Ay      100000 non-null  int64  \n",
      " 4   AylikUcret             95000 non-null   object \n",
      " 5   TeknikDestekAramalari  100000 non-null  int64  \n",
      " 6   KullanilanServisler    100000 non-null  object \n",
      " 7   SonAktiviteTarihi      100000 non-null  object \n",
      " 8   Churn_Durumu           100000 non-null  object \n",
      " 9   ToplamHarcananTutar    92289 non-null   object \n",
      "dtypes: float64(1), int64(2), object(7)\n",
      "memory usage: 7.6+ MB\n"
     ]
    }
   ],
   "source": [
    "df.info()\n",
    "# 3 TANE SIKINTI VAR \n",
    "# 1. AYLIKUCRET NEDEN OBJEEE \n",
    "#2.TARİH KISMI DATATİME OLCAKK\n",
    "#3.TOPLAM HARCANAN TUTAR OBJ OLMAMALI SAYI O İNT OLMALI"
   ]
  },
  {
   "cell_type": "code",
   "execution_count": 7,
   "id": "51e79374",
   "metadata": {},
   "outputs": [],
   "source": [
    "df[\"AylikUcret\"]= pd.to_numeric(df[\"AylikUcret\"],errors=\"coerce\")"
   ]
  },
  {
   "cell_type": "code",
   "execution_count": 8,
   "id": "af2116b1",
   "metadata": {},
   "outputs": [],
   "source": [
    "df[\"SonAktiviteTarihi\"] = pd.to_datetime(df[\"SonAktiviteTarihi\"] , errors=\"coerce\")"
   ]
  },
  {
   "cell_type": "code",
   "execution_count": 9,
   "id": "f9137061",
   "metadata": {},
   "outputs": [],
   "source": [
    "df[\"ToplamHarcananTutar\"]= pd.to_numeric(df[\"ToplamHarcananTutar\"], errors=\"coerce\")"
   ]
  },
  {
   "cell_type": "code",
   "execution_count": 10,
   "id": "da1f63c5",
   "metadata": {},
   "outputs": [
    {
     "data": {
      "text/plain": [
       "ToplamHarcananTutar      10503\n",
       "AylikUcret                9741\n",
       "Yas                       5000\n",
       "Cinsiyet                  4062\n",
       "MusteriID                    0\n",
       "AbonelikSuresi_Ay            0\n",
       "TeknikDestekAramalari        0\n",
       "KullanilanServisler          0\n",
       "SonAktiviteTarihi            0\n",
       "Churn_Durumu                 0\n",
       "dtype: int64"
      ]
     },
     "execution_count": 10,
     "metadata": {},
     "output_type": "execute_result"
    }
   ],
   "source": [
    "# önce boş değerlerimize bakalım\n",
    "df.isnull().sum().sort_values(ascending=False)"
   ]
  },
  {
   "cell_type": "code",
   "execution_count": 11,
   "id": "0d9de8b9",
   "metadata": {},
   "outputs": [
    {
     "data": {
      "text/plain": [
       "array(['Kadın', 'Erkek', 'K', 'E', nan], dtype=object)"
      ]
     },
     "execution_count": 11,
     "metadata": {},
     "output_type": "execute_result"
    }
   ],
   "source": [
    "#şimdi doldurmadan önce bi bu cinsiyetteki SIKINTIYI halledelim bu k ve e mevzusu\n",
    "df[\"Cinsiyet\"].unique()"
   ]
  },
  {
   "cell_type": "code",
   "execution_count": 12,
   "id": "5d0a7301",
   "metadata": {},
   "outputs": [],
   "source": [
    "df[\"Cinsiyet\"] = df[\"Cinsiyet\"].replace({\"K\": \"Kadın\", \"E\": \"Erkek\"})"
   ]
  },
  {
   "cell_type": "code",
   "execution_count": 13,
   "id": "5ff5f0a1",
   "metadata": {},
   "outputs": [
    {
     "data": {
      "text/plain": [
       "array(['Kadın', 'Erkek', nan], dtype=object)"
      ]
     },
     "execution_count": 13,
     "metadata": {},
     "output_type": "execute_result"
    }
   ],
   "source": [
    "#kontrol yapıyoz bakalım\n",
    "df[\"Cinsiyet\"].unique()\n",
    "# şimdide nan çıktı onları oldurucaz ben mode ile doldurmak istiyorum sebebi yok"
   ]
  },
  {
   "cell_type": "code",
   "execution_count": 14,
   "id": "50b469bd",
   "metadata": {},
   "outputs": [
    {
     "data": {
      "text/plain": [
       "np.int64(0)"
      ]
     },
     "execution_count": 14,
     "metadata": {},
     "output_type": "execute_result"
    }
   ],
   "source": [
    "cinsiyet_mod = df[\"Cinsiyet\"].mode()[0]\n",
    "df[\"Cinsiyet\"]= df[\"Cinsiyet\"].fillna(cinsiyet_mod)\n",
    "df[\"Cinsiyet\"].isnull().sum() #tamamdurrr."
   ]
  },
  {
   "cell_type": "code",
   "execution_count": 15,
   "id": "1f1384ba",
   "metadata": {},
   "outputs": [
    {
     "data": {
      "text/plain": [
       "<Axes: xlabel='Yas', ylabel='Count'>"
      ]
     },
     "execution_count": 15,
     "metadata": {},
     "output_type": "execute_result"
    },
    {
     "data": {
      "image/png": "[encoded data removed]",
      "text/plain": [
       "<Figure size 640x480 with 1 Axes>"
      ]
     },
     "metadata": {},
     "output_type": "display_data"
    }
   ],
   "source": [
    "# yas colonun da da boşluk baya var onu da median ile dolduracağım.\n",
    "# neye göre dolduracğımı da öğrendim dağılama bakıcaz eğer dağılım \n",
    "# simetrikse mean , dağılım tek tarfa kayıksa median , sadece bir kaç değer çok sık tekar ediyorda mod\n",
    "\n",
    "sns.histplot(df[\"Yas\"], kde=True)\n",
    "\n",
    "# bu sonuca göre benim median ile dolduracağım belli yerlerde pik var aykırı çok yok"
   ]
  },
  {
   "cell_type": "code",
   "execution_count": 16,
   "id": "6a0853e7",
   "metadata": {},
   "outputs": [
    {
     "data": {
      "text/plain": [
       "count    95000.000000\n",
       "mean        43.411526\n",
       "std         15.031309\n",
       "min         18.000000\n",
       "25%         30.000000\n",
       "50%         43.000000\n",
       "75%         56.000000\n",
       "max        150.000000\n",
       "Name: Yas, dtype: float64"
      ]
     },
     "execution_count": 16,
     "metadata": {},
     "output_type": "execute_result"
    }
   ],
   "source": [
    "df[\"Yas\"].describe()"
   ]
  },
  {
   "cell_type": "code",
   "execution_count": 17,
   "id": "abb43857",
   "metadata": {},
   "outputs": [],
   "source": [
    "yas_median = df[\"Yas\"].median()\n",
    "df[\"Yas\"] = df[\"Yas\"].fillna(yas_median)"
   ]
  },
  {
   "cell_type": "code",
   "execution_count": 18,
   "id": "16590632",
   "metadata": {},
   "outputs": [
    {
     "data": {
      "text/plain": [
       "<Axes: xlabel='AylikUcret', ylabel='Count'>"
      ]
     },
     "execution_count": 18,
     "metadata": {},
     "output_type": "execute_result"
    },
    {
     "data": {
      "image/png": "[encoded data removed]",
      "text/plain": [
       "<Figure size 640x480 with 1 Axes>"
      ]
     },
     "metadata": {},
     "output_type": "display_data"
    }
   ],
   "source": [
    "#şimdi aynı olayı aylıkucrette denicez \n",
    "sns.histplot(df[\"AylikUcret\"] , kde= True)\n",
    "# mesela bunda da mean ile doldurmak daha mantıklı aşırı simetrik bu ne"
   ]
  },
  {
   "cell_type": "code",
   "execution_count": 19,
   "id": "8b13fa4e",
   "metadata": {},
   "outputs": [],
   "source": [
    "aylıkucret_mean = df[\"AylikUcret\"].mean()\n",
    "df[\"AylikUcret\"]= df[\"AylikUcret\"].fillna(aylıkucret_mean)"
   ]
  },
  {
   "cell_type": "code",
   "execution_count": 20,
   "id": "b0a7f884",
   "metadata": {},
   "outputs": [
    {
     "data": {
      "text/plain": [
       "<Axes: xlabel='ToplamHarcananTutar', ylabel='Count'>"
      ]
     },
     "execution_count": 20,
     "metadata": {},
     "output_type": "execute_result"
    },
    {
     "data": {
      "image/png": "[encoded data removed]",
      "text/plain": [
       "<Figure size 640x480 with 1 Axes>"
      ]
     },
     "metadata": {},
     "output_type": "display_data"
    }
   ],
   "source": [
    "# toplamharcanantutar için bakıcaz \n",
    "sns.histplot(df[\"ToplamHarcananTutar\"], kde= True)\n",
    "# belli yani medianla doldur kanka"
   ]
  },
  {
   "cell_type": "code",
   "execution_count": 21,
   "id": "c3f8afb0",
   "metadata": {},
   "outputs": [],
   "source": [
    "toplamharcanantutar_median = df[\"ToplamHarcananTutar\"].median()\n",
    "df[\"ToplamHarcananTutar\"]=df[\"ToplamHarcananTutar\"].fillna(toplamharcanantutar_median)"
   ]
  },
  {
   "cell_type": "markdown",
   "id": "debdb847",
   "metadata": {},
   "source": [
    "BOŞLUKLAR DOLDUUUUUUUUUU"
   ]
  },
  {
   "cell_type": "code",
   "execution_count": 22,
   "id": "ceb2e1e8",
   "metadata": {},
   "outputs": [],
   "source": [
    "#  bu ıd sayısının olduğu colonu atmak istiyorum\n",
    "df.drop(\"MusteriID\" , axis= 1 ,inplace= True)"
   ]
  },
  {
   "cell_type": "code",
   "execution_count": 23,
   "id": "5b69c37b",
   "metadata": {},
   "outputs": [
    {
     "data": {
      "text/html": [
       "<div>\n",
       "<style scoped>\n",
       "    .dataframe tbody tr th:only-of-type {\n",
       "        vertical-align: middle;\n",
       "    }\n",
       "\n",
       "    .dataframe tbody tr th {\n",
       "        vertical-align: top;\n",
       "    }\n",
       "\n",
       "    .dataframe thead th {\n",
       "        text-align: right;\n",
       "    }\n",
       "</style>\n",
       "<table border=\"1\" class=\"dataframe\">\n",
       "  <thead>\n",
       "    <tr style=\"text-align: right;\">\n",
       "      <th></th>\n",
       "      <th>Cinsiyet</th>\n",
       "      <th>Yas</th>\n",
       "      <th>AbonelikSuresi_Ay</th>\n",
       "      <th>AylikUcret</th>\n",
       "      <th>TeknikDestekAramalari</th>\n",
       "      <th>KullanilanServisler</th>\n",
       "      <th>SonAktiviteTarihi</th>\n",
       "      <th>Churn_Durumu</th>\n",
       "      <th>ToplamHarcananTutar</th>\n",
       "    </tr>\n",
       "  </thead>\n",
       "  <tbody>\n",
       "    <tr>\n",
       "      <th>0</th>\n",
       "      <td>Kadın</td>\n",
       "      <td>54.0</td>\n",
       "      <td>50</td>\n",
       "      <td>31.70</td>\n",
       "      <td>9</td>\n",
       "      <td>Mobil,TV,Telefon</td>\n",
       "      <td>2024-09-29</td>\n",
       "      <td>Evet</td>\n",
       "      <td>1585.00</td>\n",
       "    </tr>\n",
       "    <tr>\n",
       "      <th>1</th>\n",
       "      <td>Kadın</td>\n",
       "      <td>20.0</td>\n",
       "      <td>12</td>\n",
       "      <td>111.35</td>\n",
       "      <td>5</td>\n",
       "      <td>Internet,Mobil</td>\n",
       "      <td>2024-11-28</td>\n",
       "      <td>Hayır</td>\n",
       "      <td>1336.20</td>\n",
       "    </tr>\n",
       "    <tr>\n",
       "      <th>2</th>\n",
       "      <td>Erkek</td>\n",
       "      <td>67.0</td>\n",
       "      <td>33</td>\n",
       "      <td>113.99</td>\n",
       "      <td>5</td>\n",
       "      <td>Mobil</td>\n",
       "      <td>2025-02-01</td>\n",
       "      <td>Hayır</td>\n",
       "      <td>3761.67</td>\n",
       "    </tr>\n",
       "    <tr>\n",
       "      <th>3</th>\n",
       "      <td>Kadın</td>\n",
       "      <td>64.0</td>\n",
       "      <td>2</td>\n",
       "      <td>79.10</td>\n",
       "      <td>6</td>\n",
       "      <td>Internet,Mobil</td>\n",
       "      <td>2024-08-24</td>\n",
       "      <td>Hayır</td>\n",
       "      <td>3485.56</td>\n",
       "    </tr>\n",
       "    <tr>\n",
       "      <th>4</th>\n",
       "      <td>Kadın</td>\n",
       "      <td>59.0</td>\n",
       "      <td>53</td>\n",
       "      <td>88.53</td>\n",
       "      <td>8</td>\n",
       "      <td>Mobil,Internet</td>\n",
       "      <td>2025-04-09</td>\n",
       "      <td>Hayır</td>\n",
       "      <td>4692.09</td>\n",
       "    </tr>\n",
       "  </tbody>\n",
       "</table>\n",
       "</div>"
      ],
      "text/plain": [
       "  Cinsiyet   Yas  AbonelikSuresi_Ay  AylikUcret  TeknikDestekAramalari  \\\n",
       "0    Kadın  54.0                 50       31.70                      9   \n",
       "1    Kadın  20.0                 12      111.35                      5   \n",
       "2    Erkek  67.0                 33      113.99                      5   \n",
       "3    Kadın  64.0                  2       79.10                      6   \n",
       "4    Kadın  59.0                 53       88.53                      8   \n",
       "\n",
       "  KullanilanServisler SonAktiviteTarihi Churn_Durumu  ToplamHarcananTutar  \n",
       "0    Mobil,TV,Telefon        2024-09-29         Evet              1585.00  \n",
       "1      Internet,Mobil        2024-11-28        Hayır              1336.20  \n",
       "2               Mobil        2025-02-01        Hayır              3761.67  \n",
       "3      Internet,Mobil        2024-08-24        Hayır              3485.56  \n",
       "4      Mobil,Internet        2025-04-09        Hayır              4692.09  "
      ]
     },
     "execution_count": 23,
     "metadata": {},
     "output_type": "execute_result"
    }
   ],
   "source": [
    "df.head()"
   ]
  },
  {
   "cell_type": "code",
   "execution_count": 24,
   "id": "b0231ce2",
   "metadata": {},
   "outputs": [
    {
     "name": "stderr",
     "output_type": "stream",
     "text": [
      "C:\\Users\\dell\\AppData\\Local\\Temp\\ipykernel_3264\\1928658410.py:1: FutureWarning: Downcasting behavior in `replace` is deprecated and will be removed in a future version. To retain the old behavior, explicitly call `result.infer_objects(copy=False)`. To opt-in to the future behavior, set `pd.set_option('future.no_silent_downcasting', True)`\n",
      "  df[\"Churn_Durumu\"]= df[\"Churn_Durumu\"].replace({\"Evet\":1 , \"Hayır\":0}).astype(int)\n"
     ]
    }
   ],
   "source": [
    "df[\"Churn_Durumu\"]= df[\"Churn_Durumu\"].replace({\"Evet\":1 , \"Hayır\":0}).astype(int)\n",
    "# astype yapmanın nedeni makine öğrenimi için 0 ve 1 değerlerini int yaptı"
   ]
  },
  {
   "cell_type": "markdown",
   "id": "1d747705",
   "metadata": {},
   "source": [
    "# TAMAM SON DUZENLEMELERRDE YAPILDI VERİ DAHA DUZGUN ARTIKKKK"
   ]
  },
  {
   "cell_type": "markdown",
   "id": "d0624a2f",
   "metadata": {},
   "source": [
    "şimdide bu yas sutunundan yola çıkarak genç yetişkin yaşlı ve ultrayaşlı(150 vardı ama bilemiyorum belki onu atarım)"
   ]
  },
  {
   "cell_type": "code",
   "execution_count": 25,
   "id": "f8fa45ea",
   "metadata": {},
   "outputs": [
    {
     "name": "stdout",
     "output_type": "stream",
     "text": [
      "Index(['Cinsiyet', 'Yas', 'AbonelikSuresi_Ay', 'AylikUcret',\n",
      "       'TeknikDestekAramalari', 'KullanilanServisler', 'SonAktiviteTarihi',\n",
      "       'Churn_Durumu', 'ToplamHarcananTutar'],\n",
      "      dtype='object')\n"
     ]
    }
   ],
   "source": [
    "print(df.columns)\n",
    "df.columns = df.columns.str.strip()"
   ]
  },
  {
   "cell_type": "code",
   "execution_count": 26,
   "id": "81f85ffb",
   "metadata": {},
   "outputs": [
    {
     "data": {
      "text/plain": [
       "count    100000.000000\n",
       "mean         43.390950\n",
       "std          14.650979\n",
       "min          18.000000\n",
       "25%          31.000000\n",
       "50%          43.000000\n",
       "75%          56.000000\n",
       "max         150.000000\n",
       "Name: Yas, dtype: float64"
      ]
     },
     "execution_count": 26,
     "metadata": {},
     "output_type": "execute_result"
    }
   ],
   "source": [
    "df[\"Yas\"].describe()"
   ]
  },
  {
   "cell_type": "code",
   "execution_count": 27,
   "id": "bbaaa4fd",
   "metadata": {},
   "outputs": [],
   "source": [
    "df = df[df[\"Yas\"]<100] # bu cod ile 150 yi attık çok aykırı"
   ]
  },
  {
   "cell_type": "code",
   "execution_count": 28,
   "id": "fe4cd878",
   "metadata": {},
   "outputs": [],
   "source": [
    "# şimdi genç,yetişkin,yaslı olayını pd.cut yapmıcam bildiğim yoldan gidicem\n",
    "def yas_gruplandır(Yas):\n",
    "    if Yas<25:\n",
    "        return \"genç\"\n",
    "    elif Yas<60:\n",
    "        return \"yetişkin\"\n",
    "    else:\n",
    "        return \"yaşlı\"\n",
    "    \n",
    "df[\"yas_grubu\"]= df['Yas'].apply(yas_gruplandır)  "
   ]
  },
  {
   "cell_type": "code",
   "execution_count": 29,
   "id": "d024bf01",
   "metadata": {},
   "outputs": [
    {
     "data": {
      "text/html": [
       "<div>\n",
       "<style scoped>\n",
       "    .dataframe tbody tr th:only-of-type {\n",
       "        vertical-align: middle;\n",
       "    }\n",
       "\n",
       "    .dataframe tbody tr th {\n",
       "        vertical-align: top;\n",
       "    }\n",
       "\n",
       "    .dataframe thead th {\n",
       "        text-align: right;\n",
       "    }\n",
       "</style>\n",
       "<table border=\"1\" class=\"dataframe\">\n",
       "  <thead>\n",
       "    <tr style=\"text-align: right;\">\n",
       "      <th></th>\n",
       "      <th>Cinsiyet</th>\n",
       "      <th>Yas</th>\n",
       "      <th>AbonelikSuresi_Ay</th>\n",
       "      <th>AylikUcret</th>\n",
       "      <th>TeknikDestekAramalari</th>\n",
       "      <th>KullanilanServisler</th>\n",
       "      <th>SonAktiviteTarihi</th>\n",
       "      <th>Churn_Durumu</th>\n",
       "      <th>ToplamHarcananTutar</th>\n",
       "      <th>yas_grubu</th>\n",
       "    </tr>\n",
       "  </thead>\n",
       "  <tbody>\n",
       "    <tr>\n",
       "      <th>0</th>\n",
       "      <td>Kadın</td>\n",
       "      <td>54.0</td>\n",
       "      <td>50</td>\n",
       "      <td>31.70</td>\n",
       "      <td>9</td>\n",
       "      <td>Mobil,TV,Telefon</td>\n",
       "      <td>2024-09-29</td>\n",
       "      <td>1</td>\n",
       "      <td>1585.00</td>\n",
       "      <td>yetişkin</td>\n",
       "    </tr>\n",
       "    <tr>\n",
       "      <th>1</th>\n",
       "      <td>Kadın</td>\n",
       "      <td>20.0</td>\n",
       "      <td>12</td>\n",
       "      <td>111.35</td>\n",
       "      <td>5</td>\n",
       "      <td>Internet,Mobil</td>\n",
       "      <td>2024-11-28</td>\n",
       "      <td>0</td>\n",
       "      <td>1336.20</td>\n",
       "      <td>genç</td>\n",
       "    </tr>\n",
       "    <tr>\n",
       "      <th>2</th>\n",
       "      <td>Erkek</td>\n",
       "      <td>67.0</td>\n",
       "      <td>33</td>\n",
       "      <td>113.99</td>\n",
       "      <td>5</td>\n",
       "      <td>Mobil</td>\n",
       "      <td>2025-02-01</td>\n",
       "      <td>0</td>\n",
       "      <td>3761.67</td>\n",
       "      <td>yaşlı</td>\n",
       "    </tr>\n",
       "    <tr>\n",
       "      <th>3</th>\n",
       "      <td>Kadın</td>\n",
       "      <td>64.0</td>\n",
       "      <td>2</td>\n",
       "      <td>79.10</td>\n",
       "      <td>6</td>\n",
       "      <td>Internet,Mobil</td>\n",
       "      <td>2024-08-24</td>\n",
       "      <td>0</td>\n",
       "      <td>3485.56</td>\n",
       "      <td>yaşlı</td>\n",
       "    </tr>\n",
       "    <tr>\n",
       "      <th>4</th>\n",
       "      <td>Kadın</td>\n",
       "      <td>59.0</td>\n",
       "      <td>53</td>\n",
       "      <td>88.53</td>\n",
       "      <td>8</td>\n",
       "      <td>Mobil,Internet</td>\n",
       "      <td>2025-04-09</td>\n",
       "      <td>0</td>\n",
       "      <td>4692.09</td>\n",
       "      <td>yetişkin</td>\n",
       "    </tr>\n",
       "  </tbody>\n",
       "</table>\n",
       "</div>"
      ],
      "text/plain": [
       "  Cinsiyet   Yas  AbonelikSuresi_Ay  AylikUcret  TeknikDestekAramalari  \\\n",
       "0    Kadın  54.0                 50       31.70                      9   \n",
       "1    Kadın  20.0                 12      111.35                      5   \n",
       "2    Erkek  67.0                 33      113.99                      5   \n",
       "3    Kadın  64.0                  2       79.10                      6   \n",
       "4    Kadın  59.0                 53       88.53                      8   \n",
       "\n",
       "  KullanilanServisler SonAktiviteTarihi  Churn_Durumu  ToplamHarcananTutar  \\\n",
       "0    Mobil,TV,Telefon        2024-09-29             1              1585.00   \n",
       "1      Internet,Mobil        2024-11-28             0              1336.20   \n",
       "2               Mobil        2025-02-01             0              3761.67   \n",
       "3      Internet,Mobil        2024-08-24             0              3485.56   \n",
       "4      Mobil,Internet        2025-04-09             0              4692.09   \n",
       "\n",
       "  yas_grubu  \n",
       "0  yetişkin  \n",
       "1      genç  \n",
       "2     yaşlı  \n",
       "3     yaşlı  \n",
       "4  yetişkin  "
      ]
     },
     "execution_count": 29,
     "metadata": {},
     "output_type": "execute_result"
    }
   ],
   "source": [
    "df.head()\n",
    "#OLDUUUUUUUUU"
   ]
  },
  {
   "cell_type": "code",
   "execution_count": 30,
   "id": "e141d5e3",
   "metadata": {},
   "outputs": [
    {
     "name": "stdout",
     "output_type": "stream",
     "text": [
      "cinsiyete göre iptal yuzdeleri : Cinsiyet\n",
      "Erkek    24.807890\n",
      "Kadın    25.380934\n",
      "Name: Churn_Durumu, dtype: float64\n"
     ]
    }
   ],
   "source": [
    "print(f\"cinsiyete göre iptal yuzdeleri :\", df.groupby(\"Cinsiyet\")[\"Churn_Durumu\"].mean()*100)"
   ]
  },
  {
   "cell_type": "markdown",
   "id": "92c1e92b",
   "metadata": {},
   "source": [
    "çok da etkili değil bu durum"
   ]
  },
  {
   "cell_type": "code",
   "execution_count": 31,
   "id": "df6f71da",
   "metadata": {},
   "outputs": [
    {
     "data": {
      "text/html": [
       "<div>\n",
       "<style scoped>\n",
       "    .dataframe tbody tr th:only-of-type {\n",
       "        vertical-align: middle;\n",
       "    }\n",
       "\n",
       "    .dataframe tbody tr th {\n",
       "        vertical-align: top;\n",
       "    }\n",
       "\n",
       "    .dataframe thead th {\n",
       "        text-align: right;\n",
       "    }\n",
       "</style>\n",
       "<table border=\"1\" class=\"dataframe\">\n",
       "  <thead>\n",
       "    <tr style=\"text-align: right;\">\n",
       "      <th></th>\n",
       "      <th>Yas</th>\n",
       "      <th>AbonelikSuresi_Ay</th>\n",
       "      <th>ToplamHarcananTutar</th>\n",
       "    </tr>\n",
       "    <tr>\n",
       "      <th>Churn_Durumu</th>\n",
       "      <th></th>\n",
       "      <th></th>\n",
       "      <th></th>\n",
       "    </tr>\n",
       "  </thead>\n",
       "  <tbody>\n",
       "    <tr>\n",
       "      <th>0</th>\n",
       "      <td>43.398774</td>\n",
       "      <td>35.934706</td>\n",
       "      <td>4167.347600</td>\n",
       "    </tr>\n",
       "    <tr>\n",
       "      <th>1</th>\n",
       "      <td>43.363365</td>\n",
       "      <td>35.730991</td>\n",
       "      <td>4151.748422</td>\n",
       "    </tr>\n",
       "  </tbody>\n",
       "</table>\n",
       "</div>"
      ],
      "text/plain": [
       "                    Yas  AbonelikSuresi_Ay  ToplamHarcananTutar\n",
       "Churn_Durumu                                                   \n",
       "0             43.398774          35.934706          4167.347600\n",
       "1             43.363365          35.730991          4151.748422"
      ]
     },
     "execution_count": 31,
     "metadata": {},
     "output_type": "execute_result"
    }
   ],
   "source": [
    "df.groupby(\"Churn_Durumu\")[[\"Yas\",\"AbonelikSuresi_Ay\",\"ToplamHarcananTutar\"]].mean()"
   ]
  },
  {
   "cell_type": "markdown",
   "id": "209de8c4",
   "metadata": {},
   "source": [
    "bunlarda etkili değil"
   ]
  },
  {
   "cell_type": "code",
   "execution_count": 32,
   "id": "44804918",
   "metadata": {},
   "outputs": [
    {
     "data": {
      "text/plain": [
       "Churn_Durumu             1.000000\n",
       "AylikUcret              -0.000846\n",
       "Yas                     -0.001048\n",
       "ToplamHarcananTutar     -0.002310\n",
       "AbonelikSuresi_Ay       -0.004311\n",
       "TeknikDestekAramalari   -0.007558\n",
       "Name: Churn_Durumu, dtype: float64"
      ]
     },
     "execution_count": 32,
     "metadata": {},
     "output_type": "execute_result"
    }
   ],
   "source": [
    "df.corr(numeric_only=True)['Churn_Durumu'].sort_values(ascending=False)\n",
    "# yok ilişki bunlarla"
   ]
  },
  {
   "cell_type": "code",
   "execution_count": 33,
   "id": "9d4ab4ad",
   "metadata": {},
   "outputs": [
    {
     "data": {
      "text/plain": [
       "<Axes: xlabel='Churn_Durumu', ylabel='count'>"
      ]
     },
     "execution_count": 33,
     "metadata": {},
     "output_type": "execute_result"
    },
    {
     "data": {
      "image/png": "[encoded data removed]",
      "text/plain": [
       "<Figure size 640x480 with 1 Axes>"
      ]
     },
     "metadata": {},
     "output_type": "display_data"
    }
   ],
   "source": [
    "sns.countplot(x='Churn_Durumu', hue='Cinsiyet', data=df)\n",
    "# yani al bak etkili değil işte"
   ]
  },
  {
   "cell_type": "markdown",
   "id": "82216e10",
   "metadata": {},
   "source": [
    "# sns.countplot(x=\"Churn_Durumu\", hue=\"KullanilanServisler\", data=df )\n",
    "\n",
    "# bu  ÇOK KARIŞIK BU SADELEŞTİRMEM LAZIMMMM "
   ]
  },
  {
   "cell_type": "code",
   "execution_count": 34,
   "id": "c2b21d7e",
   "metadata": {},
   "outputs": [],
   "source": [
    "df[\"tv_var\"]=df[\"KullanilanServisler\"].str.contains(\"TV\").astype(int)\n",
    "df[\"internet_var\"]=df[\"KullanilanServisler\"].str.contains(\"İnternet\").astype(int)\n",
    "df[\"mobil_var\"]=df[\"KullanilanServisler\"].str.contains(\"Mobil\").astype(int)\n",
    "df[\"telefon_var\"]=df[\"KullanilanServisler\"].str.contains(\"Telefon\").astype(int)\n"
   ]
  },
  {
   "cell_type": "code",
   "execution_count": 35,
   "id": "6e8e0626",
   "metadata": {},
   "outputs": [],
   "source": [
    "df['tv_var'] = df['KullanilanServisler'].str.contains('tv', case=False).astype(int)\n",
    "df['internet_var'] = df['KullanilanServisler'].str.contains('internet', case=False).astype(int)\n",
    "df['telefon_var'] = df['KullanilanServisler'].str.contains('telefon', case=False).astype(int)"
   ]
  },
  {
   "cell_type": "code",
   "execution_count": 36,
   "id": "3c9d62d8",
   "metadata": {},
   "outputs": [],
   "source": [
    "#pd.crosstab(df['KullanilanServisler'], df['Churn_Durumu'], normalize='index')\n",
    "# bu colonu silemem etkiliyormuş iptali "
   ]
  },
  {
   "cell_type": "code",
   "execution_count": 37,
   "id": "426bb9d3",
   "metadata": {},
   "outputs": [],
   "source": [
    "df= df.drop(\"KullanilanServisler\", axis=1)"
   ]
  },
  {
   "cell_type": "code",
   "execution_count": 38,
   "id": "2d7f66f8",
   "metadata": {},
   "outputs": [
    {
     "data": {
      "text/html": [
       "<div>\n",
       "<style scoped>\n",
       "    .dataframe tbody tr th:only-of-type {\n",
       "        vertical-align: middle;\n",
       "    }\n",
       "\n",
       "    .dataframe tbody tr th {\n",
       "        vertical-align: top;\n",
       "    }\n",
       "\n",
       "    .dataframe thead th {\n",
       "        text-align: right;\n",
       "    }\n",
       "</style>\n",
       "<table border=\"1\" class=\"dataframe\">\n",
       "  <thead>\n",
       "    <tr style=\"text-align: right;\">\n",
       "      <th></th>\n",
       "      <th>Cinsiyet</th>\n",
       "      <th>Yas</th>\n",
       "      <th>AbonelikSuresi_Ay</th>\n",
       "      <th>AylikUcret</th>\n",
       "      <th>TeknikDestekAramalari</th>\n",
       "      <th>SonAktiviteTarihi</th>\n",
       "      <th>Churn_Durumu</th>\n",
       "      <th>ToplamHarcananTutar</th>\n",
       "      <th>yas_grubu</th>\n",
       "      <th>tv_var</th>\n",
       "      <th>internet_var</th>\n",
       "      <th>mobil_var</th>\n",
       "      <th>telefon_var</th>\n",
       "    </tr>\n",
       "  </thead>\n",
       "  <tbody>\n",
       "    <tr>\n",
       "      <th>0</th>\n",
       "      <td>Kadın</td>\n",
       "      <td>54.0</td>\n",
       "      <td>50</td>\n",
       "      <td>31.70</td>\n",
       "      <td>9</td>\n",
       "      <td>2024-09-29</td>\n",
       "      <td>1</td>\n",
       "      <td>1585.00</td>\n",
       "      <td>yetişkin</td>\n",
       "      <td>1</td>\n",
       "      <td>0</td>\n",
       "      <td>1</td>\n",
       "      <td>1</td>\n",
       "    </tr>\n",
       "    <tr>\n",
       "      <th>1</th>\n",
       "      <td>Kadın</td>\n",
       "      <td>20.0</td>\n",
       "      <td>12</td>\n",
       "      <td>111.35</td>\n",
       "      <td>5</td>\n",
       "      <td>2024-11-28</td>\n",
       "      <td>0</td>\n",
       "      <td>1336.20</td>\n",
       "      <td>genç</td>\n",
       "      <td>0</td>\n",
       "      <td>1</td>\n",
       "      <td>1</td>\n",
       "      <td>0</td>\n",
       "    </tr>\n",
       "    <tr>\n",
       "      <th>2</th>\n",
       "      <td>Erkek</td>\n",
       "      <td>67.0</td>\n",
       "      <td>33</td>\n",
       "      <td>113.99</td>\n",
       "      <td>5</td>\n",
       "      <td>2025-02-01</td>\n",
       "      <td>0</td>\n",
       "      <td>3761.67</td>\n",
       "      <td>yaşlı</td>\n",
       "      <td>0</td>\n",
       "      <td>0</td>\n",
       "      <td>1</td>\n",
       "      <td>0</td>\n",
       "    </tr>\n",
       "    <tr>\n",
       "      <th>3</th>\n",
       "      <td>Kadın</td>\n",
       "      <td>64.0</td>\n",
       "      <td>2</td>\n",
       "      <td>79.10</td>\n",
       "      <td>6</td>\n",
       "      <td>2024-08-24</td>\n",
       "      <td>0</td>\n",
       "      <td>3485.56</td>\n",
       "      <td>yaşlı</td>\n",
       "      <td>0</td>\n",
       "      <td>1</td>\n",
       "      <td>1</td>\n",
       "      <td>0</td>\n",
       "    </tr>\n",
       "    <tr>\n",
       "      <th>4</th>\n",
       "      <td>Kadın</td>\n",
       "      <td>59.0</td>\n",
       "      <td>53</td>\n",
       "      <td>88.53</td>\n",
       "      <td>8</td>\n",
       "      <td>2025-04-09</td>\n",
       "      <td>0</td>\n",
       "      <td>4692.09</td>\n",
       "      <td>yetişkin</td>\n",
       "      <td>0</td>\n",
       "      <td>1</td>\n",
       "      <td>1</td>\n",
       "      <td>0</td>\n",
       "    </tr>\n",
       "  </tbody>\n",
       "</table>\n",
       "</div>"
      ],
      "text/plain": [
       "  Cinsiyet   Yas  AbonelikSuresi_Ay  AylikUcret  TeknikDestekAramalari  \\\n",
       "0    Kadın  54.0                 50       31.70                      9   \n",
       "1    Kadın  20.0                 12      111.35                      5   \n",
       "2    Erkek  67.0                 33      113.99                      5   \n",
       "3    Kadın  64.0                  2       79.10                      6   \n",
       "4    Kadın  59.0                 53       88.53                      8   \n",
       "\n",
       "  SonAktiviteTarihi  Churn_Durumu  ToplamHarcananTutar yas_grubu  tv_var  \\\n",
       "0        2024-09-29             1              1585.00  yetişkin       1   \n",
       "1        2024-11-28             0              1336.20      genç       0   \n",
       "2        2025-02-01             0              3761.67     yaşlı       0   \n",
       "3        2024-08-24             0              3485.56     yaşlı       0   \n",
       "4        2025-04-09             0              4692.09  yetişkin       0   \n",
       "\n",
       "   internet_var  mobil_var  telefon_var  \n",
       "0             0          1            1  \n",
       "1             1          1            0  \n",
       "2             0          1            0  \n",
       "3             1          1            0  \n",
       "4             1          1            0  "
      ]
     },
     "execution_count": 38,
     "metadata": {},
     "output_type": "execute_result"
    }
   ],
   "source": [
    "df.head()"
   ]
  },
  {
   "cell_type": "code",
   "execution_count": 39,
   "id": "444b4d06",
   "metadata": {},
   "outputs": [
    {
     "data": {
      "image/png": "[encoded data removed]",
      "text/plain": [
       "<Figure size 800x500 with 1 Axes>"
      ]
     },
     "metadata": {},
     "output_type": "display_data"
    }
   ],
   "source": [
    "servisler = ['tv_var', 'internet_var', 'telefon_var','mobil_var']\n",
    "iptal_oranlari = []\n",
    "\n",
    "for servis in servisler:\n",
    "    oran = df[df[servis] == 1]['Churn_Durumu'].mean()\n",
    "    iptal_oranlari.append(oran)\n",
    "\n",
    "plt.figure(figsize=(8,5))\n",
    "sns.barplot(x=servisler, y=iptal_oranlari)\n",
    "plt.ylim(0, 1)\n",
    "plt.ylabel('İptal Oranı')\n",
    "plt.title('Servislerin Var Olduğu Durumda İptal Oranları')\n",
    "plt.show()\n"
   ]
  },
  {
   "cell_type": "markdown",
   "id": "df560a58",
   "metadata": {},
   "source": [
    "bu servislerinde iptal lere çok etkisi yok demek"
   ]
  },
  {
   "cell_type": "code",
   "execution_count": 40,
   "id": "8de62594",
   "metadata": {},
   "outputs": [
    {
     "data": {
      "text/html": [
       "<div>\n",
       "<style scoped>\n",
       "    .dataframe tbody tr th:only-of-type {\n",
       "        vertical-align: middle;\n",
       "    }\n",
       "\n",
       "    .dataframe tbody tr th {\n",
       "        vertical-align: top;\n",
       "    }\n",
       "\n",
       "    .dataframe thead th {\n",
       "        text-align: right;\n",
       "    }\n",
       "</style>\n",
       "<table border=\"1\" class=\"dataframe\">\n",
       "  <thead>\n",
       "    <tr style=\"text-align: right;\">\n",
       "      <th></th>\n",
       "      <th>AylikUcret</th>\n",
       "      <th>ToplamHarcananTutar</th>\n",
       "    </tr>\n",
       "    <tr>\n",
       "      <th>Churn_Durumu</th>\n",
       "      <th></th>\n",
       "      <th></th>\n",
       "    </tr>\n",
       "  </thead>\n",
       "  <tbody>\n",
       "    <tr>\n",
       "      <th>0</th>\n",
       "      <td>114.951232</td>\n",
       "      <td>4167.347600</td>\n",
       "    </tr>\n",
       "    <tr>\n",
       "      <th>1</th>\n",
       "      <td>114.860123</td>\n",
       "      <td>4151.748422</td>\n",
       "    </tr>\n",
       "  </tbody>\n",
       "</table>\n",
       "</div>"
      ],
      "text/plain": [
       "              AylikUcret  ToplamHarcananTutar\n",
       "Churn_Durumu                                 \n",
       "0             114.951232          4167.347600\n",
       "1             114.860123          4151.748422"
      ]
     },
     "execution_count": 40,
     "metadata": {},
     "output_type": "execute_result"
    }
   ],
   "source": [
    "df.groupby(\"Churn_Durumu\")[[\"AylikUcret\",\"ToplamHarcananTutar\"]].mean()"
   ]
  },
  {
   "cell_type": "code",
   "execution_count": 41,
   "id": "eea3ab15",
   "metadata": {},
   "outputs": [
    {
     "data": {
      "image/png": "[encoded data removed]",
      "text/plain": [
       "<Figure size 1200x500 with 2 Axes>"
      ]
     },
     "metadata": {},
     "output_type": "display_data"
    }
   ],
   "source": [
    "plt.figure(figsize=(12,5))\n",
    "\n",
    "plt.subplot(1, 2, 1)\n",
    "sns.boxplot(x='Churn_Durumu', y='AylikUcret', data=df)\n",
    "plt.title('Aylık Ücret vs Churn')\n",
    "\n",
    "plt.subplot(1, 2, 2)\n",
    "sns.boxplot(x='Churn_Durumu', y='ToplamHarcananTutar', data=df)\n",
    "plt.title('Toplam Harcama vs Churn')\n",
    "\n",
    "plt.tight_layout()\n",
    "plt.show()\n"
   ]
  },
  {
   "cell_type": "code",
   "execution_count": 42,
   "id": "47735ce1",
   "metadata": {},
   "outputs": [
    {
     "data": {
      "image/png": "[encoded data removed]",
      "text/plain": [
       "<Figure size 800x500 with 1 Axes>"
      ]
     },
     "metadata": {},
     "output_type": "display_data"
    }
   ],
   "source": [
    "plt.figure(figsize=(8,5))\n",
    "sns.countplot(x='yas_grubu', hue='Churn_Durumu', data=df)\n",
    "plt.title('Yaş Gruplarına Göre Churn Dağılımı')\n",
    "plt.xlabel('Yaş Grubu')\n",
    "plt.ylabel('Müşteri Sayısı')\n",
    "plt.legend(title='Churn Durumu', labels=['Hayır', 'Evet'])\n",
    "plt.show()"
   ]
  },
  {
   "cell_type": "markdown",
   "id": "10c6f6bd",
   "metadata": {},
   "source": [
    "#YETİŞKİNLER DAHA ÇOK İPTAL ETMİŞ sorunlular yani ne diyim"
   ]
  },
  {
   "cell_type": "code",
   "execution_count": 43,
   "id": "cf87e5f6",
   "metadata": {},
   "outputs": [
    {
     "data": {
      "text/html": [
       "<div>\n",
       "<style scoped>\n",
       "    .dataframe tbody tr th:only-of-type {\n",
       "        vertical-align: middle;\n",
       "    }\n",
       "\n",
       "    .dataframe tbody tr th {\n",
       "        vertical-align: top;\n",
       "    }\n",
       "\n",
       "    .dataframe thead th {\n",
       "        text-align: right;\n",
       "    }\n",
       "</style>\n",
       "<table border=\"1\" class=\"dataframe\">\n",
       "  <thead>\n",
       "    <tr style=\"text-align: right;\">\n",
       "      <th></th>\n",
       "      <th>AylikUcret</th>\n",
       "      <th>ToplamHarcananTutar</th>\n",
       "    </tr>\n",
       "    <tr>\n",
       "      <th>yas_grubu</th>\n",
       "      <th></th>\n",
       "      <th></th>\n",
       "    </tr>\n",
       "  </thead>\n",
       "  <tbody>\n",
       "    <tr>\n",
       "      <th>genç</th>\n",
       "      <td>114.910198</td>\n",
       "      <td>4169.270274</td>\n",
       "    </tr>\n",
       "    <tr>\n",
       "      <th>yaşlı</th>\n",
       "      <td>115.056976</td>\n",
       "      <td>4133.105329</td>\n",
       "    </tr>\n",
       "    <tr>\n",
       "      <th>yetişkin</th>\n",
       "      <td>114.897996</td>\n",
       "      <td>4170.293786</td>\n",
       "    </tr>\n",
       "  </tbody>\n",
       "</table>\n",
       "</div>"
      ],
      "text/plain": [
       "           AylikUcret  ToplamHarcananTutar\n",
       "yas_grubu                                 \n",
       "genç       114.910198          4169.270274\n",
       "yaşlı      115.056976          4133.105329\n",
       "yetişkin   114.897996          4170.293786"
      ]
     },
     "execution_count": 43,
     "metadata": {},
     "output_type": "execute_result"
    }
   ],
   "source": [
    "df.groupby(\"yas_grubu\")[[\"AylikUcret\",\"ToplamHarcananTutar\"]].mean()"
   ]
  },
  {
   "cell_type": "code",
   "execution_count": 44,
   "id": "59c76c56",
   "metadata": {},
   "outputs": [
    {
     "data": {
      "text/html": [
       "<div>\n",
       "<style scoped>\n",
       "    .dataframe tbody tr th:only-of-type {\n",
       "        vertical-align: middle;\n",
       "    }\n",
       "\n",
       "    .dataframe tbody tr th {\n",
       "        vertical-align: top;\n",
       "    }\n",
       "\n",
       "    .dataframe thead th {\n",
       "        text-align: right;\n",
       "    }\n",
       "</style>\n",
       "<table border=\"1\" class=\"dataframe\">\n",
       "  <thead>\n",
       "    <tr style=\"text-align: right;\">\n",
       "      <th></th>\n",
       "      <th>Cinsiyet</th>\n",
       "      <th>Yas</th>\n",
       "      <th>AbonelikSuresi_Ay</th>\n",
       "      <th>AylikUcret</th>\n",
       "      <th>TeknikDestekAramalari</th>\n",
       "      <th>SonAktiviteTarihi</th>\n",
       "      <th>Churn_Durumu</th>\n",
       "      <th>ToplamHarcananTutar</th>\n",
       "      <th>yas_grubu</th>\n",
       "      <th>tv_var</th>\n",
       "      <th>internet_var</th>\n",
       "      <th>mobil_var</th>\n",
       "      <th>telefon_var</th>\n",
       "    </tr>\n",
       "  </thead>\n",
       "  <tbody>\n",
       "    <tr>\n",
       "      <th>0</th>\n",
       "      <td>Kadın</td>\n",
       "      <td>54.0</td>\n",
       "      <td>50</td>\n",
       "      <td>31.70</td>\n",
       "      <td>9</td>\n",
       "      <td>2024-09-29</td>\n",
       "      <td>1</td>\n",
       "      <td>1585.00</td>\n",
       "      <td>yetişkin</td>\n",
       "      <td>1</td>\n",
       "      <td>0</td>\n",
       "      <td>1</td>\n",
       "      <td>1</td>\n",
       "    </tr>\n",
       "    <tr>\n",
       "      <th>4</th>\n",
       "      <td>Kadın</td>\n",
       "      <td>59.0</td>\n",
       "      <td>53</td>\n",
       "      <td>88.53</td>\n",
       "      <td>8</td>\n",
       "      <td>2025-04-09</td>\n",
       "      <td>0</td>\n",
       "      <td>4692.09</td>\n",
       "      <td>yetişkin</td>\n",
       "      <td>0</td>\n",
       "      <td>1</td>\n",
       "      <td>1</td>\n",
       "      <td>0</td>\n",
       "    </tr>\n",
       "    <tr>\n",
       "      <th>5</th>\n",
       "      <td>Kadın</td>\n",
       "      <td>43.0</td>\n",
       "      <td>12</td>\n",
       "      <td>118.02</td>\n",
       "      <td>3</td>\n",
       "      <td>2024-11-12</td>\n",
       "      <td>0</td>\n",
       "      <td>1416.24</td>\n",
       "      <td>yetişkin</td>\n",
       "      <td>1</td>\n",
       "      <td>0</td>\n",
       "      <td>1</td>\n",
       "      <td>0</td>\n",
       "    </tr>\n",
       "    <tr>\n",
       "      <th>6</th>\n",
       "      <td>Erkek</td>\n",
       "      <td>27.0</td>\n",
       "      <td>60</td>\n",
       "      <td>187.96</td>\n",
       "      <td>6</td>\n",
       "      <td>2025-01-14</td>\n",
       "      <td>0</td>\n",
       "      <td>11277.60</td>\n",
       "      <td>yetişkin</td>\n",
       "      <td>1</td>\n",
       "      <td>0</td>\n",
       "      <td>1</td>\n",
       "      <td>0</td>\n",
       "    </tr>\n",
       "    <tr>\n",
       "      <th>8</th>\n",
       "      <td>Erkek</td>\n",
       "      <td>48.0</td>\n",
       "      <td>42</td>\n",
       "      <td>165.52</td>\n",
       "      <td>9</td>\n",
       "      <td>2025-02-25</td>\n",
       "      <td>0</td>\n",
       "      <td>6951.84</td>\n",
       "      <td>yetişkin</td>\n",
       "      <td>0</td>\n",
       "      <td>0</td>\n",
       "      <td>0</td>\n",
       "      <td>1</td>\n",
       "    </tr>\n",
       "    <tr>\n",
       "      <th>...</th>\n",
       "      <td>...</td>\n",
       "      <td>...</td>\n",
       "      <td>...</td>\n",
       "      <td>...</td>\n",
       "      <td>...</td>\n",
       "      <td>...</td>\n",
       "      <td>...</td>\n",
       "      <td>...</td>\n",
       "      <td>...</td>\n",
       "      <td>...</td>\n",
       "      <td>...</td>\n",
       "      <td>...</td>\n",
       "      <td>...</td>\n",
       "    </tr>\n",
       "    <tr>\n",
       "      <th>99992</th>\n",
       "      <td>Kadın</td>\n",
       "      <td>43.0</td>\n",
       "      <td>66</td>\n",
       "      <td>159.92</td>\n",
       "      <td>5</td>\n",
       "      <td>2025-07-09</td>\n",
       "      <td>0</td>\n",
       "      <td>10554.72</td>\n",
       "      <td>yetişkin</td>\n",
       "      <td>1</td>\n",
       "      <td>0</td>\n",
       "      <td>0</td>\n",
       "      <td>1</td>\n",
       "    </tr>\n",
       "    <tr>\n",
       "      <th>99993</th>\n",
       "      <td>Kadın</td>\n",
       "      <td>47.0</td>\n",
       "      <td>3</td>\n",
       "      <td>84.15</td>\n",
       "      <td>9</td>\n",
       "      <td>2025-04-27</td>\n",
       "      <td>0</td>\n",
       "      <td>252.45</td>\n",
       "      <td>yetişkin</td>\n",
       "      <td>1</td>\n",
       "      <td>0</td>\n",
       "      <td>0</td>\n",
       "      <td>0</td>\n",
       "    </tr>\n",
       "    <tr>\n",
       "      <th>99995</th>\n",
       "      <td>Erkek</td>\n",
       "      <td>44.0</td>\n",
       "      <td>23</td>\n",
       "      <td>82.70</td>\n",
       "      <td>9</td>\n",
       "      <td>2025-06-12</td>\n",
       "      <td>0</td>\n",
       "      <td>1902.10</td>\n",
       "      <td>yetişkin</td>\n",
       "      <td>1</td>\n",
       "      <td>0</td>\n",
       "      <td>0</td>\n",
       "      <td>0</td>\n",
       "    </tr>\n",
       "    <tr>\n",
       "      <th>99998</th>\n",
       "      <td>Kadın</td>\n",
       "      <td>46.0</td>\n",
       "      <td>51</td>\n",
       "      <td>147.19</td>\n",
       "      <td>6</td>\n",
       "      <td>2025-02-04</td>\n",
       "      <td>0</td>\n",
       "      <td>7506.69</td>\n",
       "      <td>yetişkin</td>\n",
       "      <td>1</td>\n",
       "      <td>0</td>\n",
       "      <td>1</td>\n",
       "      <td>1</td>\n",
       "    </tr>\n",
       "    <tr>\n",
       "      <th>99999</th>\n",
       "      <td>Erkek</td>\n",
       "      <td>46.0</td>\n",
       "      <td>45</td>\n",
       "      <td>80.07</td>\n",
       "      <td>9</td>\n",
       "      <td>2024-10-09</td>\n",
       "      <td>0</td>\n",
       "      <td>3603.15</td>\n",
       "      <td>yetişkin</td>\n",
       "      <td>0</td>\n",
       "      <td>1</td>\n",
       "      <td>1</td>\n",
       "      <td>1</td>\n",
       "    </tr>\n",
       "  </tbody>\n",
       "</table>\n",
       "<p>68836 rows × 13 columns</p>\n",
       "</div>"
      ],
      "text/plain": [
       "      Cinsiyet   Yas  AbonelikSuresi_Ay  AylikUcret  TeknikDestekAramalari  \\\n",
       "0        Kadın  54.0                 50       31.70                      9   \n",
       "4        Kadın  59.0                 53       88.53                      8   \n",
       "5        Kadın  43.0                 12      118.02                      3   \n",
       "6        Erkek  27.0                 60      187.96                      6   \n",
       "8        Erkek  48.0                 42      165.52                      9   \n",
       "...        ...   ...                ...         ...                    ...   \n",
       "99992    Kadın  43.0                 66      159.92                      5   \n",
       "99993    Kadın  47.0                  3       84.15                      9   \n",
       "99995    Erkek  44.0                 23       82.70                      9   \n",
       "99998    Kadın  46.0                 51      147.19                      6   \n",
       "99999    Erkek  46.0                 45       80.07                      9   \n",
       "\n",
       "      SonAktiviteTarihi  Churn_Durumu  ToplamHarcananTutar yas_grubu  tv_var  \\\n",
       "0            2024-09-29             1              1585.00  yetişkin       1   \n",
       "4            2025-04-09             0              4692.09  yetişkin       0   \n",
       "5            2024-11-12             0              1416.24  yetişkin       1   \n",
       "6            2025-01-14             0             11277.60  yetişkin       1   \n",
       "8            2025-02-25             0              6951.84  yetişkin       0   \n",
       "...                 ...           ...                  ...       ...     ...   \n",
       "99992        2025-07-09             0             10554.72  yetişkin       1   \n",
       "99993        2025-04-27             0               252.45  yetişkin       1   \n",
       "99995        2025-06-12             0              1902.10  yetişkin       1   \n",
       "99998        2025-02-04             0              7506.69  yetişkin       1   \n",
       "99999        2024-10-09             0              3603.15  yetişkin       0   \n",
       "\n",
       "       internet_var  mobil_var  telefon_var  \n",
       "0                 0          1            1  \n",
       "4                 1          1            0  \n",
       "5                 0          1            0  \n",
       "6                 0          1            0  \n",
       "8                 0          0            1  \n",
       "...             ...        ...          ...  \n",
       "99992             0          0            1  \n",
       "99993             0          0            0  \n",
       "99995             0          0            0  \n",
       "99998             0          1            1  \n",
       "99999             1          1            1  \n",
       "\n",
       "[68836 rows x 13 columns]"
      ]
     },
     "execution_count": 44,
     "metadata": {},
     "output_type": "execute_result"
    }
   ],
   "source": [
    "df[df[\"yas_grubu\"]== \"yetişkin\"]"
   ]
  },
  {
   "cell_type": "code",
   "execution_count": 45,
   "id": "04095d95",
   "metadata": {},
   "outputs": [
    {
     "data": {
      "text/html": [
       "<div>\n",
       "<style scoped>\n",
       "    .dataframe tbody tr th:only-of-type {\n",
       "        vertical-align: middle;\n",
       "    }\n",
       "\n",
       "    .dataframe tbody tr th {\n",
       "        vertical-align: top;\n",
       "    }\n",
       "\n",
       "    .dataframe thead th {\n",
       "        text-align: right;\n",
       "    }\n",
       "</style>\n",
       "<table border=\"1\" class=\"dataframe\">\n",
       "  <thead>\n",
       "    <tr style=\"text-align: right;\">\n",
       "      <th></th>\n",
       "      <th>tv_var</th>\n",
       "      <th>internet_var</th>\n",
       "      <th>telefon_var</th>\n",
       "      <th>mobil_var</th>\n",
       "    </tr>\n",
       "    <tr>\n",
       "      <th>yas_grubu</th>\n",
       "      <th></th>\n",
       "      <th></th>\n",
       "      <th></th>\n",
       "      <th></th>\n",
       "    </tr>\n",
       "  </thead>\n",
       "  <tbody>\n",
       "    <tr>\n",
       "      <th>genç</th>\n",
       "      <td>0.502028</td>\n",
       "      <td>0.499885</td>\n",
       "      <td>0.494759</td>\n",
       "      <td>0.491927</td>\n",
       "    </tr>\n",
       "    <tr>\n",
       "      <th>yaşlı</th>\n",
       "      <td>0.494529</td>\n",
       "      <td>0.500276</td>\n",
       "      <td>0.501271</td>\n",
       "      <td>0.496684</td>\n",
       "    </tr>\n",
       "    <tr>\n",
       "      <th>yetişkin</th>\n",
       "      <td>0.497923</td>\n",
       "      <td>0.499608</td>\n",
       "      <td>0.501337</td>\n",
       "      <td>0.502179</td>\n",
       "    </tr>\n",
       "  </tbody>\n",
       "</table>\n",
       "</div>"
      ],
      "text/plain": [
       "             tv_var  internet_var  telefon_var  mobil_var\n",
       "yas_grubu                                                \n",
       "genç       0.502028      0.499885     0.494759   0.491927\n",
       "yaşlı      0.494529      0.500276     0.501271   0.496684\n",
       "yetişkin   0.497923      0.499608     0.501337   0.502179"
      ]
     },
     "execution_count": 45,
     "metadata": {},
     "output_type": "execute_result"
    }
   ],
   "source": [
    "df.groupby('yas_grubu')[['tv_var', 'internet_var', 'telefon_var','mobil_var']].mean()"
   ]
  },
  {
   "cell_type": "code",
   "execution_count": 46,
   "id": "95f03afe",
   "metadata": {},
   "outputs": [],
   "source": [
    "bugun = pd.to_datetime(datetime.date.today())"
   ]
  },
  {
   "cell_type": "code",
   "execution_count": 47,
   "id": "d298855e",
   "metadata": {},
   "outputs": [],
   "source": [
    "df['aktifolmama_suresi'] = (bugun - df['SonAktiviteTarihi']).dt.days\n"
   ]
  },
  {
   "cell_type": "code",
   "execution_count": 48,
   "id": "0efdfbcb",
   "metadata": {},
   "outputs": [
    {
     "data": {
      "text/plain": [
       "Text(0.5, 1.0, 'Abonelik Süresi ile Churn İlişkisi')"
      ]
     },
     "execution_count": 48,
     "metadata": {},
     "output_type": "execute_result"
    },
    {
     "data": {
      "image/png": "[encoded data removed]",
      "text/plain": [
       "<Figure size 640x480 with 1 Axes>"
      ]
     },
     "metadata": {},
     "output_type": "display_data"
    }
   ],
   "source": [
    "sns.boxplot(x='Churn_Durumu', y='aktifolmama_suresi', data=df)\n",
    "plt.title('Abonelik Süresi ile Churn İlişkisi')"
   ]
  },
  {
   "cell_type": "code",
   "execution_count": 49,
   "id": "d847befa",
   "metadata": {},
   "outputs": [],
   "source": [
    "df_model = df.copy()\n",
    "df_model['yas_grubu'] = df_model['yas_grubu'].astype(str)\n",
    "df_model = pd.get_dummies(df_model, columns=['yas_grubu'], drop_first=True)"
   ]
  },
  {
   "cell_type": "code",
   "execution_count": 50,
   "id": "689fff18",
   "metadata": {},
   "outputs": [
    {
     "name": "stdout",
     "output_type": "stream",
     "text": [
      "              precision    recall  f1-score   support\n",
      "\n",
      "           0       0.75      1.00      0.86     22524\n",
      "           1       0.00      0.00      0.00      7476\n",
      "\n",
      "    accuracy                           0.75     30000\n",
      "   macro avg       0.38      0.50      0.43     30000\n",
      "weighted avg       0.56      0.75      0.64     30000\n",
      "\n"
     ]
    },
    {
     "name": "stderr",
     "output_type": "stream",
     "text": [
      "c:\\Users\\dell\\AppData\\Local\\Programs\\Python\\Python313\\Lib\\site-packages\\sklearn\\metrics\\_classification.py:1706: UndefinedMetricWarning: Precision is ill-defined and being set to 0.0 in labels with no predicted samples. Use `zero_division` parameter to control this behavior.\n",
      "  _warn_prf(average, modifier, f\"{metric.capitalize()} is\", result.shape[0])\n",
      "c:\\Users\\dell\\AppData\\Local\\Programs\\Python\\Python313\\Lib\\site-packages\\sklearn\\metrics\\_classification.py:1706: UndefinedMetricWarning: Precision is ill-defined and being set to 0.0 in labels with no predicted samples. Use `zero_division` parameter to control this behavior.\n",
      "  _warn_prf(average, modifier, f\"{metric.capitalize()} is\", result.shape[0])\n",
      "c:\\Users\\dell\\AppData\\Local\\Programs\\Python\\Python313\\Lib\\site-packages\\sklearn\\metrics\\_classification.py:1706: UndefinedMetricWarning: Precision is ill-defined and being set to 0.0 in labels with no predicted samples. Use `zero_division` parameter to control this behavior.\n",
      "  _warn_prf(average, modifier, f\"{metric.capitalize()} is\", result.shape[0])\n"
     ]
    }
   ],
   "source": [
    "X = df_model[['AylikUcret', 'ToplamHarcananTutar', 'tv_var', 'internet_var', 'telefon_var'\n",
    "              ]]\n",
    "y = df_model['Churn_Durumu']\n",
    "\n",
    "X_train, X_test, y_train, y_test = train_test_split(X, y, test_size=0.3, random_state=42)\n",
    "\n",
    "# Modeli eğit\n",
    "model = LogisticRegression(max_iter=1000)\n",
    "model.fit(X_train, y_train)\n",
    "\n",
    "# Tahminler\n",
    "y_pred = model.predict(X_test)\n",
    "y_proba = model.predict_proba(X_test)[:,1]\n",
    "\n",
    "# Performans raporu\n",
    "print(classification_report(y_test, y_pred))"
   ]
  },
  {
   "cell_type": "code",
   "execution_count": null,
   "id": "c2aa0f2b",
   "metadata": {},
   "outputs": [],
   "source": []
  }
 ],
 "metadata": {
  "kernelspec": {
   "display_name": "Python 3",
   "language": "python",
   "name": "python3"
  },
  "language_info": {
   "codemirror_mode": {
    "name": "ipython",
    "version": 3
   },
   "file_extension": ".py",
   "mimetype": "text/x-python",
   "name": "python",
   "nbconvert_exporter": "python",
   "pygments_lexer": "ipython3",
   "version": "3.13.3"
  }
 },
 "nbformat": 4,
 "nbformat_minor": 5
}
