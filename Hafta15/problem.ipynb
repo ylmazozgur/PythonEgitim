{
 "cells": [
  {
   "cell_type": "markdown",
   "id": "f681bc54",
   "metadata": {},
   "source": [
    "Problem Senaryosu: Telekomünikasyon Şirketi Müşteri Kaybı (Churn) Tahmini\n",
    "\n",
    "Problemin Tanımı:\n",
    "\n",
    "Bir telekomünikasyon şirketi olan \"X\", son zamanlarda artan müşteri kaybından (churn) şikayetçidir. Şirket, hangi müşterilerin aboneliklerini iptal etme olasılığının yüksek olduğunu önceden tahmin etmek istiyor. Bu sayede, risk altındaki müşterilere özel indirimler, kampanyalar veya daha iyi hizmetler sunarak onları elde tutmayı hedefliyorlar.\n",
    "\n",
    "Öğrencilerden Beklenen Görev:\n",
    "\n",
    "Öğrencilere verilecek olan \"X\" müşteri veri setini kullanarak, bir müşterinin şirketi terk edip etmeyeceğini (Churn_Durumu) tahmin eden bir makine öğrenmesi modeli geliştirmeleri istenmektedir. En yüksek doğrulukla tahmin yapan modeli geliştiren ekip/öğrenci başarılı sayılacaktır."
   ]
  }
 ],
 "metadata": {
  "language_info": {
   "name": "python"
  }
 },
 "nbformat": 4,
 "nbformat_minor": 5
}
