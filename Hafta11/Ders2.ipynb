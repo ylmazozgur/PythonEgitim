{
 "cells": [
  {
   "cell_type": "markdown",
   "id": "909a3197",
   "metadata": {},
   "source": [
    "## 4. Destek Vektör Makineleri - (Support Vector Machines - SVM)"
   ]
  },
  {
   "cell_type": "markdown",
   "id": "b6111135",
   "metadata": {},
   "source": [
    "Amacımız, veriyi en iyi şekilde **optimal hiperdüzlemi (decision boundary - karar sınırı)** bulmaktır.\n",
    "\n",
    "* Sınıfları birbirinden en iyi ayıran **doğru/hiperdüzlem** bulunur.\n",
    "* **Destek vektörleri** (sınıf sınırına en yakın noktalar) kullanılarak **marjinin maksimizasyonu** sağlanır.\n",
    "\n",
    "* **Hiperdüzlem Denklemi:**\n",
    "\n",
    "$$\n",
    "w*x+b = 0\n",
    "$$\n",
    "\n",
    "* $w$ : Ağırlık vektörü (Hyperplane eğimi)\n",
    "* $b$ : Bias (offset)\n",
    "* $x$ : Girdi vektörü\n",
    "\n",
    "<br></br>\n",
    "\n",
    "* **Karar Fonksiyonu:**\n",
    "$$\n",
    "f(x) = sign(w*x+b)\n",
    "$$\n",
    "\n",
    "* **sign** fonksiyonu, matematikte ve makine öğrenmesinde bir sayının **işaretini** (pozitif/negatif) belirleyen basit bir fonksiyondur. SVM'de ise modelin tahminini **+1 veya -1 gibi ikili değerlere** dönüştürmek için kullanılır.\n",
    "\n",
    "<br></br>\n",
    "\n",
    "* **Destek Vektörleri (Support Vectors):**\n",
    "$$\n",
    "y_i (w*x_i+b) = 1\n",
    "$$"
   ]
  },
  {
   "cell_type": "markdown",
   "id": "33fb80e6",
   "metadata": {},
   "source": [
    "**Avantajlar:**\n",
    "* **Yüksek Doğruluk** sağlar (özellikle küçük/orta boyutlu verilerde)\n",
    "* **Aşırı Uyum (overfitting) riski düşüktür**\n",
    "* **Doğrusal ve doğrusal olmayan** verilerde çalışabilir.\n",
    "\n",
    "**Dezavantajları:**\n",
    "* Büyük veri setlerinde ağır çalışır.\n",
    "* Hiperparametre ayarı (kernel, C, gamma) kritiktir.\n",
    "* Yorumlanabilirlik zordur (karar ağaçlarına kıyasla)"
   ]
  },
  {
   "cell_type": "markdown",
   "id": "9e356c51",
   "metadata": {},
   "source": [
    "| Parametre  | Açıklama          | Önerilen Değerler |\n",
    "|------------|-------------------|-------------------|\n",
    "| C          | tolerans değeri   | 0.1 , 1 , 10      |\n",
    "| kernel     | linear, rbf, poly | rbf (varsayılan)  |\n",
    "| gamma (RBF)| Kernel katsayısı  | scale veya auto   |\n",
    "| degree     | Polinom derecesi  | 2, 3, 4           |"
   ]
  },
  {
   "cell_type": "code",
   "execution_count": 1,
   "id": "41e96ce9",
   "metadata": {},
   "outputs": [
    {
     "name": "stdout",
     "output_type": "stream",
     "text": [
      "\n",
      "Modelin Doğruluk Oranı: 82.68%\n"
     ]
    }
   ],
   "source": [
    "import matplotlib.pyplot as plt\n",
    "import pandas as pd\n",
    "import seaborn as sns\n",
    "import numpy as np\n",
    "from sklearn.svm import SVC\n",
    "from sklearn.model_selection import train_test_split\n",
    "from sklearn.metrics import accuracy_score\n",
    "from sklearn.preprocessing import StandardScaler\n",
    "\n",
    "df = sns.load_dataset(\"titanic\")\n",
    "\n",
    "# Eksik değerleri doldurma\n",
    "df.fillna({\"age\": df[\"age\"].median()}, inplace=True)\n",
    "df.fillna({\"embarked\":df['embarked'].mode()[0]}, inplace=True)\n",
    "df.drop('deck', axis=1, inplace=True)\n",
    "\n",
    "# Kategorik değişkenleri sayısal formata dönüştürme\n",
    "df = pd.get_dummies(df, columns=['sex', 'embarked', 'class', 'who', 'adult_male'], drop_first=True)\n",
    "\n",
    "# Gereksiz sütunları kaldırma\n",
    "df.drop(['alive', 'embark_town', 'pclass'], axis=1, inplace=True)\n",
    "\n",
    "# Bağımlı ve bağımsız değişkeni belirleme\n",
    "X = df.drop('survived', axis=1)\n",
    "y = df['survived']\n",
    "\n",
    "# Veriyi ayırma\n",
    "X_train, X_test, y_train, y_test = train_test_split(X, y, test_size=0.2, random_state=42)\n",
    "\n",
    "\n",
    "# ÖZELLİK ÖLÇEKLENDİRME (FEATURE SCALING) - SVM İÇİN KRİTİK ADIM\n",
    "# SVM, özelliklerin büyüklüklerine karşı hassastır. Örneğin 'fare' (bilet ücreti)\n",
    "# 0-500 arası değerler alırken, 'sex_male' 0 ya da 1 değeri alır. Bu durum, modelin 'fare' özelliğine daha fazla ağırlık vermesine neden olabilir.\n",
    "# StandardScaler, tüm özellikleri ortalaması 0, standart sapması 1 olan bir dağılıma dönüştürerek bu sorunu çözer.\n",
    "scaler = StandardScaler()\n",
    "\n",
    "# Ölçekleyiciyi SADECE eğitim verisine göre 'fit' ediyoruz.\n",
    "# Test verisine göre fit edersek, test verisinden bilgi sızdırmış oluruz.\n",
    "X_train_scaled = scaler.fit_transform(X_train)\n",
    "\n",
    "\n",
    "# Hem eğitim hem de test verisini bu ölçekleyici ile 'transform' ediyoruz.\n",
    "X_test_scaled = scaler.transform(X_test)\n",
    "\n",
    "\n",
    "# Destek Vektör Makineleri (SVM) Modelini Oluşturma ve Eğitme\n",
    "svm_model = SVC(kernel='rbf', C=1.0, gamma='scale', random_state=42)\n",
    "# kernel='rbf': Radyal Tabanlı Fonksiyon, çoğu durum için en iyi başlangıçtır.\n",
    "# C=1.0: Ceza parametresi. Yanlış sınıflandırmalara ne kadar tolerans gösterileceğini belirler.\n",
    "# gamma='scale': Kernel katsayısını belirler. 'scale' değeri otomatik ayar yapar.\n",
    "# random_state: Sonuçların tekrarlanabilir olması için.\n",
    "\n",
    "\n",
    "# Modeli ÖLÇEKLENDİRİLMİŞ eğitim verisi ile eğitiyoruz\n",
    "svm_model.fit(X_train_scaled, y_train)\n",
    "\n",
    "\n",
    "# Tahminleri ÖLÇEKLENDİRİLMİŞ test verisi üzerinden yapıyoruz\n",
    "y_pred = svm_model.predict(X_test_scaled)\n",
    "\n",
    "\n",
    "# Doğruluk skorunu hesaplayalım\n",
    "accuracy = accuracy_score(y_test, y_pred)\n",
    "print(f\"\\nModelin Doğruluk Oranı: {accuracy * 100:.2f}%\")"
   ]
  },
  {
   "cell_type": "markdown",
   "id": "637c5292",
   "metadata": {},
   "source": [
    "## 5. Naive Bayes "
   ]
  },
  {
   "cell_type": "markdown",
   "id": "50af0efe",
   "metadata": {},
   "source": [
    "**Bayes Teorimi**'ne dayanır. Algoritmanın yaptığı şey, bir olayın özelliklerine bakarak, o olayın belirli bir sınıfa ait olma **olasılığını** hesaplamaktır. Özellikle spam tespiti, duygu analizi gibi alanlarda çok iyi sonuç verebiliyor.\n",
    "<br></br>\n",
    "**Bayes Teoremi**\n",
    "\n",
    "Denklem:\n",
    "$$\n",
    "P(A|B) =  \\frac {P(B|A) * P(A)}{P(B)}\n",
    "$$\n",
    "\n",
    "* A : Sınıf (örneğin, \"Spam\")\n",
    "* B : Özellikler (örneğin, e-postada \"free\" kelimesinin geçmesi)\n",
    "\n",
    "**1. $P(A|B)$ -> Posterior Olasılık (Sonuç Olasılığı):** Aradığımız şey budur. \"E-postada 'free' kelimesi varsa, bu e-postanın Spam olma olasılığı nedir?\"\n",
    "\n",
    "**2. $P(B|A)$ -> Likelihood (Olabilirlik):** \"Bir e-postanın Spam olduğu biliniyorsa, içinde 'free' kelimesinin geçme olasılığı nedir?\" Bunu eğitim verimizden kolayca hesaplayabiliriz: (içinde 'free' olan spam e-postaların sayısı) / (toplam e-posta sayısı)\n",
    "\n",
    "**3. $P(A)$ -> Prior Olasılık (Öncül Olasılık):** \"Herhangi bir e-postanın, içeriğine bakılmaksızın, Spam olma olasılığı nedir?\" Bunu da eğitim verimizden hesaplarız. (Toplam spam e-posta sayısı) / (toplam e-posta sayısı)\n",
    "\n",
    "**4. $P(B)$ -> Evidence (Kanıt):** \"Herhangi bir e-postada, spam olup olmadığına bakılmaksızın, 'free' kelimesinin geçme olasılığı nedir?\" Bu, bir normalleştirme faktörüdür.\n",
    "\n",
    "<br></br>\n",
    "**Naive Bayes Türleri**\n",
    "* **Gaussian Naive Bayes:** Özellikler sürekli değerler aldığında (yaş, boy, sıcaklık gibi) ve bu özelliklerin normal (Gaussian) bir dağılım gösterdiği varsayıldığında kullanılır.\n",
    "* **Multinomial Naive Bayes:** Özellikler ayrık değerler aldığında (kelime sayıları gibi) kullanılır. Metin sınıflandırma için en yaygın olanıdır.\n",
    "* **Bernoulli Naive Bayes:** Multinomial'e benzer, ancak özelliklerin varlığını veya yokluğunu (binary - 0/1) dikkate alır. \"Bu kelime belgede var mı, yok mu?\" sorusuna cevap arar."
   ]
  },
  {
   "cell_type": "markdown",
   "id": "2615c05d",
   "metadata": {},
   "source": [
    "**Avantajları:**\n",
    "* **Çok Hızlı:** Hesaplamaları basit olduğu için hem eğitim hem de tahmin aşamasında son derece hızlıdır.\n",
    "* **Az Veriyle Çalışabilir:** Karmaşık ilişkilere ihtiyaç duymadığı için az miktarda veriyle bile makul sonuçlar verebilir.\n",
    "* **Yüksek Boyutlu Verilerde Etkili:** Binlerce özelliğe sahip metin verileri gibi durumlarda çok iyi çalışır.\n",
    "* **Yorumlanması Kolay:** Hangi özelliğin hangi sınıfa ne kadar katkı sağladığı olasılıklarla görülebilir.\n",
    "\n",
    "**Dezavantajları:**\n",
    "* **\"Saf\" Bağımsızlık Varsayımı:** En büyük zayıflığıdır. Özellikler arasında güçlü bir ilişki varsa (genellikle vardır), modelin performansı düşebilir.\n",
    "* **Sıfır Frekans Problemi:** Laplace düzeltmesi kullanılmazsa, eğitim setinde olmayan bir özellik tüm sonucu mahvedebilir.\n",
    "* **Gerçek Olasılık Tahmincisi Değil:** Sınıflandırma için harikadır, ancak çıkardığı olasılık değeri (örn %85 spam) genellikle gerçek dünya olasılıklarını tam olarak yansıtmaz."
   ]
  },
  {
   "cell_type": "code",
   "execution_count": 7,
   "id": "d3935e11",
   "metadata": {},
   "outputs": [
    {
     "name": "stdout",
     "output_type": "stream",
     "text": [
      "Modelin doğruluk oranı: 77.65%\n"
     ]
    }
   ],
   "source": [
    "import pandas as pd \n",
    "import numpy as np\n",
    "import seaborn as sns\n",
    "\n",
    "from sklearn.model_selection import train_test_split\n",
    "from sklearn.naive_bayes import GaussianNB # Gaussian Naive Bayes modelini import ediyorum\n",
    "from sklearn.preprocessing import StandardScaler # Normalde Naive Bayes için özellik ölçeklendirme gerkeli değildir ama Gaussian Naive Bayes kullanıyorsam verileri standartlaştırmak faydalı olabilir. Çünkü her özelliğin bir Gauss dağılımına uygun olduğunu varsayar ve dağılımın parametreleri (ortalama ve standart sapma) verilerin dağılımına bağlıdır.\n",
    "from sklearn.metrics import accuracy_score\n",
    "\n",
    "df = sns.load_dataset(\"titanic\")\n",
    "\n",
    "df.fillna({\"age\": df[\"age\"].mean()}, inplace=True)\n",
    "df.fillna({\"embarked\": df[\"embarked\"].mode()[0]}, inplace=True)\n",
    "\n",
    "df[\"sex\"] = df[\"sex\"].map({\"male\":0, \"female\":1})\n",
    "df[\"embarked\"] = df[\"embarked\"].map({\"C\":0, \"Q\":1, \"S\":2})\n",
    "\n",
    "df = df[[\"survived\", \"pclass\", \"sex\", \"age\", \"sibsp\", \"parch\", \"fare\", \"embarked\"]]\n",
    "#df = df[[\"sex\", \"survived\"]]\n",
    "\n",
    "X = df.drop(\"survived\", axis=1)\n",
    "y = df[\"survived\"]\n",
    "\n",
    "X_train, X_test, y_train, y_test = train_test_split(X, y, test_size=0.2, random_state=42)\n",
    "\n",
    "# standartlaşma işlemi yapalım\n",
    "scaler = StandardScaler()\n",
    "X_train_scaled = scaler.fit_transform(X_train)\n",
    "X_test_scaled = scaler.transform(X_test)\n",
    "\n",
    "nb_model = GaussianNB()\n",
    "nb_model.fit(X_train_scaled, y_train)\n",
    "\n",
    "y_pred = nb_model.predict(X_test_scaled)\n",
    "\n",
    "accuracy = accuracy_score(y_test, y_pred)\n",
    "\n",
    "print(f\"Modelin doğruluk oranı: {accuracy* 100:.2f}%\")\n",
    "\n"
   ]
  },
  {
   "cell_type": "markdown",
   "id": "d10fb2fa",
   "metadata": {},
   "source": [
    "## 6. K-En Yakın Komşu - (K-Nearest Neighbors K-NN)"
   ]
  },
  {
   "cell_type": "markdown",
   "id": "0a065d83",
   "metadata": {},
   "source": [
    "Temel mantığı: *Bana arkadaşlarını söyle, sana kim olduğunu söyleyeyim!*\n",
    "\n",
    "* **Öğrenmesiz (Lazy Learning):** Eğitim aşamasında hesaplama yapmaz, tüm veriyi saklar.\n",
    "* **Benzerlik Tabanlı:** Yeni bir veri noktasının sınıfı, en yakın $K$ komşusunun çoğunluğuna göre belirlenir.\n",
    "\n",
    "Denklem:\n",
    "$$\n",
    "\\hat y = mode (y_i, y_{i2}, y_{i3}, ..., y_{iK})\n",
    "$$\n",
    "\n",
    "* $\\hat y:$ Tahmin edilen sınıf.\n",
    "* $y_{iK}:$ En yakın $K$ komşunun etiketleri.\n",
    "\n",
    "<br></br>\n",
    "**Algoritmanın Adımları**\n",
    "\n",
    "1. **K Değerini Belirle:** İlk olarak, kaç tane komşuya bakılacağına karar verilir. Bu sayı K olarak adlandırılır. K, kullanıcı tarafından belirlenen bir hiperparametredir. (K=3 veya K=5)\n",
    "2. **Mesafeleri Hesapla:** Yeni veri noktası ile eğitim setindeki **diğer tüm veri noktaları** arasındaki mesafeyi hesapla. En yaygın kullanılan mesafe ölçümü **Öklid Mesafesi**'dir. (İki nokta arasındaki düz çizgi mesafesi).\n",
    "3. **En Yakın K Komşuyu Bul:** Hesaplanan mesafelere göre, yeni noktaya en yakın K adet komşuyu belirle\n",
    "4. **Oylama Yap (Sınıflandırma İçin):** Bu K komşunun sınıflarına bak. Hangi sınıf çoğunluktaysa, yeni veri noktasını o sınıf olarak etiketle."
   ]
  },
  {
   "cell_type": "markdown",
   "id": "bdd2c062",
   "metadata": {},
   "source": [
    "**K-NN'nin Avantajları**\n",
    "* **Basit ve Kolay Anlaşılır:** K-NN algoritması oldukça basit ve anlaşılması kolaydır.\n",
    "* **Eğitim Aşaması Yok:** Modelin eğitilmesi gerekmez, sadece veriyi bellekte saklar ve sorgular.\n",
    "* **Esneklik:** Hem sınıflandırma hem de regresyon problemleri için kullanılabilir.\n",
    "* **Yeni Verilere Hızlı Uyum:** Yeni veri eklemek çok kolaydır, çünkü sadece veriyi ekleyip tahmin yapmanız yeterlidir.\n",
    "\n",
    "\n",
    "**Dezavantajları:**\n",
    "* **Hafıza ve Hesaplama Yükü:** Büyük veri setlerinde, mesafe hesaplamak için çok fazla işlem yapılması gerektiğinden zaman ve bellek açısından verimsiz olabilir.\n",
    "* **Aykırı Değerler (Outliers):** Aykırı değerler, mesafe hesaplamalarına dahil olduğunda, K-NN'nin doğruluğunu olumsuz etkileyebilir.\n",
    "* **Özelliklerin Ölçeği:** Özelliklerin farklı ölçeklerde olması, mesafe hesaplamalarını etkileyebilir. Bu nedenle verilerin standartlaştırılması gerekebilir."
   ]
  },
  {
   "cell_type": "code",
   "execution_count": 3,
   "id": "f0ebd235",
   "metadata": {},
   "outputs": [
    {
     "name": "stdout",
     "output_type": "stream",
     "text": [
      "Modelin doğruluk oranı: 79.89%\n"
     ]
    }
   ],
   "source": [
    "import pandas as pd \n",
    "import seaborn as sns\n",
    "\n",
    "from sklearn.model_selection import train_test_split\n",
    "from sklearn.neighbors import KNeighborsClassifier\n",
    "from sklearn.preprocessing import StandardScaler \n",
    "from sklearn.metrics import accuracy_score\n",
    "\n",
    "df = sns.load_dataset(\"titanic\")\n",
    "\n",
    "df.fillna({\"age\": df[\"age\"].mean()}, inplace=True)\n",
    "df.fillna({\"embarked\": df[\"embarked\"].mode()[0]}, inplace=True)\n",
    "\n",
    "df[\"sex\"] = df[\"sex\"].map({\"male\":0, \"female\":1})\n",
    "df[\"embarked\"] = df[\"embarked\"].map({\"C\":0, \"Q\":1, \"S\":2})\n",
    "\n",
    "df = df[[\"survived\", \"pclass\", \"sex\", \"age\", \"sibsp\", \"parch\", \"fare\", \"embarked\"]]\n",
    "\n",
    "X = df.drop(\"survived\", axis=1)\n",
    "y = df[\"survived\"]\n",
    "\n",
    "X_train, X_test, y_train, y_test = train_test_split(X, y, test_size=0.2, random_state=42)\n",
    "\n",
    "# standartlaşma işlemi yapalım\n",
    "scaler = StandardScaler()\n",
    "X_train_scaled = scaler.fit_transform(X_train)\n",
    "X_test_scaled = scaler.transform(X_test)\n",
    "\n",
    "knn_model = KNeighborsClassifier()\n",
    "knn_model.fit(X_train_scaled, y_train)\n",
    "\n",
    "y_pred = knn_model.predict(X_test_scaled)\n",
    "\n",
    "accuracy = accuracy_score(y_test, y_pred)\n",
    "\n",
    "print(f\"Modelin doğruluk oranı: {accuracy* 100:.2f}%\")\n"
   ]
  },
  {
   "cell_type": "markdown",
   "id": "910dacbb",
   "metadata": {},
   "source": [
    "# Performans Değerlendirme Metrikleri"
   ]
  },
  {
   "cell_type": "markdown",
   "id": "399a79e8",
   "metadata": {},
   "source": [
    "* **Doğruluk (Accuracy):**\n",
    "* **Karışıklık Matrisi (Confusion Matrix):**\n",
    "* **Kesinlik (Precision):**\n",
    "* **Duyarlılık (Recall/Sensitivity):**\n",
    "* **F1-Skoru (F1-Score):**\n",
    "* **ROC Eğrisi (Receiver Operating Characteristic Curve) ve AUC (Area Under Curve):**"
   ]
  },
  {
   "cell_type": "markdown",
   "id": "e65b8398",
   "metadata": {},
   "source": [
    "## Karışıklık (Hata) Matrisi (Confusion Matrix)"
   ]
  },
  {
   "cell_type": "markdown",
   "id": "5a024dbd",
   "metadata": {},
   "source": [
    "Neredeyse tüm sınıflandırma metrikleri, **Karmaşıklık Matrisi** adı verilen bir tablodan türetilir. Bu tablo, modelin tahminlerinin gerçek değerlerle ne kadar örtüştüğünü gösterir. \n",
    "\n",
    "|                     | **Tahmin: 1 Pozitif**              | **Tahmin: 0 Negatif**              |\n",
    "| ------------------- | -------------------------------- | -------------------------------- |\n",
    "| **Gerçek: 1 Pozitif** | True Positive (TP)               | False Negative (FN)              |\n",
    "| **Gerçek: 0 Negatif** | False Positive (FP)              | True Negative (TN)               |\n",
    "\n",
    "\n",
    "* **TP (True Positive):** Doğru tahmin edilen spamler.\n",
    "* **FN (False Negative):** Yanlışlıkla \"spam değil\" denilen spamler (kritik hata!)\n",
    "* **FP (False Positive):** Yanlışlıkla \"spam\" denilen normal mailler.\n",
    "* **TN (True Negative):** Doğru tahmin edilen normal mailler.\n"
   ]
  },
  {
   "cell_type": "markdown",
   "id": "98d21881",
   "metadata": {},
   "source": [
    "Örnek:\n",
    "\n",
    "Diyelim ki 100 e-postadan oluşan bir test setimiz var. Bunların 90'ı normal e-posta (ham), 10'u ise spam. Modelimiz şu sonuçları üretmiş olsun:\n",
    "\n",
    "* 85 normal e-postayı doğru bir şekilde \"normal\" olarak tahmin etti. (TN = 85)\n",
    "* 5 normal e-postayı yanlışlıkla \"spam\" olarak tahmin etti. (FP = 5)\n",
    "* 8 spam e-postayı doğru bir şekilde \"spam\" olarak tahmin etti. (TP = 8)\n",
    "* 2 spam e-postayı yanlışlıkla \"normal\" olarak tahmin etti. (FN = 2)\n",
    "\n",
    "Toplam doğru tahminlerimiz: TP + TN = 8 + 85 = 93\n",
    "\n",
    "Toplam tahmin sayımız: 100\n",
    "\n",
    "Doğruluk skorumuz: 93 / 100 = 0.93 veya %93.\n",
    "\n",
    "Bu, modelimizin tüm e-postaların %93'ünü doğru sınıflandırdığı anlamına gelir. Bu oldukça iyi bir sonuç gibi görünüyor."
   ]
  },
  {
   "cell_type": "markdown",
   "id": "e2985c28",
   "metadata": {},
   "source": [
    "* Modelin genel doğruluk oranını gösterir.\n",
    "* Tüm örnekler arasında kaç tanesini **doğru sınıflandırabildiğini** ölçer.\n",
    "* En çok, **veri dengeliyse** (pozitif ve negatif örnek sayısı yaklaşık eşitse) anlamlıdır.\n",
    "\n",
    "Denklem:\n",
    "\n",
    "$$\n",
    "Accuracy = \\frac {TP + TN} {TP + TN + FP + FN}\n",
    "$$\n",
    "\n",
    "<br></br>\n",
    "**Dezavantajı:**\n",
    "\n",
    "* Bir veri setinde %95 negatif ve %5 pozitif örnek varsa, tüm tahminler negatif yapılsa bile:\n",
    "  * TP=0, TN=95, FP=0, FN=5\n",
    "  * Accuracy = (0+95) / 100 = **%95**\n",
    "* Yani, model hiçbir pozitif doğru tahmin etmese bile yüksek accuracy gösterebilir. Bu nedenle böyle durumlarda:\n",
    "  * **Precision**\n",
    "  * **Recall**\n",
    "  * **F1-Score** gibi metriklere de mutlaka bakmamız gerekir.\n",
    "\n",
    "\n",
    "<br></br>\n",
    "\n",
    "**Örnek:**\n",
    "Diyelim ki elimizde 100 örnek var. Model aşağıdaki şekilde tahmin etmiş:\n",
    "* TP = 40\n",
    "* TN = 50\n",
    "* FP = 5\n",
    "* FN = 5\n",
    "\n",
    "$$\n",
    "Accuracy = \\frac {TP+TN} {TP+TN+FP+FN} = \\frac {40+50} {40+50+5+5} = \\frac {90} {100} = 0.90 = 90\\%\n",
    "$$\n",
    "\n",
    "Yani model, tüm örneklerin %90'ını doğru sınıflandırmış."
   ]
  },
  {
   "cell_type": "markdown",
   "id": "8c03cafa",
   "metadata": {},
   "source": [
    "### 2. Kesinlik (Precision)"
   ]
  },
  {
   "cell_type": "markdown",
   "id": "4a42cc03",
   "metadata": {},
   "source": [
    "* \"Pozitif\" tahminlerin ne kadarı doğru?\n",
    "\n",
    "Denklem:\n",
    "$$\n",
    "Precision = \\frac {TP} {TP+FP}\n",
    "$$\n",
    "\n",
    "**Dezavantajları**\n",
    "* Precision, özellikle **false positive** maliyeti yüksekse önemlidir.\n",
    "* Precision tek başına kullanıldığında yanıltıcı olabilir çünkü FN (gerçek pozitifleri kaçırma) bilgisini göz ardı eder.\n",
    "* Düşük Recall ile birlikte yüksek Precision olabilir.\n",
    "* Gerçek e-postalarını \"spam\" diye etiketlemek istemezsin. --> FP pahalıdır. --> Precision Önemli\n",
    "* Olmayan bir kanseri var diye göstermek korku yaratabilir ama daha affedilir. --> Recall daha önemli\n",
    "\n",
    "<br></br>\n",
    "Örnek:\n",
    "\n",
    "* TP = 40\n",
    "* FP = 10\n",
    "* FN = 20\n",
    "* TN = 30\n",
    "  \n",
    "$$\n",
    "Precision = \\frac {TP} {TP+FP} = \\frac {40} {40+10} = \\frac {40} {50} = 0.80 = \\%80\n",
    "$$\n",
    "\n",
    "Yani model, \"pozitif\" dediği 50 örneğin 40'ında doğru tahmin yapmış."
   ]
  },
  {
   "cell_type": "markdown",
   "id": "5569aed8",
   "metadata": {},
   "source": [
    "| Metrik    | Soru                                       | Vurgu                     |\n",
    "| --------- | ------------------------------------------ | ------------------------- |\n",
    "| Precision | \"Pozitif dediğim örnekler ne kadar doğru?\" | Yanlış pozitiften kaçınma |\n",
    "| Recall    | \"Gerçek pozitifleri ne kadar yakaladım?\"   | Yanlış negatiften kaçınma |\n",
    "\n",
    "**Genellikle bir denge aranır --> F1-Score**"
   ]
  },
  {
   "cell_type": "markdown",
   "id": "e496b4ca",
   "metadata": {},
   "source": [
    "### 3. Duyarlılık - Sensitivity (Recall)"
   ]
  },
  {
   "cell_type": "markdown",
   "id": "c09bcfb8",
   "metadata": {},
   "source": [
    "* Recall, modelin tüm gerçek pozitif örnekleri içinde kaç tanesini doğru tahmin edebildini gösterir.\n",
    "* FN'nin kritik olduğu durumlar (spam, kaçırmak istemezsin)\n",
    "\n",
    "Denklem:\n",
    "\n",
    "$$\n",
    "Recall = \\frac {TP} {TP+FN}\n",
    "$$\n",
    "\n",
    "Model, kaç tane pozitif örneği atlamadan tespit edebildi? Bu, hassas sistemlerde çok önemli olabilir.\n",
    "\n",
    "**Recall Ne zaman Önemlidir?**\n",
    "* Recall, özellikle yanlış negatiflerin (FN) çok pahalıya mal olduğu durumlarda önceliklidir.\n",
    "* **Kanser taraması:** Gerçekten hasta olan birini \"sağlıklı\" demek hayati risk taşır --> Recall kritik\n",
    "* **Hırsızlık algılama sistemleri:** Hırsızlığı atlamak büyük risk --> Recall önemli\n",
    "\n",
    "<br></br>\n",
    "Örnek:\n",
    "\n",
    "* TP = 40\n",
    "* FN = 20\n",
    "* FP = 10\n",
    "* TN = 30\n",
    "  \n",
    "$$\n",
    "Recall = \\frac {TP} {TP+FN} = \\frac {40} {40+20} = \\frac {40} {60} \\approx 0.6667 = \\%66.7\n",
    "$$\n",
    "\n",
    "Yani model, 60 gerçek pozitif örneğin sadece 40'ını doğru yakalayabilmiş.\n",
    "* Eğer 100 hasta kişiden sadece 50'sine \"hasta\" diyorsan --> Recall = %50\n",
    "* Ama bu 50 kişinin hepsi gerçekten hastaysa --> Precision = %100\n",
    "\n",
    "**Dezavantajı**\n",
    "* Recall tek başına yüksek olabilir, ama model çok fazla \"pozitif\" diyorsa (hatta yanlışlıkla), bu Precision'ı düşürür.\n",
    "* Sadece Recall'a bakmak, modelin fazla \"alarm\" vermesine neden olabilir."
   ]
  },
  {
   "cell_type": "markdown",
   "id": "2addee8c",
   "metadata": {},
   "source": [
    "### 4. F1-Score"
   ]
  },
  {
   "cell_type": "markdown",
   "id": "cbd16339",
   "metadata": {},
   "source": [
    "* F1-Score, Modelin, pozitif sınıfı ne kadar isabetli ve eksiksiz tespit ettiğini dengeleyerek ölçer.\n",
    "* Precision ve Recall'ın harmonik ortalamasıdır.\n",
    "* Dengesiz verilerde daha güvenilirdir.\n",
    "\n",
    "Denklem:\n",
    "$$\n",
    "F1 = 2 * \\frac {Precision * Recall} {Precision + Recall}\n",
    "$$\n",
    "\n",
    "Neden Harmonik Ortalama alıyoruz?\n",
    "* Harmonik ortalama, düşük olan değeri daha fazla etkiler. Yani:\n",
    "* Precision çok yüksek ama Recall düşükse --> F1-Score düşük olur.\n",
    "* Recall çok yüksek ama Precision düşükse --> F1-Score düşük olur.\n",
    "\n",
    "Yukarıdaki maddelere F1-Score, sadece **her ikiside yüksekse** yüksek olur.\n",
    "\n",
    "<br></br>\n",
    "Örnek:\n",
    "\n",
    "* Recall = 0.66\n",
    "* Precision = 0.80\n",
    "\n",
    "$$\n",
    "F1 = 2 * \\frac {0.80 * 0.66} {0.80 + 0.66} \\approx 0.727\n",
    "$$\n",
    "\n",
    "Yani modelin F1-Score değeri $\\approx$ **%72.7**\n",
    "\n",
    "<br></br>\n",
    "\n",
    "**F1-Score özellikle şu durumlarda çok önemlidir:**\n",
    "* Veri seti dengesizse (örneğin pozitif sınıf %5 gibi çok azsa)\n",
    "* Hem yanlış pozitif hem de yanlış negatif sonuçlar kritikse\n",
    "* Tek bir performans metriğiyle hem Precision hem Recall'ı dikkate almak istiyorsak"
   ]
  },
  {
   "cell_type": "markdown",
   "id": "56314fc1",
   "metadata": {},
   "source": [
    "| Metrik       | Amaç                                      | Denge Durumu                          |\n",
    "| ------------ | ----------------------------------------- | ------------------------------------- |\n",
    "| Precision    | Pozitif tahminlerin doğruluğu             | FP'den kaçınır                        |\n",
    "| Recall       | Gerçek pozitifleri bulma oranı            | FN'den kaçınır                        |\n",
    "| **F1-Score** | Precision ve Recall arasında denge sağlar | **Her ikisi de önemliyse** kullanılır |\n",
    "\n",
    "\n",
    "**Dezavantajı**\n",
    "* TN (True Negative) değerini dikkate almaz. Yani modelin negatif sınıfı ne kadar iyi tanıdığı F1-score’da yer almaz.\n",
    "* Sadece pozitif sınıfa odaklanır.\n",
    "\n",
    "<br></br>\n",
    "**F1-Score ile Accuracy Aynı Olur mu?**\n",
    "\n",
    "Hayır. Accuracy, tüm doğru tahminlerin oranıdır. F1-score ise yalnızca pozitif sınıfın başarısını dikkate alır.\n"
   ]
  },
  {
   "cell_type": "code",
   "execution_count": 8,
   "id": "f299d765",
   "metadata": {},
   "outputs": [
    {
     "name": "stdout",
     "output_type": "stream",
     "text": [
      "Doğruluk Oranı: 0.7552447552447552\n"
     ]
    }
   ],
   "source": [
    "# Titanic verisini kullanarak Lojistik Regresyon kullanalım.\n",
    "\n",
    "import seaborn as sns\n",
    "import pandas as pd\n",
    "import matplotlib.pyplot as plt\n",
    "from sklearn.linear_model import LogisticRegression\n",
    "from sklearn.model_selection import train_test_split\n",
    "from sklearn.metrics import accuracy_score, classification_report\n",
    "\n",
    "# Titanic veri setini yükleyelim\n",
    "df = sns.load_dataset(\"titanic\")\n",
    "\n",
    "# Gerekli sütunları seçelim, eksik verileri temizleyelim\n",
    "df_model = df[ [\"survived\", \"sex\", \"age\", \"fare\", \"pclass\"]].dropna()\n",
    "\n",
    "# Cinsiyeti sayısal değere çevirelim.\n",
    "df_model[\"sex\"] = df_model[\"sex\"].map({\"male\": 0, \"female\": 1})\n",
    "## df_model[\"sex\"] = [0 if x == \"male\" else 1 for x in df_model[\"sex\"]] # list comprehension kullanarak nasıl yazarım?\n",
    "\n",
    "# Özellikler ve hedef değişken\n",
    "X = df_model[[\"sex\", \"age\", \"fare\", \"pclass\"]] #farklı özelliklerin hayatta kalma durumuna nasıl etki ettiğini görelim.\n",
    "#X = df_model[[\"age\"]]\n",
    "y = df_model[\"survived\"]\n",
    "\n",
    "# Eğitim ve test kümelerine ayıralım\n",
    "X_train, X_test, y_train, y_test = train_test_split(X, y, test_size=0.2, random_state=42)\n",
    "\n",
    "# Lojistik Regresyon modeli oluşturalım ve eğitelim\n",
    "model = LogisticRegression(max_iter=200)\n",
    "model.fit(X_train, y_train)\n",
    "\n",
    "# Tahmin yapalım\n",
    "y_pred = model.predict(X_test)\n",
    "\n",
    "print(\"Doğruluk Oranı:\", accuracy_score(y_test, y_pred))\n",
    "#print(\"\\nSınıflandırma Raporu:\\n\", classification_report(y_test, y_pred))\n"
   ]
  },
  {
   "cell_type": "code",
   "execution_count": 9,
   "id": "29910256",
   "metadata": {},
   "outputs": [
    {
     "name": "stdout",
     "output_type": "stream",
     "text": [
      "Hata Matrisi:\n",
      " [[68 19]\n",
      " [16 40]]\n"
     ]
    },
    {
     "data": {
      "image/png": "[encoded data removed]",
      "text/plain": [
       "<Figure size 600x400 with 2 Axes>"
      ]
     },
     "metadata": {},
     "output_type": "display_data"
    },
    {
     "name": "stdout",
     "output_type": "stream",
     "text": [
      "Accuracy    (Doğruluk)          : 0.7552\n",
      "Precision   (Kesinlik)          : 0.6780\n",
      "Recall      (Duyarlılık)        : 0.7143\n",
      "F1-Score    (Harmonik Ortalama) : 0.6957\n"
     ]
    }
   ],
   "source": [
    "from sklearn.metrics import confusion_matrix, precision_score, recall_score, f1_score\n",
    "\n",
    "# Confusion Matrix'i yazalım.\n",
    "cm = confusion_matrix(y_test, y_pred)\n",
    "print(\"Hata Matrisi:\\n\", cm)\n",
    "\n",
    "# Hata Matrisi'ni görselleştirelim.\n",
    "plt.figure(figsize=(6,4))\n",
    "sns.heatmap(cm, annot=True, fmt=\"d\", cmap=\"Blues\", xticklabels=[\"Öldü\", \"Hayatta\"], yticklabels=[\"Öldü\", \"Hayatta\"])\n",
    "plt.xlabel(\"Tahmin Edilen\")\n",
    "plt.ylabel(\"Gerçek Değer\")\n",
    "plt.title(\"Hata Matrisi\")\n",
    "plt.show()\n",
    "\n",
    "# Metrikleri Hesaplama\n",
    "acc = accuracy_score(y_test, y_pred)\n",
    "prec = precision_score(y_test, y_pred)\n",
    "rec = recall_score(y_test, y_pred)\n",
    "f1 = f1_score(y_test, y_pred)\n",
    "\n",
    "# Ekrana yazdıralım\n",
    "print(f\"Accuracy    (Doğruluk)          : {acc:.4f}\")\n",
    "print(f\"Precision   (Kesinlik)          : {prec:.4f}\")\n",
    "print(f\"Recall      (Duyarlılık)        : {rec:.4f}\")\n",
    "print(f\"F1-Score    (Harmonik Ortalama) : {f1:.4f}\")"
   ]
  },
  {
   "cell_type": "markdown",
   "id": "7684d207",
   "metadata": {},
   "source": [
    "|               | **Tahmin: 0** | **Tahmin: 1** |\n",
    "| ------------- | ------------- | ------------- |\n",
    "| **Gerçek: 0** | TN = 80       | FP = 7       |\n",
    "| **Gerçek: 1** | FN = 50       | TP = 6       |\n"
   ]
  },
  {
   "cell_type": "markdown",
   "id": "7d25d8c7",
   "metadata": {},
   "source": [
    "## Diğer Önemli Metrikler"
   ]
  },
  {
   "cell_type": "markdown",
   "id": "bc9e0705",
   "metadata": {},
   "source": [
    "### 1. Özgüllük (Specificity)"
   ]
  },
  {
   "cell_type": "markdown",
   "id": "451715b3",
   "metadata": {},
   "source": [
    "* Gerçek negatiflerin ne kadarı doğru tahmin edili?\n",
    "\n",
    "Denklem:\n",
    "$$\n",
    "Specificity = \\frac {TN} {FP+TN}\n",
    "$$"
   ]
  },
  {
   "cell_type": "markdown",
   "id": "9b8e8f93",
   "metadata": {},
   "source": [
    "### 2. False Positive Rate (FPR)"
   ]
  },
  {
   "cell_type": "markdown",
   "id": "3a5bafd0",
   "metadata": {},
   "source": [
    "* ROC Eğrisi çizilirken kullanılır.\n",
    "* Hasta olmayan kişiye hasta dedi --> FP\n",
    "* False Positive Rate, negatif sınıfta olan örneklerden kaç tanesini yanlışlıkla pozitif tahmin edildiğini gösterir.\n",
    "* Yani, gerçekte negatif olanların kaçı yanlışlıkla pozitif tahmin edildi.\n",
    "\n",
    "$$\n",
    "FPR = \\frac {FP} {FP+TN}\n",
    "$$\n",
    "\n",
    "* FPR çok yüksekse: Çok fazla yanlış alarm veriyor demektir.\n",
    "* FPR çok düşükse: Gerçek negatifleri genellikle doğru tahmin ediyor.\n",
    "\n",
    "**Ne zaman önemlidir?**\n",
    "* Yanlış pozitiflerin ciddi sonuçlar doğurduğu durumlarda,\n",
    "  * Masum birini suçlu göstermek\n",
    "  * Normal kredi başvurusunu reddetmek\n",
    "  * Sağlıklı birine kanser teşhisi koymak"
   ]
  },
  {
   "cell_type": "markdown",
   "id": "3894e6e8",
   "metadata": {},
   "source": [
    "## Algoritma Seçimi İçin Önemli Faktörler"
   ]
  },
  {
   "cell_type": "markdown",
   "id": "0d612433",
   "metadata": {},
   "source": [
    "1. Veri Boyutu ve Yapısı: Küçük veri (Naive Bayes, SVM), Büyük Veri (Random Forest, GBM).\n",
    "2. Özellik Türleri: Kategorik özellikler (Karar Ağaçları, GBM - özellikle CatBoost), Metin verisi (Naive Bayes, SVM).\n",
    "3. Doğrusallık: Doğrusal ilişki (Lojistik Regresyon), Doğrusal olmayan ilişki (SVM, Karar Ağaçları, GBM, K-NN).\n",
    "4. Yorumlanabilirlik İhtiyacı: Kritik ise (Lojistik Regresyon, Karar Ağaçları), Önemsiz ise (GBM, SVM).\n",
    "5. Eğitim/Tahmin Hızı: Hızlı eğitim (Naive Bayes, Lojistik Regresyon), Hızlı tahmin (lojistik Regresyon, SVM, RF/GNM - eğitildikten sonra), Yavaş eğitim (SVM - büyük veride, GBM), Yavaş tahmin (K-NN)\n",
    "6. Aşırı Öğrenme Riski: Yüksek risk (Karar Ağaçları, K-NN), Düşük risk (RF, GBM - uygun ayarlanırsa, SVM).\n",
    "7. Doğruluk: En yüksek doğruluk genellikle (dikkatlice ayarlanmış) GBM (XGBoost, LightGBM, CatBoost) veya RF ile elde edilir."
   ]
  },
  {
   "cell_type": "markdown",
   "id": "f4e011a8",
   "metadata": {},
   "source": [
    "|  **Senaryo**                                 |  **Önemli Metrik(ler)** |  **Açıklama**                                                                  |\n",
    "| ---------------------------------------------- | ------------------------ | -------------------------------------------------------------------------------- |\n",
    "| ✅ **Dengeli veri seti**                        | `Accuracy`               | Sınıflar dengeliyse genel doğruluk anlamlıdır.                                   |\n",
    "| ⚠️ **Yanlış pozitifler maliyetli** (ör. spam)  | `Precision`              | Pozitif dediğimiz örneklerin gerçekten doğru olmasına odaklanır.                 |\n",
    "| ❗ **Yanlış negatifler maliyetli** (ör. kanser) | `Recall`                 | Gerçek pozitifleri kaçırmamak ön plandadır.                                      |\n",
    "| ⚖️ **Dengesiz veri seti**                      | `F1-Score`, `ROC-AUC`    | Hem Precision hem Recall denge ister; ROC-AUC model genel ayrım gücünü gösterir. |\n"
   ]
  }
 ],
 "metadata": {
  "kernelspec": {
   "display_name": "Python 3",
   "language": "python",
   "name": "python3"
  },
  "language_info": {
   "codemirror_mode": {
    "name": "ipython",
    "version": 3
   },
   "file_extension": ".py",
   "mimetype": "text/x-python",
   "name": "python",
   "nbconvert_exporter": "python",
   "pygments_lexer": "ipython3",
   "version": "3.13.3"
  }
 },
 "nbformat": 4,
 "nbformat_minor": 5
}
