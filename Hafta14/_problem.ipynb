{
 "cells": [
  {
   "cell_type": "markdown",
   "id": "5cfd70b8",
   "metadata": {},
   "source": [
    "**Proje Başlığı: Otel Rezervasyon İptallerini Azaltma ve Gelir Optimizasyonu Analizi**\n",
    "\n",
    "**Proje Senaryosu (Business Problem):**\n",
    "\n",
    "\"Horizon Hotels\" adlı, hem şehir merkezlerinde (\"City Hotel\") hem de tatil beldelerinde (\"Resort Hotel\") otelleri bulunan bir otel zincirinin yöneticisisiniz. Şirket, son çeyreklerde özellikle yüksek rezervasyon iptal oranları nedeniyle ciddi bir gelir kaybı ve operasyonel planlama zorlukları yaşamaktadır. İptal edilen odaların son dakikada doldurulamaması, hem doluluk oranlarını düşürmekte hem de gelirleri olumsuz etkilemektedir.\n",
    "\n",
    "Sizden, veri analisti olarak bu sorunun kök nedenlerini anlamak, hangi rezervasyonların iptal edilme olasılığının yüksek olduğunu tahmin etmek ve bu iptalleri azaltmak için veriye dayalı, eyleme geçirilebilir stratejiler geliştirmeniz isteniyor.\n",
    "\n",
    "Projenin Amacı:\n",
    "\n",
    "Bu projenin temel amacı, otel rezervasyon iptallerine yol açan ana faktörleri belirlemek, yüksek riskli rezervasyonları proaktif olarak tespit edebilecek bir model geliştirmek ve iptal oranını düşürerek otel gelirlerini optimize edecek stratejik öneriler sunmaktır."
   ]
  },
  {
   "cell_type": "code",
   "execution_count": 1,
   "id": "916d278a",
   "metadata": {},
   "outputs": [],
   "source": [
    "\n",
    "from sklearn.model_selection import train_test_split\n",
    "from sklearn.ensemble import RandomForestClassifier\n",
    "from sklearn.preprocessing import LabelEncoder\n",
    "from sklearn.metrics import classification_report, accuracy_score\n",
    "import pandas as pd\n",
    "import matplotlib.pyplot as plt\n",
    "import seaborn as sns\n",
    "import calendar"
   ]
  },
  {
   "cell_type": "code",
   "execution_count": 2,
   "id": "2ff1c79d",
   "metadata": {},
   "outputs": [],
   "source": [
    "df = pd.read_csv(\"hotel_bookings 2.csv\")"
   ]
  },
  {
   "cell_type": "code",
   "execution_count": 3,
   "id": "7c89a36e",
   "metadata": {},
   "outputs": [
    {
     "data": {
      "text/html": [
       "<div>\n",
       "<style scoped>\n",
       "    .dataframe tbody tr th:only-of-type {\n",
       "        vertical-align: middle;\n",
       "    }\n",
       "\n",
       "    .dataframe tbody tr th {\n",
       "        vertical-align: top;\n",
       "    }\n",
       "\n",
       "    .dataframe thead th {\n",
       "        text-align: right;\n",
       "    }\n",
       "</style>\n",
       "<table border=\"1\" class=\"dataframe\">\n",
       "  <thead>\n",
       "    <tr style=\"text-align: right;\">\n",
       "      <th></th>\n",
       "      <th>hotel</th>\n",
       "      <th>is_canceled</th>\n",
       "      <th>lead_time</th>\n",
       "      <th>arrival_date_year</th>\n",
       "      <th>arrival_date_month</th>\n",
       "      <th>arrival_date_week_number</th>\n",
       "      <th>arrival_date_day_of_month</th>\n",
       "      <th>stays_in_weekend_nights</th>\n",
       "      <th>stays_in_week_nights</th>\n",
       "      <th>adults</th>\n",
       "      <th>...</th>\n",
       "      <th>deposit_type</th>\n",
       "      <th>agent</th>\n",
       "      <th>company</th>\n",
       "      <th>days_in_waiting_list</th>\n",
       "      <th>customer_type</th>\n",
       "      <th>adr</th>\n",
       "      <th>required_car_parking_spaces</th>\n",
       "      <th>total_of_special_requests</th>\n",
       "      <th>reservation_status</th>\n",
       "      <th>reservation_status_date</th>\n",
       "    </tr>\n",
       "  </thead>\n",
       "  <tbody>\n",
       "    <tr>\n",
       "      <th>0</th>\n",
       "      <td>Resort Hotel</td>\n",
       "      <td>0</td>\n",
       "      <td>342</td>\n",
       "      <td>2015</td>\n",
       "      <td>July</td>\n",
       "      <td>27</td>\n",
       "      <td>1</td>\n",
       "      <td>0</td>\n",
       "      <td>0</td>\n",
       "      <td>2</td>\n",
       "      <td>...</td>\n",
       "      <td>No Deposit</td>\n",
       "      <td>NaN</td>\n",
       "      <td>NaN</td>\n",
       "      <td>0</td>\n",
       "      <td>Transient</td>\n",
       "      <td>0.00</td>\n",
       "      <td>0</td>\n",
       "      <td>0</td>\n",
       "      <td>Check-Out</td>\n",
       "      <td>1/7/2015</td>\n",
       "    </tr>\n",
       "    <tr>\n",
       "      <th>1</th>\n",
       "      <td>Resort Hotel</td>\n",
       "      <td>0</td>\n",
       "      <td>737</td>\n",
       "      <td>2015</td>\n",
       "      <td>July</td>\n",
       "      <td>27</td>\n",
       "      <td>1</td>\n",
       "      <td>0</td>\n",
       "      <td>0</td>\n",
       "      <td>2</td>\n",
       "      <td>...</td>\n",
       "      <td>No Deposit</td>\n",
       "      <td>NaN</td>\n",
       "      <td>NaN</td>\n",
       "      <td>0</td>\n",
       "      <td>Transient</td>\n",
       "      <td>0.00</td>\n",
       "      <td>0</td>\n",
       "      <td>0</td>\n",
       "      <td>Check-Out</td>\n",
       "      <td>1/7/2015</td>\n",
       "    </tr>\n",
       "    <tr>\n",
       "      <th>2</th>\n",
       "      <td>Resort Hotel</td>\n",
       "      <td>0</td>\n",
       "      <td>7</td>\n",
       "      <td>2015</td>\n",
       "      <td>July</td>\n",
       "      <td>27</td>\n",
       "      <td>1</td>\n",
       "      <td>0</td>\n",
       "      <td>1</td>\n",
       "      <td>1</td>\n",
       "      <td>...</td>\n",
       "      <td>No Deposit</td>\n",
       "      <td>NaN</td>\n",
       "      <td>NaN</td>\n",
       "      <td>0</td>\n",
       "      <td>Transient</td>\n",
       "      <td>75.00</td>\n",
       "      <td>0</td>\n",
       "      <td>0</td>\n",
       "      <td>Check-Out</td>\n",
       "      <td>2/7/2015</td>\n",
       "    </tr>\n",
       "    <tr>\n",
       "      <th>3</th>\n",
       "      <td>Resort Hotel</td>\n",
       "      <td>0</td>\n",
       "      <td>13</td>\n",
       "      <td>2015</td>\n",
       "      <td>July</td>\n",
       "      <td>27</td>\n",
       "      <td>1</td>\n",
       "      <td>0</td>\n",
       "      <td>1</td>\n",
       "      <td>1</td>\n",
       "      <td>...</td>\n",
       "      <td>No Deposit</td>\n",
       "      <td>304.0</td>\n",
       "      <td>NaN</td>\n",
       "      <td>0</td>\n",
       "      <td>Transient</td>\n",
       "      <td>75.00</td>\n",
       "      <td>0</td>\n",
       "      <td>0</td>\n",
       "      <td>Check-Out</td>\n",
       "      <td>2/7/2015</td>\n",
       "    </tr>\n",
       "    <tr>\n",
       "      <th>4</th>\n",
       "      <td>Resort Hotel</td>\n",
       "      <td>0</td>\n",
       "      <td>14</td>\n",
       "      <td>2015</td>\n",
       "      <td>July</td>\n",
       "      <td>27</td>\n",
       "      <td>1</td>\n",
       "      <td>0</td>\n",
       "      <td>2</td>\n",
       "      <td>2</td>\n",
       "      <td>...</td>\n",
       "      <td>No Deposit</td>\n",
       "      <td>240.0</td>\n",
       "      <td>NaN</td>\n",
       "      <td>0</td>\n",
       "      <td>Transient</td>\n",
       "      <td>98.00</td>\n",
       "      <td>0</td>\n",
       "      <td>1</td>\n",
       "      <td>Check-Out</td>\n",
       "      <td>3/7/2015</td>\n",
       "    </tr>\n",
       "    <tr>\n",
       "      <th>...</th>\n",
       "      <td>...</td>\n",
       "      <td>...</td>\n",
       "      <td>...</td>\n",
       "      <td>...</td>\n",
       "      <td>...</td>\n",
       "      <td>...</td>\n",
       "      <td>...</td>\n",
       "      <td>...</td>\n",
       "      <td>...</td>\n",
       "      <td>...</td>\n",
       "      <td>...</td>\n",
       "      <td>...</td>\n",
       "      <td>...</td>\n",
       "      <td>...</td>\n",
       "      <td>...</td>\n",
       "      <td>...</td>\n",
       "      <td>...</td>\n",
       "      <td>...</td>\n",
       "      <td>...</td>\n",
       "      <td>...</td>\n",
       "      <td>...</td>\n",
       "    </tr>\n",
       "    <tr>\n",
       "      <th>119385</th>\n",
       "      <td>City Hotel</td>\n",
       "      <td>0</td>\n",
       "      <td>23</td>\n",
       "      <td>2017</td>\n",
       "      <td>August</td>\n",
       "      <td>35</td>\n",
       "      <td>30</td>\n",
       "      <td>2</td>\n",
       "      <td>5</td>\n",
       "      <td>2</td>\n",
       "      <td>...</td>\n",
       "      <td>No Deposit</td>\n",
       "      <td>394.0</td>\n",
       "      <td>NaN</td>\n",
       "      <td>0</td>\n",
       "      <td>Transient</td>\n",
       "      <td>96.14</td>\n",
       "      <td>0</td>\n",
       "      <td>0</td>\n",
       "      <td>Check-Out</td>\n",
       "      <td>6/9/2017</td>\n",
       "    </tr>\n",
       "    <tr>\n",
       "      <th>119386</th>\n",
       "      <td>City Hotel</td>\n",
       "      <td>0</td>\n",
       "      <td>102</td>\n",
       "      <td>2017</td>\n",
       "      <td>August</td>\n",
       "      <td>35</td>\n",
       "      <td>31</td>\n",
       "      <td>2</td>\n",
       "      <td>5</td>\n",
       "      <td>3</td>\n",
       "      <td>...</td>\n",
       "      <td>No Deposit</td>\n",
       "      <td>9.0</td>\n",
       "      <td>NaN</td>\n",
       "      <td>0</td>\n",
       "      <td>Transient</td>\n",
       "      <td>225.43</td>\n",
       "      <td>0</td>\n",
       "      <td>2</td>\n",
       "      <td>Check-Out</td>\n",
       "      <td>7/9/2017</td>\n",
       "    </tr>\n",
       "    <tr>\n",
       "      <th>119387</th>\n",
       "      <td>City Hotel</td>\n",
       "      <td>0</td>\n",
       "      <td>34</td>\n",
       "      <td>2017</td>\n",
       "      <td>August</td>\n",
       "      <td>35</td>\n",
       "      <td>31</td>\n",
       "      <td>2</td>\n",
       "      <td>5</td>\n",
       "      <td>2</td>\n",
       "      <td>...</td>\n",
       "      <td>No Deposit</td>\n",
       "      <td>9.0</td>\n",
       "      <td>NaN</td>\n",
       "      <td>0</td>\n",
       "      <td>Transient</td>\n",
       "      <td>157.71</td>\n",
       "      <td>0</td>\n",
       "      <td>4</td>\n",
       "      <td>Check-Out</td>\n",
       "      <td>7/9/2017</td>\n",
       "    </tr>\n",
       "    <tr>\n",
       "      <th>119388</th>\n",
       "      <td>City Hotel</td>\n",
       "      <td>0</td>\n",
       "      <td>109</td>\n",
       "      <td>2017</td>\n",
       "      <td>August</td>\n",
       "      <td>35</td>\n",
       "      <td>31</td>\n",
       "      <td>2</td>\n",
       "      <td>5</td>\n",
       "      <td>2</td>\n",
       "      <td>...</td>\n",
       "      <td>No Deposit</td>\n",
       "      <td>89.0</td>\n",
       "      <td>NaN</td>\n",
       "      <td>0</td>\n",
       "      <td>Transient</td>\n",
       "      <td>104.40</td>\n",
       "      <td>0</td>\n",
       "      <td>0</td>\n",
       "      <td>Check-Out</td>\n",
       "      <td>7/9/2017</td>\n",
       "    </tr>\n",
       "    <tr>\n",
       "      <th>119389</th>\n",
       "      <td>City Hotel</td>\n",
       "      <td>0</td>\n",
       "      <td>205</td>\n",
       "      <td>2017</td>\n",
       "      <td>August</td>\n",
       "      <td>35</td>\n",
       "      <td>29</td>\n",
       "      <td>2</td>\n",
       "      <td>7</td>\n",
       "      <td>2</td>\n",
       "      <td>...</td>\n",
       "      <td>No Deposit</td>\n",
       "      <td>9.0</td>\n",
       "      <td>NaN</td>\n",
       "      <td>0</td>\n",
       "      <td>Transient</td>\n",
       "      <td>151.20</td>\n",
       "      <td>0</td>\n",
       "      <td>2</td>\n",
       "      <td>Check-Out</td>\n",
       "      <td>7/9/2017</td>\n",
       "    </tr>\n",
       "  </tbody>\n",
       "</table>\n",
       "<p>119390 rows × 32 columns</p>\n",
       "</div>"
      ],
      "text/plain": [
       "               hotel  is_canceled  lead_time  arrival_date_year  \\\n",
       "0       Resort Hotel            0        342               2015   \n",
       "1       Resort Hotel            0        737               2015   \n",
       "2       Resort Hotel            0          7               2015   \n",
       "3       Resort Hotel            0         13               2015   \n",
       "4       Resort Hotel            0         14               2015   \n",
       "...              ...          ...        ...                ...   \n",
       "119385    City Hotel            0         23               2017   \n",
       "119386    City Hotel            0        102               2017   \n",
       "119387    City Hotel            0         34               2017   \n",
       "119388    City Hotel            0        109               2017   \n",
       "119389    City Hotel            0        205               2017   \n",
       "\n",
       "       arrival_date_month  arrival_date_week_number  \\\n",
       "0                    July                        27   \n",
       "1                    July                        27   \n",
       "2                    July                        27   \n",
       "3                    July                        27   \n",
       "4                    July                        27   \n",
       "...                   ...                       ...   \n",
       "119385             August                        35   \n",
       "119386             August                        35   \n",
       "119387             August                        35   \n",
       "119388             August                        35   \n",
       "119389             August                        35   \n",
       "\n",
       "        arrival_date_day_of_month  stays_in_weekend_nights  \\\n",
       "0                               1                        0   \n",
       "1                               1                        0   \n",
       "2                               1                        0   \n",
       "3                               1                        0   \n",
       "4                               1                        0   \n",
       "...                           ...                      ...   \n",
       "119385                         30                        2   \n",
       "119386                         31                        2   \n",
       "119387                         31                        2   \n",
       "119388                         31                        2   \n",
       "119389                         29                        2   \n",
       "\n",
       "        stays_in_week_nights  adults  ...  deposit_type  agent company  \\\n",
       "0                          0       2  ...    No Deposit    NaN     NaN   \n",
       "1                          0       2  ...    No Deposit    NaN     NaN   \n",
       "2                          1       1  ...    No Deposit    NaN     NaN   \n",
       "3                          1       1  ...    No Deposit  304.0     NaN   \n",
       "4                          2       2  ...    No Deposit  240.0     NaN   \n",
       "...                      ...     ...  ...           ...    ...     ...   \n",
       "119385                     5       2  ...    No Deposit  394.0     NaN   \n",
       "119386                     5       3  ...    No Deposit    9.0     NaN   \n",
       "119387                     5       2  ...    No Deposit    9.0     NaN   \n",
       "119388                     5       2  ...    No Deposit   89.0     NaN   \n",
       "119389                     7       2  ...    No Deposit    9.0     NaN   \n",
       "\n",
       "       days_in_waiting_list customer_type     adr  \\\n",
       "0                         0     Transient    0.00   \n",
       "1                         0     Transient    0.00   \n",
       "2                         0     Transient   75.00   \n",
       "3                         0     Transient   75.00   \n",
       "4                         0     Transient   98.00   \n",
       "...                     ...           ...     ...   \n",
       "119385                    0     Transient   96.14   \n",
       "119386                    0     Transient  225.43   \n",
       "119387                    0     Transient  157.71   \n",
       "119388                    0     Transient  104.40   \n",
       "119389                    0     Transient  151.20   \n",
       "\n",
       "        required_car_parking_spaces  total_of_special_requests  \\\n",
       "0                                 0                          0   \n",
       "1                                 0                          0   \n",
       "2                                 0                          0   \n",
       "3                                 0                          0   \n",
       "4                                 0                          1   \n",
       "...                             ...                        ...   \n",
       "119385                            0                          0   \n",
       "119386                            0                          2   \n",
       "119387                            0                          4   \n",
       "119388                            0                          0   \n",
       "119389                            0                          2   \n",
       "\n",
       "        reservation_status reservation_status_date  \n",
       "0                Check-Out                1/7/2015  \n",
       "1                Check-Out                1/7/2015  \n",
       "2                Check-Out                2/7/2015  \n",
       "3                Check-Out                2/7/2015  \n",
       "4                Check-Out                3/7/2015  \n",
       "...                    ...                     ...  \n",
       "119385           Check-Out                6/9/2017  \n",
       "119386           Check-Out                7/9/2017  \n",
       "119387           Check-Out                7/9/2017  \n",
       "119388           Check-Out                7/9/2017  \n",
       "119389           Check-Out                7/9/2017  \n",
       "\n",
       "[119390 rows x 32 columns]"
      ]
     },
     "execution_count": 3,
     "metadata": {},
     "output_type": "execute_result"
    }
   ],
   "source": [
    "df"
   ]
  },
  {
   "cell_type": "code",
   "execution_count": 10,
   "id": "a7f534e6",
   "metadata": {},
   "outputs": [
    {
     "data": {
      "text/plain": [
       "['hotel',\n",
       " 'is_canceled',\n",
       " 'lead_time',\n",
       " 'arrival_date_year',\n",
       " 'arrival_date_month',\n",
       " 'arrival_date_week_number',\n",
       " 'arrival_date_day_of_month',\n",
       " 'stays_in_weekend_nights',\n",
       " 'stays_in_week_nights',\n",
       " 'adults',\n",
       " 'children',\n",
       " 'babies',\n",
       " 'meal',\n",
       " 'country',\n",
       " 'market_segment',\n",
       " 'distribution_channel',\n",
       " 'is_repeated_guest',\n",
       " 'previous_cancellations',\n",
       " 'previous_bookings_not_canceled',\n",
       " 'reserved_room_type',\n",
       " 'assigned_room_type',\n",
       " 'booking_changes',\n",
       " 'deposit_type',\n",
       " 'agent',\n",
       " 'company',\n",
       " 'days_in_waiting_list',\n",
       " 'customer_type',\n",
       " 'adr',\n",
       " 'required_car_parking_spaces',\n",
       " 'total_of_special_requests',\n",
       " 'reservation_status',\n",
       " 'reservation_status_date']"
      ]
     },
     "execution_count": 10,
     "metadata": {},
     "output_type": "execute_result"
    }
   ],
   "source": [
    "df.columns.tolist()"
   ]
  },
  {
   "cell_type": "code",
   "execution_count": 5,
   "id": "7f21bc57",
   "metadata": {},
   "outputs": [
    {
     "data": {
      "text/plain": [
       "market_segment\n",
       "Online TA        56477\n",
       "Offline TA/TO    24219\n",
       "Groups           19811\n",
       "Direct           12606\n",
       "Corporate         5295\n",
       "Complementary      743\n",
       "Aviation           237\n",
       "Undefined            2\n",
       "Name: count, dtype: int64"
      ]
     },
     "execution_count": 5,
     "metadata": {},
     "output_type": "execute_result"
    }
   ],
   "source": [
    "df['market_segment'].value_counts()\n"
   ]
  },
  {
   "cell_type": "code",
   "execution_count": 11,
   "id": "c41d9a2f",
   "metadata": {},
   "outputs": [
    {
     "data": {
      "text/html": [
       "<div>\n",
       "<style scoped>\n",
       "    .dataframe tbody tr th:only-of-type {\n",
       "        vertical-align: middle;\n",
       "    }\n",
       "\n",
       "    .dataframe tbody tr th {\n",
       "        vertical-align: top;\n",
       "    }\n",
       "\n",
       "    .dataframe thead th {\n",
       "        text-align: right;\n",
       "    }\n",
       "</style>\n",
       "<table border=\"1\" class=\"dataframe\">\n",
       "  <thead>\n",
       "    <tr style=\"text-align: right;\">\n",
       "      <th></th>\n",
       "      <th>hotel</th>\n",
       "      <th>is_canceled</th>\n",
       "      <th>lead_time</th>\n",
       "      <th>arrival_date_year</th>\n",
       "      <th>arrival_date_month</th>\n",
       "      <th>arrival_date_week_number</th>\n",
       "      <th>arrival_date_day_of_month</th>\n",
       "      <th>stays_in_weekend_nights</th>\n",
       "      <th>stays_in_week_nights</th>\n",
       "      <th>adults</th>\n",
       "      <th>...</th>\n",
       "      <th>deposit_type</th>\n",
       "      <th>agent</th>\n",
       "      <th>company</th>\n",
       "      <th>days_in_waiting_list</th>\n",
       "      <th>customer_type</th>\n",
       "      <th>adr</th>\n",
       "      <th>required_car_parking_spaces</th>\n",
       "      <th>total_of_special_requests</th>\n",
       "      <th>reservation_status</th>\n",
       "      <th>reservation_status_date</th>\n",
       "    </tr>\n",
       "  </thead>\n",
       "  <tbody>\n",
       "    <tr>\n",
       "      <th>0</th>\n",
       "      <td>Resort Hotel</td>\n",
       "      <td>0</td>\n",
       "      <td>342</td>\n",
       "      <td>2015</td>\n",
       "      <td>July</td>\n",
       "      <td>27</td>\n",
       "      <td>1</td>\n",
       "      <td>0</td>\n",
       "      <td>0</td>\n",
       "      <td>2</td>\n",
       "      <td>...</td>\n",
       "      <td>No Deposit</td>\n",
       "      <td>NaN</td>\n",
       "      <td>NaN</td>\n",
       "      <td>0</td>\n",
       "      <td>Transient</td>\n",
       "      <td>0.0</td>\n",
       "      <td>0</td>\n",
       "      <td>0</td>\n",
       "      <td>Check-Out</td>\n",
       "      <td>1/7/2015</td>\n",
       "    </tr>\n",
       "    <tr>\n",
       "      <th>1</th>\n",
       "      <td>Resort Hotel</td>\n",
       "      <td>0</td>\n",
       "      <td>737</td>\n",
       "      <td>2015</td>\n",
       "      <td>July</td>\n",
       "      <td>27</td>\n",
       "      <td>1</td>\n",
       "      <td>0</td>\n",
       "      <td>0</td>\n",
       "      <td>2</td>\n",
       "      <td>...</td>\n",
       "      <td>No Deposit</td>\n",
       "      <td>NaN</td>\n",
       "      <td>NaN</td>\n",
       "      <td>0</td>\n",
       "      <td>Transient</td>\n",
       "      <td>0.0</td>\n",
       "      <td>0</td>\n",
       "      <td>0</td>\n",
       "      <td>Check-Out</td>\n",
       "      <td>1/7/2015</td>\n",
       "    </tr>\n",
       "    <tr>\n",
       "      <th>2</th>\n",
       "      <td>Resort Hotel</td>\n",
       "      <td>0</td>\n",
       "      <td>7</td>\n",
       "      <td>2015</td>\n",
       "      <td>July</td>\n",
       "      <td>27</td>\n",
       "      <td>1</td>\n",
       "      <td>0</td>\n",
       "      <td>1</td>\n",
       "      <td>1</td>\n",
       "      <td>...</td>\n",
       "      <td>No Deposit</td>\n",
       "      <td>NaN</td>\n",
       "      <td>NaN</td>\n",
       "      <td>0</td>\n",
       "      <td>Transient</td>\n",
       "      <td>75.0</td>\n",
       "      <td>0</td>\n",
       "      <td>0</td>\n",
       "      <td>Check-Out</td>\n",
       "      <td>2/7/2015</td>\n",
       "    </tr>\n",
       "    <tr>\n",
       "      <th>3</th>\n",
       "      <td>Resort Hotel</td>\n",
       "      <td>0</td>\n",
       "      <td>13</td>\n",
       "      <td>2015</td>\n",
       "      <td>July</td>\n",
       "      <td>27</td>\n",
       "      <td>1</td>\n",
       "      <td>0</td>\n",
       "      <td>1</td>\n",
       "      <td>1</td>\n",
       "      <td>...</td>\n",
       "      <td>No Deposit</td>\n",
       "      <td>304.0</td>\n",
       "      <td>NaN</td>\n",
       "      <td>0</td>\n",
       "      <td>Transient</td>\n",
       "      <td>75.0</td>\n",
       "      <td>0</td>\n",
       "      <td>0</td>\n",
       "      <td>Check-Out</td>\n",
       "      <td>2/7/2015</td>\n",
       "    </tr>\n",
       "    <tr>\n",
       "      <th>4</th>\n",
       "      <td>Resort Hotel</td>\n",
       "      <td>0</td>\n",
       "      <td>14</td>\n",
       "      <td>2015</td>\n",
       "      <td>July</td>\n",
       "      <td>27</td>\n",
       "      <td>1</td>\n",
       "      <td>0</td>\n",
       "      <td>2</td>\n",
       "      <td>2</td>\n",
       "      <td>...</td>\n",
       "      <td>No Deposit</td>\n",
       "      <td>240.0</td>\n",
       "      <td>NaN</td>\n",
       "      <td>0</td>\n",
       "      <td>Transient</td>\n",
       "      <td>98.0</td>\n",
       "      <td>0</td>\n",
       "      <td>1</td>\n",
       "      <td>Check-Out</td>\n",
       "      <td>3/7/2015</td>\n",
       "    </tr>\n",
       "  </tbody>\n",
       "</table>\n",
       "<p>5 rows × 32 columns</p>\n",
       "</div>"
      ],
      "text/plain": [
       "          hotel  is_canceled  lead_time  arrival_date_year arrival_date_month  \\\n",
       "0  Resort Hotel            0        342               2015               July   \n",
       "1  Resort Hotel            0        737               2015               July   \n",
       "2  Resort Hotel            0          7               2015               July   \n",
       "3  Resort Hotel            0         13               2015               July   \n",
       "4  Resort Hotel            0         14               2015               July   \n",
       "\n",
       "   arrival_date_week_number  arrival_date_day_of_month  \\\n",
       "0                        27                          1   \n",
       "1                        27                          1   \n",
       "2                        27                          1   \n",
       "3                        27                          1   \n",
       "4                        27                          1   \n",
       "\n",
       "   stays_in_weekend_nights  stays_in_week_nights  adults  ...  deposit_type  \\\n",
       "0                        0                     0       2  ...    No Deposit   \n",
       "1                        0                     0       2  ...    No Deposit   \n",
       "2                        0                     1       1  ...    No Deposit   \n",
       "3                        0                     1       1  ...    No Deposit   \n",
       "4                        0                     2       2  ...    No Deposit   \n",
       "\n",
       "   agent company days_in_waiting_list customer_type   adr  \\\n",
       "0    NaN     NaN                    0     Transient   0.0   \n",
       "1    NaN     NaN                    0     Transient   0.0   \n",
       "2    NaN     NaN                    0     Transient  75.0   \n",
       "3  304.0     NaN                    0     Transient  75.0   \n",
       "4  240.0     NaN                    0     Transient  98.0   \n",
       "\n",
       "   required_car_parking_spaces  total_of_special_requests  reservation_status  \\\n",
       "0                            0                          0           Check-Out   \n",
       "1                            0                          0           Check-Out   \n",
       "2                            0                          0           Check-Out   \n",
       "3                            0                          0           Check-Out   \n",
       "4                            0                          1           Check-Out   \n",
       "\n",
       "  reservation_status_date  \n",
       "0                1/7/2015  \n",
       "1                1/7/2015  \n",
       "2                2/7/2015  \n",
       "3                2/7/2015  \n",
       "4                3/7/2015  \n",
       "\n",
       "[5 rows x 32 columns]"
      ]
     },
     "execution_count": 11,
     "metadata": {},
     "output_type": "execute_result"
    }
   ],
   "source": [
    "df.head()"
   ]
  },
  {
   "cell_type": "code",
   "execution_count": 6,
   "id": "5960eb73",
   "metadata": {},
   "outputs": [
    {
     "name": "stdout",
     "output_type": "stream",
     "text": [
      "<class 'pandas.core.frame.DataFrame'>\n",
      "RangeIndex: 119390 entries, 0 to 119389\n",
      "Data columns (total 32 columns):\n",
      " #   Column                          Non-Null Count   Dtype  \n",
      "---  ------                          --------------   -----  \n",
      " 0   hotel                           119390 non-null  object \n",
      " 1   is_canceled                     119390 non-null  int64  \n",
      " 2   lead_time                       119390 non-null  int64  \n",
      " 3   arrival_date_year               119390 non-null  int64  \n",
      " 4   arrival_date_month              119390 non-null  object \n",
      " 5   arrival_date_week_number        119390 non-null  int64  \n",
      " 6   arrival_date_day_of_month       119390 non-null  int64  \n",
      " 7   stays_in_weekend_nights         119390 non-null  int64  \n",
      " 8   stays_in_week_nights            119390 non-null  int64  \n",
      " 9   adults                          119390 non-null  int64  \n",
      " 10  children                        119386 non-null  float64\n",
      " 11  babies                          119390 non-null  int64  \n",
      " 12  meal                            119390 non-null  object \n",
      " 13  country                         118902 non-null  object \n",
      " 14  market_segment                  119390 non-null  object \n",
      " 15  distribution_channel            119390 non-null  object \n",
      " 16  is_repeated_guest               119390 non-null  int64  \n",
      " 17  previous_cancellations          119390 non-null  int64  \n",
      " 18  previous_bookings_not_canceled  119390 non-null  int64  \n",
      " 19  reserved_room_type              119390 non-null  object \n",
      " 20  assigned_room_type              119390 non-null  object \n",
      " 21  booking_changes                 119390 non-null  int64  \n",
      " 22  deposit_type                    119390 non-null  object \n",
      " 23  agent                           103050 non-null  float64\n",
      " 24  company                         6797 non-null    float64\n",
      " 25  days_in_waiting_list            119390 non-null  int64  \n",
      " 26  customer_type                   119390 non-null  object \n",
      " 27  adr                             119390 non-null  float64\n",
      " 28  required_car_parking_spaces     119390 non-null  int64  \n",
      " 29  total_of_special_requests       119390 non-null  int64  \n",
      " 30  reservation_status              119390 non-null  object \n",
      " 31  reservation_status_date         119390 non-null  object \n",
      "dtypes: float64(4), int64(16), object(12)\n",
      "memory usage: 29.1+ MB\n"
     ]
    }
   ],
   "source": [
    "df.info()"
   ]
  },
  {
   "cell_type": "code",
   "execution_count": 8,
   "id": "acfef3f6",
   "metadata": {},
   "outputs": [
    {
     "data": {
      "text/plain": [
       "company                           112593\n",
       "agent                              16340\n",
       "country                              488\n",
       "children                               4\n",
       "arrival_date_month                     0\n",
       "arrival_date_week_number               0\n",
       "hotel                                  0\n",
       "is_canceled                            0\n",
       "stays_in_weekend_nights                0\n",
       "arrival_date_day_of_month              0\n",
       "adults                                 0\n",
       "stays_in_week_nights                   0\n",
       "babies                                 0\n",
       "meal                                   0\n",
       "lead_time                              0\n",
       "arrival_date_year                      0\n",
       "distribution_channel                   0\n",
       "market_segment                         0\n",
       "previous_bookings_not_canceled         0\n",
       "is_repeated_guest                      0\n",
       "reserved_room_type                     0\n",
       "assigned_room_type                     0\n",
       "booking_changes                        0\n",
       "previous_cancellations                 0\n",
       "deposit_type                           0\n",
       "days_in_waiting_list                   0\n",
       "customer_type                          0\n",
       "adr                                    0\n",
       "required_car_parking_spaces            0\n",
       "total_of_special_requests              0\n",
       "reservation_status                     0\n",
       "reservation_status_date                0\n",
       "dtype: int64"
      ]
     },
     "execution_count": 8,
     "metadata": {},
     "output_type": "execute_result"
    }
   ],
   "source": [
    "df.isnull().sum().sort_values(ascending=False)"
   ]
  },
  {
   "cell_type": "code",
   "execution_count": null,
   "id": "6c650e91",
   "metadata": {},
   "outputs": [],
   "source": []
  },
  {
   "cell_type": "code",
   "execution_count": 24,
   "id": "d5585218",
   "metadata": {},
   "outputs": [
    {
     "name": "stdout",
     "output_type": "stream",
     "text": [
      "44224\n"
     ]
    }
   ],
   "source": [
    "iptal_edilen= (df[\"is_canceled\"] == 1).sum() \n",
    "print(iptal_edilen)"
   ]
  },
  {
   "cell_type": "code",
   "execution_count": 26,
   "id": "76efc0bc",
   "metadata": {},
   "outputs": [],
   "source": [
    "iptal_edilen= df[df[\"is_canceled\"] == 1]"
   ]
  },
  {
   "cell_type": "code",
   "execution_count": 17,
   "id": "7707c757",
   "metadata": {},
   "outputs": [
    {
     "name": "stdout",
     "output_type": "stream",
     "text": [
      "% 37.041628277075134\n"
     ]
    }
   ],
   "source": [
    "iptal_oran = (df[\"is_canceled\"]==1).mean()\n",
    "print( \"%\", iptal_oran * 100)"
   ]
  },
  {
   "cell_type": "code",
   "execution_count": 28,
   "id": "59cde42a",
   "metadata": {},
   "outputs": [
    {
     "name": "stdout",
     "output_type": "stream",
     "text": [
      "hotel\n",
      "City Hotel      33102\n",
      "Resort Hotel    11122\n",
      "Name: count, dtype: int64\n"
     ]
    }
   ],
   "source": [
    "iptal_sayısı = iptal_edilen[\"hotel\"].value_counts()\n",
    "print(iptal_sayısı)"
   ]
  },
  {
   "cell_type": "code",
   "execution_count": 92,
   "id": "864720f5",
   "metadata": {},
   "outputs": [
    {
     "name": "stdout",
     "output_type": "stream",
     "text": [
      "reservation_status_date\n",
      "1/1/2015     763\n",
      "1/1/2016      10\n",
      "1/1/2017      22\n",
      "1/10/2015     21\n",
      "1/10/2016     28\n",
      "            ... \n",
      "9/8/2015       3\n",
      "9/8/2016      38\n",
      "9/8/2017      17\n",
      "9/9/2015     183\n",
      "9/9/2016      39\n",
      "Name: count, Length: 902, dtype: int64\n"
     ]
    }
   ],
   "source": [
    "iptal_tarih_sayıları = iptal_edilen[\"reservation_status_date\"].value_counts().sort_index()\n",
    "print(iptal_tarih_sayıları)\n"
   ]
  },
  {
   "cell_type": "code",
   "execution_count": null,
   "id": "7a8b77c1",
   "metadata": {},
   "outputs": [],
   "source": [
    "\n"
   ]
  },
  {
   "cell_type": "code",
   "execution_count": 32,
   "id": "2a92fa7a",
   "metadata": {},
   "outputs": [],
   "source": [
    "import calendar"
   ]
  },
  {
   "cell_type": "code",
   "execution_count": null,
   "id": "8e035589",
   "metadata": {},
   "outputs": [
    {
     "name": "stdout",
     "output_type": "stream",
     "text": [
      "ilk_cegrek de iptal edilen sayısı : 7652\n",
      "son_cegrek de iptal edilen sayısı: 8739\n"
     ]
    }
   ],
   "source": [
    "ay_sayi = {month: index for index, month in enumerate(calendar.month_name) if month}\n",
    "df[\"arrival_month_num\"] = df[\"arrival_date_month\"].map(ay_sayi)\n",
    "\n",
    "iptal_edilen = df[df[\"is_canceled\"]== 1]\n",
    "ilk_cegrek = iptal_edilen[iptal_edilen[\"arrival_month_num\"].isin([1,2,3])]\n",
    "son_cegrek = iptal_edilen[iptal_edilen[\"arrival_month_num\"].isin([10,11,12])]\n",
    "\n",
    "print(f\"ilk_cegrek de iptal edilen sayısı : {len(ilk_cegrek)}\")\n",
    "print(f\"son_cegrek de iptal edilen sayısı: {len(son_cegrek)}\")\n",
    "    # hangi yıl ?                                               "
   ]
  },
  {
   "cell_type": "code",
   "execution_count": 18,
   "id": "78513f50",
   "metadata": {},
   "outputs": [],
   "source": [
    "iptal_edilen = df[df[\"is_canceled\"] == 1].copy()"
   ]
  },
  {
   "cell_type": "code",
   "execution_count": 22,
   "id": "5b819653",
   "metadata": {},
   "outputs": [],
   "source": [
    "\n",
    "iptal_edilen[\"arrival_date\"] = pd.to_datetime(\n",
    "    iptal_edilen[\"arrival_date_year\"].astype(str) + \"-\" +\n",
    "    iptal_edilen[\"arrival_date_month\"] + \"-\" +\n",
    "    iptal_edilen[\"arrival_date_day_of_month\"].astype(str),\n",
    "    format=\"%Y-%B-%d\"\n",
    ")"
   ]
  },
  {
   "cell_type": "code",
   "execution_count": 20,
   "id": "cd412ef0",
   "metadata": {},
   "outputs": [
    {
     "ename": "KeyError",
     "evalue": "'arrival_date'",
     "output_type": "error",
     "traceback": [
      "\u001b[31m---------------------------------------------------------------------------\u001b[39m",
      "\u001b[31mKeyError\u001b[39m                                  Traceback (most recent call last)",
      "\u001b[36mFile \u001b[39m\u001b[32mc:\\Program Files\\Python313\\Lib\\site-packages\\pandas\\core\\indexes\\base.py:3805\u001b[39m, in \u001b[36mIndex.get_loc\u001b[39m\u001b[34m(self, key)\u001b[39m\n\u001b[32m   3804\u001b[39m \u001b[38;5;28;01mtry\u001b[39;00m:\n\u001b[32m-> \u001b[39m\u001b[32m3805\u001b[39m     \u001b[38;5;28;01mreturn\u001b[39;00m \u001b[38;5;28;43mself\u001b[39;49m\u001b[43m.\u001b[49m\u001b[43m_engine\u001b[49m\u001b[43m.\u001b[49m\u001b[43mget_loc\u001b[49m\u001b[43m(\u001b[49m\u001b[43mcasted_key\u001b[49m\u001b[43m)\u001b[49m\n\u001b[32m   3806\u001b[39m \u001b[38;5;28;01mexcept\u001b[39;00m \u001b[38;5;167;01mKeyError\u001b[39;00m \u001b[38;5;28;01mas\u001b[39;00m err:\n",
      "\u001b[36mFile \u001b[39m\u001b[32mindex.pyx:167\u001b[39m, in \u001b[36mpandas._libs.index.IndexEngine.get_loc\u001b[39m\u001b[34m()\u001b[39m\n",
      "\u001b[36mFile \u001b[39m\u001b[32mindex.pyx:196\u001b[39m, in \u001b[36mpandas._libs.index.IndexEngine.get_loc\u001b[39m\u001b[34m()\u001b[39m\n",
      "\u001b[36mFile \u001b[39m\u001b[32mpandas\\\\_libs\\\\hashtable_class_helper.pxi:7081\u001b[39m, in \u001b[36mpandas._libs.hashtable.PyObjectHashTable.get_item\u001b[39m\u001b[34m()\u001b[39m\n",
      "\u001b[36mFile \u001b[39m\u001b[32mpandas\\\\_libs\\\\hashtable_class_helper.pxi:7089\u001b[39m, in \u001b[36mpandas._libs.hashtable.PyObjectHashTable.get_item\u001b[39m\u001b[34m()\u001b[39m\n",
      "\u001b[31mKeyError\u001b[39m: 'arrival_date'",
      "\nThe above exception was the direct cause of the following exception:\n",
      "\u001b[31mKeyError\u001b[39m                                  Traceback (most recent call last)",
      "\u001b[36mCell\u001b[39m\u001b[36m \u001b[39m\u001b[32mIn[20]\u001b[39m\u001b[32m, line 8\u001b[39m\n\u001b[32m      1\u001b[39m iptal_edilen[\u001b[33m\"\u001b[39m\u001b[33mreservation_status_date\u001b[39m\u001b[33m\"\u001b[39m] = pd.to_datetime(\n\u001b[32m      2\u001b[39m     iptal_edilen[\u001b[33m\"\u001b[39m\u001b[33mreservation_status_date\u001b[39m\u001b[33m\"\u001b[39m], \n\u001b[32m      3\u001b[39m     dayfirst=\u001b[38;5;28;01mTrue\u001b[39;00m,  \u001b[38;5;66;03m# Günü önce kabul et\u001b[39;00m\n\u001b[32m      4\u001b[39m     errors=\u001b[33m'\u001b[39m\u001b[33mcoerce\u001b[39m\u001b[33m'\u001b[39m \u001b[38;5;66;03m# Hata varsa NaT yap\u001b[39;00m\n\u001b[32m      5\u001b[39m )\n\u001b[32m      7\u001b[39m iptal_edilen[\u001b[33m\"\u001b[39m\u001b[33mreservation_status_date\u001b[39m\u001b[33m\"\u001b[39m] = pd.to_datetime(iptal_edilen[\u001b[33m\"\u001b[39m\u001b[33mreservation_status_date\u001b[39m\u001b[33m\"\u001b[39m])\n\u001b[32m----> \u001b[39m\u001b[32m8\u001b[39m iptal_edilen[\u001b[33m\"\u001b[39m\u001b[33mgun_kala_iptal\u001b[39m\u001b[33m\"\u001b[39m] = (\u001b[43miptal_edilen\u001b[49m\u001b[43m[\u001b[49m\u001b[33;43m\"\u001b[39;49m\u001b[33;43marrival_date\u001b[39;49m\u001b[33;43m\"\u001b[39;49m\u001b[43m]\u001b[49m - iptal_edilen[\u001b[33m\"\u001b[39m\u001b[33mreservation_status_date\u001b[39m\u001b[33m\"\u001b[39m]).dt.days\n\u001b[32m      9\u001b[39m iptal_edilen[\u001b[33m\"\u001b[39m\u001b[33mgun_kala_iptal\u001b[39m\u001b[33m\"\u001b[39m] = (iptal_edilen[\u001b[33m\"\u001b[39m\u001b[33marrival_date\u001b[39m\u001b[33m\"\u001b[39m] - iptal_edilen[\u001b[33m\"\u001b[39m\u001b[33mreservation_status_date\u001b[39m\u001b[33m\"\u001b[39m]).dt.days\n\u001b[32m     10\u001b[39m iptal_edilen[\u001b[33m\"\u001b[39m\u001b[33mgun_kala_iptal\u001b[39m\u001b[33m\"\u001b[39m] = (iptal_edilen[\u001b[33m\"\u001b[39m\u001b[33marrival_date\u001b[39m\u001b[33m\"\u001b[39m] - iptal_edilen[\u001b[33m\"\u001b[39m\u001b[33mreservation_status_date\u001b[39m\u001b[33m\"\u001b[39m]).dt.days\n",
      "\u001b[36mFile \u001b[39m\u001b[32mc:\\Program Files\\Python313\\Lib\\site-packages\\pandas\\core\\frame.py:4102\u001b[39m, in \u001b[36mDataFrame.__getitem__\u001b[39m\u001b[34m(self, key)\u001b[39m\n\u001b[32m   4100\u001b[39m \u001b[38;5;28;01mif\u001b[39;00m \u001b[38;5;28mself\u001b[39m.columns.nlevels > \u001b[32m1\u001b[39m:\n\u001b[32m   4101\u001b[39m     \u001b[38;5;28;01mreturn\u001b[39;00m \u001b[38;5;28mself\u001b[39m._getitem_multilevel(key)\n\u001b[32m-> \u001b[39m\u001b[32m4102\u001b[39m indexer = \u001b[38;5;28;43mself\u001b[39;49m\u001b[43m.\u001b[49m\u001b[43mcolumns\u001b[49m\u001b[43m.\u001b[49m\u001b[43mget_loc\u001b[49m\u001b[43m(\u001b[49m\u001b[43mkey\u001b[49m\u001b[43m)\u001b[49m\n\u001b[32m   4103\u001b[39m \u001b[38;5;28;01mif\u001b[39;00m is_integer(indexer):\n\u001b[32m   4104\u001b[39m     indexer = [indexer]\n",
      "\u001b[36mFile \u001b[39m\u001b[32mc:\\Program Files\\Python313\\Lib\\site-packages\\pandas\\core\\indexes\\base.py:3812\u001b[39m, in \u001b[36mIndex.get_loc\u001b[39m\u001b[34m(self, key)\u001b[39m\n\u001b[32m   3807\u001b[39m     \u001b[38;5;28;01mif\u001b[39;00m \u001b[38;5;28misinstance\u001b[39m(casted_key, \u001b[38;5;28mslice\u001b[39m) \u001b[38;5;129;01mor\u001b[39;00m (\n\u001b[32m   3808\u001b[39m         \u001b[38;5;28misinstance\u001b[39m(casted_key, abc.Iterable)\n\u001b[32m   3809\u001b[39m         \u001b[38;5;129;01mand\u001b[39;00m \u001b[38;5;28many\u001b[39m(\u001b[38;5;28misinstance\u001b[39m(x, \u001b[38;5;28mslice\u001b[39m) \u001b[38;5;28;01mfor\u001b[39;00m x \u001b[38;5;129;01min\u001b[39;00m casted_key)\n\u001b[32m   3810\u001b[39m     ):\n\u001b[32m   3811\u001b[39m         \u001b[38;5;28;01mraise\u001b[39;00m InvalidIndexError(key)\n\u001b[32m-> \u001b[39m\u001b[32m3812\u001b[39m     \u001b[38;5;28;01mraise\u001b[39;00m \u001b[38;5;167;01mKeyError\u001b[39;00m(key) \u001b[38;5;28;01mfrom\u001b[39;00m\u001b[38;5;250m \u001b[39m\u001b[34;01merr\u001b[39;00m\n\u001b[32m   3813\u001b[39m \u001b[38;5;28;01mexcept\u001b[39;00m \u001b[38;5;167;01mTypeError\u001b[39;00m:\n\u001b[32m   3814\u001b[39m     \u001b[38;5;66;03m# If we have a listlike key, _check_indexing_error will raise\u001b[39;00m\n\u001b[32m   3815\u001b[39m     \u001b[38;5;66;03m#  InvalidIndexError. Otherwise we fall through and re-raise\u001b[39;00m\n\u001b[32m   3816\u001b[39m     \u001b[38;5;66;03m#  the TypeError.\u001b[39;00m\n\u001b[32m   3817\u001b[39m     \u001b[38;5;28mself\u001b[39m._check_indexing_error(key)\n",
      "\u001b[31mKeyError\u001b[39m: 'arrival_date'"
     ]
    }
   ],
   "source": [
    "iptal_edilen[\"reservation_status_date\"] = pd.to_datetime(\n",
    "    iptal_edilen[\"reservation_status_date\"], \n",
    "    dayfirst=True,  # Günü önce kabul et\n",
    "    errors='coerce' # Hata varsa NaT yap\n",
    ")\n",
    "\n",
    "iptal_edilen[\"reservation_status_date\"] = pd.to_datetime(iptal_edilen[\"reservation_status_date\"])\n",
    "iptal_edilen[\"gun_kala_iptal\"] = (iptal_edilen[\"arrival_date\"] - iptal_edilen[\"reservation_status_date\"]).dt.days\n",
    "iptal_edilen[\"gun_kala_iptal\"] = (iptal_edilen[\"arrival_date\"] - iptal_edilen[\"reservation_status_date\"]).dt.days\n",
    "iptal_edilen[\"gun_kala_iptal\"] = (iptal_edilen[\"arrival_date\"] - iptal_edilen[\"reservation_status_date\"]).dt.days\n",
    "son_dakika_iptaller = iptal_edilen[iptal_edilen[\"gun_kala_iptal\"] <= 2]\n",
    "print(f\"Son dakika iptal sayısı: {len(son_dakika_iptaller)}\")\n"
   ]
  },
  {
   "cell_type": "code",
   "execution_count": 21,
   "id": "28d3d79c",
   "metadata": {},
   "outputs": [
    {
     "ename": "KeyError",
     "evalue": "'gun_kala_iptal'",
     "output_type": "error",
     "traceback": [
      "\u001b[31m---------------------------------------------------------------------------\u001b[39m",
      "\u001b[31mKeyError\u001b[39m                                  Traceback (most recent call last)",
      "\u001b[36mFile \u001b[39m\u001b[32mc:\\Program Files\\Python313\\Lib\\site-packages\\pandas\\core\\indexes\\base.py:3805\u001b[39m, in \u001b[36mIndex.get_loc\u001b[39m\u001b[34m(self, key)\u001b[39m\n\u001b[32m   3804\u001b[39m \u001b[38;5;28;01mtry\u001b[39;00m:\n\u001b[32m-> \u001b[39m\u001b[32m3805\u001b[39m     \u001b[38;5;28;01mreturn\u001b[39;00m \u001b[38;5;28;43mself\u001b[39;49m\u001b[43m.\u001b[49m\u001b[43m_engine\u001b[49m\u001b[43m.\u001b[49m\u001b[43mget_loc\u001b[49m\u001b[43m(\u001b[49m\u001b[43mcasted_key\u001b[49m\u001b[43m)\u001b[49m\n\u001b[32m   3806\u001b[39m \u001b[38;5;28;01mexcept\u001b[39;00m \u001b[38;5;167;01mKeyError\u001b[39;00m \u001b[38;5;28;01mas\u001b[39;00m err:\n",
      "\u001b[36mFile \u001b[39m\u001b[32mindex.pyx:167\u001b[39m, in \u001b[36mpandas._libs.index.IndexEngine.get_loc\u001b[39m\u001b[34m()\u001b[39m\n",
      "\u001b[36mFile \u001b[39m\u001b[32mindex.pyx:196\u001b[39m, in \u001b[36mpandas._libs.index.IndexEngine.get_loc\u001b[39m\u001b[34m()\u001b[39m\n",
      "\u001b[36mFile \u001b[39m\u001b[32mpandas\\\\_libs\\\\hashtable_class_helper.pxi:7081\u001b[39m, in \u001b[36mpandas._libs.hashtable.PyObjectHashTable.get_item\u001b[39m\u001b[34m()\u001b[39m\n",
      "\u001b[36mFile \u001b[39m\u001b[32mpandas\\\\_libs\\\\hashtable_class_helper.pxi:7089\u001b[39m, in \u001b[36mpandas._libs.hashtable.PyObjectHashTable.get_item\u001b[39m\u001b[34m()\u001b[39m\n",
      "\u001b[31mKeyError\u001b[39m: 'gun_kala_iptal'",
      "\nThe above exception was the direct cause of the following exception:\n",
      "\u001b[31mKeyError\u001b[39m                                  Traceback (most recent call last)",
      "\u001b[36mCell\u001b[39m\u001b[36m \u001b[39m\u001b[32mIn[21]\u001b[39m\u001b[32m, line 1\u001b[39m\n\u001b[32m----> \u001b[39m\u001b[32m1\u001b[39m \u001b[38;5;28mprint\u001b[39m(\u001b[33m\"\u001b[39m\u001b[33mOrtalama iptal zamanı (gün kala):\u001b[39m\u001b[33m\"\u001b[39m, \u001b[43miptal_edilen\u001b[49m\u001b[43m[\u001b[49m\u001b[33;43m\"\u001b[39;49m\u001b[33;43mgun_kala_iptal\u001b[39;49m\u001b[33;43m\"\u001b[39;49m\u001b[43m]\u001b[49m.mean())\n",
      "\u001b[36mFile \u001b[39m\u001b[32mc:\\Program Files\\Python313\\Lib\\site-packages\\pandas\\core\\frame.py:4102\u001b[39m, in \u001b[36mDataFrame.__getitem__\u001b[39m\u001b[34m(self, key)\u001b[39m\n\u001b[32m   4100\u001b[39m \u001b[38;5;28;01mif\u001b[39;00m \u001b[38;5;28mself\u001b[39m.columns.nlevels > \u001b[32m1\u001b[39m:\n\u001b[32m   4101\u001b[39m     \u001b[38;5;28;01mreturn\u001b[39;00m \u001b[38;5;28mself\u001b[39m._getitem_multilevel(key)\n\u001b[32m-> \u001b[39m\u001b[32m4102\u001b[39m indexer = \u001b[38;5;28;43mself\u001b[39;49m\u001b[43m.\u001b[49m\u001b[43mcolumns\u001b[49m\u001b[43m.\u001b[49m\u001b[43mget_loc\u001b[49m\u001b[43m(\u001b[49m\u001b[43mkey\u001b[49m\u001b[43m)\u001b[49m\n\u001b[32m   4103\u001b[39m \u001b[38;5;28;01mif\u001b[39;00m is_integer(indexer):\n\u001b[32m   4104\u001b[39m     indexer = [indexer]\n",
      "\u001b[36mFile \u001b[39m\u001b[32mc:\\Program Files\\Python313\\Lib\\site-packages\\pandas\\core\\indexes\\base.py:3812\u001b[39m, in \u001b[36mIndex.get_loc\u001b[39m\u001b[34m(self, key)\u001b[39m\n\u001b[32m   3807\u001b[39m     \u001b[38;5;28;01mif\u001b[39;00m \u001b[38;5;28misinstance\u001b[39m(casted_key, \u001b[38;5;28mslice\u001b[39m) \u001b[38;5;129;01mor\u001b[39;00m (\n\u001b[32m   3808\u001b[39m         \u001b[38;5;28misinstance\u001b[39m(casted_key, abc.Iterable)\n\u001b[32m   3809\u001b[39m         \u001b[38;5;129;01mand\u001b[39;00m \u001b[38;5;28many\u001b[39m(\u001b[38;5;28misinstance\u001b[39m(x, \u001b[38;5;28mslice\u001b[39m) \u001b[38;5;28;01mfor\u001b[39;00m x \u001b[38;5;129;01min\u001b[39;00m casted_key)\n\u001b[32m   3810\u001b[39m     ):\n\u001b[32m   3811\u001b[39m         \u001b[38;5;28;01mraise\u001b[39;00m InvalidIndexError(key)\n\u001b[32m-> \u001b[39m\u001b[32m3812\u001b[39m     \u001b[38;5;28;01mraise\u001b[39;00m \u001b[38;5;167;01mKeyError\u001b[39;00m(key) \u001b[38;5;28;01mfrom\u001b[39;00m\u001b[38;5;250m \u001b[39m\u001b[34;01merr\u001b[39;00m\n\u001b[32m   3813\u001b[39m \u001b[38;5;28;01mexcept\u001b[39;00m \u001b[38;5;167;01mTypeError\u001b[39;00m:\n\u001b[32m   3814\u001b[39m     \u001b[38;5;66;03m# If we have a listlike key, _check_indexing_error will raise\u001b[39;00m\n\u001b[32m   3815\u001b[39m     \u001b[38;5;66;03m#  InvalidIndexError. Otherwise we fall through and re-raise\u001b[39;00m\n\u001b[32m   3816\u001b[39m     \u001b[38;5;66;03m#  the TypeError.\u001b[39;00m\n\u001b[32m   3817\u001b[39m     \u001b[38;5;28mself\u001b[39m._check_indexing_error(key)\n",
      "\u001b[31mKeyError\u001b[39m: 'gun_kala_iptal'"
     ]
    }
   ],
   "source": [
    "print(\"Ortalama iptal zamanı (gün kala):\", iptal_edilen[\"gun_kala_iptal\"].mean())\n"
   ]
  },
  {
   "cell_type": "code",
   "execution_count": 66,
   "id": "2b54fda4",
   "metadata": {},
   "outputs": [],
   "source": [
    "iptal_edilen = df[df[\"is_canceled\"] == 1]\n",
    "iptal_edilmeyen = df[df[\"is_canceled\"] == 0]\n"
   ]
  },
  {
   "cell_type": "code",
   "execution_count": 74,
   "id": "03b73965",
   "metadata": {},
   "outputs": [
    {
     "name": "stdout",
     "output_type": "stream",
     "text": [
      "--- İptal oranları: deposit_type ---\n",
      "deposit_type\n",
      "Non Refund    0.993624\n",
      "No Deposit    0.283770\n",
      "Refundable    0.222222\n",
      "Name: is_canceled, dtype: float64\n",
      "\n",
      "--- İptal oranları: customer_type ---\n",
      "customer_type\n",
      "Transient          0.407463\n",
      "Contract           0.309617\n",
      "Transient-Party    0.254299\n",
      "Group              0.102253\n",
      "Name: is_canceled, dtype: float64\n",
      "\n",
      "--- İptal oranları: market_segment ---\n",
      "market_segment\n",
      "Undefined        1.000000\n",
      "Groups           0.610620\n",
      "Online TA        0.367211\n",
      "Offline TA/TO    0.343160\n",
      "Aviation         0.219409\n",
      "Corporate        0.187347\n",
      "Direct           0.153419\n",
      "Complementary    0.130552\n",
      "Name: is_canceled, dtype: float64\n",
      "\n",
      "--- İptal oranları: distribution_channel ---\n",
      "distribution_channel\n",
      "Undefined    0.800000\n",
      "TA/TO        0.410259\n",
      "Corporate    0.220758\n",
      "GDS          0.191710\n",
      "Direct       0.174599\n",
      "Name: is_canceled, dtype: float64\n",
      "\n",
      "--- İptal oranları: hotel ---\n",
      "hotel\n",
      "City Hotel      0.417270\n",
      "Resort Hotel    0.277634\n",
      "Name: is_canceled, dtype: float64\n",
      "\n",
      "--- İptal oranları: meal ---\n",
      "meal\n",
      "FB           0.598997\n",
      "BB           0.373849\n",
      "SC           0.372394\n",
      "HB           0.344603\n",
      "Undefined    0.244654\n",
      "Name: is_canceled, dtype: float64\n",
      "\n",
      "--- İptal oranları: reserved_room_type ---\n",
      "reserved_room_type\n",
      "P    1.000000\n",
      "H    0.407654\n",
      "A    0.391074\n",
      "G    0.364374\n",
      "L    0.333333\n",
      "C    0.330472\n",
      "B    0.329159\n",
      "D    0.317796\n",
      "F    0.303763\n",
      "E    0.292884\n",
      "Name: is_canceled, dtype: float64\n",
      "\n",
      "--- İptal oranları: assigned_room_type ---\n",
      "assigned_room_type\n",
      "P    1.000000\n",
      "L    1.000000\n",
      "A    0.444925\n",
      "H    0.352528\n",
      "G    0.305523\n",
      "E    0.252114\n",
      "D    0.251244\n",
      "F    0.247134\n",
      "B    0.236708\n",
      "C    0.187789\n",
      "K    0.043011\n",
      "I    0.013774\n",
      "Name: is_canceled, dtype: float64\n",
      "\n"
     ]
    }
   ],
   "source": [
    "for col in [\"deposit_type\", \"customer_type\", \"market_segment\", \"distribution_channel\", \"hotel\", \"meal\", \"reserved_room_type\", \"assigned_room_type\"]:\n",
    "    oranlar = df.groupby(col)[\"is_canceled\"].mean().sort_values(ascending=False)\n",
    "    print(f\"--- İptal oranları: {col} ---\")\n",
    "    print(oranlar)\n",
    "    print()\n"
   ]
  },
  {
   "cell_type": "code",
   "execution_count": 77,
   "id": "102fcff1",
   "metadata": {},
   "outputs": [
    {
     "name": "stdout",
     "output_type": "stream",
     "text": [
      "--- İptal oranları: distribution_channel ---\n",
      "distribution_channel\n",
      "Undefined    0.800000\n",
      "TA/TO        0.410259\n",
      "Corporate    0.220758\n",
      "GDS          0.191710\n",
      "Direct       0.174599\n",
      "Name: is_canceled, dtype: float64\n",
      "\n",
      "--- İptal oranları: hotel ---\n",
      "hotel\n",
      "City Hotel      0.417270\n",
      "Resort Hotel    0.277634\n",
      "Name: is_canceled, dtype: float64\n",
      "\n",
      "--- İptal oranları: meal ---\n",
      "meal\n",
      "FB           0.598997\n",
      "BB           0.373849\n",
      "SC           0.372394\n",
      "HB           0.344603\n",
      "Undefined    0.244654\n",
      "Name: is_canceled, dtype: float64\n",
      "\n"
     ]
    }
   ],
   "source": [
    "for col in [ \"distribution_channel\", \"hotel\", \"meal\"]:\n",
    "    oranlar = df.groupby(col)[\"is_canceled\"].mean().sort_values(ascending=False)\n",
    "    print(f\"--- İptal oranları: {col} ---\")\n",
    "    print(oranlar)\n",
    "    print()"
   ]
  },
  {
   "cell_type": "code",
   "execution_count": 23,
   "id": "5ff62df6",
   "metadata": {},
   "outputs": [
    {
     "name": "stdout",
     "output_type": "stream",
     "text": [
      "--- İptal oranları: reserved_room_type ---\n",
      "reserved_room_type\n",
      "P    1.000000\n",
      "H    0.407654\n",
      "A    0.391074\n",
      "G    0.364374\n",
      "L    0.333333\n",
      "C    0.330472\n",
      "B    0.329159\n",
      "D    0.317796\n",
      "F    0.303763\n",
      "E    0.292884\n",
      "Name: is_canceled, dtype: float64\n",
      "\n",
      "--- İptal oranları: assigned_room_type ---\n",
      "assigned_room_type\n",
      "P    1.000000\n",
      "L    1.000000\n",
      "A    0.444925\n",
      "H    0.352528\n",
      "G    0.305523\n",
      "E    0.252114\n",
      "D    0.251244\n",
      "F    0.247134\n",
      "B    0.236708\n",
      "C    0.187789\n",
      "K    0.043011\n",
      "I    0.013774\n",
      "Name: is_canceled, dtype: float64\n",
      "\n"
     ]
    }
   ],
   "source": [
    "for col in [ \"reserved_room_type\", \"assigned_room_type\"]:\n",
    "    oranlar = df.groupby(col)[\"is_canceled\"].mean().sort_values(ascending=False)\n",
    "    print(f\"--- İptal oranları: {col} ---\")\n",
    "    print(oranlar)\n",
    "    print()"
   ]
  },
  {
   "cell_type": "code",
   "execution_count": 78,
   "id": "6f0ba658",
   "metadata": {},
   "outputs": [
    {
     "data": {
      "text/plain": [
       "np.int64(0)"
      ]
     },
     "execution_count": 78,
     "metadata": {},
     "output_type": "execute_result"
    }
   ],
   "source": [
    "df[\"distribution_channel\"].isnull().sum()"
   ]
  },
  {
   "cell_type": "code",
   "execution_count": 75,
   "id": "2ff7bd93",
   "metadata": {},
   "outputs": [
    {
     "name": "stdout",
     "output_type": "stream",
     "text": [
      "Index(['hotel', 'is_canceled', 'lead_time', 'arrival_date_year',\n",
      "       'arrival_date_month', 'arrival_date_week_number',\n",
      "       'arrival_date_day_of_month', 'stays_in_weekend_nights',\n",
      "       'stays_in_week_nights', 'adults', 'children', 'babies', 'meal',\n",
      "       'country', 'market_segment', 'distribution_channel',\n",
      "       'is_repeated_guest', 'previous_cancellations',\n",
      "       'previous_bookings_not_canceled', 'reserved_room_type',\n",
      "       'assigned_room_type', 'booking_changes', 'deposit_type', 'agent',\n",
      "       'company', 'days_in_waiting_list', 'customer_type', 'adr',\n",
      "       'required_car_parking_spaces', 'total_of_special_requests',\n",
      "       'reservation_status', 'reservation_status_date', 'arrival_month_num'],\n",
      "      dtype='object')\n"
     ]
    }
   ],
   "source": [
    "print(df.columns)\n"
   ]
  },
  {
   "cell_type": "code",
   "execution_count": 79,
   "id": "0e6de2a5",
   "metadata": {},
   "outputs": [
    {
     "name": "stdout",
     "output_type": "stream",
     "text": [
      "--- Ülkelere göre iptal sayıları ---\n",
      "country\n",
      "PRT    27519\n",
      "GBR     2453\n",
      "ESP     2177\n",
      "FRA     1934\n",
      "ITA     1333\n",
      "       ...  \n",
      "SYC        1\n",
      "UMI        1\n",
      "TMP        1\n",
      "VGB        1\n",
      "ZMB        1\n",
      "Name: is_canceled, Length: 127, dtype: int64\n"
     ]
    }
   ],
   "source": [
    "iptal_sayisi_ulke = df[df[\"is_canceled\"] == 1].groupby(\"country\")[\"is_canceled\"].count().sort_values(ascending=False)\n",
    "\n",
    "print(\"--- Ülkelere göre iptal sayıları ---\")\n",
    "print(iptal_sayisi_ulke)\n"
   ]
  },
  {
   "cell_type": "code",
   "execution_count": 81,
   "id": "7aac27ae",
   "metadata": {},
   "outputs": [
    {
     "data": {
      "image/png": "[encoded data removed]",
      "text/plain": [
       "<Figure size 800x500 with 1 Axes>"
      ]
     },
     "metadata": {},
     "output_type": "display_data"
    }
   ],
   "source": [
    "iptal_oranlari = df.groupby(\"customer_type\")[\"is_canceled\"].mean().sort_values(ascending=False)\n",
    "\n",
    "plt.figure(figsize=(8,5))\n",
    "sns.barplot(x=iptal_oranlari.index, y=iptal_oranlari.values)\n",
    "plt.ylabel(\"İptal Oranı\")\n",
    "plt.title(\"Müşteri Tipine Göre İptal Oranları\")\n",
    "plt.show()"
   ]
  },
  {
   "cell_type": "code",
   "execution_count": 24,
   "id": "e100acb6",
   "metadata": {},
   "outputs": [
    {
     "data": {
      "image/png": "[encoded data removed]",
      "text/plain": [
       "<Figure size 800x500 with 1 Axes>"
      ]
     },
     "metadata": {},
     "output_type": "display_data"
    }
   ],
   "source": [
    "plt.figure(figsize=(8,5))\n",
    "sns.boxplot(x=\"is_canceled\", y=\"lead_time\", data=df)\n",
    "plt.xticks([0,1], [\"İptal Edilmedi\", \"İptal Edildi\"])\n",
    "plt.title(\"Rezervasyon Geliş Süresi (lead_time) ve İptal Durumu\")\n",
    "plt.show()\n"
   ]
  },
  {
   "cell_type": "code",
   "execution_count": 84,
   "id": "62eec5d4",
   "metadata": {},
   "outputs": [
    {
     "name": "stdout",
     "output_type": "stream",
     "text": [
      "customer_type  Contract     Group  Transient  Transient-Party\n",
      "hotel                                                        \n",
      "City Hotel     0.480435  0.098976   0.456165         0.280967\n",
      "Resort Hotel   0.088401  0.105634   0.311695         0.194969\n"
     ]
    }
   ],
   "source": [
    "hotel_customer_iptal = df.groupby([\"hotel\", \"customer_type\"])[\"is_canceled\"].mean().unstack()\n",
    "print(hotel_customer_iptal)\n"
   ]
  },
  {
   "cell_type": "code",
   "execution_count": 85,
   "id": "b2ee7047",
   "metadata": {},
   "outputs": [
    {
     "data": {
      "image/png": "[encoded data removed]",
      "text/plain": [
       "<Figure size 800x500 with 1 Axes>"
      ]
     },
     "metadata": {},
     "output_type": "display_data"
    },
    {
     "data": {
      "image/png": "[encoded data removed]",
      "text/plain": [
       "<Figure size 800x500 with 1 Axes>"
      ]
     },
     "metadata": {},
     "output_type": "display_data"
    }
   ],
   "source": [
    "for col in [\"lead_time\", \"adr\"]:\n",
    "    if col in df.columns:\n",
    "        plt.figure(figsize=(8,5))\n",
    "        sns.boxplot(x=\"is_canceled\", y=col, data=df)\n",
    "        plt.xticks([0,1], [\"İptal Etmeyen\", \"İptal Eden\"])\n",
    "        plt.title(f\"{col} Dağılımı ve İptal Durumu\")\n",
    "        plt.show()"
   ]
  },
  {
   "cell_type": "code",
   "execution_count": 91,
   "id": "192cc2af",
   "metadata": {},
   "outputs": [
    {
     "name": "stdout",
     "output_type": "stream",
     "text": [
      "Accuracy: 1.0\n",
      "              precision    recall  f1-score   support\n",
      "\n",
      "           0       1.00      1.00      1.00     14907\n",
      "           1       1.00      1.00      1.00      8971\n",
      "\n",
      "    accuracy                           1.00     23878\n",
      "   macro avg       1.00      1.00      1.00     23878\n",
      "weighted avg       1.00      1.00      1.00     23878\n",
      "\n",
      "Önemli faktörler:\n",
      "reservation_status             0.721418\n",
      "deposit_type                   0.080967\n",
      "country                        0.037975\n",
      "lead_time                      0.028040\n",
      "total_of_special_requests      0.018822\n",
      "previous_cancellations         0.017247\n",
      "market_segment                 0.014550\n",
      "agent                          0.013607\n",
      "required_car_parking_spaces    0.008264\n",
      "customer_type                  0.006843\n",
      "dtype: float64\n"
     ]
    }
   ],
   "source": [
    "\n",
    "# 2. Hedef ve özellikler\n",
    "X = df.drop(columns=[\"is_canceled\"])  # Özellikler\n",
    "y = df[\"is_canceled\"]                 # Hedef\n",
    "\n",
    "# 3. Kategorik sütunları sayısala çevir (label encoding ile)\n",
    "for col in X.select_dtypes(include=['object']).columns:\n",
    "    X[col] = LabelEncoder().fit_transform(X[col].astype(str))\n",
    "\n",
    "# 4. Veri setini eğitim ve test olarak ayır\n",
    "X_train, X_test, y_train, y_test = train_test_split(X, y, test_size=0.2, random_state=42)\n",
    "\n",
    "# 5. Modeli oluştur ve eğit\n",
    "model = RandomForestClassifier(random_state=42)\n",
    "model.fit(X_train, y_train)\n",
    "\n",
    "# 6. Tahmin yap\n",
    "y_pred = model.predict(X_test)\n",
    "\n",
    "# 7. Sonuçları değerlendir\n",
    "print(\"Accuracy:\", accuracy_score(y_test, y_pred))\n",
    "print(classification_report(y_test, y_pred))\n",
    "\n",
    "# 8. Önemli özellikleri göster\n",
    "importances = model.feature_importances_\n",
    "features = X.columns\n",
    "feature_importance = pd.Series(importances, index=features).sort_values(ascending=False)\n",
    "print(\"Önemli faktörler:\")\n",
    "print(feature_importance.head(10))\n"
   ]
  },
  {
   "cell_type": "code",
   "execution_count": 96,
   "id": "c5c1492f",
   "metadata": {},
   "outputs": [
    {
     "data": {
      "text/plain": [
       "company                           112593\n",
       "agent                              16340\n",
       "country                              488\n",
       "children                               4\n",
       "hotel                                  0\n",
       "arrival_date_week_number               0\n",
       "arrival_date_day_of_month              0\n",
       "is_canceled                            0\n",
       "lead_time                              0\n",
       "stays_in_week_nights                   0\n",
       "stays_in_weekend_nights                0\n",
       "babies                                 0\n",
       "adults                                 0\n",
       "meal                                   0\n",
       "market_segment                         0\n",
       "arrival_date_year                      0\n",
       "arrival_date_month                     0\n",
       "is_repeated_guest                      0\n",
       "distribution_channel                   0\n",
       "previous_cancellations                 0\n",
       "previous_bookings_not_canceled         0\n",
       "assigned_room_type                     0\n",
       "reserved_room_type                     0\n",
       "deposit_type                           0\n",
       "booking_changes                        0\n",
       "days_in_waiting_list                   0\n",
       "customer_type                          0\n",
       "adr                                    0\n",
       "required_car_parking_spaces            0\n",
       "total_of_special_requests              0\n",
       "reservation_status                     0\n",
       "reservation_status_date                0\n",
       "arrival_month_num                      0\n",
       "dtype: int64"
      ]
     },
     "execution_count": 96,
     "metadata": {},
     "output_type": "execute_result"
    }
   ],
   "source": [
    "df.isnull().sum().sort_values(ascending=False)"
   ]
  },
  {
   "cell_type": "code",
   "execution_count": 10,
   "id": "a59c9c03",
   "metadata": {},
   "outputs": [
    {
     "data": {
      "text/plain": [
       "0         0.0\n",
       "1         0.0\n",
       "2         0.0\n",
       "3         0.0\n",
       "4         0.0\n",
       "         ... \n",
       "119385    0.0\n",
       "119386    0.0\n",
       "119387    0.0\n",
       "119388    0.0\n",
       "119389    0.0\n",
       "Name: company, Length: 119390, dtype: float64"
      ]
     },
     "execution_count": 10,
     "metadata": {},
     "output_type": "execute_result"
    }
   ],
   "source": [
    "df[\"company\"]"
   ]
  },
  {
   "cell_type": "code",
   "execution_count": null,
   "id": "9f3323c2",
   "metadata": {},
   "outputs": [],
   "source": [
    "df[\"company\"] = df[\"company\"].fillna(0)\n",
    "#folat değerlerin içine str ekleme "
   ]
  },
  {
   "cell_type": "code",
   "execution_count": 11,
   "id": "9d41e8d7",
   "metadata": {},
   "outputs": [],
   "source": [
    "country_mod = df[\"country\"].mode()[0]\n",
    "df[\"country\"]= df[\"country\"].fillna(country_mod)"
   ]
  },
  {
   "cell_type": "code",
   "execution_count": 108,
   "id": "2c56b737",
   "metadata": {},
   "outputs": [],
   "source": [
    "df[\"agent\"] = df[\"agent\"].fillna(0)\n"
   ]
  },
  {
   "cell_type": "code",
   "execution_count": 12,
   "id": "f9397873",
   "metadata": {},
   "outputs": [
    {
     "data": {
      "text/plain": [
       "0           NaN\n",
       "1           NaN\n",
       "2           NaN\n",
       "3         304.0\n",
       "4         240.0\n",
       "          ...  \n",
       "119385    394.0\n",
       "119386      9.0\n",
       "119387      9.0\n",
       "119388     89.0\n",
       "119389      9.0\n",
       "Name: agent, Length: 119390, dtype: float64"
      ]
     },
     "execution_count": 12,
     "metadata": {},
     "output_type": "execute_result"
    }
   ],
   "source": [
    "df[\"agent\"]"
   ]
  },
  {
   "cell_type": "code",
   "execution_count": 16,
   "id": "55702c9e",
   "metadata": {},
   "outputs": [
    {
     "data": {
      "text/plain": [
       "children\n",
       "0.0     110800\n",
       "1.0       4861\n",
       "2.0       3652\n",
       "3.0         76\n",
       "10.0         1\n",
       "Name: count, dtype: int64"
      ]
     },
     "execution_count": 16,
     "metadata": {},
     "output_type": "execute_result"
    }
   ],
   "source": [
    "df[\"children\"].value_counts()"
   ]
  },
  {
   "cell_type": "code",
   "execution_count": 13,
   "id": "22faa048",
   "metadata": {},
   "outputs": [],
   "source": [
    "df[\"children\"]= df[\"children\"].fillna(0)"
   ]
  },
  {
   "cell_type": "code",
   "execution_count": 115,
   "id": "b8f74943",
   "metadata": {},
   "outputs": [
    {
     "data": {
      "text/html": [
       "<div>\n",
       "<style scoped>\n",
       "    .dataframe tbody tr th:only-of-type {\n",
       "        vertical-align: middle;\n",
       "    }\n",
       "\n",
       "    .dataframe tbody tr th {\n",
       "        vertical-align: top;\n",
       "    }\n",
       "\n",
       "    .dataframe thead th {\n",
       "        text-align: right;\n",
       "    }\n",
       "</style>\n",
       "<table border=\"1\" class=\"dataframe\">\n",
       "  <thead>\n",
       "    <tr style=\"text-align: right;\">\n",
       "      <th></th>\n",
       "      <th>is_canceled</th>\n",
       "      <th>lead_time</th>\n",
       "      <th>arrival_date_year</th>\n",
       "      <th>arrival_date_week_number</th>\n",
       "      <th>arrival_date_day_of_month</th>\n",
       "      <th>stays_in_weekend_nights</th>\n",
       "      <th>stays_in_week_nights</th>\n",
       "      <th>adults</th>\n",
       "      <th>children</th>\n",
       "      <th>babies</th>\n",
       "      <th>is_repeated_guest</th>\n",
       "      <th>previous_cancellations</th>\n",
       "      <th>previous_bookings_not_canceled</th>\n",
       "      <th>booking_changes</th>\n",
       "      <th>agent</th>\n",
       "      <th>days_in_waiting_list</th>\n",
       "      <th>adr</th>\n",
       "      <th>required_car_parking_spaces</th>\n",
       "      <th>total_of_special_requests</th>\n",
       "      <th>arrival_month_num</th>\n",
       "    </tr>\n",
       "  </thead>\n",
       "  <tbody>\n",
       "    <tr>\n",
       "      <th>count</th>\n",
       "      <td>119390.000000</td>\n",
       "      <td>119390.000000</td>\n",
       "      <td>119390.000000</td>\n",
       "      <td>119390.000000</td>\n",
       "      <td>119390.000000</td>\n",
       "      <td>119390.000000</td>\n",
       "      <td>119390.000000</td>\n",
       "      <td>119390.000000</td>\n",
       "      <td>119390.000000</td>\n",
       "      <td>119390.000000</td>\n",
       "      <td>119390.000000</td>\n",
       "      <td>119390.000000</td>\n",
       "      <td>119390.000000</td>\n",
       "      <td>119390.000000</td>\n",
       "      <td>119390.000000</td>\n",
       "      <td>119390.000000</td>\n",
       "      <td>119390.000000</td>\n",
       "      <td>119390.000000</td>\n",
       "      <td>119390.000000</td>\n",
       "      <td>119390.000000</td>\n",
       "    </tr>\n",
       "    <tr>\n",
       "      <th>mean</th>\n",
       "      <td>0.370416</td>\n",
       "      <td>104.011416</td>\n",
       "      <td>2016.156554</td>\n",
       "      <td>27.165173</td>\n",
       "      <td>15.798241</td>\n",
       "      <td>0.927599</td>\n",
       "      <td>2.500302</td>\n",
       "      <td>1.856403</td>\n",
       "      <td>0.103886</td>\n",
       "      <td>0.007949</td>\n",
       "      <td>0.031912</td>\n",
       "      <td>0.087118</td>\n",
       "      <td>0.137097</td>\n",
       "      <td>0.221124</td>\n",
       "      <td>74.828319</td>\n",
       "      <td>2.321149</td>\n",
       "      <td>101.831122</td>\n",
       "      <td>0.062518</td>\n",
       "      <td>0.571363</td>\n",
       "      <td>6.552483</td>\n",
       "    </tr>\n",
       "    <tr>\n",
       "      <th>std</th>\n",
       "      <td>0.482918</td>\n",
       "      <td>106.863097</td>\n",
       "      <td>0.707476</td>\n",
       "      <td>13.605138</td>\n",
       "      <td>8.780829</td>\n",
       "      <td>0.998613</td>\n",
       "      <td>1.908286</td>\n",
       "      <td>0.579261</td>\n",
       "      <td>0.398555</td>\n",
       "      <td>0.097436</td>\n",
       "      <td>0.175767</td>\n",
       "      <td>0.844336</td>\n",
       "      <td>1.497437</td>\n",
       "      <td>0.652306</td>\n",
       "      <td>107.141953</td>\n",
       "      <td>17.594721</td>\n",
       "      <td>50.535790</td>\n",
       "      <td>0.245291</td>\n",
       "      <td>0.792798</td>\n",
       "      <td>3.090619</td>\n",
       "    </tr>\n",
       "    <tr>\n",
       "      <th>min</th>\n",
       "      <td>0.000000</td>\n",
       "      <td>0.000000</td>\n",
       "      <td>2015.000000</td>\n",
       "      <td>1.000000</td>\n",
       "      <td>1.000000</td>\n",
       "      <td>0.000000</td>\n",
       "      <td>0.000000</td>\n",
       "      <td>0.000000</td>\n",
       "      <td>0.000000</td>\n",
       "      <td>0.000000</td>\n",
       "      <td>0.000000</td>\n",
       "      <td>0.000000</td>\n",
       "      <td>0.000000</td>\n",
       "      <td>0.000000</td>\n",
       "      <td>0.000000</td>\n",
       "      <td>0.000000</td>\n",
       "      <td>-6.380000</td>\n",
       "      <td>0.000000</td>\n",
       "      <td>0.000000</td>\n",
       "      <td>1.000000</td>\n",
       "    </tr>\n",
       "    <tr>\n",
       "      <th>25%</th>\n",
       "      <td>0.000000</td>\n",
       "      <td>18.000000</td>\n",
       "      <td>2016.000000</td>\n",
       "      <td>16.000000</td>\n",
       "      <td>8.000000</td>\n",
       "      <td>0.000000</td>\n",
       "      <td>1.000000</td>\n",
       "      <td>2.000000</td>\n",
       "      <td>0.000000</td>\n",
       "      <td>0.000000</td>\n",
       "      <td>0.000000</td>\n",
       "      <td>0.000000</td>\n",
       "      <td>0.000000</td>\n",
       "      <td>0.000000</td>\n",
       "      <td>7.000000</td>\n",
       "      <td>0.000000</td>\n",
       "      <td>69.290000</td>\n",
       "      <td>0.000000</td>\n",
       "      <td>0.000000</td>\n",
       "      <td>4.000000</td>\n",
       "    </tr>\n",
       "    <tr>\n",
       "      <th>50%</th>\n",
       "      <td>0.000000</td>\n",
       "      <td>69.000000</td>\n",
       "      <td>2016.000000</td>\n",
       "      <td>28.000000</td>\n",
       "      <td>16.000000</td>\n",
       "      <td>1.000000</td>\n",
       "      <td>2.000000</td>\n",
       "      <td>2.000000</td>\n",
       "      <td>0.000000</td>\n",
       "      <td>0.000000</td>\n",
       "      <td>0.000000</td>\n",
       "      <td>0.000000</td>\n",
       "      <td>0.000000</td>\n",
       "      <td>0.000000</td>\n",
       "      <td>9.000000</td>\n",
       "      <td>0.000000</td>\n",
       "      <td>94.575000</td>\n",
       "      <td>0.000000</td>\n",
       "      <td>0.000000</td>\n",
       "      <td>7.000000</td>\n",
       "    </tr>\n",
       "    <tr>\n",
       "      <th>75%</th>\n",
       "      <td>1.000000</td>\n",
       "      <td>160.000000</td>\n",
       "      <td>2017.000000</td>\n",
       "      <td>38.000000</td>\n",
       "      <td>23.000000</td>\n",
       "      <td>2.000000</td>\n",
       "      <td>3.000000</td>\n",
       "      <td>2.000000</td>\n",
       "      <td>0.000000</td>\n",
       "      <td>0.000000</td>\n",
       "      <td>0.000000</td>\n",
       "      <td>0.000000</td>\n",
       "      <td>0.000000</td>\n",
       "      <td>0.000000</td>\n",
       "      <td>152.000000</td>\n",
       "      <td>0.000000</td>\n",
       "      <td>126.000000</td>\n",
       "      <td>0.000000</td>\n",
       "      <td>1.000000</td>\n",
       "      <td>9.000000</td>\n",
       "    </tr>\n",
       "    <tr>\n",
       "      <th>max</th>\n",
       "      <td>1.000000</td>\n",
       "      <td>737.000000</td>\n",
       "      <td>2017.000000</td>\n",
       "      <td>53.000000</td>\n",
       "      <td>31.000000</td>\n",
       "      <td>19.000000</td>\n",
       "      <td>50.000000</td>\n",
       "      <td>55.000000</td>\n",
       "      <td>10.000000</td>\n",
       "      <td>10.000000</td>\n",
       "      <td>1.000000</td>\n",
       "      <td>26.000000</td>\n",
       "      <td>72.000000</td>\n",
       "      <td>21.000000</td>\n",
       "      <td>535.000000</td>\n",
       "      <td>391.000000</td>\n",
       "      <td>5400.000000</td>\n",
       "      <td>8.000000</td>\n",
       "      <td>5.000000</td>\n",
       "      <td>12.000000</td>\n",
       "    </tr>\n",
       "  </tbody>\n",
       "</table>\n",
       "</div>"
      ],
      "text/plain": [
       "         is_canceled      lead_time  arrival_date_year  \\\n",
       "count  119390.000000  119390.000000      119390.000000   \n",
       "mean        0.370416     104.011416        2016.156554   \n",
       "std         0.482918     106.863097           0.707476   \n",
       "min         0.000000       0.000000        2015.000000   \n",
       "25%         0.000000      18.000000        2016.000000   \n",
       "50%         0.000000      69.000000        2016.000000   \n",
       "75%         1.000000     160.000000        2017.000000   \n",
       "max         1.000000     737.000000        2017.000000   \n",
       "\n",
       "       arrival_date_week_number  arrival_date_day_of_month  \\\n",
       "count             119390.000000              119390.000000   \n",
       "mean                  27.165173                  15.798241   \n",
       "std                   13.605138                   8.780829   \n",
       "min                    1.000000                   1.000000   \n",
       "25%                   16.000000                   8.000000   \n",
       "50%                   28.000000                  16.000000   \n",
       "75%                   38.000000                  23.000000   \n",
       "max                   53.000000                  31.000000   \n",
       "\n",
       "       stays_in_weekend_nights  stays_in_week_nights         adults  \\\n",
       "count            119390.000000         119390.000000  119390.000000   \n",
       "mean                  0.927599              2.500302       1.856403   \n",
       "std                   0.998613              1.908286       0.579261   \n",
       "min                   0.000000              0.000000       0.000000   \n",
       "25%                   0.000000              1.000000       2.000000   \n",
       "50%                   1.000000              2.000000       2.000000   \n",
       "75%                   2.000000              3.000000       2.000000   \n",
       "max                  19.000000             50.000000      55.000000   \n",
       "\n",
       "            children         babies  is_repeated_guest  \\\n",
       "count  119390.000000  119390.000000      119390.000000   \n",
       "mean        0.103886       0.007949           0.031912   \n",
       "std         0.398555       0.097436           0.175767   \n",
       "min         0.000000       0.000000           0.000000   \n",
       "25%         0.000000       0.000000           0.000000   \n",
       "50%         0.000000       0.000000           0.000000   \n",
       "75%         0.000000       0.000000           0.000000   \n",
       "max        10.000000      10.000000           1.000000   \n",
       "\n",
       "       previous_cancellations  previous_bookings_not_canceled  \\\n",
       "count           119390.000000                   119390.000000   \n",
       "mean                 0.087118                        0.137097   \n",
       "std                  0.844336                        1.497437   \n",
       "min                  0.000000                        0.000000   \n",
       "25%                  0.000000                        0.000000   \n",
       "50%                  0.000000                        0.000000   \n",
       "75%                  0.000000                        0.000000   \n",
       "max                 26.000000                       72.000000   \n",
       "\n",
       "       booking_changes          agent  days_in_waiting_list            adr  \\\n",
       "count    119390.000000  119390.000000         119390.000000  119390.000000   \n",
       "mean          0.221124      74.828319              2.321149     101.831122   \n",
       "std           0.652306     107.141953             17.594721      50.535790   \n",
       "min           0.000000       0.000000              0.000000      -6.380000   \n",
       "25%           0.000000       7.000000              0.000000      69.290000   \n",
       "50%           0.000000       9.000000              0.000000      94.575000   \n",
       "75%           0.000000     152.000000              0.000000     126.000000   \n",
       "max          21.000000     535.000000            391.000000    5400.000000   \n",
       "\n",
       "       required_car_parking_spaces  total_of_special_requests  \\\n",
       "count                119390.000000              119390.000000   \n",
       "mean                      0.062518                   0.571363   \n",
       "std                       0.245291                   0.792798   \n",
       "min                       0.000000                   0.000000   \n",
       "25%                       0.000000                   0.000000   \n",
       "50%                       0.000000                   0.000000   \n",
       "75%                       0.000000                   1.000000   \n",
       "max                       8.000000                   5.000000   \n",
       "\n",
       "       arrival_month_num  \n",
       "count      119390.000000  \n",
       "mean            6.552483  \n",
       "std             3.090619  \n",
       "min             1.000000  \n",
       "25%             4.000000  \n",
       "50%             7.000000  \n",
       "75%             9.000000  \n",
       "max            12.000000  "
      ]
     },
     "execution_count": 115,
     "metadata": {},
     "output_type": "execute_result"
    }
   ],
   "source": [
    "df.describe()"
   ]
  },
  {
   "cell_type": "code",
   "execution_count": 119,
   "id": "5e58b34f",
   "metadata": {},
   "outputs": [
    {
     "data": {
      "text/plain": [
       "count    119390.000000\n",
       "mean          0.370416\n",
       "std           0.482918\n",
       "min           0.000000\n",
       "25%           0.000000\n",
       "50%           0.000000\n",
       "75%           1.000000\n",
       "max           1.000000\n",
       "Name: is_canceled, dtype: float64"
      ]
     },
     "execution_count": 119,
     "metadata": {},
     "output_type": "execute_result"
    }
   ],
   "source": [
    "df[\"is_canceled\"].describe()"
   ]
  },
  {
   "cell_type": "code",
   "execution_count": 120,
   "id": "445f3fed",
   "metadata": {},
   "outputs": [
    {
     "data": {
      "image/png": "[encoded data removed]",
      "text/plain": [
       "<Figure size 800x500 with 1 Axes>"
      ]
     },
     "metadata": {},
     "output_type": "display_data"
    }
   ],
   "source": [
    "hotel_iptal = df.groupby(\"hotel\")[\"is_canceled\"].mean().reset_index()\n",
    "\n",
    "plt.figure(figsize=(8,5))\n",
    "sns.barplot(x=\"hotel\", y=\"is_canceled\", data=hotel_iptal)\n",
    "plt.title(\"Otel Türüne Göre İptal Oranı\")\n",
    "plt.ylabel(\"İptal Oranı\")\n",
    "plt.xlabel(\"Otel Türü\")\n",
    "plt.show()\n"
   ]
  },
  {
   "cell_type": "code",
   "execution_count": 25,
   "id": "50d8442b",
   "metadata": {},
   "outputs": [
    {
     "name": "stdout",
     "output_type": "stream",
     "text": [
      "customer_type\n",
      "Contract           0.480435\n",
      "Transient          0.456165\n",
      "Transient-Party    0.280967\n",
      "Group              0.098976\n",
      "Name: is_canceled, dtype: float64\n"
     ]
    }
   ],
   "source": [
    "# City otelindeki müşteri tipine göre iptal oranları\n",
    "city_df = df[df[\"hotel\"] == \"City Hotel\"]\n",
    "iptal_oranlari = city_df.groupby(\"customer_type\")[\"is_canceled\"].mean().sort_values(ascending=False)\n",
    "print(iptal_oranlari)\n",
    "\n",
    "# sonuç CİTY E YALNIZ BAŞVURANLARIN %50 Sİ İPTAL ETMİŞ \n",
    "# CİTY E GRUPLA BASVURANLARIN %10 U İPTAL ETMİŞ\n",
    "# BURDA SIKINTILI GRUP YALNIZ BAŞVURANLAR (TRANSİENT)"
   ]
  },
  {
   "cell_type": "code",
   "execution_count": 128,
   "id": "f00da2fc",
   "metadata": {},
   "outputs": [
    {
     "data": {
      "image/png": "[encoded data removed]",
      "text/plain": [
       "<Figure size 640x480 with 1 Axes>"
      ]
     },
     "metadata": {},
     "output_type": "display_data"
    }
   ],
   "source": [
    "sns.boxplot(x=\"hotel\", y=\"lead_time\", hue=\"is_canceled\", data=df)\n",
    "plt.title(\"Lead Time'a Göre Otel ve İptal İlişkisi\")\n",
    "plt.show()\n"
   ]
  },
  {
   "cell_type": "code",
   "execution_count": 130,
   "id": "d7c54924",
   "metadata": {},
   "outputs": [
    {
     "data": {
      "image/png": "[encoded data removed]",
      "text/plain": [
       "<Figure size 800x500 with 1 Axes>"
      ]
     },
     "metadata": {},
     "output_type": "display_data"
    }
   ],
   "source": [
    "deposit_cancel_rate = df.groupby('deposit_type')['is_canceled'].mean().reset_index()\n",
    "\n",
    "# Grafik çiz\n",
    "plt.figure(figsize=(8,5))\n",
    "sns.barplot(x='deposit_type', y='is_canceled', data=deposit_cancel_rate)\n",
    "plt.title('Depozito Tipine Göre İptal Oranları')\n",
    "plt.xlabel('Depozito Tipi')\n",
    "plt.ylabel('Ortalama İptal Oranı')\n",
    "plt.ylim(0,1)  # Oran 0-1 arası olduğu için\n",
    "plt.show()"
   ]
  },
  {
   "cell_type": "code",
   "execution_count": 134,
   "id": "b14e10c2",
   "metadata": {},
   "outputs": [
    {
     "name": "stdout",
     "output_type": "stream",
     "text": [
      "Son dakika iptal sayısı: 3204\n"
     ]
    },
    {
     "name": "stderr",
     "output_type": "stream",
     "text": [
      "C:\\Users\\rabia.ilhan\\AppData\\Local\\Temp\\ipykernel_10108\\555378665.py:1: SettingWithCopyWarning: \n",
      "A value is trying to be set on a copy of a slice from a DataFrame.\n",
      "Try using .loc[row_indexer,col_indexer] = value instead\n",
      "\n",
      "See the caveats in the documentation: https://pandas.pydata.org/pandas-docs/stable/user_guide/indexing.html#returning-a-view-versus-a-copy\n",
      "  iptal_edilen[\"reservation_status_date\"] = pd.to_datetime(\n",
      "C:\\Users\\rabia.ilhan\\AppData\\Local\\Temp\\ipykernel_10108\\555378665.py:7: SettingWithCopyWarning: \n",
      "A value is trying to be set on a copy of a slice from a DataFrame.\n",
      "Try using .loc[row_indexer,col_indexer] = value instead\n",
      "\n",
      "See the caveats in the documentation: https://pandas.pydata.org/pandas-docs/stable/user_guide/indexing.html#returning-a-view-versus-a-copy\n",
      "  iptal_edilen[\"reservation_status_date\"] = pd.to_datetime(iptal_edilen[\"reservation_status_date\"])\n",
      "C:\\Users\\rabia.ilhan\\AppData\\Local\\Temp\\ipykernel_10108\\555378665.py:8: SettingWithCopyWarning: \n",
      "A value is trying to be set on a copy of a slice from a DataFrame.\n",
      "Try using .loc[row_indexer,col_indexer] = value instead\n",
      "\n",
      "See the caveats in the documentation: https://pandas.pydata.org/pandas-docs/stable/user_guide/indexing.html#returning-a-view-versus-a-copy\n",
      "  iptal_edilen[\"gun_kala_iptal\"] = (iptal_edilen[\"arrival_date\"] - iptal_edilen[\"reservation_status_date\"]).dt.days\n",
      "C:\\Users\\rabia.ilhan\\AppData\\Local\\Temp\\ipykernel_10108\\555378665.py:9: SettingWithCopyWarning: \n",
      "A value is trying to be set on a copy of a slice from a DataFrame.\n",
      "Try using .loc[row_indexer,col_indexer] = value instead\n",
      "\n",
      "See the caveats in the documentation: https://pandas.pydata.org/pandas-docs/stable/user_guide/indexing.html#returning-a-view-versus-a-copy\n",
      "  iptal_edilen[\"gun_kala_iptal\"] = (iptal_edilen[\"arrival_date\"] - iptal_edilen[\"reservation_status_date\"]).dt.days\n",
      "C:\\Users\\rabia.ilhan\\AppData\\Local\\Temp\\ipykernel_10108\\555378665.py:10: SettingWithCopyWarning: \n",
      "A value is trying to be set on a copy of a slice from a DataFrame.\n",
      "Try using .loc[row_indexer,col_indexer] = value instead\n",
      "\n",
      "See the caveats in the documentation: https://pandas.pydata.org/pandas-docs/stable/user_guide/indexing.html#returning-a-view-versus-a-copy\n",
      "  iptal_edilen[\"gun_kala_iptal\"] = (iptal_edilen[\"arrival_date\"] - iptal_edilen[\"reservation_status_date\"]).dt.days\n"
     ]
    }
   ],
   "source": [
    "iptal_edilen[\"reservation_status_date\"] = pd.to_datetime(\n",
    "    iptal_edilen[\"reservation_status_date\"], \n",
    "    dayfirst=True,  # Günü önce kabul et\n",
    "    errors='coerce' # Hata varsa NaT yap\n",
    ")\n",
    "\n",
    "iptal_edilen[\"reservation_status_date\"] = pd.to_datetime(iptal_edilen[\"reservation_status_date\"])\n",
    "iptal_edilen[\"gun_kala_iptal\"] = (iptal_edilen[\"arrival_date\"] - iptal_edilen[\"reservation_status_date\"]).dt.days\n",
    "iptal_edilen[\"gun_kala_iptal\"] = (iptal_edilen[\"arrival_date\"] - iptal_edilen[\"reservation_status_date\"]).dt.days\n",
    "iptal_edilen[\"gun_kala_iptal\"] = (iptal_edilen[\"arrival_date\"] - iptal_edilen[\"reservation_status_date\"]).dt.days\n",
    "son_dakika_iptaller = iptal_edilen[iptal_edilen[\"gun_kala_iptal\"] <= 2]\n",
    "print(f\"Son dakika iptal sayısı: {len(son_dakika_iptaller)}\")"
   ]
  },
  {
   "cell_type": "code",
   "execution_count": 135,
   "id": "1e19ab4b",
   "metadata": {},
   "outputs": [
    {
     "name": "stderr",
     "output_type": "stream",
     "text": [
      "C:\\Users\\rabia.ilhan\\AppData\\Local\\Temp\\ipykernel_10108\\2479266605.py:1: SettingWithCopyWarning: \n",
      "A value is trying to be set on a copy of a slice from a DataFrame.\n",
      "Try using .loc[row_indexer,col_indexer] = value instead\n",
      "\n",
      "See the caveats in the documentation: https://pandas.pydata.org/pandas-docs/stable/user_guide/indexing.html#returning-a-view-versus-a-copy\n",
      "  iptal_edilen['son_dakika_iptal'] = iptal_edilen['gun_kala_iptal'] <= 7\n",
      "C:\\Users\\rabia.ilhan\\AppData\\Local\\Temp\\ipykernel_10108\\2479266605.py:2: SettingWithCopyWarning: \n",
      "A value is trying to be set on a copy of a slice from a DataFrame.\n",
      "Try using .loc[row_indexer,col_indexer] = value instead\n",
      "\n",
      "See the caveats in the documentation: https://pandas.pydata.org/pandas-docs/stable/user_guide/indexing.html#returning-a-view-versus-a-copy\n",
      "  iptal_edilen['son_dakika_iptal'] = iptal_edilen['son_dakika_iptal'].astype(int)\n"
     ]
    }
   ],
   "source": [
    "iptal_edilen['son_dakika_iptal'] = iptal_edilen['gun_kala_iptal'] <= 7\n",
    "iptal_edilen['son_dakika_iptal'] = iptal_edilen['son_dakika_iptal'].astype(int)"
   ]
  },
  {
   "cell_type": "code",
   "execution_count": null,
   "id": "e30d5d0c",
   "metadata": {},
   "outputs": [],
   "source": []
  }
 ],
 "metadata": {
  "kernelspec": {
   "display_name": "Python 3",
   "language": "python",
   "name": "python3"
  },
  "language_info": {
   "codemirror_mode": {
    "name": "ipython",
    "version": 3
   },
   "file_extension": ".py",
   "mimetype": "text/x-python",
   "name": "python",
   "nbconvert_exporter": "python",
   "pygments_lexer": "ipython3",
   "version": "3.13.3"
  }
 },
 "nbformat": 4,
 "nbformat_minor": 5
}
