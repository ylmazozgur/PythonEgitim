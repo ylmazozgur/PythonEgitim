{
 "cells": [
  {
   "cell_type": "code",
   "execution_count": 1,
   "metadata": {},
   "outputs": [],
   "source": [
    "x = 5"
   ]
  },
  {
   "cell_type": "code",
   "execution_count": 2,
   "metadata": {},
   "outputs": [
    {
     "name": "stdout",
     "output_type": "stream",
     "text": [
      "kaldi\n"
     ]
    }
   ],
   "source": [
    "vize = 20\n",
    "final = 30\n",
    "vizeSon = 20*0.40 \n",
    "finalSon = 30*0.60\n",
    "sonuc = vizeSon + finalSon\n",
    "if sonuc < 50:\n",
    "    print(\"kaldi\")\n",
    "else:\n",
    "    print(\"geçti\")"
   ]
  },
  {
   "cell_type": "markdown",
   "metadata": {},
   "source": [
    "1 den 3'e kadar olan sayıların toplamını herhangi bir döngü kullanmadan yazın.\n",
    "\n",
    "İpucu: sayaç her zaman birer şekilde artacak"
   ]
  },
  {
   "cell_type": "code",
   "execution_count": 3,
   "metadata": {},
   "outputs": [
    {
     "name": "stdout",
     "output_type": "stream",
     "text": [
      "6\n"
     ]
    }
   ],
   "source": [
    "sayac=0\n",
    "toplam=0\n",
    "\n",
    "if sayac==0:\n",
    "    sayac = sayac+1\n",
    "    toplam = toplam + sayac\n",
    "if sayac==1:\n",
    "    sayac = sayac+1\n",
    "    toplam = toplam + sayac\n",
    "if sayac==2:\n",
    "    sayac = sayac+1\n",
    "    toplam = toplam + sayac\n",
    "    print(toplam)\n",
    "\n"
   ]
  },
  {
   "cell_type": "code",
   "execution_count": 4,
   "metadata": {},
   "outputs": [
    {
     "name": "stdout",
     "output_type": "stream",
     "text": [
      "6\n"
     ]
    }
   ],
   "source": [
    "sayac=1\n",
    "toplam=0\n",
    "\n",
    "if sayac==1:\n",
    "    toplam = toplam + sayac\n",
    "    sayac = sayac+1\n",
    "if sayac==2:\n",
    "    toplam = toplam + sayac\n",
    "    sayac = sayac+1\n",
    "if sayac==3:\n",
    "    toplam = toplam + sayac\n",
    "    sayac = sayac+1\n",
    "    print(toplam)"
   ]
  },
  {
   "cell_type": "code",
   "execution_count": 9,
   "metadata": {},
   "outputs": [
    {
     "name": "stdout",
     "output_type": "stream",
     "text": [
      "6\n"
     ]
    }
   ],
   "source": [
    "sayac=1\n",
    "toplam=1\n",
    "\n",
    "if sayac==1:\n",
    "    toplam = toplam * sayac\n",
    "    sayac = sayac+1\n",
    "if sayac==2:\n",
    "    toplam = toplam * sayac\n",
    "    sayac = sayac+1\n",
    "if sayac==3:\n",
    "    toplam = toplam * sayac\n",
    "    sayac = sayac+1\n",
    "    print(toplam)"
   ]
  },
  {
   "cell_type": "code",
   "execution_count": 11,
   "metadata": {},
   "outputs": [
    {
     "name": "stdout",
     "output_type": "stream",
     "text": [
      "10\n"
     ]
    }
   ],
   "source": []
  },
  {
   "cell_type": "markdown",
   "metadata": {},
   "source": [
    "bugünün kazananı birincisidir."
   ]
  }
 ],
 "metadata": {
  "kernelspec": {
   "display_name": "Python 3",
   "language": "python",
   "name": "python3"
  },
  "language_info": {
   "codemirror_mode": {
    "name": "ipython",
    "version": 3
   },
   "file_extension": ".py",
   "mimetype": "text/x-python",
   "name": "python",
   "nbconvert_exporter": "python",
   "pygments_lexer": "ipython3",
   "version": "3.13.1"
  }
 },
 "nbformat": 4,
 "nbformat_minor": 2
}
