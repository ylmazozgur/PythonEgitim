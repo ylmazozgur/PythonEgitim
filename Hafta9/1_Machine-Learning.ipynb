{
 "cells": [
  {
   "cell_type": "markdown",
   "id": "38ec3bc6",
   "metadata": {},
   "source": [
    "# Makine Öğrenimi"
   ]
  },
  {
   "cell_type": "markdown",
   "id": "1365a6e9",
   "metadata": {},
   "source": [
    "## 1. Temel Kavramlar ve Tanımlar"
   ]
  },
  {
   "cell_type": "markdown",
   "id": "4dd52d11",
   "metadata": {},
   "source": [
    "Makine öğrenimi (Machine Learning - ML), yapay zekanın (Articial Intelligence - AI) bir alt dalıdır.\n",
    "\n",
    "![ML - AI](ai_ml.png)\n",
    "\n",
    "<br>Bilgisayar sistemlerinin, açıkça programlanmadan, <b><span style='color:red'> verilerden öğrenmesini sağlayan bir yaklaşımdır.</span></b> Temel amacı, verilerden otomatik olarak öğrenerek performansların iyileştirmesidir. </br>"
   ]
  },
  {
   "cell_type": "markdown",
   "id": "a977c5d9",
   "metadata": {},
   "source": [
    "**Ana Fikir:** Makine öğrenimi, bilgisayarların belirli bir görevi yerine getirmek için verilerdeki kalıpları ve ilişkileri keşfetmesini sağlar. Bu kalıplar sayesinde, yeni ve daha önce hiç görmediği veriler hakkında tahminler yapabilir veya kararlar alabilir.\n"
   ]
  },
  {
   "cell_type": "markdown",
   "id": "db4aadd8",
   "metadata": {},
   "source": [
    "**Neden Önemli?** Geleneksel progralamada, bir görevi yapabilmek için her bir adım için ayrı ayrı talimatlar veririz. Ancak bazı görevler vardır ki manuel olarak yazmak aşırı zordur. Makine öğrenimi, bu tür zor görevler için bilgisayarların kendi başlarına öğrenmelerini olanak tanır."
   ]
  },
  {
   "cell_type": "markdown",
   "id": "3de800db",
   "metadata": {},
   "source": [
    "**Temel Bileşenler:**\n",
    "* <b><span style=\"color:red\"> Veri (Data): </span></b> Makine öğrenimi modellerinin eğitildiği ham bilgidir. Veri ne kadar kaliteli ve çeşitli olursa, modelin öğrenme yeteneği o kadar iyi olur. Veriler genellikle etiketli (çıktı biliniyor) veya etiketsiz (çıktı bilinmiyor) olabilir.\n",
    "* <b><span style=\"color:red\"> Model (Model): </span></b> Verilerden öğrenen ve belirli bir görevi yerine getirmek için kullanılan matematiksel veya algoritmik yapıdır. Model, verilerdeki kalıpları temsil eder. \n",
    "* <b><span style=\"color:red\"> Algoritma (Algorithm): </span></b> Modelin verilerden öğrenme sürecini yöneten bir dizi kurallardır. Algoritma, modelin nasıl eğitileceğini ve nasıl tahminler yapacağını belirler. \n",
    "* <b><span style=\"color:red\"> Özellik (Feature): </span></b> Veri kümesindeki ger bir gözlem tanımlayan bireysel, ölçülebilir özelliklerdir. Örneğin, bir eve fiyatı tahmin modelinde evin büyüklüğü, oda sayısı, konumu gibi özellikler bulunabilir. \n",
    "* <b><span style=\"color:red\"> Eğitim (Training): </span></b> Modelin, verilen veri kümesini kullanarak kalıpları öğrenme sürecidir. Bu süreçte modelin parametrelerini aayarlanır.\n",
    "* <b><span style=\"color:red\"> Tahmin/Çıkarım (Prediction/Inference): </span></b> Eğitilmiş bir modelin, yeni ve daha önce görmediği verilere dayanarak bir çıktı üretme sürecidir.\n",
    "* <b><span style=\"color:red\"> Doğruluk (Accuracy) / Performans Metrikleri: </span></b> Modelin ne kadar iyi performans gösterdiğini ölçmek için kullanılan kriterlerdir. Örneğin, sınıflandırma görevlerinde doğruluk oranı, regresyon görevlerinde hata oranı gibi metrikler kullanılır."
   ]
  },
  {
   "cell_type": "markdown",
   "id": "f5f2fa44",
   "metadata": {},
   "source": [
    "# 2.  Makine Öğrenimi Türleri ve Algoritmaları"
   ]
  },
  {
   "cell_type": "markdown",
   "id": "527ad2f2",
   "metadata": {},
   "source": [
    "## 2.1 Denetimli Öğrenme (Supervised Learning)"
   ]
  },
  {
   "cell_type": "markdown",
   "id": "77439b0d",
   "metadata": {},
   "source": [
    "Denetimli öğrenme (Supervised Learning), modelin etiketli veri kümeleri üzerinde eğitildiği bir yöntemdir. Yani, hem girdi verileri hem de bu verilere karşılık gelen doğru çıktılar (etiketler) modele sunulur. Model, girdi ile çıktı arasındaki ilişkiyi öğrenir ve bu ilişkiyi kullanarak yeni, etiketlenmemiş veriler için tahminler yapar."
   ]
  },
  {
   "cell_type": "markdown",
   "id": "19ff37d8",
   "metadata": {},
   "source": [
    "**Temel Özellikler**:\n",
    "* Etiketli veri gerektirir.\n",
    "* Girdi ve çıktı arasındaki eşleşmeyi öğrenir.\n",
    "* **Tahmin** veya **Sınıflandırma (Classification)** görevleri için kullanılır"
   ]
  },
  {
   "cell_type": "markdown",
   "id": "a0d5bab8",
   "metadata": {},
   "source": [
    "**Yaygın Algoritmalar:**\n",
    "\n",
    "* **Regresyon (Regression):** Sürekli bir çıktı değeri tahmin etmek için kullanılır. Örneğin, ev tahmini, hisse senedi fiyatı tahmini.\n",
    "  * **Doğrusal Regresyon (Linear Regression):** Girdi özellikleri ile çıktı arasında doğrusal bir ilişki olduğunu varsayar.\n",
    "  * **Polinom Regresyon (Polynomial Regression):** Doğrusal olmayan ilişkileri modellemek için kullanılır.\n",
    "* **Sınıflandırma (Classification):** Verileri berlili kategorilere veya sınıflara ayırmak için kullanılır. Örneğin, e-postanın spam olup olmadığını belirleme, bir resimdeki nesneyi tanımı.\n",
    "  * **Lojistik Regresyon (logistic Regression):** İkili sınıflandırma problemleri için kullanılır. Örneğin, Evet/Hayır, Doğru/Yanlış.\n",
    "  * **Karar Ağaçları (Decision Trees):** Verileri bir dizi kurala göre bölerek sınıflandırma veya regresyon yapar.\n",
    "  * **Rastgele Ormanlar (Random Forests):** Birden çok karar ağacının bir araya gelmesiyle oluşan topluluk öğrenme yöntemidir.\n",
    "  * **Destek Vektör Makineleri (Support Vector Machines - SVM):** Verileri en iyi şekilde ayıran bir hiper düzlem bulmaya çalışır.\n",
    "  * **K-En Yakın Komşular (K-Nearest Neighbors - KNN):** Yeni bir veri noktasını, en yakın komşususunun sınıfına göre sınıflandırır.\n",
    "  * **Yapay Sinir Ağaçları (Artificial Neural Networks - ANN):** İnsan beyninin yapısından esinlenerek oluşturulmuş, karmaşık kalıpları öğrenme yeteneğine sahip modellerdir. Derin Öğrenme'nin temelini oluşturur."
   ]
  },
  {
   "cell_type": "markdown",
   "id": "24c5c4c1",
   "metadata": {},
   "source": [
    "## 2.2 Denetimsiz Öğrenme (Unsupervised Learning)"
   ]
  },
  {
   "cell_type": "markdown",
   "id": "da87bace",
   "metadata": {},
   "source": [
    "Denetimsiz Öğrenme, modelin etiketsiz veri kümeleri üzerinde eğitildiği bir yöntemdir. Model, verilerdeki gizli yapıları, kalıpları veya ilişkileri kendi başına keşfetmetye çalışır. Çıktı değişkeni veya hedef etiket bulunmaz."
   ]
  },
  {
   "cell_type": "markdown",
   "id": "13c31f54",
   "metadata": {},
   "source": [
    "**Temel Özellikler:**\n",
    "* Etiketsiz veri kullanılır.\n",
    "* Verilerdeki gizli yapıları ve kalıpları keşfeder.\n",
    "* **Kümeleme (Clustering), boyut indirgeme ve ilişkilendirme** gibi görevleri için kullanılır."
   ]
  },
  {
   "cell_type": "markdown",
   "id": "907e63af",
   "metadata": {},
   "source": [
    "**Yaygın Algoritmalar:**\n",
    "\n",
    "* **Kümeleme (Clustering):** Benzer veri noktalarını gruplara ayırmak için kullanılır. Örneğin, müşteri segmentasyonu, belge sınıflandırması.\n",
    "  * **K-Means Kümeleme (K-Means Clustering):** Veri noktaları K sayıda kümeye ayırır.\n",
    "  * **Hiyerarşik Kümeleme (Hierarchical Clustering):** Veri noktaları arasında hiyerarşik bir küme yapısı oluşturur.\n",
    "  * **DBSCAN (Density-Based Spatial Clustering Of Applications with Noise):** Yoğunluğa dayalı bir kümeleme algoritmasıdır.\n",
    "* **Boyut İndirgeme (Dimensionality Reduction):** Veri kümesindeki özellik sayısını azaltarak daha az önemli bilgileri ortadan kaldırır ve veri görselleştirmeyi veya model eğitimini kolaylaştırır. Yani, yüksek boyutlu verileri daha düşük boyutlu bir alana dönüştürme.\n",
    "  * **Temel Bileşen Analizi (Principal Component Analysis - PCA):** Veri setindeki varyansı en iyi açıklayan yeni, ilişkisiz özellikler (temel bileşenler) oluşturur.\n",
    "  * **t-SNE (t-Distributed Stochastic Neighbor Embedding):** Yüksek boyutlu verileri görselleştirmek için kullanılan doğrusal olmayan bir boyut indirgeme tekniğidir. Yani, yüksek boyutlu verileri düşük boyutlu (2D veya 3D) uzaylara indirgerken benzer verileri birbirine yakın konumlandırmaya çalışır.\n",
    "* **Birliktelik Kuralı Madenciliği (Association Rule Mining):** Büyük veri kümelerindeki öğeler arasındaki ilişkileri veya bağımlılıkları bulmak için kullanılır. Örneğin, market sepeti analizi (birlikte satın alınan ürünler).\n",
    "  * **Apriori Algoritması (Apriori Algorithm):** Sık geçen öğe kümelerini ve birliktelik kurallarını bulmak için kullanılır.\n"
   ]
  },
  {
   "cell_type": "markdown",
   "id": "37e30e2c",
   "metadata": {},
   "source": [
    "## 2.3 Pekiştirmeli Öğrenme (Reinforcement Learning)"
   ]
  },
  {
   "cell_type": "markdown",
   "id": "5d97628f",
   "metadata": {},
   "source": [
    "Pekiştirmeli Öğrenme, bir ajanın (agent) belirli bir ortamda (environment) etkileşim kurarak ve deneme-yanılma yoluyla öğrenmesii sağlayan bir yaklaşımdır. Ajan, yaptığı eylemlerin sonucunda ödüller (rewards) veya cezalar (penalties) alır ve bu geri bildirimlere dayanarak en iyi stratejiyi (policy) öğrenir."
   ]
  },
  {
   "cell_type": "markdown",
   "id": "1d605b43",
   "metadata": {},
   "source": [
    "**Temel Özellikler:**\n",
    "* Ajan, ortam ve ödül sistemi içerir.\n",
    "* Deneme-yanılma yoluyla öğrenir.\n",
    "* Oyun oynama, robotik ve otonom sistemler gibi dinamik ortamlar için idealdir."
   ]
  },
  {
   "cell_type": "markdown",
   "id": "849b7d7c",
   "metadata": {},
   "source": [
    "**Yaygın Algoritmalar:**\n",
    "\n",
    "* **Q-Learning:** Ajanın her bir durum-eylem çifti için bir Q-değeri öğrenmesini sağlayan model tabanlı olmayan bir pekiştirmeli öğrenme algoritmasıdır.\n",
    "* **SARSA (State-Aciton-Reward-State-Action):** Q-Learning'e benzer ancak bir sonraki eylemi seçerken mevcut politikayı dikkate alır.\n",
    "* **Derin Pekiştirmeli Öğrenme (Deep Reinforcement Learning - DRL):** Pekiştirmeli öğrenmeyi derin öğrenme ile birleştirerek karmaşık ortamlarda daha iyi performans gösterir. Otonom sürüş gibi."
   ]
  },
  {
   "cell_type": "markdown",
   "id": "d9c407b0",
   "metadata": {},
   "source": [
    "# 3. Uygulama Alanları ve Örnekler"
   ]
  },
  {
   "cell_type": "markdown",
   "id": "22625d60",
   "metadata": {},
   "source": [
    "Makine öğreniminin uygulama alanları ve örnekleri:"
   ]
  },
  {
   "cell_type": "markdown",
   "id": "82d40034",
   "metadata": {},
   "source": [
    "## 3.1 Sağlık Sektörü"
   ]
  },
  {
   "cell_type": "markdown",
   "id": "67b368a9",
   "metadata": {},
   "source": [
    "* **Hastalık Teşhisi:** Görüntü işleme teknikleri (derin öğrenme ile) kullanılarak röntgen, MR ve CT taramalarından kanser, tümör gibi hastalıkların erken teşhisi.\n",
    "* **İlaç Keşfi:** Yeni ilaç moleküllerinin keşfi ve geliştirilmesi süreçlerinin hızlandırılması.\n",
    "* **Kişiselleştirilmiş Tıp:** Hastanın genetik yapısı, yaşam tarzı ve tıbbi geçmişine göre en uygun tedavi yöntemlerinin belirlenmesi.\n",
    "* **Epidemi Tahmini:** Salgın hastalıkların yayılma eğilimlerinin ve risk bölgelerinin tahmin edilmesi."
   ]
  },
  {
   "cell_type": "markdown",
   "id": "92ad71e5",
   "metadata": {},
   "source": [
    "## 3.2 Finans Sektörü"
   ]
  },
  {
   "cell_type": "markdown",
   "id": "f4ff39d3",
   "metadata": {},
   "source": [
    "* **Dolandırıcılık Tespiti:** Kredi kartı dolandırıcılığı, kara para aklama \n",
    "* **Kredi Riski Değerlendirmesi:** Bireylerin veya şirketlerin kredi geri ödeme yeteneklerinin değerlendirilmesi.\n",
    "* **Algoritmik Ticaret:** Hisse senedi piyasalarında otomaik alım-satım kararları alınması.\n",
    "* **Piyasa Tahmini:** Hisse senedi fiyatları, döviz kurları gibi finansal piyasa hareketlerinin tahmin edilmesi."
   ]
  },
  {
   "cell_type": "markdown",
   "id": "216c24f5",
   "metadata": {},
   "source": [
    "## 3.3 E-ticaret ve Pazarlama"
   ]
  },
  {
   "cell_type": "markdown",
   "id": "f5411dcf",
   "metadata": {},
   "source": [
    "* **öneri Sistemleri:** Kullanıcıların geçmiş davranışlarına ve tercihlerine göre ürün veya içerik önerileri sunulması (Amazon, Netflix).\n",
    "* **Müşteri Segmentasyonu:** Müşterilerin demografik özelliklerine, satın alma alışkanlıklarına ve dayanışlarına göre gruplara ayrılması.\n",
    "* **Fiyatlandırma Optimizasyonu:** Dinamik fiyatlandırma stratejileri ile ürünlerin en uygun fiyata satılması.\n",
    "* **Hedefli Reklamcılık:** Belirli müşteri gruplarına yönelik kişiselleştirilmiş reklam kampanyaları oluşturulması."
   ]
  },
  {
   "cell_type": "markdown",
   "id": "6b20e480",
   "metadata": {},
   "source": [
    "## 3.4 Otomativ Sektörü"
   ]
  },
  {
   "cell_type": "markdown",
   "id": "d4f4e3f1",
   "metadata": {},
   "source": [
    "* **Otonom Sürüş:** Araçların çevreyi algılaması, yol planlaması yapması ve güvenli bir şekilde kendine sürüş yapması.\n",
    "* **Tahmine Dayalı Bakım:** Araç parçalarının arızalanma olasılığının tahmin edilmesi ve bakimin önceden planlanması.\n",
    "* **Sürücü Destek Sistemleri:** Şerit takip, çarpışma önleme gibi güvenlik sistemleri."
   ]
  },
  {
   "cell_type": "markdown",
   "id": "de7048f8",
   "metadata": {},
   "source": [
    "## 3.5 Doğal Dil İşleme (NLP)"
   ]
  },
  {
   "cell_type": "markdown",
   "id": "dad22527",
   "metadata": {},
   "source": [
    "* **Metin Çevirisi:** Bir dilden başka bir dile otomatik çeviri (Google Translate).\n",
    "* **Duygu Analizi:** Metinlerdeki duygu tonunun (pozitif, negatif, nötr) belirlenmesi.\n",
    "* **Konuşma Tanıma:** Sesli komutların metne dönüştürülmesi (Siri, Google Asistant).\n",
    "* **Sohbet Robotları (Chatbots):** Müşteri hizmetleri, bilgi sağlama gibi görevler için insanlarla doğal dilde etkileşim kuran sistemler."
   ]
  },
  {
   "cell_type": "markdown",
   "id": "c31c8771",
   "metadata": {},
   "source": [
    "## 3.6 Görüntü İşleme ve Bilgisayar Görüsü"
   ]
  },
  {
   "cell_type": "markdown",
   "id": "b6a1c55b",
   "metadata": {},
   "source": [
    "* **Yüz Tanıma:** Güvenlik sistemleri, kimlik doğrulama gibi alanlarda yüzlerin tanınması.\n",
    "* **Nesne Algılama:** Görüntülerdeki veya videolardaki belirli nesnelerin tespiti ve konumlandırılması.\n",
    "* **Görüntü Sınıflandırma:** Görüntülerin içeriğine göre kategorilere ayrılması.\n",
    "* **Artırılmış Gerçeklik (Augmented Reality - AR):** Gerçek dünya görüntülerine sanal nesnelerin eklenmesi."
   ]
  },
  {
   "cell_type": "markdown",
   "id": "60d77b08",
   "metadata": {},
   "source": [
    "## 3.7 Siber Güvenlik"
   ]
  },
  {
   "cell_type": "markdown",
   "id": "1aca05ad",
   "metadata": {},
   "source": [
    "* **Anomali Tespiti:** Ağ trafiğindeki veya sistem davranışlarındaki anormal durumların tespiti.\n",
    "* **Kötü Amaçlı Yazılım Tespiti:** Virüs, trojan gibi kötü amaçlı yazılımların belirlenmesi.\n",
    "* **Saldırı Tespiti:** Siber saldırıların erken aşamada tespit edilmesi."
   ]
  }
 ],
 "metadata": {
  "language_info": {
   "name": "python"
  }
 },
 "nbformat": 4,
 "nbformat_minor": 5
}
