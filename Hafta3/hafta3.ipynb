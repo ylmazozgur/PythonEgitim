{
 "cells": [
  {
   "cell_type": "code",
   "execution_count": 1,
   "id": "601be540",
   "metadata": {},
   "outputs": [],
   "source": [
    "x = 5"
   ]
  },
  {
   "cell_type": "code",
   "execution_count": null,
   "id": "62a226dc",
   "metadata": {},
   "outputs": [
    {
     "name": "stdout",
     "output_type": "stream",
     "text": [
      "5\n"
     ]
    }
   ],
   "source": [
    "print(x)"
   ]
  },
  {
   "cell_type": "code",
   "execution_count": 3,
   "id": "187374f6",
   "metadata": {},
   "outputs": [],
   "source": [
    "y = 10"
   ]
  },
  {
   "cell_type": "code",
   "execution_count": 4,
   "id": "eb3164ee",
   "metadata": {},
   "outputs": [
    {
     "name": "stdout",
     "output_type": "stream",
     "text": [
      "15\n"
     ]
    }
   ],
   "source": [
    "print(x+y)"
   ]
  },
  {
   "cell_type": "code",
   "execution_count": 5,
   "id": "0a4becc5",
   "metadata": {},
   "outputs": [
    {
     "data": {
      "text/plain": [
       "int"
      ]
     },
     "execution_count": 5,
     "metadata": {},
     "output_type": "execute_result"
    }
   ],
   "source": [
    "type(x)"
   ]
  },
  {
   "cell_type": "code",
   "execution_count": 6,
   "id": "53c1e3b2",
   "metadata": {},
   "outputs": [],
   "source": [
    "x = \"bu bir string ifadedir.\""
   ]
  },
  {
   "cell_type": "code",
   "execution_count": 7,
   "id": "e92ebf23",
   "metadata": {},
   "outputs": [
    {
     "name": "stdout",
     "output_type": "stream",
     "text": [
      "bu bir string ifadedir.\n"
     ]
    }
   ],
   "source": [
    "print(x)"
   ]
  },
  {
   "cell_type": "code",
   "execution_count": 8,
   "id": "f08c30c3",
   "metadata": {},
   "outputs": [
    {
     "data": {
      "text/plain": [
       "str"
      ]
     },
     "execution_count": 8,
     "metadata": {},
     "output_type": "execute_result"
    }
   ],
   "source": [
    "type(x)"
   ]
  },
  {
   "cell_type": "code",
   "execution_count": 10,
   "id": "c014bcfc",
   "metadata": {},
   "outputs": [
    {
     "name": "stdout",
     "output_type": "stream",
     "text": [
      "3.7\n"
     ]
    }
   ],
   "source": [
    "y= 3.70\n",
    "print(y)"
   ]
  },
  {
   "cell_type": "code",
   "execution_count": 11,
   "id": "59daea58",
   "metadata": {},
   "outputs": [
    {
     "data": {
      "text/plain": [
       "float"
      ]
     },
     "execution_count": 11,
     "metadata": {},
     "output_type": "execute_result"
    }
   ],
   "source": [
    "type(y)"
   ]
  },
  {
   "cell_type": "code",
   "execution_count": null,
   "id": "c9e1c460",
   "metadata": {},
   "outputs": [
    {
     "name": "stdout",
     "output_type": "stream",
     "text": [
      "5\n",
      "<class 'int'>\n",
      "bu bir ifade\n",
      "<class 'str'>\n"
     ]
    }
   ],
   "source": [
    "x = 5\n",
    "print(x)\n",
    "print(type(x))\n",
    "\n",
    "\n",
    "\n",
    "\n",
    "x = \"bu bir ifade\"\n",
    "print(x)\n",
    "print(type(x))"
   ]
  },
  {
   "cell_type": "code",
   "execution_count": null,
   "id": "628383b4",
   "metadata": {},
   "outputs": [],
   "source": []
  },
  {
   "cell_type": "code",
   "execution_count": 14,
   "id": "4573a577",
   "metadata": {},
   "outputs": [],
   "source": [
    "def xyz (x,y,z,a):\n",
    "    pass"
   ]
  },
  {
   "cell_type": "code",
   "execution_count": null,
   "id": "22411e6b",
   "metadata": {},
   "outputs": [],
   "source": [
    "xyz()"
   ]
  },
  {
   "cell_type": "code",
   "execution_count": 15,
   "id": "0b6c5de3",
   "metadata": {},
   "outputs": [],
   "source": [
    "x = 5\n",
    "y = 10"
   ]
  },
  {
   "cell_type": "code",
   "execution_count": 16,
   "id": "9de5de48",
   "metadata": {},
   "outputs": [
    {
     "name": "stdout",
     "output_type": "stream",
     "text": [
      "5\n"
     ]
    }
   ],
   "source": [
    "if x<y:\n",
    "    print(x)"
   ]
  },
  {
   "cell_type": "code",
   "execution_count": 17,
   "id": "93d16dde",
   "metadata": {},
   "outputs": [],
   "source": [
    "if x>y:\n",
    "    print(x)"
   ]
  },
  {
   "cell_type": "code",
   "execution_count": 20,
   "id": "79e1090c",
   "metadata": {},
   "outputs": [
    {
     "name": "stdout",
     "output_type": "stream",
     "text": [
      "False\n"
     ]
    }
   ],
   "source": [
    "if not x>y:\n",
    "    print(x>y)"
   ]
  },
  {
   "cell_type": "code",
   "execution_count": 22,
   "id": "cfc050fc",
   "metadata": {},
   "outputs": [
    {
     "data": {
      "text/plain": [
       "True"
      ]
     },
     "execution_count": 22,
     "metadata": {},
     "output_type": "execute_result"
    }
   ],
   "source": [
    "x < y"
   ]
  },
  {
   "cell_type": "code",
   "execution_count": 18,
   "id": "0d30dd04",
   "metadata": {},
   "outputs": [
    {
     "name": "stdout",
     "output_type": "stream",
     "text": [
      "0\n",
      "1\n",
      "2\n",
      "3\n",
      "4\n"
     ]
    }
   ],
   "source": [
    "for i in range(5):\n",
    "    print(i)"
   ]
  },
  {
   "cell_type": "markdown",
   "id": "1528d58d",
   "metadata": {},
   "source": [
    "----"
   ]
  },
  {
   "cell_type": "markdown",
   "id": "557ca9b3",
   "metadata": {},
   "source": [
    "# Hafta 3 Başlagıç"
   ]
  },
  {
   "cell_type": "markdown",
   "id": "75883142",
   "metadata": {},
   "source": [
    "sdjkfhsdjfhsdjk"
   ]
  },
  {
   "cell_type": "code",
   "execution_count": 23,
   "id": "252a5fe0",
   "metadata": {},
   "outputs": [
    {
     "data": {
      "text/plain": [
       "'5'"
      ]
     },
     "execution_count": 23,
     "metadata": {},
     "output_type": "execute_result"
    }
   ],
   "source": [
    "input()"
   ]
  },
  {
   "cell_type": "code",
   "execution_count": null,
   "id": "c8c2b491",
   "metadata": {},
   "outputs": [],
   "source": [
    "n = input()"
   ]
  },
  {
   "cell_type": "code",
   "execution_count": null,
   "id": "43bafa9c",
   "metadata": {},
   "outputs": [],
   "source": [
    "r = input()"
   ]
  },
  {
   "cell_type": "code",
   "execution_count": 27,
   "id": "67419e26",
   "metadata": {},
   "outputs": [
    {
     "name": "stdout",
     "output_type": "stream",
     "text": [
      "ali ayşe\n"
     ]
    }
   ],
   "source": [
    "print(y)"
   ]
  },
  {
   "cell_type": "code",
   "execution_count": 30,
   "id": "8e323219",
   "metadata": {},
   "outputs": [
    {
     "name": "stdout",
     "output_type": "stream",
     "text": [
      "girilen n değeri: 5\n",
      "girilen r değeri: 3\n"
     ]
    }
   ],
   "source": [
    "n = input(\"n değerini giriniz:\")\n",
    "r = input(\"r değerini giriniz:\")\n",
    "print(\"girilen n değeri:\",n)\n",
    "print(\"girilen r değeri:\",y)"
   ]
  },
  {
   "cell_type": "code",
   "execution_count": 40,
   "id": "2779468b",
   "metadata": {},
   "outputs": [
    {
     "name": "stdout",
     "output_type": "stream",
     "text": [
      "f1'in değeri: 1\n",
      "f2'nin değer: 1\n",
      "f3'ün değeri: 1\n",
      "f1'in değeri: 2\n",
      "f2'nin değer: 2\n",
      "f3'ün değeri: 2\n",
      "f1'in değeri: 6\n",
      "f2'nin değer: 6\n",
      "f1'in değeri: 24\n",
      "f1'in değeri: 120\n",
      "10.0\n"
     ]
    }
   ],
   "source": [
    "n = 5\n",
    "r = 3\n",
    "f1 = 1\n",
    "f2 = 1\n",
    "f3 = 1\n",
    "for i in range(n):\n",
    "    i=i+1\n",
    "    f1 = f1*i\n",
    "    print(f\"f1'in değeri: {f1}\")\n",
    "\n",
    "    if i <= r:\n",
    "        f2 = f2*i\n",
    "        print(f\"f2'nin değer: {f2}\")\n",
    "    \n",
    "    if i <= (n-r):\n",
    "        f3 = f3*i\n",
    "        print(f\"f3'ün değeri: {f3}\")\n",
    "\n",
    "toplam = f1/(f2*f3)\n",
    "print(toplam)"
   ]
  },
  {
   "cell_type": "code",
   "execution_count": 46,
   "id": "55d2eaae",
   "metadata": {},
   "outputs": [
    {
     "name": "stdout",
     "output_type": "stream",
     "text": [
      "notların toplamı 10.0\n"
     ]
    }
   ],
   "source": [
    "print(f\"notların toplamı {toplam}\")"
   ]
  },
  {
   "cell_type": "markdown",
   "id": "d09be6e9",
   "metadata": {},
   "source": [
    "# Liste Yapısı"
   ]
  },
  {
   "cell_type": "code",
   "execution_count": 48,
   "id": "ff9072a6",
   "metadata": {},
   "outputs": [
    {
     "data": {
      "text/plain": [
       "[1, 2, 3.4, 'ifade', True, False]"
      ]
     },
     "execution_count": 48,
     "metadata": {},
     "output_type": "execute_result"
    }
   ],
   "source": [
    "[1,2,3,4]\n",
    "[1,2,3.40, \"ifade\", True, False]"
   ]
  },
  {
   "cell_type": "code",
   "execution_count": 50,
   "id": "55864802",
   "metadata": {},
   "outputs": [
    {
     "data": {
      "text/plain": [
       "['__add__',\n",
       " '__class__',\n",
       " '__class_getitem__',\n",
       " '__contains__',\n",
       " '__delattr__',\n",
       " '__delitem__',\n",
       " '__dir__',\n",
       " '__doc__',\n",
       " '__eq__',\n",
       " '__format__',\n",
       " '__ge__',\n",
       " '__getattribute__',\n",
       " '__getitem__',\n",
       " '__getstate__',\n",
       " '__gt__',\n",
       " '__hash__',\n",
       " '__iadd__',\n",
       " '__imul__',\n",
       " '__init__',\n",
       " '__init_subclass__',\n",
       " '__iter__',\n",
       " '__le__',\n",
       " '__len__',\n",
       " '__lt__',\n",
       " '__mul__',\n",
       " '__ne__',\n",
       " '__new__',\n",
       " '__reduce__',\n",
       " '__reduce_ex__',\n",
       " '__repr__',\n",
       " '__reversed__',\n",
       " '__rmul__',\n",
       " '__setattr__',\n",
       " '__setitem__',\n",
       " '__sizeof__',\n",
       " '__str__',\n",
       " '__subclasshook__',\n",
       " 'append',\n",
       " 'clear',\n",
       " 'copy',\n",
       " 'count',\n",
       " 'extend',\n",
       " 'index',\n",
       " 'insert',\n",
       " 'pop',\n",
       " 'remove',\n",
       " 'reverse',\n",
       " 'sort']"
      ]
     },
     "execution_count": 50,
     "metadata": {},
     "output_type": "execute_result"
    }
   ],
   "source": [
    "dir(list)"
   ]
  },
  {
   "cell_type": "code",
   "execution_count": 51,
   "id": "9f877a90",
   "metadata": {},
   "outputs": [],
   "source": [
    "liste = [1,2,3,\"a\",\"b\",True, False, 90.21, 94.5]"
   ]
  },
  {
   "cell_type": "code",
   "execution_count": 52,
   "id": "8495923a",
   "metadata": {},
   "outputs": [
    {
     "data": {
      "text/plain": [
       "9"
      ]
     },
     "execution_count": 52,
     "metadata": {},
     "output_type": "execute_result"
    }
   ],
   "source": [
    "len(liste)"
   ]
  },
  {
   "cell_type": "code",
   "execution_count": 53,
   "id": "45ca08b3",
   "metadata": {},
   "outputs": [
    {
     "data": {
      "text/plain": [
       "list"
      ]
     },
     "execution_count": 53,
     "metadata": {},
     "output_type": "execute_result"
    }
   ],
   "source": [
    "type(liste)"
   ]
  },
  {
   "cell_type": "code",
   "execution_count": 56,
   "id": "dea8f140",
   "metadata": {},
   "outputs": [
    {
     "data": {
      "text/plain": [
       "False"
      ]
     },
     "execution_count": 56,
     "metadata": {},
     "output_type": "execute_result"
    }
   ],
   "source": [
    "liste[6]"
   ]
  },
  {
   "cell_type": "code",
   "execution_count": null,
   "id": "40035788",
   "metadata": {},
   "outputs": [
    {
     "name": "stdout",
     "output_type": "stream",
     "text": [
      "<class 'int'>\n",
      "<class 'int'>\n",
      "<class 'int'>\n",
      "<class 'str'>\n",
      "<class 'str'>\n",
      "<class 'bool'>\n",
      "<class 'bool'>\n",
      "<class 'float'>\n",
      "<class 'float'>\n"
     ]
    }
   ],
   "source": [
    "liste = [1,2,3,\"a\",\"b\",True, False, 90.21, 94.5]\n",
    "for i in range(len(liste)):\n",
    "    print(type(liste[i]))"
   ]
  },
  {
   "cell_type": "code",
   "execution_count": 60,
   "id": "ecb3ff8c",
   "metadata": {},
   "outputs": [],
   "source": [
    "liste.append(\"elma\")"
   ]
  },
  {
   "cell_type": "code",
   "execution_count": 61,
   "id": "7204deb1",
   "metadata": {},
   "outputs": [
    {
     "data": {
      "text/plain": [
       "[1, 2, 3, 'a', 'b', True, False, 90.21, 94.5, 'elma']"
      ]
     },
     "execution_count": 61,
     "metadata": {},
     "output_type": "execute_result"
    }
   ],
   "source": [
    "liste"
   ]
  },
  {
   "cell_type": "code",
   "execution_count": 63,
   "id": "459703ce",
   "metadata": {},
   "outputs": [],
   "source": [
    "liste.remove(\"a\")"
   ]
  },
  {
   "cell_type": "code",
   "execution_count": 75,
   "id": "d630ead9",
   "metadata": {},
   "outputs": [
    {
     "data": {
      "text/plain": [
       "[2, 3, 'b', False, 90.21, 94.5, 'elma']"
      ]
     },
     "execution_count": 75,
     "metadata": {},
     "output_type": "execute_result"
    }
   ],
   "source": [
    "liste"
   ]
  },
  {
   "cell_type": "code",
   "execution_count": 76,
   "id": "78d49222",
   "metadata": {},
   "outputs": [],
   "source": [
    "liste.insert(2,\"a\")"
   ]
  },
  {
   "cell_type": "code",
   "execution_count": 77,
   "id": "682c7dbc",
   "metadata": {},
   "outputs": [
    {
     "data": {
      "text/plain": [
       "[2, 3, 'a', 'b', False, 90.21, 94.5, 'elma']"
      ]
     },
     "execution_count": 77,
     "metadata": {},
     "output_type": "execute_result"
    }
   ],
   "source": [
    "liste"
   ]
  },
  {
   "cell_type": "code",
   "execution_count": 90,
   "id": "33c8e9fa",
   "metadata": {},
   "outputs": [],
   "source": [
    "liste = [2, 3, 'a', 'b', False, 90.21, 94.5, 'elma']"
   ]
  },
  {
   "cell_type": "code",
   "execution_count": null,
   "id": "ba3e3517",
   "metadata": {},
   "outputs": [],
   "source": [
    "liste = liste + [\"kiraz\"]"
   ]
  },
  {
   "cell_type": "code",
   "execution_count": 92,
   "id": "f59fb966",
   "metadata": {},
   "outputs": [
    {
     "data": {
      "text/plain": [
       "[2, 3, 'a', 'b', False, 90.21, 94.5, 'elma', 'kiraz']"
      ]
     },
     "execution_count": 92,
     "metadata": {},
     "output_type": "execute_result"
    }
   ],
   "source": [
    "liste"
   ]
  },
  {
   "cell_type": "code",
   "execution_count": 97,
   "id": "1a6c0f4a",
   "metadata": {},
   "outputs": [],
   "source": [
    "koor = [1,2,3,[1,2,3],[44,[22,33],55,66],0]"
   ]
  },
  {
   "cell_type": "code",
   "execution_count": 98,
   "id": "86937513",
   "metadata": {},
   "outputs": [
    {
     "data": {
      "text/plain": [
       "[44, [22, 33], 55, 66]"
      ]
     },
     "execution_count": 98,
     "metadata": {},
     "output_type": "execute_result"
    }
   ],
   "source": [
    "koor[4]"
   ]
  },
  {
   "cell_type": "code",
   "execution_count": 100,
   "id": "66359cd7",
   "metadata": {},
   "outputs": [
    {
     "data": {
      "text/plain": [
       "[22, 33]"
      ]
     },
     "execution_count": 100,
     "metadata": {},
     "output_type": "execute_result"
    }
   ],
   "source": [
    "koor[4][1]"
   ]
  },
  {
   "cell_type": "code",
   "execution_count": 102,
   "id": "36969258",
   "metadata": {},
   "outputs": [
    {
     "data": {
      "text/plain": [
       "22"
      ]
     },
     "execution_count": 102,
     "metadata": {},
     "output_type": "execute_result"
    }
   ],
   "source": [
    "koor[4][1][0]"
   ]
  },
  {
   "cell_type": "code",
   "execution_count": 122,
   "id": "eb66724b",
   "metadata": {},
   "outputs": [],
   "source": [
    "liste2 = [1,3,50,0,12]"
   ]
  },
  {
   "cell_type": "code",
   "execution_count": 114,
   "id": "2f329bc9",
   "metadata": {},
   "outputs": [
    {
     "name": "stdout",
     "output_type": "stream",
     "text": [
      "[50, 12, 3, 1, 0]\n"
     ]
    }
   ],
   "source": [
    "liste2.sort()\n",
    "liste2\n",
    "liste2.reverse()\n",
    "print(liste2)"
   ]
  },
  {
   "cell_type": "code",
   "execution_count": 115,
   "id": "7528e113",
   "metadata": {},
   "outputs": [
    {
     "data": {
      "text/plain": [
       "12"
      ]
     },
     "execution_count": 115,
     "metadata": {},
     "output_type": "execute_result"
    }
   ],
   "source": [
    "liste2.pop(1)"
   ]
  },
  {
   "cell_type": "code",
   "execution_count": 125,
   "id": "b354c6c1",
   "metadata": {},
   "outputs": [
    {
     "data": {
      "text/plain": [
       "2"
      ]
     },
     "execution_count": 125,
     "metadata": {},
     "output_type": "execute_result"
    }
   ],
   "source": [
    "len(liste2)"
   ]
  },
  {
   "cell_type": "code",
   "execution_count": 136,
   "id": "e5d4334e",
   "metadata": {},
   "outputs": [],
   "source": [
    "liste3 = [1,2,3,4,5,6,7,8,9]\n",
    "liste4 = [\"ali\",\"şevval\",\"muhammet\", \"rabia\", \"kıymet\",\"zeynep\", \"neriman\"]"
   ]
  },
  {
   "cell_type": "code",
   "execution_count": 168,
   "id": "0aa8a116",
   "metadata": {},
   "outputs": [],
   "source": [
    "liste3[0] = \"str\""
   ]
  },
  {
   "cell_type": "code",
   "execution_count": 169,
   "id": "09364a76",
   "metadata": {},
   "outputs": [
    {
     "data": {
      "text/plain": [
       "['str', 2, 3, 4, 5, 6, 7, 8, 9]"
      ]
     },
     "execution_count": 169,
     "metadata": {},
     "output_type": "execute_result"
    }
   ],
   "source": [
    "liste3"
   ]
  },
  {
   "cell_type": "markdown",
   "id": "0395dfc6",
   "metadata": {},
   "source": [
    "----"
   ]
  },
  {
   "cell_type": "code",
   "execution_count": 150,
   "id": "943710a0",
   "metadata": {},
   "outputs": [],
   "source": [
    "tuple1 = ()"
   ]
  },
  {
   "cell_type": "code",
   "execution_count": 140,
   "id": "8481c794",
   "metadata": {},
   "outputs": [
    {
     "data": {
      "text/plain": [
       "tuple"
      ]
     },
     "execution_count": 140,
     "metadata": {},
     "output_type": "execute_result"
    }
   ],
   "source": [
    "type(tuple1)"
   ]
  },
  {
   "cell_type": "code",
   "execution_count": 161,
   "id": "48b2e8fd",
   "metadata": {},
   "outputs": [],
   "source": [
    "tuple1 = (True, 23, \"z\",(4,5,6,7), \"abc\")"
   ]
  },
  {
   "cell_type": "code",
   "execution_count": 164,
   "id": "31865817",
   "metadata": {},
   "outputs": [],
   "source": [
    "tuple1 = tuple1[::-1]"
   ]
  },
  {
   "cell_type": "code",
   "execution_count": 165,
   "id": "ca891a86",
   "metadata": {},
   "outputs": [
    {
     "data": {
      "text/plain": [
       "('abc', (4, 5, 6, 7), 'z', 23, True)"
      ]
     },
     "execution_count": 165,
     "metadata": {},
     "output_type": "execute_result"
    }
   ],
   "source": [
    "tuple1"
   ]
  },
  {
   "cell_type": "code",
   "execution_count": 162,
   "id": "0a9459ca",
   "metadata": {},
   "outputs": [
    {
     "data": {
      "text/plain": [
       "('abc', (4, 5, 6, 7), 'z', 23, True)"
      ]
     },
     "execution_count": 162,
     "metadata": {},
     "output_type": "execute_result"
    }
   ],
   "source": [
    "tuple1[::-1]"
   ]
  },
  {
   "cell_type": "code",
   "execution_count": 175,
   "id": "ba736829",
   "metadata": {},
   "outputs": [
    {
     "ename": "TypeError",
     "evalue": "'tuple' object does not support item assignment",
     "output_type": "error",
     "traceback": [
      "\u001b[31m---------------------------------------------------------------------------\u001b[39m",
      "\u001b[31mTypeError\u001b[39m                                 Traceback (most recent call last)",
      "\u001b[36mCell\u001b[39m\u001b[36m \u001b[39m\u001b[32mIn[175]\u001b[39m\u001b[32m, line 1\u001b[39m\n\u001b[32m----> \u001b[39m\u001b[32m1\u001b[39m \u001b[43mtuple1\u001b[49m\u001b[43m[\u001b[49m\u001b[32;43m3\u001b[39;49m\u001b[43m]\u001b[49m = \u001b[32m4\u001b[39m\n",
      "\u001b[31mTypeError\u001b[39m: 'tuple' object does not support item assignment"
     ]
    }
   ],
   "source": [
    "tuple1[3] = 4"
   ]
  },
  {
   "cell_type": "code",
   "execution_count": 181,
   "id": "da0fee13",
   "metadata": {},
   "outputs": [
    {
     "data": {
      "text/plain": [
       "1"
      ]
     },
     "execution_count": 181,
     "metadata": {},
     "output_type": "execute_result"
    }
   ],
   "source": [
    "# girilen elemanın kaç kez döndüğünü verir\n",
    "tuple1.count(\"z\")"
   ]
  },
  {
   "cell_type": "code",
   "execution_count": 182,
   "id": "3574f96c",
   "metadata": {},
   "outputs": [
    {
     "data": {
      "text/plain": [
       "2"
      ]
     },
     "execution_count": 182,
     "metadata": {},
     "output_type": "execute_result"
    }
   ],
   "source": [
    "#elemanın index değerini verir\n",
    "tuple1.index(\"z\") "
   ]
  },
  {
   "cell_type": "markdown",
   "id": "b6089f49",
   "metadata": {},
   "source": [
    "[()]\n",
    "\n",
    "([])"
   ]
  },
  {
   "cell_type": "code",
   "execution_count": 184,
   "id": "7bbbe352",
   "metadata": {},
   "outputs": [],
   "source": [
    "deneme1 = [1,2,3,(4,5,6),7,8,9]\n",
    "deneme2 = (1,2,3,[40,50,60],7,8,9)"
   ]
  },
  {
   "cell_type": "code",
   "execution_count": 187,
   "id": "cd183c4f",
   "metadata": {},
   "outputs": [
    {
     "ename": "TypeError",
     "evalue": "'tuple' object does not support item assignment",
     "output_type": "error",
     "traceback": [
      "\u001b[31m---------------------------------------------------------------------------\u001b[39m",
      "\u001b[31mTypeError\u001b[39m                                 Traceback (most recent call last)",
      "\u001b[36mCell\u001b[39m\u001b[36m \u001b[39m\u001b[32mIn[187]\u001b[39m\u001b[32m, line 2\u001b[39m\n\u001b[32m      1\u001b[39m \u001b[38;5;66;03m# Liste içerisindeki tuple listesinde herhangi bir değişiklik yapamam\u001b[39;00m\n\u001b[32m----> \u001b[39m\u001b[32m2\u001b[39m \u001b[43mdeneme1\u001b[49m\u001b[43m[\u001b[49m\u001b[32;43m3\u001b[39;49m\u001b[43m]\u001b[49m\u001b[43m[\u001b[49m\u001b[32;43m0\u001b[39;49m\u001b[43m]\u001b[49m = \u001b[32m44\u001b[39m\n",
      "\u001b[31mTypeError\u001b[39m: 'tuple' object does not support item assignment"
     ]
    }
   ],
   "source": [
    "# Liste içerisindeki tuple listesinde herhangi bir değişiklik yapamam\n",
    "deneme1[3][0] = 44"
   ]
  },
  {
   "cell_type": "code",
   "execution_count": 188,
   "id": "b8bf6dd9",
   "metadata": {},
   "outputs": [],
   "source": [
    "deneme1[0] = 0"
   ]
  },
  {
   "cell_type": "code",
   "execution_count": 189,
   "id": "14924288",
   "metadata": {},
   "outputs": [
    {
     "data": {
      "text/plain": [
       "[0, 2, 3, (4, 5, 6), 7, 8, 9]"
      ]
     },
     "execution_count": 189,
     "metadata": {},
     "output_type": "execute_result"
    }
   ],
   "source": [
    "deneme1"
   ]
  },
  {
   "cell_type": "code",
   "execution_count": 196,
   "id": "ed2b57e1",
   "metadata": {},
   "outputs": [
    {
     "data": {
      "text/plain": [
       "tuple"
      ]
     },
     "execution_count": 196,
     "metadata": {},
     "output_type": "execute_result"
    }
   ],
   "source": [
    "type(deneme2)"
   ]
  },
  {
   "cell_type": "code",
   "execution_count": 197,
   "id": "dc757944",
   "metadata": {},
   "outputs": [
    {
     "data": {
      "text/plain": [
       "list"
      ]
     },
     "execution_count": 197,
     "metadata": {},
     "output_type": "execute_result"
    }
   ],
   "source": [
    "type(deneme2[3])"
   ]
  },
  {
   "cell_type": "code",
   "execution_count": 193,
   "id": "d906ab26",
   "metadata": {},
   "outputs": [
    {
     "data": {
      "text/plain": [
       "(1, 2, 3, [40, 55, 60], 7, 8, 9)"
      ]
     },
     "execution_count": 193,
     "metadata": {},
     "output_type": "execute_result"
    }
   ],
   "source": [
    "deneme2"
   ]
  },
  {
   "cell_type": "code",
   "execution_count": 198,
   "id": "f94aa2f5",
   "metadata": {},
   "outputs": [],
   "source": [
    "deneme3 = (1, 2, 3, [40,(\"a\",[12,13,14],\"b\",\"c\"), 55, 60], 7, 8, 9)"
   ]
  },
  {
   "cell_type": "code",
   "execution_count": 201,
   "id": "e38d4b50",
   "metadata": {},
   "outputs": [
    {
     "data": {
      "text/plain": [
       "[40, ('a', [12, 13, 14], 'b', 'c'), 55, 60]"
      ]
     },
     "execution_count": 201,
     "metadata": {},
     "output_type": "execute_result"
    }
   ],
   "source": [
    "deneme3[3]"
   ]
  },
  {
   "cell_type": "code",
   "execution_count": 202,
   "id": "9679e772",
   "metadata": {},
   "outputs": [
    {
     "data": {
      "text/plain": [
       "('a', [12, 13, 14], 'b', 'c')"
      ]
     },
     "execution_count": 202,
     "metadata": {},
     "output_type": "execute_result"
    }
   ],
   "source": [
    "deneme3[3][1]"
   ]
  },
  {
   "cell_type": "code",
   "execution_count": 208,
   "id": "cb5e0105",
   "metadata": {},
   "outputs": [
    {
     "data": {
      "text/plain": [
       "('a', [12, 13, 14], 'b', 'c')"
      ]
     },
     "execution_count": 208,
     "metadata": {},
     "output_type": "execute_result"
    }
   ],
   "source": [
    "deneme3[3][1]"
   ]
  },
  {
   "cell_type": "code",
   "execution_count": 213,
   "id": "6b6d7486",
   "metadata": {},
   "outputs": [
    {
     "data": {
      "text/plain": [
       "tuple"
      ]
     },
     "execution_count": 213,
     "metadata": {},
     "output_type": "execute_result"
    }
   ],
   "source": [
    "type(deneme3[3][1] )"
   ]
  },
  {
   "cell_type": "code",
   "execution_count": 203,
   "id": "56ae4fdd",
   "metadata": {},
   "outputs": [
    {
     "data": {
      "text/plain": [
       "[12, 13, 14]"
      ]
     },
     "execution_count": 203,
     "metadata": {},
     "output_type": "execute_result"
    }
   ],
   "source": [
    "deneme3[3][1][1]"
   ]
  },
  {
   "cell_type": "code",
   "execution_count": 215,
   "id": "e311e9c6",
   "metadata": {},
   "outputs": [
    {
     "data": {
      "text/plain": [
       "(9, 8, 7, [40, ('a', [12, 13, 14], 'b', 'c'), 55, 60], 3, 2, 1)"
      ]
     },
     "execution_count": 215,
     "metadata": {},
     "output_type": "execute_result"
    }
   ],
   "source": [
    "deneme3[::-1]"
   ]
  },
  {
   "cell_type": "code",
   "execution_count": 216,
   "id": "820712a8",
   "metadata": {},
   "outputs": [
    {
     "data": {
      "text/plain": [
       "['__add__',\n",
       " '__class__',\n",
       " '__class_getitem__',\n",
       " '__contains__',\n",
       " '__delattr__',\n",
       " '__dir__',\n",
       " '__doc__',\n",
       " '__eq__',\n",
       " '__format__',\n",
       " '__ge__',\n",
       " '__getattribute__',\n",
       " '__getitem__',\n",
       " '__getnewargs__',\n",
       " '__getstate__',\n",
       " '__gt__',\n",
       " '__hash__',\n",
       " '__init__',\n",
       " '__init_subclass__',\n",
       " '__iter__',\n",
       " '__le__',\n",
       " '__len__',\n",
       " '__lt__',\n",
       " '__mul__',\n",
       " '__ne__',\n",
       " '__new__',\n",
       " '__reduce__',\n",
       " '__reduce_ex__',\n",
       " '__repr__',\n",
       " '__rmul__',\n",
       " '__setattr__',\n",
       " '__sizeof__',\n",
       " '__str__',\n",
       " '__subclasshook__',\n",
       " 'count',\n",
       " 'index']"
      ]
     },
     "execution_count": 216,
     "metadata": {},
     "output_type": "execute_result"
    }
   ],
   "source": [
    "dir(tuple)"
   ]
  },
  {
   "cell_type": "markdown",
   "id": "d0aeed29",
   "metadata": {},
   "source": [
    "---"
   ]
  },
  {
   "cell_type": "code",
   "execution_count": 219,
   "id": "7d35cbd4",
   "metadata": {},
   "outputs": [],
   "source": [
    "sozluk = { \"gulay\":\"kavhe\", \"rabia\":\"gozluk\"}"
   ]
  },
  {
   "cell_type": "code",
   "execution_count": null,
   "id": "fad225c5",
   "metadata": {},
   "outputs": [],
   "source": [
    "sozluk[\"gulay\"] = \"gözlük\""
   ]
  },
  {
   "cell_type": "code",
   "execution_count": 223,
   "id": "8b182700",
   "metadata": {},
   "outputs": [
    {
     "ename": "KeyError",
     "evalue": "0",
     "output_type": "error",
     "traceback": [
      "\u001b[31m---------------------------------------------------------------------------\u001b[39m",
      "\u001b[31mKeyError\u001b[39m                                  Traceback (most recent call last)",
      "\u001b[36mCell\u001b[39m\u001b[36m \u001b[39m\u001b[32mIn[223]\u001b[39m\u001b[32m, line 1\u001b[39m\n\u001b[32m----> \u001b[39m\u001b[32m1\u001b[39m \u001b[43msozluk\u001b[49m\u001b[43m[\u001b[49m\u001b[32;43m0\u001b[39;49m\u001b[43m]\u001b[49m\n",
      "\u001b[31mKeyError\u001b[39m: 0"
     ]
    }
   ],
   "source": [
    "sozluk[0]"
   ]
  },
  {
   "cell_type": "code",
   "execution_count": 230,
   "id": "ed51c392",
   "metadata": {},
   "outputs": [
    {
     "data": {
      "text/plain": [
       "dict_keys(['gulay', 'rabia'])"
      ]
     },
     "execution_count": 230,
     "metadata": {},
     "output_type": "execute_result"
    }
   ],
   "source": [
    "sozluk.keys()"
   ]
  },
  {
   "cell_type": "code",
   "execution_count": 232,
   "id": "8f84f49b",
   "metadata": {},
   "outputs": [],
   "source": [
    "sozluk1 = {\n",
    "    \"123\": \"şevval\",\n",
    "    \"1234\": \"zeynep\",\n",
    "    \"12345\": \"kıymet\",\n",
    "    \"123456\": \"neriman\",\n",
    "    \"1234567\": \"muhammet\",\n",
    "    \"12345678\": \"rabia\",\n",
    "    \"123456789\": \"gulay\"\n",
    "}"
   ]
  },
  {
   "cell_type": "code",
   "execution_count": 233,
   "id": "d9772203",
   "metadata": {},
   "outputs": [
    {
     "data": {
      "text/plain": [
       "{'123': 'şevval',\n",
       " '1234': 'zeynep',\n",
       " '12345': 'kıymet',\n",
       " '123456': 'neriman',\n",
       " '1234567': 'muhammet',\n",
       " '12345678': 'rabia',\n",
       " '123456789': 'gulay'}"
      ]
     },
     "execution_count": 233,
     "metadata": {},
     "output_type": "execute_result"
    }
   ],
   "source": [
    "sozluk1"
   ]
  },
  {
   "cell_type": "code",
   "execution_count": 234,
   "id": "c4beed94",
   "metadata": {},
   "outputs": [],
   "source": [
    "sozluk1[\"000\"] = \"sıfır\""
   ]
  },
  {
   "cell_type": "code",
   "execution_count": 235,
   "id": "2390e241",
   "metadata": {},
   "outputs": [
    {
     "data": {
      "text/plain": [
       "{'123': 'şevval',\n",
       " '1234': 'zeynep',\n",
       " '12345': 'kıymet',\n",
       " '123456': 'neriman',\n",
       " '1234567': 'muhammet',\n",
       " '12345678': 'rabia',\n",
       " '123456789': 'gulay',\n",
       " '000': 'sıfır'}"
      ]
     },
     "execution_count": 235,
     "metadata": {},
     "output_type": "execute_result"
    }
   ],
   "source": [
    "sozluk1"
   ]
  },
  {
   "cell_type": "code",
   "execution_count": 238,
   "id": "7a265fe7",
   "metadata": {},
   "outputs": [
    {
     "ename": "KeyError",
     "evalue": "slice(1, 5, None)",
     "output_type": "error",
     "traceback": [
      "\u001b[31m---------------------------------------------------------------------------\u001b[39m",
      "\u001b[31mKeyError\u001b[39m                                  Traceback (most recent call last)",
      "\u001b[36mCell\u001b[39m\u001b[36m \u001b[39m\u001b[32mIn[238]\u001b[39m\u001b[32m, line 2\u001b[39m\n\u001b[32m      1\u001b[39m \u001b[38;5;66;03m#slicing işlemleri yapılmaz.\u001b[39;00m\n\u001b[32m----> \u001b[39m\u001b[32m2\u001b[39m \u001b[43msozluk1\u001b[49m\u001b[43m[\u001b[49m\u001b[32;43m1\u001b[39;49m\u001b[43m:\u001b[49m\u001b[32;43m5\u001b[39;49m\u001b[43m]\u001b[49m\n",
      "\u001b[31mKeyError\u001b[39m: slice(1, 5, None)"
     ]
    }
   ],
   "source": [
    "#slicing işlemleri yapılmaz.\n",
    "sozluk1[1:5]"
   ]
  },
  {
   "cell_type": "code",
   "execution_count": 243,
   "id": "9f6880b6",
   "metadata": {},
   "outputs": [
    {
     "ename": "TypeError",
     "evalue": "pop expected at least 1 argument, got 0",
     "output_type": "error",
     "traceback": [
      "\u001b[31m---------------------------------------------------------------------------\u001b[39m",
      "\u001b[31mTypeError\u001b[39m                                 Traceback (most recent call last)",
      "\u001b[36mCell\u001b[39m\u001b[36m \u001b[39m\u001b[32mIn[243]\u001b[39m\u001b[32m, line 1\u001b[39m\n\u001b[32m----> \u001b[39m\u001b[32m1\u001b[39m \u001b[43msozluk1\u001b[49m\u001b[43m.\u001b[49m\u001b[43mpop\u001b[49m\u001b[43m(\u001b[49m\u001b[43m)\u001b[49m\n",
      "\u001b[31mTypeError\u001b[39m: pop expected at least 1 argument, got 0"
     ]
    }
   ],
   "source": [
    "sozluk1.pop()"
   ]
  },
  {
   "cell_type": "code",
   "execution_count": 240,
   "id": "bcafe783",
   "metadata": {},
   "outputs": [
    {
     "data": {
      "text/plain": [
       "{'123': 'şevval',\n",
       " '1234': 'zeynep',\n",
       " '12345': 'kıymet',\n",
       " '123456': 'neriman',\n",
       " '1234567': 'muhammet',\n",
       " '12345678': 'rabia',\n",
       " '123456789': 'gulay'}"
      ]
     },
     "execution_count": 240,
     "metadata": {},
     "output_type": "execute_result"
    }
   ],
   "source": [
    "sozluk1"
   ]
  },
  {
   "cell_type": "code",
   "execution_count": 241,
   "id": "4c7edafb",
   "metadata": {},
   "outputs": [
    {
     "data": {
      "text/plain": [
       "('123456789', 'gulay')"
      ]
     },
     "execution_count": 241,
     "metadata": {},
     "output_type": "execute_result"
    }
   ],
   "source": [
    "sozluk1.popitem()"
   ]
  },
  {
   "cell_type": "code",
   "execution_count": 242,
   "id": "b553870c",
   "metadata": {},
   "outputs": [
    {
     "data": {
      "text/plain": [
       "{'123': 'şevval',\n",
       " '1234': 'zeynep',\n",
       " '12345': 'kıymet',\n",
       " '123456': 'neriman',\n",
       " '1234567': 'muhammet',\n",
       " '12345678': 'rabia'}"
      ]
     },
     "execution_count": 242,
     "metadata": {},
     "output_type": "execute_result"
    }
   ],
   "source": [
    "sozluk1"
   ]
  },
  {
   "cell_type": "code",
   "execution_count": 244,
   "id": "51c0953c",
   "metadata": {},
   "outputs": [
    {
     "name": "stdout",
     "output_type": "stream",
     "text": [
      "{'123': 'şevval', '1234': 'zeynep', '123456': 'neriman', '1234567': 'muhammet', '12345678': 'rabia'}\n"
     ]
    }
   ],
   "source": [
    "sozluk1.pop(\"12345\")\n",
    "print(sozluk1)"
   ]
  },
  {
   "cell_type": "code",
   "execution_count": 249,
   "id": "9168ccaa",
   "metadata": {},
   "outputs": [
    {
     "data": {
      "text/plain": [
       "{'ş': None, 'e': None, 'v': None, 'a': None, 'l': None}"
      ]
     },
     "execution_count": 249,
     "metadata": {},
     "output_type": "execute_result"
    }
   ],
   "source": [
    "sozluk1.fromkeys(\"şevval\")"
   ]
  },
  {
   "cell_type": "code",
   "execution_count": 253,
   "id": "53c65e04",
   "metadata": {},
   "outputs": [
    {
     "data": {
      "text/plain": [
       "{'1': None}"
      ]
     },
     "execution_count": 253,
     "metadata": {},
     "output_type": "execute_result"
    }
   ],
   "source": [
    "sozluk2 ={\n",
    "    \"1\":\"ahmet\"\n",
    "}\n",
    "sozluk2.fromkeys('1')"
   ]
  },
  {
   "cell_type": "code",
   "execution_count": null,
   "id": "3ea912bc",
   "metadata": {},
   "outputs": [],
   "source": []
  }
 ],
 "metadata": {
  "kernelspec": {
   "display_name": "Python 3",
   "language": "python",
   "name": "python3"
  },
  "language_info": {
   "codemirror_mode": {
    "name": "ipython",
    "version": 3
   },
   "file_extension": ".py",
   "mimetype": "text/x-python",
   "name": "python",
   "nbconvert_exporter": "python",
   "pygments_lexer": "ipython3",
   "version": "3.13.3"
  }
 },
 "nbformat": 4,
 "nbformat_minor": 5
}
