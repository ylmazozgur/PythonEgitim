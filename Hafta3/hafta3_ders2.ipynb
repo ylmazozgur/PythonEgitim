{
 "cells": [
  {
   "cell_type": "code",
   "execution_count": 8,
   "id": "073951b7",
   "metadata": {},
   "outputs": [],
   "source": [
    "sozluk={'a':'pazartesi','b':'salı','c':'çarşamba'}"
   ]
  },
  {
   "cell_type": "code",
   "execution_count": 9,
   "id": "6885def4",
   "metadata": {},
   "outputs": [],
   "source": [
    "sozluk_Keys=list(sozluk.keys())"
   ]
  },
  {
   "cell_type": "code",
   "execution_count": 10,
   "id": "7a0f960f",
   "metadata": {},
   "outputs": [
    {
     "name": "stdout",
     "output_type": "stream",
     "text": [
      "['a', 'b', 'c']\n"
     ]
    }
   ],
   "source": [
    "print(sozluk_Keys)"
   ]
  },
  {
   "cell_type": "code",
   "execution_count": 11,
   "id": "68658902",
   "metadata": {},
   "outputs": [
    {
     "name": "stdout",
     "output_type": "stream",
     "text": [
      "b\n"
     ]
    }
   ],
   "source": [
    "print(sozluk_Keys[1])"
   ]
  },
  {
   "cell_type": "code",
   "execution_count": 13,
   "id": "aa70d922",
   "metadata": {},
   "outputs": [
    {
     "name": "stdout",
     "output_type": "stream",
     "text": [
      "a\n",
      "b\n",
      "c\n"
     ]
    }
   ],
   "source": [
    "for i in sozluk:\n",
    "    print(i)"
   ]
  },
  {
   "cell_type": "code",
   "execution_count": 14,
   "id": "c2daf10b",
   "metadata": {},
   "outputs": [
    {
     "name": "stdout",
     "output_type": "stream",
     "text": [
      "12\n",
      "True\n",
      "45\n",
      "False\n",
      "7.7\n",
      "bu bir string\n"
     ]
    }
   ],
   "source": [
    "liste = [12,True,45,False,7.7,\"bu bir string\"]\n",
    "\n",
    "for i in liste:\n",
    "    print(i)"
   ]
  },
  {
   "cell_type": "code",
   "execution_count": 17,
   "id": "36ca205e",
   "metadata": {},
   "outputs": [],
   "source": [
    "a = list([\"a\",\"b\",\"c\",1,2,2,3])"
   ]
  },
  {
   "cell_type": "code",
   "execution_count": 18,
   "id": "f5773fc8",
   "metadata": {},
   "outputs": [
    {
     "data": {
      "text/plain": [
       "['a', 'b', 'c', 1, 2, 2, 3]"
      ]
     },
     "execution_count": 18,
     "metadata": {},
     "output_type": "execute_result"
    }
   ],
   "source": [
    "a"
   ]
  },
  {
   "cell_type": "code",
   "execution_count": null,
   "id": "53525137",
   "metadata": {},
   "outputs": [],
   "source": []
  },
  {
   "cell_type": "code",
   "execution_count": null,
   "id": "0c19d69a",
   "metadata": {},
   "outputs": [],
   "source": []
  },
  {
   "cell_type": "markdown",
   "id": "7be29915",
   "metadata": {},
   "source": [
    "# Basit Sorular\n",
    "1. Boş bir liste nasıl oluşturulur?\n",
    "   \n",
    "2. meyveler = ['elma', 'armut', 'çilek'] listesinin ikinci elemanına (yani 'armut') nasıl erişilir?\n",
    "3. Yukarıdaki meyveler listesine sonuna 'muz' elemanını nasıl eklersiniz?\n",
    "4. sayilar = (10, 20, 30, 40) tuple'ının uzunluğu (eleman sayısı) nedir ve nasıl bulunur?\n",
    "5. İçinde sadece 5 ve 'merhaba' elemanları olan bir tuple nasıl oluşturulur?\n",
    "6. {'ad': 'Ayşe', 'yas': 30} şeklinde bir dictionary (sözlük) nasıl oluşturulur?\n",
    "7. Yukarıdaki dictionary'de 'yas' anahtarına karşılık gelen değere (yani 30) nasıl erişilir?\n",
    "8. Yukarıdaki dictionary'ye 'sehir': 'İstanbul' anahtar-değer çiftini nasıl eklersiniz?\n",
    "9.  for döngüsü ve range() fonksiyonunu kullanarak 0'dan 4'e kadar (4 dahil) olan sayıları ekrana yazdırın.\n",
    "10. rakamlar = [1, 5, 9] listesindeki her bir elemanı for döngüsü kullanarak alt alta ekrana yazdırın."
   ]
  },
  {
   "cell_type": "code",
   "execution_count": 21,
   "id": "97013693",
   "metadata": {},
   "outputs": [],
   "source": [
    "a=[]"
   ]
  },
  {
   "cell_type": "code",
   "execution_count": 22,
   "id": "4fd39533",
   "metadata": {},
   "outputs": [
    {
     "name": "stdout",
     "output_type": "stream",
     "text": [
      "<class 'list'>\n"
     ]
    }
   ],
   "source": [
    "print(type(a))"
   ]
  },
  {
   "cell_type": "code",
   "execution_count": 23,
   "id": "ba10d3e6",
   "metadata": {},
   "outputs": [],
   "source": [
    "meyveler=['elma','armut','çilek']"
   ]
  },
  {
   "cell_type": "code",
   "execution_count": 24,
   "id": "3e0539af",
   "metadata": {},
   "outputs": [
    {
     "data": {
      "text/plain": [
       "'armut'"
      ]
     },
     "execution_count": 24,
     "metadata": {},
     "output_type": "execute_result"
    }
   ],
   "source": [
    "meyveler[1]"
   ]
  },
  {
   "cell_type": "code",
   "execution_count": 27,
   "id": "0a36fe92",
   "metadata": {},
   "outputs": [],
   "source": [
    "# elma'nın index değeri: 0\n",
    "# armut'nın index değeri: 1\n",
    "# çilek'nın index değeri: 2"
   ]
  },
  {
   "cell_type": "code",
   "execution_count": 35,
   "id": "cb32b1e4",
   "metadata": {},
   "outputs": [
    {
     "name": "stdout",
     "output_type": "stream",
     "text": [
      "elma'nın index değeri:0\n",
      "armut'nın index değeri:1\n",
      "çilek'nın index değeri:2\n"
     ]
    }
   ],
   "source": [
    "for i in range(len(meyveler)):\n",
    "    print(f\"{meyveler[i]}'nın index değeri:{i}\")"
   ]
  },
  {
   "cell_type": "code",
   "execution_count": 37,
   "id": "19014458",
   "metadata": {},
   "outputs": [],
   "source": [
    "meyveler+=[\"muz\"]"
   ]
  },
  {
   "cell_type": "code",
   "execution_count": 38,
   "id": "56d5f3f9",
   "metadata": {},
   "outputs": [
    {
     "data": {
      "text/plain": [
       "['elma', 'armut', 'çilek', 'muz']"
      ]
     },
     "execution_count": 38,
     "metadata": {},
     "output_type": "execute_result"
    }
   ],
   "source": [
    "meyveler"
   ]
  },
  {
   "cell_type": "code",
   "execution_count": 39,
   "id": "79778483",
   "metadata": {},
   "outputs": [],
   "source": [
    "sayilar=(10,20,30,40)"
   ]
  },
  {
   "cell_type": "code",
   "execution_count": 40,
   "id": "e5f36f91",
   "metadata": {},
   "outputs": [
    {
     "name": "stdout",
     "output_type": "stream",
     "text": [
      "<class 'tuple'>\n"
     ]
    }
   ],
   "source": [
    "print(type(sayilar))"
   ]
  },
  {
   "cell_type": "code",
   "execution_count": 41,
   "id": "9aaa982a",
   "metadata": {},
   "outputs": [
    {
     "data": {
      "text/plain": [
       "4"
      ]
     },
     "execution_count": 41,
     "metadata": {},
     "output_type": "execute_result"
    }
   ],
   "source": [
    "len(sayilar)"
   ]
  },
  {
   "cell_type": "code",
   "execution_count": 42,
   "id": "5fdfd9b3",
   "metadata": {},
   "outputs": [],
   "source": [
    "b=(5,\"merhaba\")"
   ]
  },
  {
   "cell_type": "code",
   "execution_count": 43,
   "id": "161d254e",
   "metadata": {},
   "outputs": [
    {
     "name": "stdout",
     "output_type": "stream",
     "text": [
      "<class 'tuple'>\n"
     ]
    }
   ],
   "source": [
    "print(type(b))"
   ]
  },
  {
   "cell_type": "code",
   "execution_count": 44,
   "id": "53a86b60",
   "metadata": {},
   "outputs": [],
   "source": [
    "sozluk={\"ad\":\"ayse\",\"yas\":\"30\"}"
   ]
  },
  {
   "cell_type": "code",
   "execution_count": 45,
   "id": "de77db2a",
   "metadata": {},
   "outputs": [
    {
     "name": "stdout",
     "output_type": "stream",
     "text": [
      "<class 'dict'>\n"
     ]
    }
   ],
   "source": [
    "print(type(sozluk))"
   ]
  },
  {
   "cell_type": "code",
   "execution_count": 48,
   "id": "2ffe66b3",
   "metadata": {},
   "outputs": [
    {
     "data": {
      "text/plain": [
       "'30'"
      ]
     },
     "execution_count": 48,
     "metadata": {},
     "output_type": "execute_result"
    }
   ],
   "source": [
    "sozluk[\"yas\"]"
   ]
  },
  {
   "cell_type": "code",
   "execution_count": 53,
   "id": "b96d0431",
   "metadata": {},
   "outputs": [],
   "source": [
    "sozluk[\"sehir\"]=\"istanbul\""
   ]
  },
  {
   "cell_type": "code",
   "execution_count": 54,
   "id": "20d6d0fd",
   "metadata": {},
   "outputs": [
    {
     "data": {
      "text/plain": [
       "{'ad': 'ayse', 'yas': '30', 'sehir': 'istanbul'}"
      ]
     },
     "execution_count": 54,
     "metadata": {},
     "output_type": "execute_result"
    }
   ],
   "source": [
    "sozluk"
   ]
  },
  {
   "cell_type": "code",
   "execution_count": 55,
   "id": "499b00fe",
   "metadata": {},
   "outputs": [
    {
     "name": "stdout",
     "output_type": "stream",
     "text": [
      "0\n",
      "1\n",
      "2\n",
      "3\n",
      "4\n"
     ]
    }
   ],
   "source": [
    "for i in range(5):\n",
    "    print(i)"
   ]
  },
  {
   "cell_type": "code",
   "execution_count": 56,
   "id": "423984b9",
   "metadata": {},
   "outputs": [],
   "source": [
    "rakamlar=[1,5,9]"
   ]
  },
  {
   "cell_type": "code",
   "execution_count": 57,
   "id": "229363e4",
   "metadata": {},
   "outputs": [
    {
     "name": "stdout",
     "output_type": "stream",
     "text": [
      "1\n",
      "5\n",
      "9\n"
     ]
    }
   ],
   "source": [
    "for i in rakamlar:\n",
    "    print(i)"
   ]
  },
  {
   "cell_type": "code",
   "execution_count": 58,
   "id": "06af20cd",
   "metadata": {},
   "outputs": [
    {
     "name": "stdout",
     "output_type": "stream",
     "text": [
      "1\n",
      "5\n",
      "9\n"
     ]
    }
   ],
   "source": [
    "for i in range(len(rakamlar)):\n",
    "    print(rakamlar[i])"
   ]
  },
  {
   "cell_type": "code",
   "execution_count": null,
   "id": "010a7a78",
   "metadata": {},
   "outputs": [],
   "source": [
    "rakamlar=[1,5,9,4,8]\n",
    "rakamlar_tek=[]\n",
    "rakamlar_cift=[]\n"
   ]
  },
  {
   "cell_type": "code",
   "execution_count": 65,
   "id": "d1da4dd9",
   "metadata": {},
   "outputs": [
    {
     "name": "stdout",
     "output_type": "stream",
     "text": [
      "<class 'float'>\n"
     ]
    }
   ],
   "source": [
    "print(type(5/2))"
   ]
  },
  {
   "cell_type": "code",
   "execution_count": 97,
   "id": "c1ac91df",
   "metadata": {},
   "outputs": [
    {
     "name": "stdout",
     "output_type": "stream",
     "text": [
      "[1, 5, 9, 4, 8]\n",
      "[]\n"
     ]
    }
   ],
   "source": [
    "rakamlar_tek=[]\n",
    "rakamlar_cift=[]\n",
    "for i in rakamlar:\n",
    "    if type(i/2)==float:\n",
    "        rakamlar_tek.append(i)\n",
    "    else :\n",
    "        rakamlar_cift.append(i)\n",
    "print(rakamlar_tek)\n",
    "print(rakamlar_cift)"
   ]
  },
  {
   "cell_type": "code",
   "execution_count": 98,
   "id": "c0adcd1a",
   "metadata": {},
   "outputs": [],
   "source": [
    "a = 1/2"
   ]
  },
  {
   "cell_type": "code",
   "execution_count": 100,
   "id": "f399d723",
   "metadata": {},
   "outputs": [
    {
     "data": {
      "text/plain": [
       "'0.5'"
      ]
     },
     "execution_count": 100,
     "metadata": {},
     "output_type": "execute_result"
    }
   ],
   "source": [
    "str(a)"
   ]
  },
  {
   "cell_type": "code",
   "execution_count": 106,
   "id": "a3af530e",
   "metadata": {},
   "outputs": [
    {
     "name": "stdout",
     "output_type": "stream",
     "text": [
      "[4, 8]\n",
      "[1, 5, 9]\n"
     ]
    }
   ],
   "source": [
    "rakamlar_tek=[]\n",
    "rakamlar_cift=[]\n",
    "for i in rakamlar:\n",
    "    if i % 2 ==0:\n",
    "        rakamlar_tek.append(i)\n",
    "    else :\n",
    "        rakamlar_cift.append(i)\n",
    "print(rakamlar_tek)\n",
    "print(rakamlar_cift)"
   ]
  },
  {
   "cell_type": "markdown",
   "id": "10ae8caa",
   "metadata": {},
   "source": [
    "---"
   ]
  },
  {
   "cell_type": "markdown",
   "id": "b216ca74",
   "metadata": {},
   "source": [
    "While kullanımı"
   ]
  },
  {
   "cell_type": "code",
   "execution_count": null,
   "id": "79b7ae8f",
   "metadata": {},
   "outputs": [],
   "source": [
    "for i in range():\n",
    "    pass"
   ]
  },
  {
   "cell_type": "code",
   "execution_count": null,
   "id": "e96d62b2",
   "metadata": {},
   "outputs": [],
   "source": [
    "t=0\n",
    "i=1\n",
    "while i < 10:\n",
    "    t = t+i\n",
    "    i += 1\n",
    "    print(t)"
   ]
  },
  {
   "cell_type": "markdown",
   "id": "f7cb3fff",
   "metadata": {},
   "source": [
    "* Break\n",
    "* Continue"
   ]
  },
  {
   "cell_type": "code",
   "execution_count": 118,
   "id": "95f3bb11",
   "metadata": {},
   "outputs": [
    {
     "name": "stdout",
     "output_type": "stream",
     "text": [
      "0\n",
      "1\n",
      "3\n",
      "4\n"
     ]
    }
   ],
   "source": [
    "for i in range(5):\n",
    "    if i == 2:\n",
    "        continue\n",
    "    print(i)"
   ]
  },
  {
   "cell_type": "code",
   "execution_count": 119,
   "id": "c5c8afd2",
   "metadata": {},
   "outputs": [
    {
     "name": "stdout",
     "output_type": "stream",
     "text": [
      "5\n"
     ]
    }
   ],
   "source": [
    "for i in range(11):\n",
    "    if i == 5:\n",
    "        break\n",
    "print(i)"
   ]
  },
  {
   "cell_type": "code",
   "execution_count": 120,
   "id": "7a1fdba4",
   "metadata": {},
   "outputs": [
    {
     "name": "stdout",
     "output_type": "stream",
     "text": [
      "0\n",
      "1\n"
     ]
    }
   ],
   "source": [
    "i=0\n",
    "while i < 5:\n",
    "    if i == 2:\n",
    "        break\n",
    "    print(i)\n",
    "    i+=1"
   ]
  },
  {
   "cell_type": "code",
   "execution_count": 124,
   "id": "f126dc2d",
   "metadata": {},
   "outputs": [
    {
     "name": "stdout",
     "output_type": "stream",
     "text": [
      "4\n",
      "8\n"
     ]
    }
   ],
   "source": [
    "for i in range(4,11,4):\n",
    "    print(i)"
   ]
  },
  {
   "cell_type": "code",
   "execution_count": null,
   "id": "075566b5",
   "metadata": {},
   "outputs": [],
   "source": [
    "n= 5"
   ]
  },
  {
   "cell_type": "code",
   "execution_count": 131,
   "id": "a97acc02",
   "metadata": {},
   "outputs": [
    {
     "name": "stdout",
     "output_type": "stream",
     "text": [
      "1\n",
      "2\n",
      "3\n",
      "4\n"
     ]
    }
   ],
   "source": [
    "liste=[1,2,3,4]\n",
    "for i in range(1,len(liste)+1):\n",
    "    print(i)"
   ]
  },
  {
   "cell_type": "code",
   "execution_count": null,
   "id": "99fef184",
   "metadata": {},
   "outputs": [],
   "source": [
    "enumerate(), zip()"
   ]
  },
  {
   "cell_type": "code",
   "execution_count": 135,
   "id": "47649ec7",
   "metadata": {},
   "outputs": [
    {
     "name": "stdout",
     "output_type": "stream",
     "text": [
      "0 1\n",
      "1 2\n",
      "2 3\n",
      "3 4\n",
      "4 elma\n",
      "5 armut\n"
     ]
    }
   ],
   "source": [
    "liste=[1,2,3,4,\"elma\",\"armut\"]\n",
    "for i,j in enumerate(liste):\n",
    "    print(i,j)"
   ]
  },
  {
   "cell_type": "code",
   "execution_count": 134,
   "id": "bede967f",
   "metadata": {},
   "outputs": [
    {
     "data": {
      "text/plain": [
       "1"
      ]
     },
     "execution_count": 134,
     "metadata": {},
     "output_type": "execute_result"
    }
   ],
   "source": [
    "liste[0]"
   ]
  },
  {
   "cell_type": "code",
   "execution_count": 145,
   "id": "32b87566",
   "metadata": {},
   "outputs": [],
   "source": [
    "liste1 = [5,6,7,8]\n",
    "liste2 = [True, False,3.7,15]\n",
    "liste3 = [\"ahmet\",\"mehmet\",\"ali\"]\n",
    "a = zip(liste1,liste2,liste3)"
   ]
  },
  {
   "cell_type": "code",
   "execution_count": 144,
   "id": "a8a4a139",
   "metadata": {},
   "outputs": [
    {
     "name": "stdout",
     "output_type": "stream",
     "text": [
      "<zip object at 0x00000228547B6240>\n"
     ]
    }
   ],
   "source": [
    "print(a)"
   ]
  },
  {
   "cell_type": "markdown",
   "id": "7eb4d192",
   "metadata": {},
   "source": [
    "1. harfler = ['a', 'b', 'c', 'd', 'e', 'f'] listesinin 2. indeksinden başlayıp 5. indeksine kadar olan (5. indeks dahil değil) elemanlarını içeren yeni bir alt liste (yani ['c', 'd', 'e']) nasıl oluşturursunuz (slicing)?\n",
    "   \n",
    "2. isimler = ['Ali', 'Veli', 'Ayşe', 'Fatma'] listesinden 'Ayşe' ismini nasıl silersiniz?\n",
    "3. Verilen rakamlar = [1, 2, 3, 4, 5] listesindeki her sayının karesini alıp yeni bir liste [1, 4, 9, 16, 25] oluşturan kodu list comprehension kullanarak tek satırda yazınız.\n",
    "4. kisi = ('Ahmet', 35, 'Mühendis') tuple'ındaki değerleri sırasıyla ad, yas, meslek değişkenlerine tek bir satırda nasıl atarsınız (tuple unpacking)?\n",
    "5. Bir dictionary'deki ({'a': 1, 'b': 2, 'c': 3}) tüm anahtar-değer çiftlerini for döngüsü kullanarak \"anahtar -> değer\" formatında (örneğin \"a -> 1\") nasıl ekrana yazdırırsınız?"
   ]
  },
  {
   "cell_type": "code",
   "execution_count": 150,
   "id": "6678ddba",
   "metadata": {},
   "outputs": [
    {
     "name": "stdout",
     "output_type": "stream",
     "text": [
      "['c', 'd', 'e']\n"
     ]
    }
   ],
   "source": [
    "harfler = ['a', 'b', 'c', 'd', 'e', 'f']\n",
    "yeni_liste = harfler[2:5]\n",
    "print(yeni_liste)"
   ]
  },
  {
   "cell_type": "code",
   "execution_count": 152,
   "id": "406836d0",
   "metadata": {},
   "outputs": [
    {
     "name": "stdout",
     "output_type": "stream",
     "text": [
      "['Ali', 'Veli', 'Fatma']\n"
     ]
    }
   ],
   "source": [
    "isimler = ['Ali', 'Veli', 'Ayşe', 'Fatma']\n",
    "isimler.pop(2)\n",
    "print(isimler)\n"
   ]
  },
  {
   "cell_type": "code",
   "execution_count": 153,
   "id": "0157e3ab",
   "metadata": {},
   "outputs": [
    {
     "name": "stdout",
     "output_type": "stream",
     "text": [
      "[1, 4, 9, 16, 25]\n"
     ]
    }
   ],
   "source": [
    "rakamlar = [1, 2, 3, 4, 5]\n",
    "kareler_listesi = []\n",
    "\n",
    "for i in rakamlar:\n",
    "    kareler_listesi.append(i*i)\n",
    "print(kareler_listesi)"
   ]
  },
  {
   "cell_type": "code",
   "execution_count": 155,
   "id": "0ca6bc94",
   "metadata": {},
   "outputs": [
    {
     "data": {
      "text/plain": [
       "<zip at 0x22853e9e680>"
      ]
     },
     "execution_count": 155,
     "metadata": {},
     "output_type": "execute_result"
    }
   ],
   "source": [
    "kisi = ('Ahmet', 35, 'Mühendis')\n",
    "tuple_keys = ('ad','yas','meslek')\n",
    "zip(tuple_keys,kisi)"
   ]
  },
  {
   "cell_type": "code",
   "execution_count": 156,
   "id": "89d1c2d2",
   "metadata": {},
   "outputs": [
    {
     "name": "stdout",
     "output_type": "stream",
     "text": [
      "a->1\n",
      "b->2\n",
      "c->3\n"
     ]
    }
   ],
   "source": [
    "sozluk = {'a': 1, 'b': 2, 'c': 3}\n",
    "\n",
    "for i in sozluk:\n",
    "    print(f\"{i}->{sozluk[i]}\")"
   ]
  },
  {
   "cell_type": "markdown",
   "id": "093d65a8",
   "metadata": {},
   "source": [
    "* list comprehension\n",
    "* fonksiyonlar\n",
    "* class(sınıf)"
   ]
  },
  {
   "cell_type": "code",
   "execution_count": null,
   "id": "548b7116",
   "metadata": {},
   "outputs": [],
   "source": [
    "\n"
   ]
  },
  {
   "cell_type": "code",
   "execution_count": null,
   "id": "fcd44cbc",
   "metadata": {},
   "outputs": [],
   "source": []
  }
 ],
 "metadata": {
  "kernelspec": {
   "display_name": "Python 3",
   "language": "python",
   "name": "python3"
  },
  "language_info": {
   "codemirror_mode": {
    "name": "ipython",
    "version": 3
   },
   "file_extension": ".py",
   "mimetype": "text/x-python",
   "name": "python",
   "nbconvert_exporter": "python",
   "pygments_lexer": "ipython3",
   "version": "3.13.3"
  }
 },
 "nbformat": 4,
 "nbformat_minor": 5
}
