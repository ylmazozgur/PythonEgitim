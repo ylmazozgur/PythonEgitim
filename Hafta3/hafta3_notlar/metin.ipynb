{
 "cells": [
  {
   "cell_type": "code",
   "execution_count": 1,
   "id": "bd84ed5f",
   "metadata": {},
   "outputs": [],
   "source": [
    "metin = \"Sabah erkenden kalktım, pencereyi açar açmaz temiz hava yüzüme çarptı. Baharın gelişiyle birlikte hava adeta yenilenmiş gibiydi. Kuş sesleri arasında yürüyüşe çıktım ve hava o kadar güzel geldi ki derin bir nefes aldım. Parka vardığımda çocuklar top oynuyordu, onların enerjisi hava gibi tazeydi. Gökyüzü açık, hava ise serindi ama insanın içini ferahlatan türdendi. Banka oturup kitabımı açtım, çevremdeki hava sessizlikle doluydu. Sayfaları çevirirken rüzgâr hafifçe esti ve hava bir anda yaprak kokusuyla doldu. Yanımdan geçen yaşlı bir adam “Bu mevsimde hava hep böyle güzel olur,” dedi. Gülümsedim çünkü gerçekten hava insanı mutlu edecek kadar iyiydi. Eve dönerken son bir kez gökyüzüne baktım, hava hâlâ aynı güzellikteydi.\""
   ]
  },
  {
   "cell_type": "code",
   "execution_count": 2,
   "id": "b57b6d59",
   "metadata": {},
   "outputs": [],
   "source": [
    "bul_kelime = input(\"Bulunacak kelimeyi girin:\")"
   ]
  },
  {
   "cell_type": "code",
   "execution_count": 3,
   "id": "2afeaaaa",
   "metadata": {},
   "outputs": [],
   "source": [
    "bulunacak_sira = int(input(\"Bulunacak kelimenin sırası (5. hava kelimesini bul):\"))"
   ]
  },
  {
   "cell_type": "code",
   "execution_count": 4,
   "id": "54ef41a7",
   "metadata": {},
   "outputs": [
    {
     "name": "stdout",
     "output_type": "stream",
     "text": [
      "<class 'str'>\n",
      "<class 'int'>\n"
     ]
    }
   ],
   "source": [
    "print(type(bul_kelime))\n",
    "print(type(bulunacak_sira))"
   ]
  },
  {
   "cell_type": "code",
   "execution_count": null,
   "id": "137bf99a",
   "metadata": {},
   "outputs": [],
   "source": []
  },
  {
   "cell_type": "code",
   "execution_count": 12,
   "id": "7802285c",
   "metadata": {},
   "outputs": [
    {
     "name": "stdout",
     "output_type": "stream",
     "text": [
      "52\n"
     ]
    }
   ],
   "source": [
    "indeksT = metin.find(bul_kelime)+1\n",
    "print(indeksT)"
   ]
  },
  {
   "cell_type": "code",
   "execution_count": null,
   "id": "b9cd0857",
   "metadata": {},
   "outputs": [],
   "source": []
  },
  {
   "cell_type": "code",
   "execution_count": null,
   "id": "12de2952",
   "metadata": {},
   "outputs": [],
   "source": []
  },
  {
   "cell_type": "code",
   "execution_count": 8,
   "id": "5eab33ad",
   "metadata": {},
   "outputs": [
    {
     "name": "stdout",
     "output_type": "stream",
     "text": [
      "311\n"
     ]
    }
   ],
   "source": [
    "indeksi_bul = -1\n",
    "indeks_baslangici = 0\n",
    "for i in range(bulunacak_sira):\n",
    "    indeksi_bul = metin.find(bul_kelime, indeks_baslangici)\n",
    "    indeks_baslangici = indeksi_bul +1\n",
    "print(indeksi_bul) "
   ]
  }
 ],
 "metadata": {
  "kernelspec": {
   "display_name": "Python 3",
   "language": "python",
   "name": "python3"
  },
  "language_info": {
   "codemirror_mode": {
    "name": "ipython",
    "version": 3
   },
   "file_extension": ".py",
   "mimetype": "text/x-python",
   "name": "python",
   "nbconvert_exporter": "python",
   "pygments_lexer": "ipython3",
   "version": "3.11.3"
  }
 },
 "nbformat": 4,
 "nbformat_minor": 5
}
