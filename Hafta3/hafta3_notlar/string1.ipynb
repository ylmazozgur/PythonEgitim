{
 "cells": [
  {
   "cell_type": "markdown",
   "id": "a96e75b6",
   "metadata": {},
   "source": [
    "# String İfadeler ve Metotları"
   ]
  },
  {
   "cell_type": "code",
   "execution_count": 2,
   "id": "33f7986b",
   "metadata": {},
   "outputs": [],
   "source": [
    "metin = \"bugün hava çok güzel ve havanın vermiş olduğu temiz hava yerine pis havayı soluyor olmamız bizi üzüyor. \""
   ]
  },
  {
   "cell_type": "code",
   "execution_count": 3,
   "id": "99474624",
   "metadata": {},
   "outputs": [
    {
     "data": {
      "text/plain": [
       "'BUGÜN HAVA ÇOK GÜZEL VE HAVANIN VERMIŞ OLDUĞU TEMIZ HAVA YERINE PIS HAVAYI SOLUYOR OLMAMIZ BIZI ÜZÜYOR. '"
      ]
     },
     "execution_count": 3,
     "metadata": {},
     "output_type": "execute_result"
    }
   ],
   "source": [
    "# Büyük harfe dönüştürme\n",
    "metin.upper()"
   ]
  },
  {
   "cell_type": "code",
   "execution_count": 4,
   "id": "77179bc4",
   "metadata": {},
   "outputs": [
    {
     "data": {
      "text/plain": [
       "'bugün hava çok güzel ve havanın vermiş olduğu temiz hava yerine pis havayı soluyor olmamız bizi üzüyor. '"
      ]
     },
     "execution_count": 4,
     "metadata": {},
     "output_type": "execute_result"
    }
   ],
   "source": [
    "# Küçük harfe dönüştürme\n",
    "metin.lower()"
   ]
  },
  {
   "cell_type": "code",
   "execution_count": 5,
   "id": "0c31ff04",
   "metadata": {},
   "outputs": [
    {
     "data": {
      "text/plain": [
       "'Bugün Hava Çok Güzel Ve Havanın Vermiş Olduğu Temiz Hava Yerine Pis Havayı Soluyor Olmamız Bizi Üzüyor. '"
      ]
     },
     "execution_count": 5,
     "metadata": {},
     "output_type": "execute_result"
    }
   ],
   "source": [
    "# Her kelimenin ilk harfini büyük harfe dönüştürme\n",
    "metin.title()"
   ]
  },
  {
   "cell_type": "code",
   "execution_count": 6,
   "id": "bb1aa30e",
   "metadata": {},
   "outputs": [
    {
     "data": {
      "text/plain": [
       "'Bugün hava çok güzel ve havanın vermiş olduğu temiz hava yerine pis havayı soluyor olmamız bizi üzüyor. '"
      ]
     },
     "execution_count": 6,
     "metadata": {},
     "output_type": "execute_result"
    }
   ],
   "source": [
    "# Text'in ilk harfini büyük harfe dönüştürür. \n",
    "metin.capitalize()"
   ]
  },
  {
   "cell_type": "code",
   "execution_count": 7,
   "id": "20b6b55e",
   "metadata": {},
   "outputs": [
    {
     "data": {
      "text/plain": [
       "'bugün hava çok güzel ve havanın vermiş olduğu temiz hava yerine pis havayı soluyor olmamız bizi üzüyor.'"
      ]
     },
     "execution_count": 7,
     "metadata": {},
     "output_type": "execute_result"
    }
   ],
   "source": [
    "# metnin sağında ve solunda boşluklar varsa onları silelim.\n",
    "metin.strip()"
   ]
  },
  {
   "cell_type": "code",
   "execution_count": 24,
   "id": "744b9f08",
   "metadata": {},
   "outputs": [
    {
     "data": {
      "text/plain": [
       "['bugün',\n",
       " 'hava',\n",
       " 'çok',\n",
       " 'güzel',\n",
       " 've',\n",
       " 'havanın',\n",
       " 'vermiş',\n",
       " 'olduğu',\n",
       " 'temiz',\n",
       " 'hava',\n",
       " 'yerine',\n",
       " 'pis',\n",
       " 'havayı',\n",
       " 'soluyor',\n",
       " 'olmamız',\n",
       " 'bizi',\n",
       " 'üzüyor.']"
      ]
     },
     "execution_count": 24,
     "metadata": {},
     "output_type": "execute_result"
    }
   ],
   "source": [
    "# string ifademizdeki her kelimenin bir listenin elemanı haline dönüştürme işlemi\n",
    "metin.split()"
   ]
  },
  {
   "cell_type": "code",
   "execution_count": 25,
   "id": "c55df92d",
   "metadata": {},
   "outputs": [],
   "source": [
    "metin_liste = metin.split()"
   ]
  },
  {
   "cell_type": "markdown",
   "id": "d1aa4f06",
   "metadata": {},
   "source": [
    "* Peki ya listenin her elemanını tek bir string ifadeye nasıl dönüştürebilirim?\n",
    "  \n",
    "Yani ['bugün','hava','çok',...] gibi olan listenin elemanlarını tek bir string ifadeye \"bugün hava çok güzel ...\" şekline dönüştürmek istersek"
   ]
  },
  {
   "cell_type": "code",
   "execution_count": 10,
   "id": "c66ea22a",
   "metadata": {},
   "outputs": [],
   "source": [
    "# Peki ya listenin her elemanını tek bir string ifadeye nasıl dönüştürebilirim?\n",
    "metin = \" \".join(metin_liste)"
   ]
  },
  {
   "cell_type": "code",
   "execution_count": 11,
   "id": "24100d1d",
   "metadata": {},
   "outputs": [
    {
     "data": {
      "text/plain": [
       "'bugün hava çok güzel ve havanın vermiş olduğu temiz hava yerine pis havayı soluyor olmamız bizi üzüyor.'"
      ]
     },
     "execution_count": 11,
     "metadata": {},
     "output_type": "execute_result"
    }
   ],
   "source": [
    "metin"
   ]
  },
  {
   "cell_type": "code",
   "execution_count": null,
   "id": "7a8028c0",
   "metadata": {},
   "outputs": [
    {
     "data": {
      "text/plain": [
       "6"
      ]
     },
     "execution_count": 35,
     "metadata": {},
     "output_type": "execute_result"
    }
   ],
   "source": [
    "# hava kelimesinin ifademizde ilk nerede geçtiği bulalım. Bulacağımız olan indeks sayısını alacağız\n",
    "metin.find(\"hava\")"
   ]
  },
  {
   "cell_type": "code",
   "execution_count": 38,
   "id": "87d76451",
   "metadata": {},
   "outputs": [
    {
     "data": {
      "text/plain": [
       "True"
      ]
     },
     "execution_count": 38,
     "metadata": {},
     "output_type": "execute_result"
    }
   ],
   "source": [
    "# ifadenin ilk harfinin \"b\" ile başlayıp başlamadığını nasıl öğrenebilirim?\n",
    "metin.startswith(\"b\")"
   ]
  },
  {
   "cell_type": "markdown",
   "id": "18b35208",
   "metadata": {},
   "source": [
    "---"
   ]
  },
  {
   "cell_type": "markdown",
   "id": "39c24767",
   "metadata": {},
   "source": [
    "* metin = \"bugün hava çok güzel ve havanın vermiş olduğu temiz hava yerine pis havayı soluyor olmamız bizi üzüyor. \" bu cümlenin ikinci kelimesinin \"h\" ile başladığını doğrulayalım."
   ]
  },
  {
   "cell_type": "code",
   "execution_count": 41,
   "id": "da0af2a1",
   "metadata": {},
   "outputs": [
    {
     "data": {
      "text/plain": [
       "True"
      ]
     },
     "execution_count": 41,
     "metadata": {},
     "output_type": "execute_result"
    }
   ],
   "source": [
    "metin_liste[1].startswith(\"h\")"
   ]
  },
  {
   "cell_type": "code",
   "execution_count": 43,
   "id": "42109ce0",
   "metadata": {},
   "outputs": [
    {
     "data": {
      "text/plain": [
       "'yarın hava çok güzel ve havanın vermiş olduğu temiz hava yerine pis havayı soluyor olmamız bizi üzüyor.'"
      ]
     },
     "execution_count": 43,
     "metadata": {},
     "output_type": "execute_result"
    }
   ],
   "source": [
    "# bugün kelimesini yarın ile nasıl değiştirebiliriz?\n",
    "metin.replace(\"bugün\", \"yarın\")"
   ]
  },
  {
   "cell_type": "code",
   "execution_count": null,
   "id": "f417c44e",
   "metadata": {},
   "outputs": [
    {
     "data": {
      "text/plain": [
       "'u'"
      ]
     },
     "execution_count": 19,
     "metadata": {},
     "output_type": "execute_result"
    }
   ],
   "source": []
  },
  {
   "cell_type": "code",
   "execution_count": 26,
   "id": "eb934640",
   "metadata": {},
   "outputs": [],
   "source": [
    "metin_liste[1], metin_liste[2] = metin_liste[2], metin_liste[1]"
   ]
  },
  {
   "cell_type": "code",
   "execution_count": 27,
   "id": "11a295c4",
   "metadata": {},
   "outputs": [
    {
     "data": {
      "text/plain": [
       "['bugün',\n",
       " 'çok',\n",
       " 'hava',\n",
       " 'güzel',\n",
       " 've',\n",
       " 'havanın',\n",
       " 'vermiş',\n",
       " 'olduğu',\n",
       " 'temiz',\n",
       " 'hava',\n",
       " 'yerine',\n",
       " 'pis',\n",
       " 'havayı',\n",
       " 'soluyor',\n",
       " 'olmamız',\n",
       " 'bizi',\n",
       " 'üzüyor.']"
      ]
     },
     "execution_count": 27,
     "metadata": {},
     "output_type": "execute_result"
    }
   ],
   "source": [
    "metin_liste"
   ]
  },
  {
   "cell_type": "code",
   "execution_count": 28,
   "id": "c0290a16",
   "metadata": {},
   "outputs": [
    {
     "data": {
      "text/plain": [
       "'bugün çok hava güzel ve havanın vermiş olduğu temiz hava yerine pis havayı soluyor olmamız bizi üzüyor.'"
      ]
     },
     "execution_count": 28,
     "metadata": {},
     "output_type": "execute_result"
    }
   ],
   "source": [
    "\" \".join(metin_liste)"
   ]
  },
  {
   "cell_type": "code",
   "execution_count": null,
   "id": "1bac09da",
   "metadata": {},
   "outputs": [],
   "source": []
  },
  {
   "cell_type": "code",
   "execution_count": null,
   "id": "02ad1aaa",
   "metadata": {},
   "outputs": [],
   "source": []
  }
 ],
 "metadata": {
  "kernelspec": {
   "display_name": "Python 3",
   "language": "python",
   "name": "python3"
  },
  "language_info": {
   "codemirror_mode": {
    "name": "ipython",
    "version": 3
   },
   "file_extension": ".py",
   "mimetype": "text/x-python",
   "name": "python",
   "nbconvert_exporter": "python",
   "pygments_lexer": "ipython3",
   "version": "3.11.3"
  }
 },
 "nbformat": 4,
 "nbformat_minor": 5
}
