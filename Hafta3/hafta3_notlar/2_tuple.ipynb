{
 "cells": [
  {
   "cell_type": "markdown",
   "id": "000493e9",
   "metadata": {},
   "source": [
    "# Tuple Yapısı\n",
    "\n",
    "* Tuple veri yapısı immutable yani içindeki verileri değiştiremeyiz.\n",
    "* Birden fazla veri tutmamızı sağlar.\n",
    "* Tanımlama şekli (eleman1, eleman2, eleman3, ...) şeklinde tanımlanır.\n",
    "* Farklı veri tiplerini saklayabilir.\n"
   ]
  },
  {
   "cell_type": "code",
   "execution_count": 1,
   "id": "c9f090c6",
   "metadata": {},
   "outputs": [],
   "source": [
    "tupleListe = (10,40, \"bir\", \"iki\", True, False, 3.70)"
   ]
  },
  {
   "cell_type": "code",
   "execution_count": 2,
   "id": "c5fcaa2c",
   "metadata": {},
   "outputs": [
    {
     "data": {
      "text/plain": [
       "(10, 40, 'bir', 'iki', True, False, 3.7)"
      ]
     },
     "execution_count": 2,
     "metadata": {},
     "output_type": "execute_result"
    }
   ],
   "source": [
    "tupleListe"
   ]
  },
  {
   "cell_type": "markdown",
   "id": "91086bcc",
   "metadata": {},
   "source": [
    "* Slicing işlemleri yapılabilir."
   ]
  },
  {
   "cell_type": "code",
   "execution_count": 9,
   "id": "c5d8b9d8",
   "metadata": {},
   "outputs": [
    {
     "name": "stdout",
     "output_type": "stream",
     "text": [
      "10\n",
      "(10, 40, 'bir', 'iki', True, False, 3.7)\n",
      "(10, 40, 'bir', 'iki', True, False, 3.7)\n",
      "(10, 'bir', True, 3.7)\n"
     ]
    }
   ],
   "source": [
    "print(tupleListe[0])\n",
    "print(tupleListe[::])\n",
    "print(tupleListe[::1])\n",
    "print(tupleListe[::2])"
   ]
  },
  {
   "cell_type": "code",
   "execution_count": 10,
   "id": "420f976d",
   "metadata": {},
   "outputs": [
    {
     "ename": "TypeError",
     "evalue": "'tuple' object does not support item assignment",
     "output_type": "error",
     "traceback": [
      "\u001b[1;31m---------------------------------------------------------------------------\u001b[0m",
      "\u001b[1;31mTypeError\u001b[0m                                 Traceback (most recent call last)",
      "Cell \u001b[1;32mIn[10], line 1\u001b[0m\n\u001b[1;32m----> 1\u001b[0m \u001b[43mtupleListe\u001b[49m\u001b[43m[\u001b[49m\u001b[38;5;241;43m0\u001b[39;49m\u001b[43m]\u001b[49m \u001b[38;5;241m=\u001b[39m \u001b[38;5;241m100\u001b[39m\n",
      "\u001b[1;31mTypeError\u001b[0m: 'tuple' object does not support item assignment"
     ]
    }
   ],
   "source": [
    "tupleListe[0] = 100"
   ]
  },
  {
   "cell_type": "code",
   "execution_count": 11,
   "id": "d4bfc8f6",
   "metadata": {},
   "outputs": [],
   "source": [
    "tupleListe1 = ( (10,40), \"bir\", \"iki\", True, False, 3.70)\n",
    "tupleListe2 = ( [10,40], \"bir\", \"iki\", True, False, 3.70)"
   ]
  },
  {
   "cell_type": "code",
   "execution_count": null,
   "id": "368b3c2c",
   "metadata": {},
   "outputs": [
    {
     "ename": "TypeError",
     "evalue": "'tuple' object does not support item assignment",
     "output_type": "error",
     "traceback": [
      "\u001b[1;31m---------------------------------------------------------------------------\u001b[0m",
      "\u001b[1;31mTypeError\u001b[0m                                 Traceback (most recent call last)",
      "Cell \u001b[1;32mIn[13], line 1\u001b[0m\n\u001b[1;32m----> 1\u001b[0m \u001b[43mtupleListe1\u001b[49m\u001b[43m[\u001b[49m\u001b[38;5;241;43m0\u001b[39;49m\u001b[43m]\u001b[49m\u001b[43m[\u001b[49m\u001b[38;5;241;43m0\u001b[39;49m\u001b[43m]\u001b[49m \u001b[38;5;241m=\u001b[39m \u001b[38;5;241m300\u001b[39m\n",
      "\u001b[1;31mTypeError\u001b[0m: 'tuple' object does not support item assignment"
     ]
    }
   ],
   "source": [
    "tupleListe1[0][0] = 300"
   ]
  },
  {
   "cell_type": "code",
   "execution_count": 14,
   "id": "7b4675ec",
   "metadata": {},
   "outputs": [
    {
     "name": "stdout",
     "output_type": "stream",
     "text": [
      "([300, 40], 'bir', 'iki', True, False, 3.7)\n"
     ]
    }
   ],
   "source": [
    "tupleListe2[0][0] = 300\n",
    "print(tupleListe2)"
   ]
  },
  {
   "cell_type": "code",
   "execution_count": 17,
   "id": "43acb7eb",
   "metadata": {},
   "outputs": [
    {
     "name": "stdout",
     "output_type": "stream",
     "text": [
      "(1, 2, 3, 4, 5)\n"
     ]
    }
   ],
   "source": [
    "a = 1,2,3,4,5\n",
    "print(a)"
   ]
  },
  {
   "cell_type": "code",
   "execution_count": 18,
   "id": "93a7f591",
   "metadata": {},
   "outputs": [
    {
     "data": {
      "text/plain": [
       "['__add__',\n",
       " '__class__',\n",
       " '__class_getitem__',\n",
       " '__contains__',\n",
       " '__delattr__',\n",
       " '__dir__',\n",
       " '__doc__',\n",
       " '__eq__',\n",
       " '__format__',\n",
       " '__ge__',\n",
       " '__getattribute__',\n",
       " '__getitem__',\n",
       " '__getnewargs__',\n",
       " '__getstate__',\n",
       " '__gt__',\n",
       " '__hash__',\n",
       " '__init__',\n",
       " '__init_subclass__',\n",
       " '__iter__',\n",
       " '__le__',\n",
       " '__len__',\n",
       " '__lt__',\n",
       " '__mul__',\n",
       " '__ne__',\n",
       " '__new__',\n",
       " '__reduce__',\n",
       " '__reduce_ex__',\n",
       " '__repr__',\n",
       " '__rmul__',\n",
       " '__setattr__',\n",
       " '__sizeof__',\n",
       " '__str__',\n",
       " '__subclasshook__',\n",
       " 'count',\n",
       " 'index']"
      ]
     },
     "execution_count": 18,
     "metadata": {},
     "output_type": "execute_result"
    }
   ],
   "source": [
    "dir(tuple)"
   ]
  }
 ],
 "metadata": {
  "kernelspec": {
   "display_name": "Python 3",
   "language": "python",
   "name": "python3"
  },
  "language_info": {
   "codemirror_mode": {
    "name": "ipython",
    "version": 3
   },
   "file_extension": ".py",
   "mimetype": "text/x-python",
   "name": "python",
   "nbconvert_exporter": "python",
   "pygments_lexer": "ipython3",
   "version": "3.11.3"
  }
 },
 "nbformat": 4,
 "nbformat_minor": 5
}
