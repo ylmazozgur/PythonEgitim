{
 "cells": [
  {
   "cell_type": "markdown",
   "id": "7242ea6c",
   "metadata": {},
   "source": [
    "# Basit Sorular\n",
    "1. Boş bir liste nasıl oluşturulur?\n",
    "   \n",
    "2. meyveler = ['elma', 'armut', 'çilek'] listesinin ikinci elemanına (yani 'armut') nasıl erişilir?\n",
    "3. Yukarıdaki meyveler listesine sonuna 'muz' elemanını nasıl eklersiniz?\n",
    "4. sayilar = (10, 20, 30, 40) tuple'ının uzunluğu (eleman sayısı) nedir ve nasıl bulunur?\n",
    "5. İçinde sadece 5 ve 'merhaba' elemanları olan bir tuple nasıl oluşturulur?\n",
    "6. {'ad': 'Ayşe', 'yas': 30} şeklinde bir dictionary (sözlük) nasıl oluşturulur?\n",
    "7. Yukarıdaki dictionary'de 'yas' anahtarına karşılık gelen değere (yani 30) nasıl erişilir?\n",
    "8. Yukarıdaki dictionary'ye 'sehir': 'İstanbul' anahtar-değer çiftini nasıl eklersiniz?\n",
    "9.  for döngüsü ve range() fonksiyonunu kullanarak 0'dan 4'e kadar (4 dahil) olan sayıları ekrana yazdırın.\n",
    "10. rakamlar = [1, 5, 9] listesindeki her bir elemanı for döngüsü kullanarak alt alta ekrana yazdırın."
   ]
  },
  {
   "cell_type": "code",
   "execution_count": 2,
   "id": "42518173",
   "metadata": {},
   "outputs": [
    {
     "data": {
      "text/plain": [
       "list"
      ]
     },
     "execution_count": 2,
     "metadata": {},
     "output_type": "execute_result"
    }
   ],
   "source": [
    "#####################\n",
    "# 1\n",
    "#####################\n",
    "\n",
    "liste = []\n",
    "type(liste)"
   ]
  },
  {
   "cell_type": "code",
   "execution_count": 3,
   "id": "7bdfad41",
   "metadata": {},
   "outputs": [
    {
     "data": {
      "text/plain": [
       "'armut'"
      ]
     },
     "execution_count": 3,
     "metadata": {},
     "output_type": "execute_result"
    }
   ],
   "source": [
    "#####################\n",
    "# 2\n",
    "#####################\n",
    "meyveler = ['elma', 'armut', 'çilek']\n",
    "meyveler[1]"
   ]
  },
  {
   "cell_type": "code",
   "execution_count": 4,
   "id": "98aba01a",
   "metadata": {},
   "outputs": [
    {
     "data": {
      "text/plain": [
       "['elma', 'armut', 'çilek', 'muz']"
      ]
     },
     "execution_count": 4,
     "metadata": {},
     "output_type": "execute_result"
    }
   ],
   "source": [
    "#####################\n",
    "# 3\n",
    "#####################\n",
    "meyveler.append(\"muz\")\n",
    "meyveler"
   ]
  },
  {
   "cell_type": "code",
   "execution_count": 6,
   "id": "cf745f2c",
   "metadata": {},
   "outputs": [
    {
     "data": {
      "text/plain": [
       "4"
      ]
     },
     "execution_count": 6,
     "metadata": {},
     "output_type": "execute_result"
    }
   ],
   "source": [
    "#####################\n",
    "# 4\n",
    "#####################\n",
    "sayilar = (10, 20, 30, 40)\n",
    "len(sayilar)"
   ]
  },
  {
   "cell_type": "code",
   "execution_count": 7,
   "id": "9af4ed7a",
   "metadata": {},
   "outputs": [
    {
     "data": {
      "text/plain": [
       "(5, 'merhaba')"
      ]
     },
     "execution_count": 7,
     "metadata": {},
     "output_type": "execute_result"
    }
   ],
   "source": [
    "#####################\n",
    "# 5\n",
    "#####################\n",
    "liste_tuple = (5, 'merhaba')\n",
    "liste_tuple"
   ]
  },
  {
   "cell_type": "code",
   "execution_count": null,
   "id": "749f6c89",
   "metadata": {},
   "outputs": [
    {
     "data": {
      "text/plain": [
       "{'ad': 'Ayşe', 'yas': 30}"
      ]
     },
     "execution_count": 8,
     "metadata": {},
     "output_type": "execute_result"
    }
   ],
   "source": [
    "#####################\n",
    "# 6\n",
    "#####################\n",
    "ad_yas = {\"ad\": 'Ayşe', \"yas\":30}"
   ]
  },
  {
   "cell_type": "code",
   "execution_count": 9,
   "id": "f4386d79",
   "metadata": {},
   "outputs": [
    {
     "data": {
      "text/plain": [
       "30"
      ]
     },
     "execution_count": 9,
     "metadata": {},
     "output_type": "execute_result"
    }
   ],
   "source": [
    "#####################\n",
    "# 7\n",
    "#####################\n",
    "ad_yas[\"yas\"]"
   ]
  },
  {
   "cell_type": "code",
   "execution_count": 11,
   "id": "2e4aab69",
   "metadata": {},
   "outputs": [
    {
     "data": {
      "text/plain": [
       "{'ad': 'Ayşe', 'yas': 30, 'sehir': 'istanbul'}"
      ]
     },
     "execution_count": 11,
     "metadata": {},
     "output_type": "execute_result"
    }
   ],
   "source": [
    "#####################\n",
    "# 8\n",
    "#####################\n",
    "ad_yas[\"sehir\"] = \"istanbul\"\n",
    "ad_yas"
   ]
  },
  {
   "cell_type": "code",
   "execution_count": 12,
   "id": "1cc3262c",
   "metadata": {},
   "outputs": [
    {
     "name": "stdout",
     "output_type": "stream",
     "text": [
      "0\n",
      "1\n",
      "2\n",
      "3\n",
      "4\n"
     ]
    }
   ],
   "source": [
    "#####################\n",
    "# 9\n",
    "#####################\n",
    "for i in range(5):\n",
    "    print(i)"
   ]
  },
  {
   "cell_type": "code",
   "execution_count": 14,
   "id": "ad43d89b",
   "metadata": {},
   "outputs": [
    {
     "name": "stdout",
     "output_type": "stream",
     "text": [
      "1\n",
      "5\n",
      "9\n"
     ]
    }
   ],
   "source": [
    "#####################\n",
    "# 10\n",
    "#####################\n",
    "rakamlar = [1,5,9]\n",
    "for i in rakamlar:\n",
    "    print(i)"
   ]
  },
  {
   "cell_type": "markdown",
   "id": "269bc3ce",
   "metadata": {},
   "source": [
    "# Orta Seviye \n",
    "\n",
    "1. harfler = ['a', 'b', 'c', 'd', 'e', 'f'] listesinin 2. indeksinden başlayıp 5. indeksine kadar olan (5. indeks dahil değil) elemanlarını içeren yeni bir alt liste (yani ['c', 'd', 'e']) nasıl oluşturursunuz (slicing)?\n",
    "   \n",
    "2. isimler = ['Ali', 'Veli', 'Ayşe', 'Fatma'] listesinden 'Ayşe' ismini nasıl silersiniz?\n",
    "3. Verilen rakamlar = [1, 2, 3, 4, 5] listesindeki her sayının karesini alıp yeni bir liste [1, 4, 9, 16, 25] oluşturan kodu list comprehension kullanarak tek satırda yazınız.\n",
    "4. kisi = ('Ahmet', 35, 'Mühendis') tuple'ındaki değerleri sırasıyla ad, yas, meslek değişkenlerine tek bir satırda nasıl atarsınız (tuple unpacking)?\n",
    "5. Bir dictionary'deki ({'a': 1, 'b': 2, 'c': 3}) tüm anahtar-değer çiftlerini for döngüsü kullanarak \"anahtar -> değer\" formatında (örneğin \"a -> 1\") nasıl ekrana yazdırırsınız?"
   ]
  },
  {
   "cell_type": "code",
   "execution_count": null,
   "id": "70312ff2",
   "metadata": {},
   "outputs": [],
   "source": [
    "#####################\n",
    "# 1\n",
    "#####################\n",
    "harfler = ['a', 'b', 'c', 'd', 'e', 'f']\n",
    "harfler."
   ]
  },
  {
   "cell_type": "code",
   "execution_count": 15,
   "id": "89149462",
   "metadata": {},
   "outputs": [
    {
     "data": {
      "text/plain": [
       "['Ali', 'Veli', 'Fatma']"
      ]
     },
     "execution_count": 15,
     "metadata": {},
     "output_type": "execute_result"
    }
   ],
   "source": [
    "#####################\n",
    "# 2\n",
    "#####################\n",
    "isimler = ['Ali', 'Veli', 'Ayşe', 'Fatma']\n",
    "isimler.remove(\"Ayşe\")\n",
    "isimler"
   ]
  },
  {
   "cell_type": "code",
   "execution_count": 18,
   "id": "f7962c16",
   "metadata": {},
   "outputs": [
    {
     "name": "stdout",
     "output_type": "stream",
     "text": [
      "[1, 4, 9, 16, 25]\n"
     ]
    }
   ],
   "source": [
    "#####################\n",
    "# 3\n",
    "#####################\n",
    "newRakamlar =[]\n",
    "rakamlar = [1, 2, 3, 4, 5]\n",
    "for i in rakamlar:\n",
    "    newRakamlar.append(i**2)\n",
    "print(newRakamlar)"
   ]
  },
  {
   "cell_type": "code",
   "execution_count": 19,
   "id": "464cff15",
   "metadata": {},
   "outputs": [
    {
     "name": "stdout",
     "output_type": "stream",
     "text": [
      "Ahmet\n",
      "35\n",
      "Mühendis\n"
     ]
    }
   ],
   "source": [
    "#####################\n",
    "# 4\n",
    "#####################\n",
    "kisi = ('Ahmet', 35, 'Mühendis')\n",
    "ad, yas, meslek = kisi\n",
    "print(ad)\n",
    "print(yas)\n",
    "print(meslek)"
   ]
  },
  {
   "cell_type": "code",
   "execution_count": 21,
   "id": "60e608d6",
   "metadata": {},
   "outputs": [
    {
     "name": "stdout",
     "output_type": "stream",
     "text": [
      "a -> 1\n",
      "b -> 2\n",
      "c -> 3\n"
     ]
    }
   ],
   "source": [
    "#####################\n",
    "# 5\n",
    "#####################\n",
    "sozluk = {'a': 1, 'b': 2, 'c': 3}\n",
    "for i,j in sozluk.items():\n",
    "    print(f\"{i} -> {j}\")"
   ]
  },
  {
   "cell_type": "markdown",
   "id": "32aed6fa",
   "metadata": {},
   "source": [
    "# Zor Seviye Sorular\n",
    "\n",
    "1. Verilen bir listedeki ['elma', 'armut', 'elma', 'çilek', 'armut', 'elma'] her bir elemanın kaç kere tekrar ettiğini (frekansını) bulan ve sonucu bir dictionary olarak { 'elma': 3, 'armut': 2, 'çilek': 1 } şeklinde veren bir Python kodu yazınız.\n",
    "   \n",
    "2. İki liste verildiğinde, anahtarlar = ['marka', 'model', 'yil'] ve degerler = ['Toyota', 'Corolla', 2022], bu iki listeyi kullanarak {'marka': 'Toyota', 'model': 'Corolla', 'yil': 2022} şeklinde bir dictionary oluşturan kodu zip fonksiyonu ve dictionary comprehension veya sadece zip ve dict() kullanarak yazınız.\n",
    "3. İçinde öğrenci bilgileri (ad ve notları içeren dictionary'ler) barındıran bir liste bulunmaktadır: ogrenciler = [{'ad': 'Can', 'notlar': [80, 85, 90]}, {'ad': 'Ece', 'notlar': [95, 88, 92]}, {'ad': 'Demir', 'notlar': [70, 75, 80]}] Her öğrencinin not ortalamasını hesaplayan ve en yüksek ortalamaya sahip öğrencinin adını bulan bir kod yazınız.\n"
   ]
  },
  {
   "cell_type": "code",
   "execution_count": 3,
   "id": "6e0402f1",
   "metadata": {},
   "outputs": [
    {
     "name": "stdout",
     "output_type": "stream",
     "text": [
      "{'elma': 3, 'armut': 2, 'çilek': 1}\n"
     ]
    }
   ],
   "source": [
    "#####################\n",
    "# 1\n",
    "#####################\n",
    "\n",
    "get_list = ['elma', 'armut', 'elma', 'çilek', 'armut', 'elma']\n",
    "new_dict = {}\n",
    "for i in get_list:\n",
    "    number = get_list.count(i)\n",
    "    new_dict[i] = number\n",
    "print(new_dict)\n",
    "\n"
   ]
  },
  {
   "cell_type": "code",
   "execution_count": 68,
   "id": "6d5ad95e",
   "metadata": {},
   "outputs": [
    {
     "name": "stdout",
     "output_type": "stream",
     "text": [
      "{'marka': 'Toyota', 'model': 'Corolla', 'yil': 2022}\n"
     ]
    }
   ],
   "source": [
    "#####################\n",
    "# 2\n",
    "#####################\n",
    "anahtarlar = ['marka', 'model', 'yil'] \n",
    "degerler = ['Toyota', 'Corolla', 2022]\n",
    "new_dict = {}\n",
    "\n",
    "for i in range(len(anahtarlar)):\n",
    "    new_dict[anahtarlar[i]] = degerler[i]\n",
    "print(new_dict)\n",
    "\n"
   ]
  },
  {
   "cell_type": "code",
   "execution_count": 35,
   "id": "7d909d93",
   "metadata": {},
   "outputs": [
    {
     "name": "stdout",
     "output_type": "stream",
     "text": [
      "{'ad': 'Can', 'notlar': [80, 85, 90]}'nin not ortalaması 85\n",
      "{'ad': 'Ece', 'notlar': [95, 88, 92]}'nin not ortalaması 176\n",
      "{'ad': 'Demir', 'notlar': [70, 75, 80]}'nin not ortalaması 251\n"
     ]
    }
   ],
   "source": [
    "#####################\n",
    "# 3\n",
    "#####################\n",
    "\n",
    "ogrenciler = [{'ad': 'Can', 'notlar': [80, 85, 90]}, {'ad': 'Ece', 'notlar': [95, 88, 92]}, {'ad': 'Demir', 'notlar': [70, 75, 80]}]\n",
    "\n",
    "\n",
    "type(ogrenciler)\n",
    "ogrenciler[1][\"notlar\"][1]\n",
    "\n",
    "toplam = 0\n",
    "for i in range(len(ogrenciler)):\n",
    "    for j in range(len(ogrenciler[i][\"notlar\"])):\n",
    "        toplam = toplam + ogrenciler[i][\"notlar\"][j]\n",
    "        ort = toplam // 3\n",
    "    print(f\"{ogrenciler[i]}'nin not ortalaması {ort}\")"
   ]
  },
  {
   "cell_type": "code",
   "execution_count": null,
   "id": "6947463c",
   "metadata": {},
   "outputs": [
    {
     "name": "stdout",
     "output_type": "stream",
     "text": [
      "{'ad': 'Can', 'notlar': [80, 85, 90]}\n",
      "Can öğrencisinin not ortalaması: 85\n",
      "Ece öğrencisinin not ortalaması: 91\n",
      "Demir öğrencisinin not ortalaması: 75\n"
     ]
    }
   ],
   "source": [
    "#cevap\n",
    "ogrenciler = [{'ad': 'Can', 'notlar': [80, 85, 90]}, {'ad': 'Ece', 'notlar': [95, 88, 92]}, {'ad': 'Demir', 'notlar': [70, 75, 80]}]\n",
    "print(ogrenciler[0])\n",
    "\n",
    "for i in ogrenciler:\n",
    "    toplam = 0\n",
    "    for j in i[\"notlar\"]:\n",
    "        toplam = toplam + j\n",
    "        ort = toplam // 3\n",
    "    print(f\"{i['ad']} öğrencisinin not ortalaması: {ort}\")"
   ]
  }
 ],
 "metadata": {
  "kernelspec": {
   "display_name": "Python 3",
   "language": "python",
   "name": "python3"
  },
  "language_info": {
   "codemirror_mode": {
    "name": "ipython",
    "version": 3
   },
   "file_extension": ".py",
   "mimetype": "text/x-python",
   "name": "python",
   "nbconvert_exporter": "python",
   "pygments_lexer": "ipython3",
   "version": "3.11.3"
  }
 },
 "nbformat": 4,
 "nbformat_minor": 5
}
