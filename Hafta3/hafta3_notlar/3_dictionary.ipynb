{
 "cells": [
  {
   "cell_type": "markdown",
   "id": "25a87ffb",
   "metadata": {},
   "source": [
    "# Dictionary Yapısı\n",
    "\n",
    "* Sözlük yapısı **key** ve **value** değelerinden oluşur.\n",
    "* Sözlük yapısı **{ }** ile tanımlanır.\n",
    "* {key1:value1, key2:value2, ...}\n",
    "* Elemanlara ulaşmak için key'ler kullanılır."
   ]
  },
  {
   "cell_type": "code",
   "execution_count": 1,
   "id": "ecc8540e",
   "metadata": {},
   "outputs": [],
   "source": [
    "notlar = { \"Ozgur\":5, \"Eslin\": 50, \"Siren\": 80}"
   ]
  },
  {
   "cell_type": "code",
   "execution_count": 2,
   "id": "09a6e053",
   "metadata": {},
   "outputs": [
    {
     "data": {
      "text/plain": [
       "5"
      ]
     },
     "execution_count": 2,
     "metadata": {},
     "output_type": "execute_result"
    }
   ],
   "source": [
    "# Ozgur'un notunu ekrana getirelim\n",
    "notlar[\"Ozgur\"]"
   ]
  },
  {
   "cell_type": "markdown",
   "id": "40d44a4e",
   "metadata": {},
   "source": [
    "* İç içe sözlük kullanabiliriz."
   ]
  },
  {
   "cell_type": "code",
   "execution_count": 3,
   "id": "99980f9a",
   "metadata": {},
   "outputs": [],
   "source": [
    "ogrenciler = {\n",
    "    \"Ozgur\": {\"not\":5, \"ogrenci_no\": 404},\n",
    "    \"Eslin\": {\"not\":40, \"ogrenci_no\": 505},\n",
    "    \"Siren\": {\"not\": 80, \"ogrenci_no\": 606}\n",
    "}"
   ]
  },
  {
   "cell_type": "code",
   "execution_count": 6,
   "id": "d5ca4ce3",
   "metadata": {},
   "outputs": [
    {
     "data": {
      "text/plain": [
       "404"
      ]
     },
     "execution_count": 6,
     "metadata": {},
     "output_type": "execute_result"
    }
   ],
   "source": [
    "# Ozgur'un ogrenci numarasını yazdıralım\n",
    "ogrenciler[\"Ozgur\"][\"ogrenci_no\"]"
   ]
  },
  {
   "cell_type": "code",
   "execution_count": 8,
   "id": "7c24a8a2",
   "metadata": {},
   "outputs": [],
   "source": [
    "ogrenciler2 = {\n",
    "    1: {\"not\":5, \"ogrenci_no\": 404},\n",
    "    2: {\"not\":40, \"ogrenci_no\": 505},\n",
    "    3: {\"not\": 80, \"ogrenci_no\": 606}\n",
    "}"
   ]
  },
  {
   "cell_type": "code",
   "execution_count": 10,
   "id": "c7fef6ed",
   "metadata": {},
   "outputs": [
    {
     "data": {
      "text/plain": [
       "404"
      ]
     },
     "execution_count": 10,
     "metadata": {},
     "output_type": "execute_result"
    }
   ],
   "source": [
    "ogrenciler2[1][\"ogrenci_no\"]"
   ]
  },
  {
   "cell_type": "markdown",
   "id": "0d6f7c7c",
   "metadata": {},
   "source": [
    "* Hatalı yazılan notu nasıl değiştireceğiz?"
   ]
  },
  {
   "cell_type": "code",
   "execution_count": 11,
   "id": "a8dbb707",
   "metadata": {},
   "outputs": [],
   "source": [
    "ogrenciler[\"Ozgur\"][\"not\"] = 0"
   ]
  },
  {
   "cell_type": "code",
   "execution_count": 12,
   "id": "6c7923b3",
   "metadata": {},
   "outputs": [
    {
     "data": {
      "text/plain": [
       "{'Ozgur': {'not': 0, 'ogrenci_no': 404},\n",
       " 'Eslin': {'not': 40, 'ogrenci_no': 505},\n",
       " 'Siren': {'not': 80, 'ogrenci_no': 606}}"
      ]
     },
     "execution_count": 12,
     "metadata": {},
     "output_type": "execute_result"
    }
   ],
   "source": [
    "ogrenciler"
   ]
  },
  {
   "cell_type": "code",
   "execution_count": 14,
   "id": "c00e3527",
   "metadata": {},
   "outputs": [
    {
     "data": {
      "text/plain": [
       "3"
      ]
     },
     "execution_count": 14,
     "metadata": {},
     "output_type": "execute_result"
    }
   ],
   "source": [
    "# len fonksiyonu ogrenciler sözlüğündeki kaç tane key varsa onun sayısını verir.\n",
    "len(ogrenciler)"
   ]
  },
  {
   "cell_type": "markdown",
   "id": "6cab6349",
   "metadata": {},
   "source": [
    "* Yeni bir değişken (Öğrenci) nasıl ekleriz?"
   ]
  },
  {
   "cell_type": "code",
   "execution_count": 18,
   "id": "de212c23",
   "metadata": {},
   "outputs": [],
   "source": [
    "ogrenciler[\"Theta\"] = {\"not\": 100, \"ogrenci_no\":707}"
   ]
  },
  {
   "cell_type": "code",
   "execution_count": 19,
   "id": "2ca24dba",
   "metadata": {},
   "outputs": [
    {
     "data": {
      "text/plain": [
       "{'Ozgur': {'not': 0, 'ogrenci_no': 404},\n",
       " 'Eslin': {'not': 40, 'ogrenci_no': 505},\n",
       " 'Siren': {'not': 80, 'ogrenci_no': 606},\n",
       " 'Theta': {'not': 100, 'ogrenci_no': 707}}"
      ]
     },
     "execution_count": 19,
     "metadata": {},
     "output_type": "execute_result"
    }
   ],
   "source": [
    "ogrenciler"
   ]
  },
  {
   "cell_type": "markdown",
   "id": "1975b06b",
   "metadata": {},
   "source": [
    "* Öğrenciyi silelim"
   ]
  },
  {
   "cell_type": "code",
   "execution_count": 20,
   "id": "3a3ebf55",
   "metadata": {},
   "outputs": [
    {
     "data": {
      "text/plain": [
       "{'Ozgur': {'not': 0, 'ogrenci_no': 404},\n",
       " 'Eslin': {'not': 40, 'ogrenci_no': 505},\n",
       " 'Siren': {'not': 80, 'ogrenci_no': 606}}"
      ]
     },
     "execution_count": 20,
     "metadata": {},
     "output_type": "execute_result"
    }
   ],
   "source": [
    "del ogrenciler[\"Theta\"]\n",
    "ogrenciler"
   ]
  },
  {
   "cell_type": "code",
   "execution_count": 34,
   "id": "628745a2",
   "metadata": {},
   "outputs": [
    {
     "name": "stdout",
     "output_type": "stream",
     "text": [
      "Ozgur\n",
      "Eslin\n",
      "Siren\n"
     ]
    }
   ],
   "source": [
    "for i in ogrenciler:\n",
    "    print (i)"
   ]
  },
  {
   "cell_type": "code",
   "execution_count": null,
   "id": "f659e1b1",
   "metadata": {},
   "outputs": [],
   "source": [
    "ogrenciler.update()"
   ]
  },
  {
   "cell_type": "code",
   "execution_count": 21,
   "id": "b13fbfe1",
   "metadata": {},
   "outputs": [
    {
     "data": {
      "text/plain": [
       "['__class__',\n",
       " '__class_getitem__',\n",
       " '__contains__',\n",
       " '__delattr__',\n",
       " '__delitem__',\n",
       " '__dir__',\n",
       " '__doc__',\n",
       " '__eq__',\n",
       " '__format__',\n",
       " '__ge__',\n",
       " '__getattribute__',\n",
       " '__getitem__',\n",
       " '__getstate__',\n",
       " '__gt__',\n",
       " '__hash__',\n",
       " '__init__',\n",
       " '__init_subclass__',\n",
       " '__ior__',\n",
       " '__iter__',\n",
       " '__le__',\n",
       " '__len__',\n",
       " '__lt__',\n",
       " '__ne__',\n",
       " '__new__',\n",
       " '__or__',\n",
       " '__reduce__',\n",
       " '__reduce_ex__',\n",
       " '__repr__',\n",
       " '__reversed__',\n",
       " '__ror__',\n",
       " '__setattr__',\n",
       " '__setitem__',\n",
       " '__sizeof__',\n",
       " '__str__',\n",
       " '__subclasshook__',\n",
       " 'clear',\n",
       " 'copy',\n",
       " 'fromkeys',\n",
       " 'get',\n",
       " 'items',\n",
       " 'keys',\n",
       " 'pop',\n",
       " 'popitem',\n",
       " 'setdefault',\n",
       " 'update',\n",
       " 'values']"
      ]
     },
     "execution_count": 21,
     "metadata": {},
     "output_type": "execute_result"
    }
   ],
   "source": [
    "dir(dict)"
   ]
  },
  {
   "cell_type": "code",
   "execution_count": null,
   "id": "34728bce",
   "metadata": {},
   "outputs": [],
   "source": []
  },
  {
   "cell_type": "code",
   "execution_count": null,
   "id": "72927fab",
   "metadata": {},
   "outputs": [],
   "source": []
  },
  {
   "cell_type": "code",
   "execution_count": null,
   "id": "9a3b3d6f",
   "metadata": {},
   "outputs": [],
   "source": []
  }
 ],
 "metadata": {
  "kernelspec": {
   "display_name": "Python 3",
   "language": "python",
   "name": "python3"
  },
  "language_info": {
   "codemirror_mode": {
    "name": "ipython",
    "version": 3
   },
   "file_extension": ".py",
   "mimetype": "text/x-python",
   "name": "python",
   "nbconvert_exporter": "python",
   "pygments_lexer": "ipython3",
   "version": "3.11.3"
  }
 },
 "nbformat": 4,
 "nbformat_minor": 5
}
