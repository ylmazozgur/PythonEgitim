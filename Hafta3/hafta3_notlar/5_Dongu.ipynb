{
 "cells": [
  {
   "cell_type": "markdown",
   "id": "d3f7f23e",
   "metadata": {},
   "source": [
    "# While Döngüsü"
   ]
  },
  {
   "cell_type": "code",
   "execution_count": 4,
   "id": "d72704f7",
   "metadata": {},
   "outputs": [
    {
     "name": "stdout",
     "output_type": "stream",
     "text": [
      "10\n"
     ]
    }
   ],
   "source": [
    "x = 1\n",
    "while x < 10:\n",
    "    x += 1\n",
    "print(x)"
   ]
  },
  {
   "cell_type": "code",
   "execution_count": 2,
   "id": "ad75b58d",
   "metadata": {},
   "outputs": [
    {
     "name": "stdout",
     "output_type": "stream",
     "text": [
      "2\n",
      "4\n",
      "6\n",
      "8\n"
     ]
    }
   ],
   "source": [
    "x = 1\n",
    "while x < 10:\n",
    "    if x % 2 == 0:\n",
    "        print(x)\n",
    "    x += 1"
   ]
  },
  {
   "cell_type": "code",
   "execution_count": null,
   "id": "28089307",
   "metadata": {},
   "outputs": [],
   "source": [
    "isim = \"\"\n",
    "while not isim:\n",
    "    isim = input(\"isim gir:\")\n",
    "    #eğer isim girmezsek, girene kadar bu kod dönecek\n"
   ]
  },
  {
   "cell_type": "markdown",
   "id": "99b1f181",
   "metadata": {},
   "source": [
    "# While Ornek\n",
    "\n",
    "sayilar = [1,3,5,7,9,12,19,21]\n",
    "\n",
    "1. sayilar listesini while ile ekrana yazdırın\n",
    "2. Başlangıç ve bitiş değerlerini kullanıcadan alıp aradaki tüm tek sayıları ekrana yazdırın\n",
    "3. 1-100 arasındaki sayıları azalan şekilde yazdırın\n",
    "4. Kullanıcıdan alacağınız 5 sayıyı ekranda sıralı bir şekilde yazdırın\n",
    "5. Kullanıcıdan alacağınız sınırsız ürün bilgisini urunler listesi içinde saklayın\n",
    "   1. ürün sayısını kullanıcıya sorun\n",
    "   2. dictionary listesi yapısı (name, price) şeklinde olsun\n",
    "   3. ürün ekleme işlemi bittiğinde ürünleri ekranda while ile listeleyin"
   ]
  },
  {
   "cell_type": "code",
   "execution_count": 7,
   "id": "74adca66",
   "metadata": {},
   "outputs": [],
   "source": [
    "sayilar = [1,3,5,7,9,12,19,21]"
   ]
  },
  {
   "cell_type": "code",
   "execution_count": 8,
   "id": "49ffb867",
   "metadata": {},
   "outputs": [
    {
     "name": "stdout",
     "output_type": "stream",
     "text": [
      "1\n",
      "3\n",
      "5\n",
      "7\n",
      "9\n",
      "12\n",
      "19\n",
      "21\n"
     ]
    }
   ],
   "source": [
    "########\n",
    "# 1\n",
    "########\n",
    "i = 0\n",
    "while (i < len(sayilar)):\n",
    "    print(sayilar[i])\n",
    "    i += 1"
   ]
  },
  {
   "cell_type": "code",
   "execution_count": 14,
   "id": "cac94147",
   "metadata": {},
   "outputs": [
    {
     "name": "stdout",
     "output_type": "stream",
     "text": [
      "7\n",
      "9\n",
      "11\n",
      "13\n",
      "15\n"
     ]
    }
   ],
   "source": [
    "########\n",
    "# 2\n",
    "########\n",
    "baslangic_deger = int(input(\"başlangıç değeri girin:\"))\n",
    "bitis_deger = int(input(\"Bitiş değerini girin:\"))\n",
    "\n",
    "\n",
    "while baslangic_deger < bitis_deger:\n",
    "    baslangic_deger += 1\n",
    "    if baslangic_deger % 2 == 1:\n",
    "        print(baslangic_deger)\n",
    "\n",
    "    \n"
   ]
  },
  {
   "cell_type": "code",
   "execution_count": 15,
   "id": "29e0e2a0",
   "metadata": {},
   "outputs": [
    {
     "name": "stdout",
     "output_type": "stream",
     "text": [
      "100\n",
      "99\n",
      "98\n",
      "97\n",
      "96\n",
      "95\n",
      "94\n",
      "93\n",
      "92\n",
      "91\n",
      "90\n",
      "89\n",
      "88\n",
      "87\n",
      "86\n",
      "85\n",
      "84\n",
      "83\n",
      "82\n",
      "81\n",
      "80\n",
      "79\n",
      "78\n",
      "77\n",
      "76\n",
      "75\n",
      "74\n",
      "73\n",
      "72\n",
      "71\n",
      "70\n",
      "69\n",
      "68\n",
      "67\n",
      "66\n",
      "65\n",
      "64\n",
      "63\n",
      "62\n",
      "61\n",
      "60\n",
      "59\n",
      "58\n",
      "57\n",
      "56\n",
      "55\n",
      "54\n",
      "53\n",
      "52\n",
      "51\n",
      "50\n",
      "49\n",
      "48\n",
      "47\n",
      "46\n",
      "45\n",
      "44\n",
      "43\n",
      "42\n",
      "41\n",
      "40\n",
      "39\n",
      "38\n",
      "37\n",
      "36\n",
      "35\n",
      "34\n",
      "33\n",
      "32\n",
      "31\n",
      "30\n",
      "29\n",
      "28\n",
      "27\n",
      "26\n",
      "25\n",
      "24\n",
      "23\n",
      "22\n",
      "21\n",
      "20\n",
      "19\n",
      "18\n",
      "17\n",
      "16\n",
      "15\n",
      "14\n",
      "13\n",
      "12\n",
      "11\n",
      "10\n",
      "9\n",
      "8\n",
      "7\n",
      "6\n",
      "5\n",
      "4\n",
      "3\n",
      "2\n",
      "1\n"
     ]
    }
   ],
   "source": [
    "########\n",
    "# 3\n",
    "########\n",
    "i = 100\n",
    "while i > 0:\n",
    "    print(i)\n",
    "    i -=1"
   ]
  },
  {
   "cell_type": "code",
   "execution_count": 6,
   "id": "cc8c10a0",
   "metadata": {},
   "outputs": [
    {
     "name": "stdout",
     "output_type": "stream",
     "text": [
      "[0, 1, 12, 55, 100]\n"
     ]
    }
   ],
   "source": [
    "########\n",
    "# 4\n",
    "########\n",
    "deger = []\n",
    "\n",
    "i=0\n",
    "while i < 5:\n",
    "    sayi = int(input())\n",
    "    deger.append(sayi)\n",
    "    i += 1\n",
    "deger.sort()\n",
    "print(deger)"
   ]
  },
  {
   "cell_type": "code",
   "execution_count": null,
   "id": "0863318d",
   "metadata": {},
   "outputs": [
    {
     "name": "stdout",
     "output_type": "stream",
     "text": [
      "[{'name': 'yastık', 'price': 10}, {'name': 'polar', 'price': 15}, {'name': 'yüzük', 'price': 100}]\n",
      "[{'name': 'yastık', 'price': 10}, {'name': 'polar', 'price': 15}, {'name': 'yüzük', 'price': 100}]\n",
      "[{'name': 'yastık', 'price': 10}, {'name': 'polar', 'price': 15}, {'name': 'yüzük', 'price': 100}]\n"
     ]
    }
   ],
   "source": [
    "########\n",
    "# 5\n",
    "########\n",
    "\n",
    "urunler = []\n",
    "\n",
    "urun_sayisi = int(input(\"ürün sayısını girin:\"))\n",
    "i = 0\n",
    "\n",
    "while (i < urun_sayisi):\n",
    "    isim = input(\"ürünün ismi:\")\n",
    "    fiyat = int(input(\"ürünün fiyatı:\"))\n",
    "    urunler.append(\n",
    "        {\n",
    "            \"name\": isim, \"price\": fiyat\n",
    "        }\n",
    "    )\n",
    "    i += 1\n"
   ]
  },
  {
   "cell_type": "code",
   "execution_count": 9,
   "id": "8820cdae",
   "metadata": {},
   "outputs": [
    {
     "name": "stdout",
     "output_type": "stream",
     "text": [
      "ürün adı: yastık, ürün fiyatı: 10\n",
      "ürün adı: polar, ürün fiyatı: 15\n",
      "ürün adı: yüzük, ürün fiyatı: 100\n"
     ]
    }
   ],
   "source": [
    "for urun in urunler:\n",
    "    print(f\"ürün adı: {urun['name']}, ürün fiyatı: {urun['price']}\")"
   ]
  },
  {
   "cell_type": "markdown",
   "id": "c244dbea",
   "metadata": {},
   "source": [
    "# Break, Continue "
   ]
  },
  {
   "cell_type": "markdown",
   "id": "2e77d80f",
   "metadata": {},
   "source": [
    "* Break komutu döngüden çıkmayı sağlar.\n",
    "* Continue komutu ise o andaki döngüyü işleme katmadan bir sonraki döngüye geçer."
   ]
  },
  {
   "cell_type": "code",
   "execution_count": 1,
   "id": "1f48ecc7",
   "metadata": {},
   "outputs": [
    {
     "name": "stdout",
     "output_type": "stream",
     "text": [
      "0\n",
      "1\n",
      "3\n",
      "4\n"
     ]
    }
   ],
   "source": [
    "for i in range(5):\n",
    "    if i == 2:\n",
    "        continue\n",
    "    print(i)"
   ]
  },
  {
   "cell_type": "code",
   "execution_count": 2,
   "id": "7c2c6f27",
   "metadata": {},
   "outputs": [
    {
     "name": "stdout",
     "output_type": "stream",
     "text": [
      "0\n",
      "1\n"
     ]
    }
   ],
   "source": [
    "for i in range(5):\n",
    "    if i == 2:\n",
    "        break\n",
    "    print(i)"
   ]
  },
  {
   "cell_type": "markdown",
   "id": "959ad6f4",
   "metadata": {},
   "source": [
    "# range(), enumerate(), zip()"
   ]
  },
  {
   "cell_type": "code",
   "execution_count": null,
   "id": "00c85cf7",
   "metadata": {},
   "outputs": [
    {
     "name": "stdout",
     "output_type": "stream",
     "text": [
      "1\n",
      "2\n",
      "3\n",
      "4\n",
      "5\n",
      "6\n",
      "7\n",
      "8\n",
      "9\n"
     ]
    }
   ],
   "source": [
    "for i in range(1,10):\n",
    "    print(i)\n",
    "\n",
    "abs()\n",
    "callable()\n"
   ]
  },
  {
   "cell_type": "markdown",
   "id": "1de7db92",
   "metadata": {},
   "source": [
    "* enumerate() fonksiyonu bize index değerleri gerektiğinde kullanırız."
   ]
  },
  {
   "cell_type": "code",
   "execution_count": 18,
   "id": "256949af",
   "metadata": {},
   "outputs": [
    {
     "name": "stdout",
     "output_type": "stream",
     "text": [
      "0 selam\n",
      "1 4\n",
      "2 1\n",
      "3 3.9\n"
     ]
    }
   ],
   "source": [
    "dizi = [\"selam\", 4, 1, 3.90]\n",
    "\n",
    "for i,j in enumerate(dizi):\n",
    "    print(i,j)"
   ]
  },
  {
   "cell_type": "markdown",
   "id": "85f09b1a",
   "metadata": {},
   "source": [
    "* zip() fonksiyonu bize farklı iki veya daha fazla olan dizileri bir tuple değişkenine birleştirmemize olanak sağlar."
   ]
  },
  {
   "cell_type": "code",
   "execution_count": 21,
   "id": "b505198f",
   "metadata": {},
   "outputs": [
    {
     "name": "stdout",
     "output_type": "stream",
     "text": [
      "[(1, 'a'), (2, 's'), (3, 'd'), (4, 'q'), (5, 'w'), (6, 'e')]\n"
     ]
    }
   ],
   "source": [
    "dizi1 = [1,2,3,4,5,6]\n",
    "dizi2 = [\"a\",\"s\",\"d\",\"q\",\"w\",\"e\"]\n",
    "\n",
    "print(list(zip(dizi1,dizi2)))"
   ]
  },
  {
   "cell_type": "code",
   "execution_count": 22,
   "id": "7315fec6",
   "metadata": {},
   "outputs": [
    {
     "name": "stdout",
     "output_type": "stream",
     "text": [
      "(1, 'a')\n",
      "(2, 's')\n",
      "(3, 'd')\n",
      "(4, 'q')\n",
      "(5, 'w')\n",
      "(6, 'e')\n"
     ]
    }
   ],
   "source": [
    "for i in zip(dizi1,dizi2):\n",
    "    print(i)"
   ]
  },
  {
   "cell_type": "code",
   "execution_count": 25,
   "id": "a08f1a2f",
   "metadata": {},
   "outputs": [
    {
     "name": "stdout",
     "output_type": "stream",
     "text": [
      "1\n",
      "2\n",
      "3\n",
      "4\n",
      "5\n",
      "6\n"
     ]
    }
   ],
   "source": [
    "for i,j in zip(dizi1, dizi2):\n",
    "    print(i)"
   ]
  }
 ],
 "metadata": {
  "kernelspec": {
   "display_name": "Python 3",
   "language": "python",
   "name": "python3"
  },
  "language_info": {
   "codemirror_mode": {
    "name": "ipython",
    "version": 3
   },
   "file_extension": ".py",
   "mimetype": "text/x-python",
   "name": "python",
   "nbconvert_exporter": "python",
   "pygments_lexer": "ipython3",
   "version": "3.11.3"
  }
 },
 "nbformat": 4,
 "nbformat_minor": 5
}
