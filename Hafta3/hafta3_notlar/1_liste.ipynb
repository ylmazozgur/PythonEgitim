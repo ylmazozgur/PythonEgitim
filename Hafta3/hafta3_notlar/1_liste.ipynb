{
 "cells": [
  {
   "cell_type": "markdown",
   "id": "cc9ae4eb",
   "metadata": {},
   "source": [
    "# List Yapısı\n",
    "\n",
    "List yapısı mutable bir yapıdır. Yani içindeki veriler değiştirilebilir."
   ]
  },
  {
   "cell_type": "code",
   "execution_count": 3,
   "id": "a14d2105",
   "metadata": {},
   "outputs": [],
   "source": [
    "liste = [1,2,3,\"alfa\",\"beta\", True, False, 3.10, 5.5]"
   ]
  },
  {
   "cell_type": "code",
   "execution_count": 4,
   "id": "c0a41708",
   "metadata": {},
   "outputs": [
    {
     "data": {
      "text/plain": [
       "[1, 2, 3, 'alfa', 'beta', True, False, 3.1, 5.5]"
      ]
     },
     "execution_count": 4,
     "metadata": {},
     "output_type": "execute_result"
    }
   ],
   "source": [
    "liste"
   ]
  },
  {
   "cell_type": "markdown",
   "id": "6d8f0aa5",
   "metadata": {},
   "source": [
    "Listenin her bir elemanın tipini yazdıran programı yazın."
   ]
  },
  {
   "cell_type": "code",
   "execution_count": null,
   "id": "262848a4",
   "metadata": {},
   "outputs": [
    {
     "name": "stdout",
     "output_type": "stream",
     "text": [
      "<class 'int'>\n",
      "<class 'int'>\n",
      "<class 'int'>\n",
      "<class 'str'>\n",
      "<class 'str'>\n",
      "<class 'bool'>\n",
      "<class 'bool'>\n",
      "<class 'float'>\n",
      "<class 'float'>\n"
     ]
    }
   ],
   "source": [
    "for i in range(len(liste)):\n",
    "    print(type(liste[i]))"
   ]
  },
  {
   "cell_type": "code",
   "execution_count": 13,
   "id": "3ed28b67",
   "metadata": {},
   "outputs": [
    {
     "data": {
      "text/plain": [
       "[1, 2, 3, 'alfa', 'beta', True, False, 3.1, 5.5]"
      ]
     },
     "execution_count": 13,
     "metadata": {},
     "output_type": "execute_result"
    }
   ],
   "source": [
    "# listenin elemanlarını yine slicing işlemi yaparak alabiliriz.\n",
    "liste[::] # :: baştan sona kadar git demek"
   ]
  },
  {
   "cell_type": "code",
   "execution_count": 15,
   "id": "d27ffc3b",
   "metadata": {},
   "outputs": [
    {
     "data": {
      "text/plain": [
       "5.5"
      ]
     },
     "execution_count": 15,
     "metadata": {},
     "output_type": "execute_result"
    }
   ],
   "source": [
    "liste[-1] # son eleman"
   ]
  },
  {
   "cell_type": "code",
   "execution_count": 22,
   "id": "93c0dc7b",
   "metadata": {},
   "outputs": [
    {
     "data": {
      "text/plain": [
       "True"
      ]
     },
     "execution_count": 22,
     "metadata": {},
     "output_type": "execute_result"
    }
   ],
   "source": [
    "# alfa kelimesi listenin içinde mi ona bakalım.\n",
    "\"alfa\" in liste"
   ]
  },
  {
   "cell_type": "code",
   "execution_count": 26,
   "id": "f9ce85f7",
   "metadata": {},
   "outputs": [
    {
     "data": {
      "text/plain": [
       "[1, 2, 3, 'alfa', 'beta', True, False, 3.1, 'ali']"
      ]
     },
     "execution_count": 26,
     "metadata": {},
     "output_type": "execute_result"
    }
   ],
   "source": [
    "# listemize en sonundaki elemanını \"ali\" ile değiştirelim.\n",
    "liste[-1] = \"ali\"\n",
    "liste"
   ]
  },
  {
   "cell_type": "code",
   "execution_count": 27,
   "id": "1b7176d3",
   "metadata": {},
   "outputs": [
    {
     "data": {
      "text/plain": [
       "[1, 2, 3, 'alfa', 'beta', True, False, 3.1, 'ali', 'ahmet', 18]"
      ]
     },
     "execution_count": 27,
     "metadata": {},
     "output_type": "execute_result"
    }
   ],
   "source": [
    "# \"ahmet\" ve 18 değerlerini listeye ekle\n",
    "liste + [\"ahmet\", 18]"
   ]
  },
  {
   "cell_type": "code",
   "execution_count": 31,
   "id": "1d519851",
   "metadata": {},
   "outputs": [],
   "source": [
    "# son elemanı silin\n",
    "del liste[-1]"
   ]
  },
  {
   "cell_type": "code",
   "execution_count": null,
   "id": "5e0f9be0",
   "metadata": {},
   "outputs": [
    {
     "data": {
      "text/plain": [
       "[False, True, 'beta', 'alfa', 3, 2, 1]"
      ]
     },
     "execution_count": 34,
     "metadata": {},
     "output_type": "execute_result"
    }
   ],
   "source": [
    "# listeyi tersten yazdır\n",
    "liste[::-1]"
   ]
  },
  {
   "cell_type": "code",
   "execution_count": 38,
   "id": "19cf19b3",
   "metadata": {},
   "outputs": [],
   "source": [
    "liste1 = [1,2,3,4,5,56,76,7,8,8,23,12]\n",
    "liste2 = [\"a\", \"b\", \"c\", \"z\", \"d\", \"e\", \"f\", \"g\"]"
   ]
  },
  {
   "cell_type": "code",
   "execution_count": 39,
   "id": "7230be1f",
   "metadata": {},
   "outputs": [
    {
     "name": "stdout",
     "output_type": "stream",
     "text": [
      "1\n",
      "a\n",
      "76\n",
      "z\n"
     ]
    }
   ],
   "source": [
    "print(min(liste1))\n",
    "print(min(liste2))\n",
    "print(max(liste1))\n",
    "print(max(liste2))"
   ]
  },
  {
   "cell_type": "code",
   "execution_count": 40,
   "id": "1affe53d",
   "metadata": {},
   "outputs": [],
   "source": [
    "# listenin sonuna yeni bir eleman ekleyelim.\n",
    "liste.append(\"49\")\n",
    "liste.append(49)"
   ]
  },
  {
   "cell_type": "code",
   "execution_count": 42,
   "id": "b49c638e",
   "metadata": {},
   "outputs": [
    {
     "data": {
      "text/plain": [
       "[1, 2, 3, 'alfa', 'beta', True, False, '49', 49]"
      ]
     },
     "execution_count": 42,
     "metadata": {},
     "output_type": "execute_result"
    }
   ],
   "source": [
    "liste"
   ]
  },
  {
   "cell_type": "code",
   "execution_count": 49,
   "id": "3e19939e",
   "metadata": {},
   "outputs": [
    {
     "name": "stdout",
     "output_type": "stream",
     "text": [
      "['__add__', '__class__', '__class_getitem__', '__contains__', '__delattr__', '__delitem__', '__dir__', '__doc__', '__eq__', '__format__', '__ge__', '__getattribute__', '__getitem__', '__getstate__', '__gt__', '__hash__', '__iadd__', '__imul__', '__init__', '__init_subclass__', '__iter__', '__le__', '__len__', '__lt__', '__mul__', '__ne__', '__new__', '__reduce__', '__reduce_ex__', '__repr__', '__reversed__', '__rmul__', '__setattr__', '__setitem__', '__sizeof__', '__str__', '__subclasshook__', 'append', 'clear', 'copy', 'count', 'extend', 'index', 'insert', 'pop', 'remove', 'reverse', 'sort']\n"
     ]
    }
   ],
   "source": [
    "print(dir(list))"
   ]
  },
  {
   "cell_type": "code",
   "execution_count": 64,
   "id": "f2eefa0c",
   "metadata": {},
   "outputs": [],
   "source": [
    "# Birinci indekse yeni bir eleman ekleme. Başka bir indeks de olabilir.\n",
    "liste.insert(-1, \"ozgur\")"
   ]
  },
  {
   "cell_type": "code",
   "execution_count": 67,
   "id": "95eade26",
   "metadata": {},
   "outputs": [
    {
     "data": {
      "text/plain": [
       "[1, 2, 3, 'alfa', 'ozgur', 'beta', 'ozgur', True]"
      ]
     },
     "execution_count": 67,
     "metadata": {},
     "output_type": "execute_result"
    }
   ],
   "source": [
    "liste"
   ]
  },
  {
   "cell_type": "code",
   "execution_count": 66,
   "id": "c8c91e04",
   "metadata": {},
   "outputs": [
    {
     "data": {
      "text/plain": [
       "'ozgur'"
      ]
     },
     "execution_count": 66,
     "metadata": {},
     "output_type": "execute_result"
    }
   ],
   "source": [
    "# son elemanı listeden çıkartır. pop(0) -> birinci elemanı çıkartır\n",
    "liste.pop(0) "
   ]
  },
  {
   "cell_type": "code",
   "execution_count": null,
   "id": "bf18432f",
   "metadata": {},
   "outputs": [],
   "source": [
    "# 1 elemanını listeden çıkart\n",
    "liste.remove(1)"
   ]
  },
  {
   "cell_type": "code",
   "execution_count": 72,
   "id": "1e6d4161",
   "metadata": {},
   "outputs": [
    {
     "ename": "TypeError",
     "evalue": "'<' not supported between instances of 'str' and 'int'",
     "output_type": "error",
     "traceback": [
      "\u001b[1;31m---------------------------------------------------------------------------\u001b[0m",
      "\u001b[1;31mTypeError\u001b[0m                                 Traceback (most recent call last)",
      "Cell \u001b[1;32mIn[72], line 2\u001b[0m\n\u001b[0;32m      1\u001b[0m \u001b[38;5;66;03m# Sıralama işlemi yapılır\u001b[39;00m\n\u001b[1;32m----> 2\u001b[0m \u001b[43mliste\u001b[49m\u001b[38;5;241;43m.\u001b[39;49m\u001b[43msort\u001b[49m\u001b[43m(\u001b[49m\u001b[43m)\u001b[49m\n",
      "\u001b[1;31mTypeError\u001b[0m: '<' not supported between instances of 'str' and 'int'"
     ]
    }
   ],
   "source": [
    "# Sıralama işlemi yapılır\n",
    "liste.sort()"
   ]
  },
  {
   "cell_type": "code",
   "execution_count": null,
   "id": "016748b7",
   "metadata": {},
   "outputs": [
    {
     "data": {
      "text/plain": [
       "[True, 'ozgur', 'beta', 'ozgur', 'alfa', 3, 2]"
      ]
     },
     "execution_count": 77,
     "metadata": {},
     "output_type": "execute_result"
    }
   ],
   "source": [
    "# listeyi tersten yazdır.\n",
    "liste.reverse()\n",
    "liste"
   ]
  },
  {
   "cell_type": "code",
   "execution_count": 82,
   "id": "d6fcd3ba",
   "metadata": {},
   "outputs": [
    {
     "data": {
      "text/plain": [
       "2"
      ]
     },
     "execution_count": 82,
     "metadata": {},
     "output_type": "execute_result"
    }
   ],
   "source": [
    "# girilen elemanının kaç kere geçtiğini bul\n",
    "liste.count(\"ozgur\")"
   ]
  },
  {
   "cell_type": "code",
   "execution_count": null,
   "id": "63b92333",
   "metadata": {},
   "outputs": [],
   "source": []
  },
  {
   "cell_type": "code",
   "execution_count": null,
   "id": "ed66d290",
   "metadata": {},
   "outputs": [
    {
     "data": {
      "text/plain": [
       "[True, 'ozgur', 'beta', 'ozgur', 'alfa', 3, 2]"
      ]
     },
     "execution_count": 86,
     "metadata": {},
     "output_type": "execute_result"
    }
   ],
   "source": []
  },
  {
   "cell_type": "code",
   "execution_count": null,
   "id": "db0280b6",
   "metadata": {},
   "outputs": [],
   "source": []
  }
 ],
 "metadata": {
  "kernelspec": {
   "display_name": "Python 3",
   "language": "python",
   "name": "python3"
  },
  "language_info": {
   "codemirror_mode": {
    "name": "ipython",
    "version": 3
   },
   "file_extension": ".py",
   "mimetype": "text/x-python",
   "name": "python",
   "nbconvert_exporter": "python",
   "pygments_lexer": "ipython3",
   "version": "3.11.3"
  }
 },
 "nbformat": 4,
 "nbformat_minor": 5
}
