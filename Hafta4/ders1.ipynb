{
 "cells": [
  {
   "cell_type": "code",
   "execution_count": 2,
   "id": "2add02af",
   "metadata": {},
   "outputs": [],
   "source": [
    "#tek olanları bir listeye, çift olanlarını başka bir listeye ekleyen kodu yazalım.\n",
    "liste = [1,3,5,9,4,8]\n",
    "tek_liste = []\n",
    "cift_liste = []"
   ]
  },
  {
   "cell_type": "code",
   "execution_count": 3,
   "id": "88ffdf19",
   "metadata": {},
   "outputs": [
    {
     "data": {
      "text/plain": [
       "1.5"
      ]
     },
     "execution_count": 3,
     "metadata": {},
     "output_type": "execute_result"
    }
   ],
   "source": [
    "3 / 2"
   ]
  },
  {
   "cell_type": "code",
   "execution_count": 4,
   "id": "c4a18b8b",
   "metadata": {},
   "outputs": [
    {
     "data": {
      "text/plain": [
       "1"
      ]
     },
     "execution_count": 4,
     "metadata": {},
     "output_type": "execute_result"
    }
   ],
   "source": [
    "3 // 2"
   ]
  },
  {
   "cell_type": "code",
   "execution_count": 7,
   "id": "2427326e",
   "metadata": {},
   "outputs": [
    {
     "name": "stdout",
     "output_type": "stream",
     "text": [
      "[1, 3, 5, 9]\n",
      "[4, 8]\n"
     ]
    }
   ],
   "source": [
    "liste = [1,3,5,9,4,8]\n",
    "tek_liste = []\n",
    "cift_liste = []\n",
    "for i in liste:\n",
    "    a = i // 2\n",
    "    if a*2 == i:\n",
    "        cift_liste.append(i)\n",
    "    else:\n",
    "        tek_liste.append(i)\n",
    "print(tek_liste)\n",
    "print(cift_liste)"
   ]
  },
  {
   "cell_type": "code",
   "execution_count": 10,
   "id": "836afc74",
   "metadata": {},
   "outputs": [
    {
     "name": "stdout",
     "output_type": "stream",
     "text": [
      "[1, 3, 5, 9]\n",
      "[4, 8]\n"
     ]
    }
   ],
   "source": [
    "liste = [1,3,5,9,4,8]\n",
    "tek_liste = []\n",
    "cift_liste = []\n",
    "for i in liste:\n",
    "    if i % 2 == 0:\n",
    "        cift_liste.append(i)\n",
    "    else:\n",
    "        tek_liste.append(i)\n",
    "print(tek_liste)\n",
    "print(cift_liste)"
   ]
  },
  {
   "cell_type": "code",
   "execution_count": 18,
   "id": "b4ce3e69",
   "metadata": {},
   "outputs": [
    {
     "name": "stdout",
     "output_type": "stream",
     "text": [
      "[4, 8]\n",
      "[1, 3, 5, 9]\n"
     ]
    }
   ],
   "source": [
    "liste = [1,3,5,9,4,8]\n",
    "tek_liste = []\n",
    "cift_liste = []\n",
    "for i in liste:\n",
    "    if i & 1 != 0:\n",
    "        cift_liste.append(i)\n",
    "    else:\n",
    "        tek_liste.append(i)\n",
    "print(tek_liste)\n",
    "print(cift_liste)"
   ]
  },
  {
   "cell_type": "code",
   "execution_count": 17,
   "id": "edc4537a",
   "metadata": {},
   "outputs": [
    {
     "data": {
      "text/plain": [
       "0"
      ]
     },
     "execution_count": 17,
     "metadata": {},
     "output_type": "execute_result"
    }
   ],
   "source": [
    "6 & 1"
   ]
  },
  {
   "cell_type": "markdown",
   "id": "5b60cc14",
   "metadata": {},
   "source": [
    "-----"
   ]
  },
  {
   "cell_type": "markdown",
   "id": "c6d54120",
   "metadata": {},
   "source": [
    "# Hafta 4 "
   ]
  },
  {
   "cell_type": "markdown",
   "id": "ca34f868",
   "metadata": {},
   "source": [
    "Verilen bir listedeki ['elma', 'armut', 'elma', 'çilek', 'armut', 'elma'] her bir elemanın kaç kere tekrar ettiğini (frekansını) bulan ve sonucu bir dictionary olarak { 'elma': 3, 'armut': 2, 'çilek': 1 } şeklinde veren bir Python kodu yazınız."
   ]
  },
  {
   "cell_type": "code",
   "execution_count": 26,
   "id": "cd7d8315",
   "metadata": {},
   "outputs": [
    {
     "name": "stdout",
     "output_type": "stream",
     "text": [
      "{'elma': 3, 'armut': 2, 'çilek': 1, 'muz': 2, 'kiraz': 1, 'portakal': 4}\n"
     ]
    }
   ],
   "source": [
    "liste = ['elma', 'armut', 'elma', 'çilek', 'armut', 'elma', 'muz', 'muz', 'kiraz', 'portakal', 'portakal', 'portakal', 'portakal']\n",
    "sozluk = {}\n",
    "\n",
    "for i in liste:\n",
    "    frekans = liste.count(i)\n",
    "    sozluk[i] = frekans\n",
    "print(sozluk)"
   ]
  },
  {
   "cell_type": "markdown",
   "id": "575862e2",
   "metadata": {},
   "source": [
    "---"
   ]
  },
  {
   "cell_type": "markdown",
   "id": "7b663340",
   "metadata": {},
   "source": [
    "İki liste verildiğinde, anahtarlar = ['marka', 'model', 'yil'] ve degerler = ['Toyota', 'Corolla', 2022], bu iki listeyi kullanarak {'marka': 'Toyota', 'model': 'Corolla', 'yil': 2022} şeklinde bir dictionary oluşturan kodu zip fonksiyonu ve dictionary comprehension veya sadece zip ve dict() kullanarak yazınız."
   ]
  },
  {
   "cell_type": "code",
   "execution_count": 30,
   "id": "4227cbe8",
   "metadata": {},
   "outputs": [
    {
     "name": "stdout",
     "output_type": "stream",
     "text": [
      "{'marka': 'Toyota', 'model': 'Corolla', 'yıl': '2022'}\n"
     ]
    }
   ],
   "source": [
    "anahtarlar = [\"Toyota\",\"Corolla\",\"2022\"]\n",
    "degerler = [\"marka\",\"model\",\"yıl\"]\n",
    "yeni_liste = dict(zip(degerler,anahtarlar))\n",
    "print(yeni_liste)"
   ]
  },
  {
   "cell_type": "markdown",
   "id": "79e8c0e9",
   "metadata": {},
   "source": [
    "İçinde öğrenci bilgileri (ad ve notları içeren dictionary'ler) barındıran bir liste bulunmaktadır: ogrenciler = [{'ad': 'Can', 'notlar': [80, 85, 90]}, {'ad': 'Ece', 'notlar': [95, 88, 92]}, {'ad': 'Demir', 'notlar': [70, 75, 80]}] Her öğrencinin not ortalamasını hesaplayan ve en yüksek ortalamaya sahip öğrencinin adını bulan bir kod yazınız."
   ]
  },
  {
   "cell_type": "code",
   "execution_count": 69,
   "id": "8c1a4eee",
   "metadata": {},
   "outputs": [
    {
     "name": "stdout",
     "output_type": "stream",
     "text": [
      "Can 85\n",
      "Ece 91\n",
      "Demir 75\n",
      "En yüksek puan alan öğrenci adı:Ece ve puanı:91\n"
     ]
    }
   ],
   "source": [
    "ogrenciler = [\n",
    "    {'ad': 'Can', 'notlar': [80, 85, 90]}, \n",
    "    {'ad': 'Ece', 'notlar': [95, 88, 92]}, \n",
    "    {'ad': 'Demir', 'notlar': [70, 75, 80]}]\n",
    "ogrenci_adi = ''\n",
    "en_yuksek_puan = 0\n",
    "sozluk = {}\n",
    "\n",
    "for i in range(len(ogrenciler)):\n",
    "    notToplami=0\n",
    "    notOrtalamasi=0\n",
    "    for j in ogrenciler[i]['notlar']:\n",
    "        notToplami= notToplami + j\n",
    "    notOrtalamasi = notToplami // len(ogrenciler[i]['notlar'])\n",
    "    print(ogrenciler[i]['ad'],notOrtalamasi)\n",
    "    if(en_yuksek_puan<notOrtalamasi):\n",
    "        en_yuksek_puan=notOrtalamasi\n",
    "        ogrenci_adi=ogrenciler[i]['ad']\n",
    "print(f\"En yüksek puan alan öğrenci adı:{ogrenci_adi} ve puanı:{en_yuksek_puan}\")\n"
   ]
  },
  {
   "cell_type": "code",
   "execution_count": 58,
   "id": "b60d0c89",
   "metadata": {},
   "outputs": [
    {
     "data": {
      "text/plain": [
       "{0: {'ad': 'Can'}}"
      ]
     },
     "execution_count": 58,
     "metadata": {},
     "output_type": "execute_result"
    }
   ],
   "source": [
    "ogrenciler[0]['ad']\n",
    "sozluk = {0:{'ad':'Can'}}\n",
    "sozluk\n"
   ]
  },
  {
   "cell_type": "markdown",
   "id": "ef462864",
   "metadata": {},
   "source": [
    "---"
   ]
  },
  {
   "cell_type": "markdown",
   "id": "ed4afc0c",
   "metadata": {},
   "source": [
    "# Comprehensions"
   ]
  },
  {
   "cell_type": "markdown",
   "id": "f09dc521",
   "metadata": {},
   "source": [
    "for i in range(5):\n",
    "    print(i)\n",
    "\n",
    "[x döngü, if yapısı ]\n",
    "{x döngü, if yapısı }\n",
    "\n",
    "0,1,2,3,4"
   ]
  },
  {
   "cell_type": "markdown",
   "id": "544cb896",
   "metadata": {},
   "source": [
    "## 1. List Comprehensions"
   ]
  },
  {
   "cell_type": "code",
   "execution_count": 92,
   "id": "71b84d67",
   "metadata": {},
   "outputs": [
    {
     "data": {
      "text/plain": [
       "[6]"
      ]
     },
     "execution_count": 92,
     "metadata": {},
     "output_type": "execute_result"
    }
   ],
   "source": [
    "i = int(input(\"i değerini girin:\"))\n",
    "[i if i < 10 else i-5]"
   ]
  },
  {
   "cell_type": "code",
   "execution_count": null,
   "id": "354a8205",
   "metadata": {},
   "outputs": [],
   "source": [
    "i = int(input(\"i değerini giriniz:\"))\n",
    "if i < 10:\n",
    "    print(i)\n",
    "else:\n",
    "    i = i-5\n",
    "    # i += 5 ==> i = i+5\n",
    "    print(i)"
   ]
  },
  {
   "cell_type": "code",
   "execution_count": 75,
   "id": "f6c38beb",
   "metadata": {},
   "outputs": [
    {
     "data": {
      "text/plain": [
       "[0, 1, 2, 3, 4]"
      ]
     },
     "execution_count": 75,
     "metadata": {},
     "output_type": "execute_result"
    }
   ],
   "source": [
    "[i for i in range(5)]"
   ]
  },
  {
   "cell_type": "code",
   "execution_count": 76,
   "id": "ce07ebaf",
   "metadata": {},
   "outputs": [
    {
     "name": "stdout",
     "output_type": "stream",
     "text": [
      "0\n",
      "1\n",
      "2\n",
      "3\n",
      "4\n"
     ]
    }
   ],
   "source": [
    "for i in range(5):\n",
    "    print(i)"
   ]
  },
  {
   "cell_type": "code",
   "execution_count": 78,
   "id": "f42ed625",
   "metadata": {},
   "outputs": [
    {
     "data": {
      "text/plain": [
       "[5, 6, 7, 8, 9, 10]"
      ]
     },
     "execution_count": 78,
     "metadata": {},
     "output_type": "execute_result"
    }
   ],
   "source": [
    "[i for i in range(11) if i >= 5]"
   ]
  },
  {
   "cell_type": "code",
   "execution_count": 83,
   "id": "5d64e7d9",
   "metadata": {},
   "outputs": [
    {
     "data": {
      "text/plain": [
       "[6, 8, 10]"
      ]
     },
     "execution_count": 83,
     "metadata": {},
     "output_type": "execute_result"
    }
   ],
   "source": [
    "[i for i in range(11) if i >=5 and i%2==0  ]"
   ]
  },
  {
   "cell_type": "code",
   "execution_count": 90,
   "id": "bcbc3879",
   "metadata": {},
   "outputs": [
    {
     "data": {
      "text/plain": [
       "[15, 6, 17, 8, 19, 10]"
      ]
     },
     "execution_count": 90,
     "metadata": {},
     "output_type": "execute_result"
    }
   ],
   "source": [
    "[i if i %2==0 else i+10 for i in range(11) if i >= 5]"
   ]
  },
  {
   "cell_type": "markdown",
   "id": "7737bbd1",
   "metadata": {},
   "source": [
    "[6, 8, 10]"
   ]
  },
  {
   "cell_type": "markdown",
   "id": "43ebd38c",
   "metadata": {},
   "source": [
    "## 2. Dict Comprehensions"
   ]
  },
  {
   "cell_type": "code",
   "execution_count": 97,
   "id": "857ce0f4",
   "metadata": {},
   "outputs": [],
   "source": [
    "sozluk = { \"key\": \"value\"}"
   ]
  },
  {
   "cell_type": "code",
   "execution_count": null,
   "id": "595e001a",
   "metadata": {},
   "outputs": [
    {
     "data": {
      "text/plain": [
       "{0: 0, 1: 1, 2: 2, 3: 3, 4: 4}"
      ]
     },
     "execution_count": 96,
     "metadata": {},
     "output_type": "execute_result"
    }
   ],
   "source": [
    "{i:i for i in range(5)}"
   ]
  },
  {
   "cell_type": "code",
   "execution_count": 98,
   "id": "4438a1ba",
   "metadata": {},
   "outputs": [
    {
     "data": {
      "text/plain": [
       "{6: 6, 7: 7, 8: 8, 9: 9, 10: 10}"
      ]
     },
     "execution_count": 98,
     "metadata": {},
     "output_type": "execute_result"
    }
   ],
   "source": [
    "{i:i for i in range(11) if i > 5}"
   ]
  },
  {
   "cell_type": "code",
   "execution_count": 99,
   "id": "fda1cdd4",
   "metadata": {},
   "outputs": [
    {
     "data": {
      "text/plain": [
       "{6: 6, 7: 17, 8: 8, 9: 19, 10: 10}"
      ]
     },
     "execution_count": 99,
     "metadata": {},
     "output_type": "execute_result"
    }
   ],
   "source": [
    "{i:i if i%2==0 else i+10 for i in range(11) if i > 5}"
   ]
  },
  {
   "cell_type": "code",
   "execution_count": null,
   "id": "39f7d4ab",
   "metadata": {},
   "outputs": [],
   "source": [
    "# 1'den 10'a kadar olan sayıların karesinin yarısını ekrana yazdıran programın kodunu yazınız."
   ]
  },
  {
   "cell_type": "code",
   "execution_count": 103,
   "id": "6e64e3a1",
   "metadata": {},
   "outputs": [
    {
     "data": {
      "text/plain": [
       "[0.0, 0.5, 2.0, 4.5, 8.0, 12.5, 18.0, 24.5, 32.0, 40.5, 50.0]"
      ]
     },
     "execution_count": 103,
     "metadata": {},
     "output_type": "execute_result"
    }
   ],
   "source": [
    "[i**2/2 for i in range(11)]"
   ]
  }
 ],
 "metadata": {
  "kernelspec": {
   "display_name": "Python 3",
   "language": "python",
   "name": "python3"
  },
  "language_info": {
   "codemirror_mode": {
    "name": "ipython",
    "version": 3
   },
   "file_extension": ".py",
   "mimetype": "text/x-python",
   "name": "python",
   "nbconvert_exporter": "python",
   "pygments_lexer": "ipython3",
   "version": "3.13.3"
  }
 },
 "nbformat": 4,
 "nbformat_minor": 5
}
