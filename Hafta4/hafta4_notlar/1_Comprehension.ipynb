{
 "cells": [
  {
   "cell_type": "markdown",
   "id": "ce622e36",
   "metadata": {},
   "source": [
    "# List Comprehensions\n",
    "\n",
    "Klasik for döngüsü veya if yapısı gibi ifadeleri tek satırda yazmayı tercih ederken kullanırız."
   ]
  },
  {
   "cell_type": "code",
   "execution_count": 4,
   "id": "0f8d3bd2",
   "metadata": {},
   "outputs": [
    {
     "name": "stdout",
     "output_type": "stream",
     "text": [
      "5\n"
     ]
    }
   ],
   "source": [
    "x = 5\n",
    "if x < 10:\n",
    "    print(x)"
   ]
  },
  {
   "cell_type": "markdown",
   "id": "480fec2d",
   "metadata": {},
   "source": [
    "* Yukarıdaki kod bize sadece 5 değerini verecektir ama bir list comprehension şeklinde nasıl yazabilirim?"
   ]
  },
  {
   "cell_type": "code",
   "execution_count": 8,
   "id": "0dd93959",
   "metadata": {},
   "outputs": [
    {
     "ename": "SyntaxError",
     "evalue": "expected 'else' after 'if' expression (2993649799.py, line 2)",
     "output_type": "error",
     "traceback": [
      "\u001b[1;36m  Cell \u001b[1;32mIn[8], line 2\u001b[1;36m\u001b[0m\n\u001b[1;33m    liste = [x if x < 10 ]\u001b[0m\n\u001b[1;37m             ^\u001b[0m\n\u001b[1;31mSyntaxError\u001b[0m\u001b[1;31m:\u001b[0m expected 'else' after 'if' expression\n"
     ]
    }
   ],
   "source": [
    "x = 5\n",
    "liste = [x if x < 10 ]"
   ]
  },
  {
   "cell_type": "markdown",
   "id": "372090ca",
   "metadata": {},
   "source": [
    "* Yukarıdaki koda baktığımda bana bir hata veriyor. if'den sonra else yapısı olması gerektiğini söylüyor. "
   ]
  },
  {
   "cell_type": "code",
   "execution_count": 35,
   "id": "946d8b9b",
   "metadata": {},
   "outputs": [],
   "source": [
    "x = 11\n",
    "liste = [x if x < 10 else x+1]"
   ]
  },
  {
   "cell_type": "markdown",
   "id": "0ae24c04",
   "metadata": {},
   "source": [
    "* Klasik yazım şekli olarak yazmaya kalksak nasıl yazardık?"
   ]
  },
  {
   "cell_type": "code",
   "execution_count": 43,
   "id": "c32b054b",
   "metadata": {},
   "outputs": [
    {
     "data": {
      "text/plain": [
       "[5]"
      ]
     },
     "execution_count": 43,
     "metadata": {},
     "output_type": "execute_result"
    }
   ],
   "source": [
    "x = 5\n",
    "liste = []\n",
    "if x < 10:\n",
    "    liste.append(x)\n",
    "else:\n",
    "    liste.append(x+1)\n",
    "liste"
   ]
  },
  {
   "cell_type": "markdown",
   "id": "9420e161",
   "metadata": {},
   "source": [
    "---"
   ]
  },
  {
   "cell_type": "markdown",
   "id": "bb1c323d",
   "metadata": {},
   "source": [
    "## 1. Filtreleme (Filtering)\n",
    "\n",
    "Listenin sonuna **if** kullanırsak filtreleme işlemi yaparız."
   ]
  },
  {
   "cell_type": "code",
   "execution_count": 46,
   "id": "fe0abbb5",
   "metadata": {},
   "outputs": [
    {
     "data": {
      "text/plain": [
       "[0, 2, 4, 6, 8]"
      ]
     },
     "execution_count": 46,
     "metadata": {},
     "output_type": "execute_result"
    }
   ],
   "source": [
    "# çift sayı filtrelemesi\n",
    "cift_sayilar = [x for x in range(10) if x % 2 == 0]\n",
    "cift_sayilar"
   ]
  },
  {
   "cell_type": "markdown",
   "id": "179cd8a4",
   "metadata": {},
   "source": [
    "## 2. Değer Atama (Value Assignment)\n",
    "\n",
    "Listenin başındaki kısma **if-else** yapısını kullanırsak değer atama işlemi yapılır."
   ]
  },
  {
   "cell_type": "code",
   "execution_count": 55,
   "id": "2c555958",
   "metadata": {},
   "outputs": [
    {
     "data": {
      "text/plain": [
       "['tek', 'çift', 'tek', 'çift', 'tek']"
      ]
     },
     "execution_count": 55,
     "metadata": {},
     "output_type": "execute_result"
    }
   ],
   "source": [
    "# çift-tek etiketleme \n",
    "numbers =  [1,2,3,4,5]\n",
    "etiket = [\"çift\" if i % 2 == 0 else \"tek\" for i in numbers]\n",
    "etiket"
   ]
  },
  {
   "cell_type": "code",
   "execution_count": 62,
   "id": "31837180",
   "metadata": {},
   "outputs": [
    {
     "data": {
      "text/plain": [
       "[36, 7, 64, 9]"
      ]
     },
     "execution_count": 62,
     "metadata": {},
     "output_type": "execute_result"
    }
   ],
   "source": [
    "# 0-9 arası sayılardan 5'ten büyük olanları al, çift ise karesini, tek ise kendisini listeye ekle\n",
    "liste = [i*i if i % 2 == 0 else i for i in range(10) if i > 5]\n",
    "liste"
   ]
  },
  {
   "cell_type": "code",
   "execution_count": 65,
   "id": "e792fdce",
   "metadata": {},
   "outputs": [
    {
     "data": {
      "text/plain": [
       "[36, 7, 64, 9]"
      ]
     },
     "execution_count": 65,
     "metadata": {},
     "output_type": "execute_result"
    }
   ],
   "source": [
    "liste = []\n",
    "for i in range(10):\n",
    "    if i > 5:\n",
    "        if i % 2 == 0:\n",
    "            liste.append(i*i)\n",
    "        else:\n",
    "            liste.append(i)\n",
    "liste"
   ]
  },
  {
   "cell_type": "markdown",
   "id": "9f14bd5b",
   "metadata": {},
   "source": [
    "## 2. Dict Comprehension"
   ]
  },
  {
   "cell_type": "code",
   "execution_count": 13,
   "id": "e098c0e7",
   "metadata": {},
   "outputs": [],
   "source": [
    "dictionary = {\n",
    "    \"a\": 1,\n",
    "    \"b\": 2,\n",
    "    \"c\": 3,\n",
    "    \"d\": 4\n",
    "}"
   ]
  },
  {
   "cell_type": "code",
   "execution_count": 69,
   "id": "66fb9363",
   "metadata": {},
   "outputs": [
    {
     "name": "stdout",
     "output_type": "stream",
     "text": [
      "dict_keys(['a', 'b', 'c', 'd'])\n",
      "dict_values([1, 2, 3, 4])\n",
      "dict_items([('a', 1), ('b', 2), ('c', 3), ('d', 4)])\n"
     ]
    }
   ],
   "source": [
    "print(dictionary.keys())\n",
    "print(dictionary.values())\n",
    "print(dictionary.items())"
   ]
  },
  {
   "cell_type": "code",
   "execution_count": 15,
   "id": "f0019d6d",
   "metadata": {},
   "outputs": [
    {
     "data": {
      "text/plain": [
       "{'a': 1, 'b': 4, 'c': 9, 'd': 16}"
      ]
     },
     "execution_count": 15,
     "metadata": {},
     "output_type": "execute_result"
    }
   ],
   "source": [
    "{k: v ** 2 for (k,v) in dictionary.items()}"
   ]
  },
  {
   "cell_type": "code",
   "execution_count": 16,
   "id": "ea44eb16",
   "metadata": {},
   "outputs": [
    {
     "data": {
      "text/plain": [
       "{'A': 1, 'B': 2, 'C': 3, 'D': 4}"
      ]
     },
     "execution_count": 16,
     "metadata": {},
     "output_type": "execute_result"
    }
   ],
   "source": [
    "{k.upper(): v for(k,v) in dictionary.items()}"
   ]
  },
  {
   "cell_type": "code",
   "execution_count": 17,
   "id": "819611f8",
   "metadata": {},
   "outputs": [
    {
     "data": {
      "text/plain": [
       "{'A': 1, 'B': 4, 'C': 9, 'D': 16}"
      ]
     },
     "execution_count": 17,
     "metadata": {},
     "output_type": "execute_result"
    }
   ],
   "source": [
    "{k.upper(): v**2 for (k,v) in dictionary.items()}"
   ]
  }
 ],
 "metadata": {
  "kernelspec": {
   "display_name": "Python 3",
   "language": "python",
   "name": "python3"
  },
  "language_info": {
   "codemirror_mode": {
    "name": "ipython",
    "version": 3
   },
   "file_extension": ".py",
   "mimetype": "text/x-python",
   "name": "python",
   "nbconvert_exporter": "python",
   "pygments_lexer": "ipython3",
   "version": "3.13.3"
  }
 },
 "nbformat": 4,
 "nbformat_minor": 5
}
