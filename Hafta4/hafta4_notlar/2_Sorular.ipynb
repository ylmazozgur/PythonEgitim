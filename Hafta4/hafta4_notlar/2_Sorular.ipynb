{
 "cells": [
  {
   "cell_type": "markdown",
   "id": "c3ab878d",
   "metadata": {},
   "source": [
    "# Basit Seviye Sorular \n",
    "\n",
    "1. 0'dan 9'a kadar olan sayıların karelerinden oluşan bir liste oluşturunuz.\n",
    "2. 1'den 10'a kadar olan olan sayıların karesini sözlüğe ekle. çıktı: {2:4, 4:16, 6:46, ...} (10 dahil değil)\n",
    "3. Çıktısı [(0,0),(0,1),(0,2),(1,0),(1,1),(1,2),(2,0),(2,1),(2,2)] olan comprehension kodunu ve klasik kodunu yazınız. (bir listeye atama yapmadan yazınız.)\n",
    "4. \"merhaba\" kelimesinin her bir harfini içeren bir liste oluşturunuz.\n",
    "5. isimler = [\"ali\", \"veli\", \"ayşe\"] listesindeki her bir ismi büyük harfe dönüştürünüz.\n",
    "6. 0'dan 5'e kadar olan sayıları anahtar, bu sayıların iki katını değer olarak içeren bir sözlük oluşturunuz.\n",
    "7. sayilar = [1,2,3,4,5] listesindeki her bir sayının 3 eksiğini içeren yeni bir liste oluşturunuz.\n",
    "8. kelimeler = [\"elma\", \"armut\", \"kiraz\", \"çilek\", \"karpuz\"] listesindeki 5 harften uzun olan kelimeleri içeren yeni bir liste oluşturunuz.\n",
    "9. Soru: harfler = ['a', 'b', 'c'] listesindeki harfleri anahtar olacak ve değerleri 1'den başlayacak bir sözlük oluşturunuz. (örn: 'a': '1')\n",
    "10. 1 ile 20 arasındaki sayılardan 3'e ve 5'e tam bölünebilen sayıları içeren bir liste oluşturunuz.\n",
    "11. isimler = [\"ahmet\", \"mehmet\", \"selin\"] listesindeki her bir ismin uzunluğunu içeren bir liste oluşturunuz. [5, 6, 5]"
   ]
  },
  {
   "cell_type": "code",
   "execution_count": 2,
   "id": "c4aaf7ee",
   "metadata": {},
   "outputs": [
    {
     "data": {
      "text/plain": [
       "[0, 1, 4, 9, 16, 25, 36, 49, 64, 81]"
      ]
     },
     "execution_count": 2,
     "metadata": {},
     "output_type": "execute_result"
    }
   ],
   "source": [
    "###########################\n",
    "##### 1\n",
    "###########################\n",
    "\n",
    "newList = [i**2 for i in range(10)]\n",
    "newList"
   ]
  },
  {
   "cell_type": "code",
   "execution_count": 3,
   "id": "634746b7",
   "metadata": {},
   "outputs": [
    {
     "data": {
      "text/plain": [
       "{2: 4, 4: 16, 6: 36, 8: 64}"
      ]
     },
     "execution_count": 3,
     "metadata": {},
     "output_type": "execute_result"
    }
   ],
   "source": [
    "###########################\n",
    "##### 2\n",
    "###########################\n",
    "\n",
    "newDict = {i:i**2 for i in range(1,10) if i & 1 == 0}\n",
    "newDict"
   ]
  },
  {
   "cell_type": "code",
   "execution_count": 4,
   "id": "3505556c",
   "metadata": {},
   "outputs": [
    {
     "data": {
      "text/plain": [
       "[(0, 0), (0, 1), (0, 2), (1, 0), (1, 1), (1, 2), (2, 0), (2, 1), (2, 2)]"
      ]
     },
     "execution_count": 4,
     "metadata": {},
     "output_type": "execute_result"
    }
   ],
   "source": [
    "###########################\n",
    "##### 3\n",
    "###########################\n",
    "\n",
    "[(i,j) for i in range(3) for j in range(3)]"
   ]
  },
  {
   "cell_type": "code",
   "execution_count": 9,
   "id": "6a85f1c3",
   "metadata": {},
   "outputs": [
    {
     "data": {
      "text/plain": [
       "['m', 'e', 'r', 'h', 'a', 'b', 'a']"
      ]
     },
     "execution_count": 9,
     "metadata": {},
     "output_type": "execute_result"
    }
   ],
   "source": [
    "###########################\n",
    "##### 4\n",
    "###########################\n",
    "\n",
    "[i for i in \"merhaba\"]"
   ]
  },
  {
   "cell_type": "code",
   "execution_count": 22,
   "id": "122e4be6",
   "metadata": {},
   "outputs": [
    {
     "data": {
      "text/plain": [
       "['ALI', 'VELI', 'AYŞE']"
      ]
     },
     "execution_count": 22,
     "metadata": {},
     "output_type": "execute_result"
    }
   ],
   "source": [
    "###########################\n",
    "##### 5\n",
    "###########################\n",
    "isimler = [\"ali\", \"veli\", \"ayşe\"]\n",
    "[i.upper() for i in isimler]"
   ]
  },
  {
   "cell_type": "code",
   "execution_count": 28,
   "id": "1b4c06b8",
   "metadata": {},
   "outputs": [
    {
     "data": {
      "text/plain": [
       "{0: 0, 1: 2, 2: 4, 3: 6, 4: 8, 5: 10}"
      ]
     },
     "execution_count": 28,
     "metadata": {},
     "output_type": "execute_result"
    }
   ],
   "source": [
    "###########################\n",
    "##### 6\n",
    "###########################\n",
    "\n",
    "{i: i*2 for i in range(6)}"
   ]
  },
  {
   "cell_type": "code",
   "execution_count": 29,
   "id": "68eee7f0",
   "metadata": {},
   "outputs": [
    {
     "data": {
      "text/plain": [
       "[-2, -1, 0, 1, 2]"
      ]
     },
     "execution_count": 29,
     "metadata": {},
     "output_type": "execute_result"
    }
   ],
   "source": [
    "###########################\n",
    "##### 7\n",
    "###########################\n",
    "sayilar = [1,2,3,4,5]\n",
    "newList = [i-3 for i in sayilar]\n",
    "newList"
   ]
  },
  {
   "cell_type": "code",
   "execution_count": 31,
   "id": "9ed6a567",
   "metadata": {},
   "outputs": [
    {
     "data": {
      "text/plain": [
       "['armut', 'kiraz', 'çilek', 'karpuz']"
      ]
     },
     "execution_count": 31,
     "metadata": {},
     "output_type": "execute_result"
    }
   ],
   "source": [
    "###########################\n",
    "##### 8\n",
    "###########################\n",
    "kelimeler = [\"elma\", \"armut\", \"kiraz\", \"çilek\", \"karpuz\"]\n",
    "newKelime = [i for i in kelimeler if len(i) >= 5]\n",
    "newKelime"
   ]
  },
  {
   "cell_type": "code",
   "execution_count": 50,
   "id": "86b43c0e",
   "metadata": {},
   "outputs": [
    {
     "data": {
      "text/plain": [
       "{'a': 1, 'b': 2, 'c': 3}"
      ]
     },
     "execution_count": 50,
     "metadata": {},
     "output_type": "execute_result"
    }
   ],
   "source": [
    "###########################\n",
    "##### 9\n",
    "###########################\n",
    "harfler = [\"a\", \"b\", \"c\"]\n",
    "newDict = {harf: index+1 for index, harf in enumerate(harfler)}\n",
    "newDict"
   ]
  },
  {
   "cell_type": "code",
   "execution_count": 51,
   "id": "3e2d107c",
   "metadata": {},
   "outputs": [
    {
     "data": {
      "text/plain": [
       "{('a', 1), ('b', 2), ('c', 3)}"
      ]
     },
     "execution_count": 51,
     "metadata": {},
     "output_type": "execute_result"
    }
   ],
   "source": [
    "harfler = [\"a\", \"b\", \"c\"]\n",
    "degerler = [1, 2, 3]\n",
    "{i for i in zip(harfler,degerler)}"
   ]
  },
  {
   "cell_type": "code",
   "execution_count": 56,
   "id": "d53d4315",
   "metadata": {},
   "outputs": [
    {
     "data": {
      "text/plain": [
       "[0, 15]"
      ]
     },
     "execution_count": 56,
     "metadata": {},
     "output_type": "execute_result"
    }
   ],
   "source": [
    "###########################\n",
    "##### 10\n",
    "###########################\n",
    "[i for i in range(20) if (i % 3 == 0) and (i % 5 == 0)]"
   ]
  },
  {
   "cell_type": "code",
   "execution_count": 57,
   "id": "c088083e",
   "metadata": {},
   "outputs": [
    {
     "data": {
      "text/plain": [
       "[5, 6, 5]"
      ]
     },
     "execution_count": 57,
     "metadata": {},
     "output_type": "execute_result"
    }
   ],
   "source": [
    "###########################\n",
    "##### 11\n",
    "###########################\n",
    "\n",
    "isimler = [\"ahmet\", \"mehmet\", \"selin\"]\n",
    "newLenName = [len(i) for i in isimler]\n",
    "newLenName"
   ]
  },
  {
   "cell_type": "markdown",
   "id": "8cb5ce98",
   "metadata": {},
   "source": [
    "# Orta Seviye Sorular\n",
    "\n",
    "1. Verilen bir cümledeki (örneğin \"Bu bir örnek cümledir\") kelimelerin baş harflerinden oluşan bir liste oluşturunuz.\n",
    "2. sayilar = [1, 1, 2, 3, 5, 8, 13, 21, 34] listesindeki her bir sayının tek mi çift mi olduğunu belirten bir sözlük oluşturun. {1: \"tek\", 2:\"çift\", ...}\n",
    "3. 1'den 100'e kadar olan sayılardan 3'e ve 5'e tam bölünebilen sayıların karelerini içeren bir liste oluşturunuz.\n",
    "4. liste1 = [1, 2, 3] ve liste2 = [\"a\", \"b\", \"c\"] listelerinden elemanların tüm olsaı kombinasyonlarını tuple olarak bir liste oluşturunuz. [ (1,\"a\"), (1, \"b\"), (1, \"c\"), ... ]\n",
    "5. \"Python programlama dili çok güçlü bir dildir ama diğer programlama dillerine göre ağırdır.\" her bir harfin kaç defa geçtiğini sayan bir sözlük oluşturunuz.\n",
    "6. ogrenciler = {\"Ahmet\": 85, \"Ayşe\": 92, \"Zeynep\": 60, \"Mehmet\": 78} notu 80'den büyük olan öğrencilerin isimlerini içeren bir liste oluşturunuz.\n",
    "7. 0'dan 20'ye kadar olan sayılardan, stringe çevrildiğinde \"1\" rakamını içeren sayıları listeleyen bir liste oluşturunuz.\n",
    "8. *** kelimeler = [\"Elma\", \"armut\", \"Portakal\", \"Muz\", \"kivi\", \"iğne\"] listesindeki kelimeleri anahtar, bu kelimelerin uzunluklarını değer olarak içeren ve sadece sesli harf ile başlayan kelimeleri alan bir sözlük oluşturun.\n",
    "9. *** matris = [ [1,2,3], [4,5,6], [7,8,9] ] şeklinde verilmiş matrisin transpozunu oluşturunuz. çıktı: [[1,4,7],[2,5,8],[3,6,9]]\n",
    "10. *** matris1 = [ [1,2,3], [4,5,6], [7,8,9] ] , matris2 = [ [10,20,30], [40,50,60], [70,80,90] ] matris1 + matris2 sonucu yazdıran bir liste oluşturunuz."
   ]
  },
  {
   "cell_type": "code",
   "execution_count": 70,
   "id": "7ca99403",
   "metadata": {},
   "outputs": [
    {
     "name": "stdout",
     "output_type": "stream",
     "text": [
      "merhaba dünya\n"
     ]
    }
   ],
   "source": [
    "###########################\n",
    "##### 1\n",
    "###########################\n",
    "metin = input(\"ifade giriniz:\")\n",
    "print(metin)\n",
    "harfLifte = [i[0] for i in metin.split()]"
   ]
  },
  {
   "cell_type": "code",
   "execution_count": 72,
   "id": "9d174b8a",
   "metadata": {},
   "outputs": [
    {
     "data": {
      "text/plain": [
       "{1: 'tek',\n",
       " 2: 'çift',\n",
       " 3: 'tek',\n",
       " 5: 'tek',\n",
       " 8: 'çift',\n",
       " 13: 'tek',\n",
       " 21: 'tek',\n",
       " 34: 'çift'}"
      ]
     },
     "execution_count": 72,
     "metadata": {},
     "output_type": "execute_result"
    }
   ],
   "source": [
    "###########################\n",
    "##### 2\n",
    "###########################\n",
    "\n",
    "sayilar = [1, 1, 2, 3, 5, 8, 13, 21, 34]\n",
    "\n",
    "{i:\"çift\" if i % 2 == 0 else \"tek\" for i in sayilar}"
   ]
  },
  {
   "cell_type": "code",
   "execution_count": 2,
   "id": "0cba889e",
   "metadata": {},
   "outputs": [
    {
     "data": {
      "text/plain": [
       "[0, 15, 30, 45, 60, 75, 90]"
      ]
     },
     "execution_count": 2,
     "metadata": {},
     "output_type": "execute_result"
    }
   ],
   "source": [
    "###########################\n",
    "##### 3\n",
    "###########################\n",
    "\n",
    "[x for x in range(101) if x % 3 == 0 and x % 5 == 0]"
   ]
  },
  {
   "cell_type": "code",
   "execution_count": 14,
   "id": "72d190b0",
   "metadata": {},
   "outputs": [
    {
     "data": {
      "text/plain": [
       "[(1, 'a'),\n",
       " (1, 'b'),\n",
       " (1, 'c'),\n",
       " (2, 'a'),\n",
       " (2, 'b'),\n",
       " (2, 'c'),\n",
       " (3, 'a'),\n",
       " (3, 'b'),\n",
       " (3, 'c')]"
      ]
     },
     "execution_count": 14,
     "metadata": {},
     "output_type": "execute_result"
    }
   ],
   "source": [
    "###########################\n",
    "##### 4\n",
    "###########################\n",
    "\n",
    "liste1 = [1, 2, 3]\n",
    "liste2 = [\"a\", \"b\", \"c\"]\n",
    "\n",
    "[(i,j) for i in liste1 for j in liste2]"
   ]
  },
  {
   "cell_type": "code",
   "execution_count": 34,
   "id": "80cbc200",
   "metadata": {},
   "outputs": [
    {
     "data": {
      "text/plain": [
       "{'p': 2,\n",
       " 'y': 1,\n",
       " 't': 1,\n",
       " 'h': 1,\n",
       " 'o': 4,\n",
       " 'n': 2,\n",
       " ' ': 12,\n",
       " 'r': 11,\n",
       " 'g': 4,\n",
       " 'a': 9,\n",
       " 'm': 5,\n",
       " 'l': 7,\n",
       " 'd': 6,\n",
       " 'i': 8,\n",
       " 'ç': 2,\n",
       " 'k': 1,\n",
       " 'ü': 2,\n",
       " 'b': 1,\n",
       " 'ğ': 2,\n",
       " 'e': 4,\n",
       " 'ö': 1,\n",
       " 'ı': 2,\n",
       " '.': 1}"
      ]
     },
     "execution_count": 34,
     "metadata": {},
     "output_type": "execute_result"
    }
   ],
   "source": [
    "###########################\n",
    "##### 5\n",
    "###########################\n",
    "\n",
    "metin = \"Python programlama dili çok güçlü bir dildir ama diğer programlama dillerine göre ağırdır.\"\n",
    "\n",
    "{i:metin.count(i) for i in metin.lower()}"
   ]
  },
  {
   "cell_type": "code",
   "execution_count": 36,
   "id": "72041289",
   "metadata": {},
   "outputs": [
    {
     "data": {
      "text/plain": [
       "['Ahmet', 'Ayşe']"
      ]
     },
     "execution_count": 36,
     "metadata": {},
     "output_type": "execute_result"
    }
   ],
   "source": [
    "###########################\n",
    "##### 6\n",
    "###########################\n",
    "\n",
    "ogrenciler = {\"Ahmet\":85, \"Ayşe\": 92, \"Mehmet\": 78, \"Zeynep\": 60}\n",
    "\n",
    "[i for i,j in ogrenciler.items() if j > 80]"
   ]
  },
  {
   "cell_type": "code",
   "execution_count": 42,
   "id": "c9a175db",
   "metadata": {},
   "outputs": [
    {
     "data": {
      "text/plain": [
       "[1, 10, 11, 12, 13, 14, 15, 16, 17, 18, 19]"
      ]
     },
     "execution_count": 42,
     "metadata": {},
     "output_type": "execute_result"
    }
   ],
   "source": [
    "###########################\n",
    "##### 7\n",
    "###########################\n",
    "\n",
    "[i for i in range(20) if str(1) in str(i) ]"
   ]
  },
  {
   "cell_type": "code",
   "execution_count": 46,
   "id": "54b6c314",
   "metadata": {},
   "outputs": [
    {
     "data": {
      "text/plain": [
       "{'Elma': 4, 'armut': 5, 'iğne': 4}"
      ]
     },
     "execution_count": 46,
     "metadata": {},
     "output_type": "execute_result"
    }
   ],
   "source": [
    "###########################\n",
    "##### 8\n",
    "###########################\n",
    "\n",
    "kelimeler = [\"Elma\", \"armut\", \"Portakal\", \"Muz\", \"kivi\", \"iğne\"]\n",
    "sesli_harfler = \"aeoöuüıi\"\n",
    "{i: len(i)  for i in kelimeler for j in sesli_harfler if i.lower().startswith(j)}"
   ]
  },
  {
   "cell_type": "code",
   "execution_count": 73,
   "id": "defd2e67",
   "metadata": {},
   "outputs": [
    {
     "data": {
      "text/plain": [
       "[[1, 4, 7], [2, 5, 8], [3, 6, 9]]"
      ]
     },
     "execution_count": 73,
     "metadata": {},
     "output_type": "execute_result"
    }
   ],
   "source": [
    "###########################\n",
    "##### 9\n",
    "###########################\n",
    "\n",
    "matris = [ [1,2,3], [4,5,6], [7,8,9] ]\n",
    "\n",
    "#[ [satir[i] for satir in matris ] for i in range(len(matris[0]))]\n",
    "\n",
    "[list(satir) for satir in zip(*matris)]"
   ]
  },
  {
   "cell_type": "code",
   "execution_count": 94,
   "id": "404409b1",
   "metadata": {},
   "outputs": [
    {
     "data": {
      "text/plain": [
       "[[11, 22, 33], [44, 55, 66], [77, 88, 99]]"
      ]
     },
     "execution_count": 94,
     "metadata": {},
     "output_type": "execute_result"
    }
   ],
   "source": [
    "###########################\n",
    "##### 10\n",
    "###########################\n",
    "\n",
    "matris1 = [ [1,2,3], [4,5,6], [7,8,9] ] \n",
    "matris2 = [ [10,20,30], [40,50,60], [70,80,90] ]\n",
    "matris = []\n",
    "\n",
    "#[matris1[i][i]+matris2[i][i] for i in range(len(matris1)) for j in range(len(matris2))]\n",
    "\n",
    "\"\"\"\n",
    "[\n",
    "    [matris1[i][j] + matris2[i][j] for j in range(len(matris1[0]))]\n",
    "    for i in range(len(matris1))\n",
    "]\n",
    "\"\"\"\n",
    "\n",
    "\n",
    "#zip ile\n",
    "[\n",
    "    [a+b for a,b in zip(satir1, satir2)]\n",
    "    for satir1,satir2 in zip(matris1, matris2)\n",
    "]\n",
    "\n"
   ]
  },
  {
   "cell_type": "code",
   "execution_count": null,
   "id": "07ea5ca1",
   "metadata": {},
   "outputs": [],
   "source": [
    "###########################\n",
    "##### 1\n",
    "###########################"
   ]
  }
 ],
 "metadata": {
  "kernelspec": {
   "display_name": "Python 3",
   "language": "python",
   "name": "python3"
  },
  "language_info": {
   "codemirror_mode": {
    "name": "ipython",
    "version": 3
   },
   "file_extension": ".py",
   "mimetype": "text/x-python",
   "name": "python",
   "nbconvert_exporter": "python",
   "pygments_lexer": "ipython3",
   "version": "3.11.3"
  }
 },
 "nbformat": 4,
 "nbformat_minor": 5
}
