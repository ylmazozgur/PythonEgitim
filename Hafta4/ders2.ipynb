{
 "cells": [
  {
   "cell_type": "code",
   "execution_count": 2,
   "id": "2034288e",
   "metadata": {},
   "outputs": [
    {
     "data": {
      "text/plain": [
       "[0.0, 0.5, 2.0, 4.5, 8.0]"
      ]
     },
     "execution_count": 2,
     "metadata": {},
     "output_type": "execute_result"
    }
   ],
   "source": [
    "[i**2/2 for i in range(5)]"
   ]
  },
  {
   "cell_type": "code",
   "execution_count": null,
   "id": "c2dfea17",
   "metadata": {},
   "outputs": [],
   "source": [
    "for i in range(5):\n",
    "    i **2 //2"
   ]
  },
  {
   "cell_type": "markdown",
   "id": "927c4eb0",
   "metadata": {},
   "source": [
    "# Basit Seviye Sorular \n",
    "\n",
    "1. 0'dan 9'a kadar olan sayıların karelerinden oluşan bir liste oluşturunuz.\n",
    "2. 1'den 10'a kadar olan olan çift sayıların karesini sözlüğe ekle. çıktı: {2:4, 4:16, 6:36, ...} (10 dahil değil)\n",
    "3. Çıktısı [(0,0),(0,1),(0,2),(1,0),(1,1),(1,2),(2,0),(2,1),(2,2)] olan comprehension kodunu ve klasik kodunu yazınız. (bir listeye atama yapmadan yazınız.)\n",
    "4. \"merhaba\" kelimesinin her bir harfini içeren bir liste oluşturunuz.\n",
    "5. isimler = [\"ali\", \"veli\", \"ayşe\"] listesindeki her bir ismi büyük harfe dönüştürünüz.\n",
    "6. 0'dan 5'e kadar olan sayıları anahtar, bu sayıların iki katını değer olarak içeren bir sözlük oluşturunuz.\n",
    "7. sayilar = [1,2,3,4,5] listesindeki her bir sayının 3 eksiğini içeren yeni bir liste oluşturunuz.\n",
    "8. kelimeler = [\"elma\", \"armut\", \"kiraz\", \"çilek\", \"karpuz\"] listesindeki 5 harften uzun olan kelimeleri içeren yeni bir liste oluşturunuz.\n",
    "9. Soru: harfler = ['a', 'b', 'c'] listesindeki harfleri anahtar olacak ve değerleri 1'den başlayacak bir sözlük oluşturunuz. (örn: 'a': '1')\n",
    "10. 1 ile 20 arasındaki sayılardan 3'e ve 5'e tam bölünebilen sayıları içeren bir liste oluşturunuz.\n",
    "11. isimler = [\"ahmet\", \"mehmet\", \"selin\"] listesindeki her bir ismin uzunluğunu içeren bir liste oluşturunuz. [5, 6, 5]"
   ]
  },
  {
   "cell_type": "code",
   "execution_count": 6,
   "id": "c8554fcf",
   "metadata": {},
   "outputs": [
    {
     "data": {
      "text/plain": [
       "[0, 1, 64, 729, 4096, 15625, 46656, 117649, 262144, 531441]"
      ]
     },
     "execution_count": 6,
     "metadata": {},
     "output_type": "execute_result"
    }
   ],
   "source": [
    "#0'dan 9'a kadar olan sayıların karelerinden oluşan bir liste oluşturunuz.\n",
    "\n",
    "[(i**2)**3 for i in range(10)]"
   ]
  },
  {
   "cell_type": "code",
   "execution_count": null,
   "id": "43533a57",
   "metadata": {},
   "outputs": [],
   "source": []
  },
  {
   "cell_type": "code",
   "execution_count": null,
   "id": "1e1719bc",
   "metadata": {},
   "outputs": [],
   "source": [
    "#2. 1'den 10'a kadar olan olan çift sayıların karesini sözlüğe ekle. çıktı: {2:4, 4:16, 6:36, ...} (10 dahil değil)\n",
    "{i:i**2 for i in range(1,11) if i%2==0}"
   ]
  },
  {
   "cell_type": "code",
   "execution_count": 27,
   "id": "d16e5e09",
   "metadata": {},
   "outputs": [
    {
     "data": {
      "text/plain": [
       "[(0, 0), (0, 1), (1, 0), (1, 1)]"
      ]
     },
     "execution_count": 27,
     "metadata": {},
     "output_type": "execute_result"
    }
   ],
   "source": [
    "#Çıktısı [(0,0),(0,1),(0,2),(1,0),(1,1),(1,2),(2,0),(2,1),(2,2)] olan comprehension kodunu ve klasik kodunu yazınız. (bir listeye atama yapmadan yazınız.)\n",
    "[(i,j) for i in range(2) for j in range(2)]"
   ]
  },
  {
   "cell_type": "code",
   "execution_count": 28,
   "id": "101c689b",
   "metadata": {},
   "outputs": [
    {
     "data": {
      "text/plain": [
       "['m', 'e', 'r', 'h', 'a', 'b', 'a', 'l', 'a', 'r']"
      ]
     },
     "execution_count": 28,
     "metadata": {},
     "output_type": "execute_result"
    }
   ],
   "source": [
    "#\"merhaba\" kelimesinin her bir harfini içeren bir liste oluşturunuz.\n",
    "[ i for i in \"merhabalar\"]"
   ]
  },
  {
   "cell_type": "code",
   "execution_count": 30,
   "id": "3190c9b3",
   "metadata": {},
   "outputs": [
    {
     "name": "stdout",
     "output_type": "stream",
     "text": [
      "['m', 'e', 'r', 'h', 'a', 'b', 'a']\n"
     ]
    }
   ],
   "source": [
    "kelime = \"merhaba\"\n",
    "uzunluk =list(kelime)\n",
    "print(uzunluk)"
   ]
  },
  {
   "cell_type": "code",
   "execution_count": null,
   "id": "418b812b",
   "metadata": {},
   "outputs": [
    {
     "data": {
      "text/plain": [
       "{0: 0, 1: 2, 2: 4, 3: 6, 4: 8, 5: 10}"
      ]
     },
     "execution_count": 37,
     "metadata": {},
     "output_type": "execute_result"
    }
   ],
   "source": [
    "# 0'dan 5'e kadar olan sayıları anahtar, bu sayıların iki katını değer olarak içeren bir sözlük oluşturunuz.\n",
    "{i:i*2 for i in range(6)}"
   ]
  },
  {
   "cell_type": "code",
   "execution_count": null,
   "id": "12dad723",
   "metadata": {},
   "outputs": [
    {
     "data": {
      "text/plain": [
       "['ALI', 'VELI', 'AYŞE']"
      ]
     },
     "execution_count": 40,
     "metadata": {},
     "output_type": "execute_result"
    }
   ],
   "source": [
    "##isimler = [\"ali\", \"veli\", \"ayşe\"] listesindeki her bir ismi büyük harfe dönüştürünüz.\n",
    "isimler = [\"ali\", \"veli\", \"ayşe\"]\n",
    "[isimler[i].upper() for i in range(len(isimler))]"
   ]
  },
  {
   "cell_type": "code",
   "execution_count": 42,
   "id": "99836b0c",
   "metadata": {},
   "outputs": [
    {
     "data": {
      "text/plain": [
       "['Ali', 'Veli', 'Ayşe']"
      ]
     },
     "execution_count": 42,
     "metadata": {},
     "output_type": "execute_result"
    }
   ],
   "source": [
    "isimler = [\"ali\", \"veli\", \"ayşe\"]\n",
    "[i.capitalize() for i in isimler]"
   ]
  },
  {
   "cell_type": "code",
   "execution_count": 43,
   "id": "6bdd8918",
   "metadata": {},
   "outputs": [
    {
     "data": {
      "text/plain": [
       "[-2, -1, 0, 1, 2]"
      ]
     },
     "execution_count": 43,
     "metadata": {},
     "output_type": "execute_result"
    }
   ],
   "source": [
    "#sayilar = [1,2,3,4,5] listesindeki her bir sayının 3 eksiğini içeren yeni bir liste oluşturunuz.\n",
    "sayilar = [1,2,3,4,5] \n",
    "[i-3 for i in sayilar]"
   ]
  },
  {
   "cell_type": "code",
   "execution_count": 45,
   "id": "f41142bc",
   "metadata": {},
   "outputs": [
    {
     "data": {
      "text/plain": [
       "['armut', 'kiraz', 'çilek', 'karpuz']"
      ]
     },
     "execution_count": 45,
     "metadata": {},
     "output_type": "execute_result"
    }
   ],
   "source": [
    "#8. kelimeler = [\"elma\", \"armut\", \"kiraz\", \"çilek\", \"karpuz\"] listesindeki 5 harften uzun olan kelimeleri içeren yeni bir liste oluşturunuz.\n",
    "kelimeler=[\"elma\",\"armut\",\"kiraz\",\"çilek\",\"karpuz\"]\n",
    "[ i for i in kelimeler  if len(i)>=5]"
   ]
  },
  {
   "cell_type": "code",
   "execution_count": null,
   "id": "a483144d",
   "metadata": {},
   "outputs": [],
   "source": [
    "# Soru: harfler = ['a', 'b', 'c'] listesindeki harfleri anahtar olacak ve değerleri 1'den başlayacak bir sözlük oluşturunuz. (örn: 'a': '1')\n",
    "\n",
    "harfler = ['a', 'b', 'c']\n",
    "{harfler[i]:str(i+1) for i in range(len(harfler))}"
   ]
  },
  {
   "cell_type": "code",
   "execution_count": 61,
   "id": "bbf636cb",
   "metadata": {},
   "outputs": [
    {
     "data": {
      "text/plain": [
       "[15]"
      ]
     },
     "execution_count": 61,
     "metadata": {},
     "output_type": "execute_result"
    }
   ],
   "source": [
    "# 1 ile 20 arasındaki sayılardan 3'e ve 5'e tam bölünebilen sayıları içeren bir liste oluşturunuz.\n",
    "[i for i in range(1,21) if i%3==0 and i%5==0]"
   ]
  },
  {
   "cell_type": "code",
   "execution_count": 56,
   "id": "f104e73e",
   "metadata": {},
   "outputs": [
    {
     "data": {
      "text/plain": [
       "[5, 6, 5]"
      ]
     },
     "execution_count": 56,
     "metadata": {},
     "output_type": "execute_result"
    }
   ],
   "source": [
    "# isimler = [\"ahmet\", \"mehmet\", \"selin\"] listesindeki her bir ismin uzunluğunu içeren bir liste oluşturunuz. [5, 6, 5]\n",
    "isimler = [\"ahmet\", \"mehmet\", \"selin\"]\n",
    "[len(i) for i in isimler]"
   ]
  },
  {
   "cell_type": "markdown",
   "id": "0e247b0a",
   "metadata": {},
   "source": [
    "# Orta Seviye Sorular\n",
    "\n",
    "1. Verilen bir cümledeki (örneğin \"Bu bir örnek cümledir\") kelimelerin baş harflerinden oluşan bir liste oluşturunuz.\n",
    "2. sayilar = [1, 1, 2, 3, 5, 8, 13, 21, 34] listesindeki her bir sayının tek mi çift mi olduğunu belirten bir sözlük oluşturun. {1: \"tek\", 2:\"çift\", ...}\n",
    "3. 1'den 100'e kadar olan sayılardan 3'e ve 5'e tam bölünebilen sayıların karelerini içeren bir liste oluşturunuz.\n",
    "4. liste1 = [1, 2, 3] ve liste2 = [\"a\", \"b\", \"c\"] listelerinden elemanların tüm olsaı kombinasyonlarını tuple olarak bir liste oluşturunuz. [ (1,\"a\"), (1, \"b\"), (1, \"c\"), ... ]\n",
    "5. \"Python programlama dili çok güçlü bir dildir ama diğer programlama dillerine göre ağırdır.\" her bir harfin kaç defa geçtiğini sayan bir sözlük oluşturunuz.\n",
    "6. ogrenciler = {\"Ahmet\": 85, \"Ayşe\": 92, \"Zeynep\": 60, \"Mehmet\": 78} notu 80'den büyük olan öğrencilerin isimlerini içeren bir liste oluşturunuz.\n",
    "7. 0'dan 20'ye kadar olan sayılardan, stringe çevrildiğinde \"1\" rakamını içeren sayıları listeleyen bir liste oluşturunuz.\n",
    "8. *** kelimeler = [\"Elma\", \"armut\", \"Portakal\", \"Muz\", \"kivi\", \"iğne\"] listesindeki kelimeleri anahtar, bu kelimelerin uzunluklarını değer olarak içeren ve sadece sesli harf ile başlayan kelimeleri alan bir sözlük oluşturun.\n",
    "9. *** matris = [ [1,2,3], [4,5,6], [7,8,9] ] şeklinde verilmiş matrisin transpozunu oluşturunuz. çıktı: [[1,4,7],[2,5,8],[3,6,9]]\n",
    "10. *** matris1 = [ [1,2,3], [4,5,6], [7,8,9] ] , matris2 = [ [10,20,30], [40,50,60], [70,80,90] ] matris1 + matris2 sonucu yazdıran bir liste oluşturunuz."
   ]
  },
  {
   "cell_type": "code",
   "execution_count": null,
   "id": "a0f293e2",
   "metadata": {},
   "outputs": [],
   "source": [
    "[\"B\",\"b\",\"ö\",\"c\"]"
   ]
  },
  {
   "cell_type": "code",
   "execution_count": 64,
   "id": "e95d1bfc",
   "metadata": {},
   "outputs": [
    {
     "data": {
      "text/plain": [
       "['B', 'b', 'ö', 'c']"
      ]
     },
     "execution_count": 64,
     "metadata": {},
     "output_type": "execute_result"
    }
   ],
   "source": [
    "#1. Verilen bir cümledeki (örneğin \"Bu bir örnek cümledir\") kelimelerin baş harflerinden oluşan bir liste oluşturunuz.\n",
    "metin=\"Bu bir örnek cümledir\"\n",
    "[i[0] for i in metin.split(\" \")]"
   ]
  },
  {
   "cell_type": "code",
   "execution_count": null,
   "id": "5b06e668",
   "metadata": {},
   "outputs": [],
   "source": []
  },
  {
   "cell_type": "code",
   "execution_count": null,
   "id": "80d79e28",
   "metadata": {},
   "outputs": [
    {
     "data": {
      "text/plain": [
       "{1: 'tek',\n",
       " 2: 'çift',\n",
       " 3: 'tek',\n",
       " 5: 'tek',\n",
       " 8: 'çift',\n",
       " 13: 'tek',\n",
       " 21: 'tek',\n",
       " 34: 'çift'}"
      ]
     },
     "execution_count": 70,
     "metadata": {},
     "output_type": "execute_result"
    }
   ],
   "source": [
    "#sayilar = [1, 1, 2, 3, 5, 8, 13, 21, 34] listesindeki her bir sayının tek mi çift mi olduğunu belirten bir sözlük oluşturun. {1: \"tek\", 2:\"çift\", ...}\n",
    "sayilar3 = [1, 1, 2, 3, 5, 8, 13, 21, 34]\n",
    "{i:\"çift\" if i%2 ==0 else \"tek\" for i in sayilar3}"
   ]
  },
  {
   "cell_type": "code",
   "execution_count": 71,
   "id": "32f51718",
   "metadata": {},
   "outputs": [
    {
     "data": {
      "text/plain": [
       "[0, 225, 900, 2025, 3600, 5625, 8100]"
      ]
     },
     "execution_count": 71,
     "metadata": {},
     "output_type": "execute_result"
    }
   ],
   "source": [
    "#1'den 100'e kadar olan sayılardan 3'e ve 5'e tam bölünebilen sayıların karelerini içeren bir liste oluşturunuz.\n",
    "[i**2 for i in range(100)if i%3==0 and i%5==0]"
   ]
  },
  {
   "cell_type": "code",
   "execution_count": 72,
   "id": "55fd417d",
   "metadata": {},
   "outputs": [
    {
     "data": {
      "text/plain": [
       "[(1, 'a'),\n",
       " (1, 'b'),\n",
       " (1, 'c'),\n",
       " (2, 'a'),\n",
       " (2, 'b'),\n",
       " (2, 'c'),\n",
       " (3, 'a'),\n",
       " (3, 'b'),\n",
       " (3, 'c')]"
      ]
     },
     "execution_count": 72,
     "metadata": {},
     "output_type": "execute_result"
    }
   ],
   "source": [
    "#liste1 = [1, 2, 3] ve liste2 = [\"a\", \"b\", \"c\"] listelerinden elemanların tüm olsaı kombinasyonlarını tuple olarak bir liste oluşturunuz. [ (1,\"a\"), (1, \"b\"), (1, \"c\"), ... ]\n",
    "liste1 = [1, 2, 3]\n",
    "liste2 = [\"a\", \"b\", \"c\"] \n",
    "[(i,j) for i in liste1 for j in liste2]"
   ]
  },
  {
   "cell_type": "code",
   "execution_count": 75,
   "id": "13555989",
   "metadata": {},
   "outputs": [
    {
     "data": {
      "text/plain": [
       "{'P': 1,\n",
       " 'y': 1,\n",
       " 't': 1,\n",
       " 'h': 1,\n",
       " 'o': 4,\n",
       " 'n': 2,\n",
       " ' ': 12,\n",
       " 'p': 2,\n",
       " 'r': 11,\n",
       " 'g': 4,\n",
       " 'a': 9,\n",
       " 'm': 5,\n",
       " 'l': 7,\n",
       " 'd': 6,\n",
       " 'i': 8,\n",
       " 'ç': 2,\n",
       " 'k': 1,\n",
       " 'ü': 2,\n",
       " 'b': 1,\n",
       " 'ğ': 2,\n",
       " 'e': 4,\n",
       " 'ö': 1,\n",
       " 'ı': 2,\n",
       " '.': 1}"
      ]
     },
     "execution_count": 75,
     "metadata": {},
     "output_type": "execute_result"
    }
   ],
   "source": [
    "#\"Python programlama dili çok güçlü bir dildir ama diğer programlama dillerine göre ağırdır.\" her bir harfin kaç defa geçtiğini sayan bir sözlük oluşturunuz.\n",
    "cumle = \"Python programlama dili çok güçlü bir dildir ama diğer programlama dillerine göre ağırdır.\"\n",
    "{i:cumle.count(i) for i in cumle }"
   ]
  },
  {
   "cell_type": "code",
   "execution_count": null,
   "id": "3fd60207",
   "metadata": {},
   "outputs": [
    {
     "data": {
      "text/plain": [
       "12"
      ]
     },
     "execution_count": 81,
     "metadata": {},
     "output_type": "execute_result"
    }
   ],
   "source": [
    "#ogrenciler = {\"Ahmet\": 85, \"Ayşe\": 92, \"Zeynep\": 60, \"Mehmet\": 78} notu 80'den büyük olan öğrencilerin isimlerini içeren bir liste oluşturunuz."
   ]
  },
  {
   "cell_type": "code",
   "execution_count": 84,
   "id": "c342d8df",
   "metadata": {},
   "outputs": [
    {
     "data": {
      "text/plain": [
       "['Ahmet', 'Ayşe']"
      ]
     },
     "execution_count": 84,
     "metadata": {},
     "output_type": "execute_result"
    }
   ],
   "source": [
    "ogrenciler = {\"Ahmet\": 85, \"Ayşe\": 92, \"Zeynep\": 60, \"Mehmet\": 78}\n",
    "[i for i in ogrenciler if ogrenciler[i] >80]"
   ]
  },
  {
   "cell_type": "code",
   "execution_count": null,
   "id": "d5e6264d",
   "metadata": {},
   "outputs": [
    {
     "data": {
      "text/plain": [
       "[1, 10, 11, 12, 13, 14, 15, 16, 17, 18, 19]"
      ]
     },
     "execution_count": 86,
     "metadata": {},
     "output_type": "execute_result"
    }
   ],
   "source": [
    "#0'dan 20'ye kadar olan sayılardan, stringe çevrildiğinde \"1\" rakamını içeren sayıları listeleyen bir liste oluşturunuz.\n",
    "\n",
    "[i for i in range(21) if \"1\" in str(i)]"
   ]
  },
  {
   "cell_type": "code",
   "execution_count": null,
   "id": "236549c6",
   "metadata": {},
   "outputs": [
    {
     "data": {
      "text/plain": [
       "{'elma': 4, 'armut': 5, 'iğne': 4}"
      ]
     },
     "execution_count": 88,
     "metadata": {},
     "output_type": "execute_result"
    }
   ],
   "source": [
    "#*** kelimeler = [\"Elma\", \"armut\", \"Portakal\", \"Muz\", \"kivi\", \"iğne\"] listesindeki kelimeleri anahtar, bu kelimelerin uzunluklarını değer olarak içeren ve sadece sesli harf ile başlayan kelimeleri alan bir sözlük oluşturun. \n",
    "\n",
    "kelimeler = [\"elma\", \"armut\", \"portakal\", \"muz\", \"kivi\", \"iğne\"]\n",
    "sesliler = \"aeıioöuü\"\n",
    "\n",
    "{kelimeler[i]:len(kelimeler[i]) for i in range(len(kelimeler)) for j in sesliler if j in kelimeler[i][0]}"
   ]
  }
 ],
 "metadata": {
  "kernelspec": {
   "display_name": "Python 3",
   "language": "python",
   "name": "python3"
  },
  "language_info": {
   "codemirror_mode": {
    "name": "ipython",
    "version": 3
   },
   "file_extension": ".py",
   "mimetype": "text/x-python",
   "name": "python",
   "nbconvert_exporter": "python",
   "pygments_lexer": "ipython3",
   "version": "3.13.3"
  }
 },
 "nbformat": 4,
 "nbformat_minor": 5
}
