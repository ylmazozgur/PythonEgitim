{
 "cells": [
  {
   "cell_type": "code",
   "execution_count": null,
   "id": "ad65389b",
   "metadata": {},
   "outputs": [],
   "source": [
    "#matris = [ [1,2,3], [4,5,6], [7,8,9] ] şeklinde verilmiş matrisin transpozunu oluşturunuz. çıktı: [[1,4,7],[2,5,8],[3,6,9]]"
   ]
  },
  {
   "cell_type": "code",
   "execution_count": null,
   "id": "d8de55c6",
   "metadata": {},
   "outputs": [],
   "source": [
    "matris = [ [1,2,3], \n",
    "           [4,5,6], \n",
    "           [7,8,9] ]"
   ]
  },
  {
   "cell_type": "code",
   "execution_count": 9,
   "id": "62770ee7",
   "metadata": {},
   "outputs": [
    {
     "name": "stdout",
     "output_type": "stream",
     "text": [
      "[1, 2, 3]\n",
      "[4, 5, 6]\n",
      "[7, 8, 9]\n"
     ]
    }
   ],
   "source": [
    "for i in range(len(matris)):\n",
    "    print(matris[i])"
   ]
  },
  {
   "cell_type": "code",
   "execution_count": 10,
   "id": "8dec14c6",
   "metadata": {},
   "outputs": [
    {
     "name": "stdout",
     "output_type": "stream",
     "text": [
      "1\n",
      "2\n",
      "3\n",
      "4\n",
      "5\n",
      "6\n",
      "7\n",
      "8\n",
      "9\n"
     ]
    }
   ],
   "source": [
    "for i in range(len(matris)):\n",
    "    for j in range(len(matris[i])):\n",
    "        print(matris[i][j])"
   ]
  },
  {
   "cell_type": "code",
   "execution_count": 13,
   "id": "5e9ddd18",
   "metadata": {},
   "outputs": [
    {
     "data": {
      "text/plain": [
       "[[1, 2, 3], [4, 5, 6], [7, 8, 9]]"
      ]
     },
     "execution_count": 13,
     "metadata": {},
     "output_type": "execute_result"
    }
   ],
   "source": [
    "[\n",
    "    matris[i] for i in range(len(matris))\n",
    "]"
   ]
  },
  {
   "cell_type": "code",
   "execution_count": 16,
   "id": "6a5d4e2d",
   "metadata": {},
   "outputs": [
    {
     "data": {
      "text/plain": [
       "[1, 2, 3]"
      ]
     },
     "execution_count": 16,
     "metadata": {},
     "output_type": "execute_result"
    }
   ],
   "source": [
    "matris[0]"
   ]
  },
  {
   "cell_type": "code",
   "execution_count": 25,
   "id": "a1e6bced",
   "metadata": {},
   "outputs": [
    {
     "data": {
      "text/plain": [
       "[[1, 4, 7], [2, 5, 8], [3, 6, 9]]"
      ]
     },
     "execution_count": 25,
     "metadata": {},
     "output_type": "execute_result"
    }
   ],
   "source": [
    "[ \n",
    "    [\n",
    "    matris[i][j] for i in range(len(matris[0]))\n",
    "    ] for j in range(len(matris))\n",
    "]"
   ]
  },
  {
   "cell_type": "code",
   "execution_count": 28,
   "id": "7b688a6d",
   "metadata": {},
   "outputs": [
    {
     "data": {
      "text/plain": [
       "[[1, 4, 7], [2, 5, 8], [3, 6, 9]]"
      ]
     },
     "execution_count": 28,
     "metadata": {},
     "output_type": "execute_result"
    }
   ],
   "source": [
    "[list(satir) for satir in zip(*matris)]"
   ]
  },
  {
   "cell_type": "code",
   "execution_count": null,
   "id": "9611083c",
   "metadata": {},
   "outputs": [],
   "source": [
    "#matris1 = [ [1,2,3], [4,5,6], [7,8,9] ] , matris2 = [ [10,20,30], [40,50,60], [70,80,90] ] matris1 + matris2 sonucu yazdıran bir liste oluşturunuz."
   ]
  },
  {
   "cell_type": "code",
   "execution_count": 34,
   "id": "bb4e6bf2",
   "metadata": {},
   "outputs": [],
   "source": [
    "matris1 = [ [1,2,3], [4,5,6], [7,8,9] ]\n",
    "matris2 = [ [10,20,30], [40,50,60], [70,80,90] ] "
   ]
  },
  {
   "cell_type": "code",
   "execution_count": 36,
   "id": "a87deeee",
   "metadata": {},
   "outputs": [
    {
     "name": "stdout",
     "output_type": "stream",
     "text": [
      "1\n",
      "10\n",
      "Toplam:11\n",
      "2\n",
      "20\n",
      "Toplam:22\n",
      "3\n",
      "30\n",
      "Toplam:33\n",
      "4\n",
      "40\n",
      "Toplam:44\n",
      "5\n",
      "50\n",
      "Toplam:55\n",
      "6\n",
      "60\n",
      "Toplam:66\n",
      "7\n",
      "70\n",
      "Toplam:77\n",
      "8\n",
      "80\n",
      "Toplam:88\n",
      "9\n",
      "90\n",
      "Toplam:99\n"
     ]
    }
   ],
   "source": [
    "for i in range(len(matris1)):\n",
    "    for j in range(len(matris1[i])):\n",
    "        print(matris1[i][j])\n",
    "        print(matris2[i][j])\n",
    "        print(f\"Toplam:{matris1[i][j]+matris2[i][j]}\")"
   ]
  },
  {
   "cell_type": "code",
   "execution_count": 44,
   "id": "c3395405",
   "metadata": {},
   "outputs": [
    {
     "data": {
      "text/plain": [
       "[[11, 22, 33], [44, 55, 66], [77, 88, 99]]"
      ]
     },
     "execution_count": 44,
     "metadata": {},
     "output_type": "execute_result"
    }
   ],
   "source": [
    "[\n",
    "   [ matris1[i][j]+matris2[i][j]  for j in range(len(matris1))] for i in range(len(matris1[i]))\n",
    "]"
   ]
  },
  {
   "cell_type": "code",
   "execution_count": 70,
   "id": "9b9ea73c",
   "metadata": {},
   "outputs": [
    {
     "data": {
      "text/plain": [
       "[[11, 22, 33], [44, 55, 66], [77, 88, 99]]"
      ]
     },
     "execution_count": 70,
     "metadata": {},
     "output_type": "execute_result"
    }
   ],
   "source": [
    "matris1 = [ [1,2,3], [4,5,6], [7,8,9] ]\n",
    "matris2 = [ [10,20,30], [40,50,60], [70,80,90] ] \n",
    "\n",
    "[\n",
    "    [i+j for i,j in zip(satir1,satir2) ] for satir1,satir2 in zip(matris1,matris2) \n",
    "]      "
   ]
  },
  {
   "cell_type": "markdown",
   "id": "82d50758",
   "metadata": {},
   "source": [
    "----"
   ]
  },
  {
   "cell_type": "markdown",
   "id": "3079feb7",
   "metadata": {},
   "source": [
    "# Fonksiyonlar\n",
    "\n",
    "1 defa yaz, 100 kere kullan"
   ]
  },
  {
   "cell_type": "code",
   "execution_count": 71,
   "id": "f3adf190",
   "metadata": {},
   "outputs": [],
   "source": [
    "def merhaba():\n",
    "    print(\"Merhaba, fonksiyon konusuna hoş geldiniz.\")"
   ]
  },
  {
   "cell_type": "code",
   "execution_count": 72,
   "id": "ce706b5a",
   "metadata": {},
   "outputs": [
    {
     "name": "stdout",
     "output_type": "stream",
     "text": [
      "Merhaba, fonksiyon konusuna hoş geldiniz.\n"
     ]
    }
   ],
   "source": [
    "merhaba()"
   ]
  },
  {
   "cell_type": "code",
   "execution_count": 78,
   "id": "43bc1589",
   "metadata": {},
   "outputs": [],
   "source": [
    "def topla():\n",
    "    x=1\n",
    "    y=2\n",
    "    print(x+y)"
   ]
  },
  {
   "cell_type": "code",
   "execution_count": 83,
   "id": "334d475c",
   "metadata": {},
   "outputs": [
    {
     "name": "stdout",
     "output_type": "stream",
     "text": [
      "3\n"
     ]
    }
   ],
   "source": [
    "topla()"
   ]
  },
  {
   "cell_type": "code",
   "execution_count": 97,
   "id": "b193ca12",
   "metadata": {},
   "outputs": [],
   "source": [
    "def topla(x,y):\n",
    "    \"\"\"\n",
    "    1.amaç: Fonksiyonun tanımı yani ne işlem yaptığını anlatan kısım.\n",
    "    x ve y değerleri toplar.\n",
    "\n",
    "    2.amaç: Args\n",
    "    x: int,\n",
    "    y: int\n",
    "\n",
    "    3.amaç: fonksiyonun ne yaptı\n",
    "    x+y\n",
    "    \"\"\"\n",
    "    print(x+y)"
   ]
  },
  {
   "cell_type": "code",
   "execution_count": 98,
   "id": "4cd836f9",
   "metadata": {},
   "outputs": [
    {
     "name": "stdout",
     "output_type": "stream",
     "text": [
      "\n",
      "1.amaç: Fonksiyonun tanımı yani ne işlem yaptığını anlatan kısım.\n",
      "x ve y değerleri toplar.\n",
      "\n",
      "2.amaç: Args\n",
      "x: int,\n",
      "y: int\n",
      "\n",
      "3.amaç: fonksiyonun ne yaptı\n",
      "x+y\n",
      "\n"
     ]
    }
   ],
   "source": [
    "print(topla.__doc__)"
   ]
  },
  {
   "cell_type": "code",
   "execution_count": 99,
   "id": "db536879",
   "metadata": {},
   "outputs": [
    {
     "name": "stdout",
     "output_type": "stream",
     "text": [
      "13\n"
     ]
    }
   ],
   "source": [
    "topla(5, 8)"
   ]
  },
  {
   "cell_type": "code",
   "execution_count": 118,
   "id": "f2f35ed3",
   "metadata": {},
   "outputs": [],
   "source": [
    "def topla(x, y=10):\n",
    "    print(x+y)"
   ]
  },
  {
   "cell_type": "code",
   "execution_count": 120,
   "id": "6ee017bd",
   "metadata": {},
   "outputs": [
    {
     "name": "stdout",
     "output_type": "stream",
     "text": [
      "40\n"
     ]
    }
   ],
   "source": [
    "topla(30)"
   ]
  },
  {
   "cell_type": "code",
   "execution_count": null,
   "id": "a1fdd64d",
   "metadata": {},
   "outputs": [
    {
     "name": "stdout",
     "output_type": "stream",
     "text": [
      "12\n"
     ]
    }
   ],
   "source": [
    "topla(10, 2)"
   ]
  },
  {
   "cell_type": "code",
   "execution_count": 104,
   "id": "d9a3225f",
   "metadata": {},
   "outputs": [],
   "source": [
    "def alan (x, pi=3.14):\n",
    "    print(x * pi)"
   ]
  },
  {
   "cell_type": "code",
   "execution_count": 106,
   "id": "708e6acf",
   "metadata": {},
   "outputs": [
    {
     "name": "stdout",
     "output_type": "stream",
     "text": [
      "15\n"
     ]
    }
   ],
   "source": [
    "alan(5,3)"
   ]
  },
  {
   "cell_type": "code",
   "execution_count": null,
   "id": "f5064f46",
   "metadata": {},
   "outputs": [],
   "source": [
    "def den(x,y=10):\n",
    "    print(x+y)"
   ]
  },
  {
   "cell_type": "code",
   "execution_count": null,
   "id": "9306fc89",
   "metadata": {},
   "outputs": [
    {
     "name": "stdout",
     "output_type": "stream",
     "text": [
      "7\n"
     ]
    }
   ],
   "source": []
  },
  {
   "cell_type": "code",
   "execution_count": 121,
   "id": "ab5ea6fc",
   "metadata": {},
   "outputs": [],
   "source": [
    "def topla_x_y(x,y):\n",
    "    print(x+y)"
   ]
  },
  {
   "cell_type": "code",
   "execution_count": 123,
   "id": "db36740a",
   "metadata": {},
   "outputs": [
    {
     "name": "stdout",
     "output_type": "stream",
     "text": [
      "77\n"
     ]
    },
    {
     "ename": "TypeError",
     "evalue": "unsupported operand type(s) for *: 'NoneType' and 'int'",
     "output_type": "error",
     "traceback": [
      "\u001b[31m---------------------------------------------------------------------------\u001b[39m",
      "\u001b[31mTypeError\u001b[39m                                 Traceback (most recent call last)",
      "\u001b[36mCell\u001b[39m\u001b[36m \u001b[39m\u001b[32mIn[123]\u001b[39m\u001b[32m, line 1\u001b[39m\n\u001b[32m----> \u001b[39m\u001b[32m1\u001b[39m \u001b[43mtopla_x_y\u001b[49m\u001b[43m(\u001b[49m\u001b[32;43m55\u001b[39;49m\u001b[43m,\u001b[49m\u001b[32;43m22\u001b[39;49m\u001b[43m)\u001b[49m\u001b[43m \u001b[49m\u001b[43m*\u001b[49m\u001b[43m \u001b[49m\u001b[32;43m2\u001b[39;49m\n",
      "\u001b[31mTypeError\u001b[39m: unsupported operand type(s) for *: 'NoneType' and 'int'"
     ]
    }
   ],
   "source": [
    "topla_x_y(55,22) * 2"
   ]
  },
  {
   "cell_type": "code",
   "execution_count": 125,
   "id": "73c94e95",
   "metadata": {},
   "outputs": [
    {
     "name": "stdout",
     "output_type": "stream",
     "text": [
      "<class 'function'>\n"
     ]
    }
   ],
   "source": [
    "print(type(topla_x_y))"
   ]
  },
  {
   "cell_type": "code",
   "execution_count": 126,
   "id": "df50b68e",
   "metadata": {},
   "outputs": [],
   "source": [
    "def topla_x_y(x,y):\n",
    "    return x+y"
   ]
  },
  {
   "cell_type": "code",
   "execution_count": 127,
   "id": "76756e00",
   "metadata": {},
   "outputs": [
    {
     "data": {
      "text/plain": [
       "77"
      ]
     },
     "execution_count": 127,
     "metadata": {},
     "output_type": "execute_result"
    }
   ],
   "source": [
    "topla_x_y(55,22)"
   ]
  },
  {
   "cell_type": "code",
   "execution_count": 130,
   "id": "927e2007",
   "metadata": {},
   "outputs": [
    {
     "data": {
      "text/plain": [
       "function"
      ]
     },
     "execution_count": 130,
     "metadata": {},
     "output_type": "execute_result"
    }
   ],
   "source": [
    "type(topla_x_y)"
   ]
  },
  {
   "cell_type": "code",
   "execution_count": 131,
   "id": "abf357c3",
   "metadata": {},
   "outputs": [
    {
     "data": {
      "text/plain": [
       "int"
      ]
     },
     "execution_count": 131,
     "metadata": {},
     "output_type": "execute_result"
    }
   ],
   "source": [
    "type(topla_x_y(55,22))"
   ]
  },
  {
   "cell_type": "code",
   "execution_count": 132,
   "id": "d1d2faa8",
   "metadata": {},
   "outputs": [
    {
     "data": {
      "text/plain": [
       "154"
      ]
     },
     "execution_count": 132,
     "metadata": {},
     "output_type": "execute_result"
    }
   ],
   "source": [
    "topla_x_y(55,22) * 2"
   ]
  },
  {
   "cell_type": "code",
   "execution_count": null,
   "id": "ff823367",
   "metadata": {},
   "outputs": [],
   "source": []
  },
  {
   "cell_type": "code",
   "execution_count": null,
   "id": "3b9dde4e",
   "metadata": {},
   "outputs": [],
   "source": [
    "def params(*args):\n",
    "    print(args)\n"
   ]
  },
  {
   "cell_type": "code",
   "execution_count": 156,
   "id": "91869d79",
   "metadata": {},
   "outputs": [
    {
     "name": "stdout",
     "output_type": "stream",
     "text": [
      "(1, 2, 3, 'ayşe', 'gulay', 'muhammed', 'neriman', 'kıymet', [1, 2, 3, 4], {'i': 5, 'j': 13})\n"
     ]
    }
   ],
   "source": [
    "params(1,2,3,\"ayşe\",\"gulay\",\"muhammed\",\"neriman\",\"kıymet\",[1,2,3,4],{\"i\":5, \"j\":13})"
   ]
  },
  {
   "cell_type": "code",
   "execution_count": 150,
   "id": "f0fee4d8",
   "metadata": {},
   "outputs": [],
   "source": [
    "def params2 (**kwargs):\n",
    "    print(kwargs)"
   ]
  },
  {
   "cell_type": "code",
   "execution_count": 154,
   "id": "8e7e0530",
   "metadata": {},
   "outputs": [
    {
     "name": "stdout",
     "output_type": "stream",
     "text": [
      "{'x': 2, 'y': 5}\n"
     ]
    }
   ],
   "source": [
    "params2(x=2, y=5)"
   ]
  },
  {
   "cell_type": "code",
   "execution_count": 160,
   "id": "6b6020d6",
   "metadata": {},
   "outputs": [],
   "source": [
    "def kare(x):\n",
    "    print(x**2)"
   ]
  },
  {
   "cell_type": "code",
   "execution_count": 161,
   "id": "ebe82453",
   "metadata": {},
   "outputs": [
    {
     "name": "stdout",
     "output_type": "stream",
     "text": [
      "25\n"
     ]
    }
   ],
   "source": [
    "kare(5)"
   ]
  },
  {
   "cell_type": "code",
   "execution_count": 162,
   "id": "4afcb043",
   "metadata": {},
   "outputs": [],
   "source": [
    "kare = lambda x: x ** 2"
   ]
  },
  {
   "cell_type": "markdown",
   "id": "24d86bac",
   "metadata": {},
   "source": [
    "Ozgur Yilmaz adında 123456 hesap nolu, bakiyesi 3000 olan gerekiyorsa ekhesap parasını da kullansın. ekhesap bakiyesi 2000 olsun.\n",
    "\n",
    "atm gibi düşünelim. özgür gelecek para çekecek.\n",
    "eğer çekeceği para bakiyesinden büyükse, istiyorsa ek hesap kullansın, istemiyorsa para çekemesin."
   ]
  }
 ],
 "metadata": {
  "kernelspec": {
   "display_name": "Python 3",
   "language": "python",
   "name": "python3"
  },
  "language_info": {
   "codemirror_mode": {
    "name": "ipython",
    "version": 3
   },
   "file_extension": ".py",
   "mimetype": "text/x-python",
   "name": "python",
   "nbconvert_exporter": "python",
   "pygments_lexer": "ipython3",
   "version": "3.13.3"
  }
 },
 "nbformat": 4,
 "nbformat_minor": 5
}
