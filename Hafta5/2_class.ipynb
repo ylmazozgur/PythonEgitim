{
 "cells": [
  {
   "cell_type": "markdown",
   "id": "1fecd4d4",
   "metadata": {},
   "source": [
    "Ozgur Yilmaz adında 123456 hesap nolu, bakiyesi 3000 olan gerekiyorsa ekhesap parasını da kullansın. ekhesap bakiyesi 2000 olsun.\n",
    "\n",
    "atm gibi düşünelim. özgür gelecek para çekecek.\n",
    "eğer çekeceği para bakiyesinden büyükse, istiyorsa ek hesap kullansın, istemiyorsa para çekemesin."
   ]
  },
  {
   "cell_type": "code",
   "execution_count": 73,
   "id": "536532a0",
   "metadata": {},
   "outputs": [],
   "source": [
    "kisi1 = {\n",
    "    \"ad\": \"Özgür\",\n",
    "    \"hesapNo\": 123456,\n",
    "    \"bakiye\": 3000,\n",
    "    \"ekHesap\": 2000\n",
    "}\n",
    "\n",
    "kisi2 = {\n",
    "    \"ad\": \"Rabia\",\n",
    "    \"hesapNo\": 678910,\n",
    "    \"bakiye\": 4000,\n",
    "    \"ekHesap\": 5000\n",
    "}"
   ]
  },
  {
   "cell_type": "code",
   "execution_count": 70,
   "id": "61c9769b",
   "metadata": {},
   "outputs": [],
   "source": [
    "def paraCek():\n",
    "    print(kisi1[\"ad\"])\n",
    "    miktar = int(input(\"Çekmek istediğiniz tutarı giriniz:\"))\n",
    "\n",
    "\n",
    "    if (miktar <= (kisi1[\"bakiye\"]+ kisi1[\"ekHesap\"])):\n",
    "        if kisi1[\"bakiye\"] < miktar:\n",
    "            print(f\"İstediğiniz tutarı çekemezsiniz, ek hesap kullanmak ister misiniz?\")\n",
    "            cevap = input(\"E/H\")\n",
    "        if cevap == \"e\":\n",
    "            ekHesapHarcamaMiktari = miktar - kisi1[\"bakiye\"]\n",
    "            kisi1[\"ekHesap\"] = kisi1[\"ekHesap\"] - ekHesapHarcamaMiktari\n",
    "            kisi1[\"bakiye\"] = 0\n",
    "            print(kisi1[\"ekHesap\"])\n",
    "            print(f\"{miktar} TL para çektiniz\")    \n",
    "        else:\n",
    "            print(\"Ek hesap kullanmak istemediğiniz için para çekemezsiniz\")\n",
    "    else:\n",
    "        print(f\"Çekmek istediğiniz tutar, ek hesapla birlekte kullanılması rağmen çekemezsiniz.\")\n",
    "#\"bakiye\": 3000\n",
    "#\"ekHesap\": 2000"
   ]
  },
  {
   "cell_type": "code",
   "execution_count": null,
   "id": "2114534d",
   "metadata": {},
   "outputs": [],
   "source": [
    "def paraCek():\n",
    "    print(kisi1[\"ad\"])\n",
    "    miktar = int(input(\"Çekmek istediğiniz tutarı giriniz:\"))\n",
    "\n",
    "\n",
    "    if (miktar > (kisi1[\"bakiye\"]+ kisi1[\"ekHesap\"])):\n",
    "        print(f\"Çekmek istediğiniz tutar, ek hesapla birlekte kullanılması rağmen çekemezsiniz.\")\n",
    "    else:\n",
    "        if kisi1[\"bakiye\"] < miktar:\n",
    "            print(f\"İstediğiniz tutarı çekemezsiniz, ek hesap kullanmak ister misiniz?\")\n",
    "            cevap = input(\"E/H\")\n",
    "        if cevap.lower() == \"e\":\n",
    "            ekHesapHarcamaMiktari = miktar - kisi1[\"bakiye\"]\n",
    "            kisi1[\"ekHesap\"] = kisi1[\"ekHesap\"] - ekHesapHarcamaMiktari\n",
    "            kisi1[\"bakiye\"] = 0\n",
    "            print(kisi1[\"ekHesap\"])\n",
    "            print(f\"{miktar} TL para çektiniz\")    \n",
    "        else:\n",
    "            print(\"Ek hesap kullanmak istemediğiniz için para çekemezsiniz\")\n",
    "        \n",
    "#\"bakiye\": 3000\n",
    "#\"ekHesap\": 2000"
   ]
  },
  {
   "cell_type": "code",
   "execution_count": null,
   "id": "9084e649",
   "metadata": {},
   "outputs": [
    {
     "name": "stdout",
     "output_type": "stream",
     "text": [
      "Özgür\n",
      "İstediğiniz tutarı çekemezsiniz, ek hesap kullanmak ister misiniz?\n",
      "Ek hesap kullanmak istemediğiniz için para çekemezsiniz\n"
     ]
    }
   ],
   "source": [
    "paraCek(kisi2)"
   ]
  },
  {
   "cell_type": "code",
   "execution_count": 87,
   "id": "c09d1b81",
   "metadata": {},
   "outputs": [],
   "source": [
    "kisi1 = {\n",
    "    \"ad\": \"Özgür\",\n",
    "    \"hesapNo\": 123456,\n",
    "    \"bakiye\": 3000,\n",
    "    \"ekHesap\": 2000\n",
    "}\n",
    "\n",
    "kisi2 = {\n",
    "    \"ad\": \"Rabia\",\n",
    "    \"hesapNo\": 678910,\n",
    "    \"bakiye\": 4000,\n",
    "    \"ekHesap\": 5000\n",
    "}"
   ]
  },
  {
   "cell_type": "code",
   "execution_count": 88,
   "id": "d27d86d2",
   "metadata": {},
   "outputs": [],
   "source": [
    "def paraCek(kisi):\n",
    "    print(kisi[\"ad\"])\n",
    "    miktar = int(input(\"Çekmek istediğiniz tutarı giriniz:\"))\n",
    "    if (miktar <= (kisi[\"bakiye\"]+ kisi[\"ekHesap\"])):\n",
    "        if kisi[\"bakiye\"] <= miktar:\n",
    "            print(f\"İstediğiniz tutarı çekemezsiniz, ek hesap kullanmak ister misiniz?\")\n",
    "            cevap = input(\"E/H\")\n",
    "        if cevap == \"e\":\n",
    "            ekHesapHarcamaMiktari = miktar - kisi[\"bakiye\"]\n",
    "            kisi[\"ekHesap\"] = kisi[\"ekHesap\"] - ekHesapHarcamaMiktari\n",
    "            kisi[\"bakiye\"] = 0\n",
    "            print(kisi[\"ekHesap\"])\n",
    "            print(f\"{miktar} TL para çektiniz\")    \n",
    "        else:\n",
    "            print(\"Ek hesap kullanmak istemediğiniz için para çekemezsiniz\")\n",
    "    else:\n",
    "        print(f\"Çekmek istediğiniz tutar, ek hesapla birlekte kullanılması rağmen çekemezsiniz.\")\n",
    "#\"bakiye\": 3000\n",
    "#\"ekHesap\": 2000"
   ]
  },
  {
   "cell_type": "code",
   "execution_count": 90,
   "id": "3944ca64",
   "metadata": {},
   "outputs": [
    {
     "ename": "TypeError",
     "evalue": "paraCek() missing 1 required positional argument: 'kisi'",
     "output_type": "error",
     "traceback": [
      "\u001b[31m---------------------------------------------------------------------------\u001b[39m",
      "\u001b[31mTypeError\u001b[39m                                 Traceback (most recent call last)",
      "\u001b[36mCell\u001b[39m\u001b[36m \u001b[39m\u001b[32mIn[90]\u001b[39m\u001b[32m, line 1\u001b[39m\n\u001b[32m----> \u001b[39m\u001b[32m1\u001b[39m \u001b[43mparaCek\u001b[49m\u001b[43m(\u001b[49m\u001b[43m)\u001b[49m\n",
      "\u001b[31mTypeError\u001b[39m: paraCek() missing 1 required positional argument: 'kisi'"
     ]
    }
   ],
   "source": [
    "paraCek()"
   ]
  },
  {
   "cell_type": "markdown",
   "id": "dd4620ce",
   "metadata": {},
   "source": [
    "---"
   ]
  },
  {
   "cell_type": "markdown",
   "id": "0ab60f52",
   "metadata": {},
   "source": [
    "# Class (Sınıf)\n",
    "\n",
    "Python'da nesneye dayalı programlamanın (OOP - Object-Oriented Programming) temel yapısıdır. Sınıflar, verileri ve bu veriler üzerinden çalışan fonksiyonları bir arada tutarak daha düzenli ve modüler kod yazmamızı sağlar."
   ]
  },
  {
   "cell_type": "code",
   "execution_count": null,
   "id": "5bc98be0",
   "metadata": {},
   "outputs": [],
   "source": [
    "class SinifAdi:\n",
    "    pass\n",
    "    # Sınıf özellikleri (class attributes) - tüm örnekler için ortak\n",
    "    sinif_degiskeni = \"Sınıf değişkenidir.\"\n",
    "    x = 5\n",
    "    y = True\n",
    "    yil = 2025\n",
    "\n",
    "    # constructor (yapıcı metot)\n",
    "    def __init__(self, parametre1, parametre2):\n",
    "        # object attributes\n",
    "        self.param1 = parametre1\n",
    "        self.param2 = parametre2\n",
    "\n",
    "    def ornek1(self):\n",
    "        return f\"Parametrelerim: {self.param1}, {self.param2}\"\n",
    "    \n",
    "    @classmethod\n",
    "    def sinif_Metodu(cls):\n",
    "        # Sınıf metodları\n",
    "        return f\"Sınıf değişkeni: {cls.sinif_degiskeni}\"\n",
    "    \n",
    "    @staticmethod\n",
    "    def statik_method():\n",
    "        # Statik metodlar - ne self, ne de cls alır.\n",
    "        return \"Bu bir statik metoddur.\"\n"
   ]
  },
  {
   "cell_type": "code",
   "execution_count": null,
   "id": "4d6f63ab",
   "metadata": {},
   "outputs": [],
   "source": [
    "class A:\n",
    "    def __init__(self, a, b, c):\n",
    "        pass\n",
    "    def bol():\n",
    "        pass\n",
    "    def abc(self, a, b):\n",
    "        print(\"abc fonksiyonu\")\n",
    "    def carpma():\n",
    "        pass\n",
    "    pass"
   ]
  },
  {
   "cell_type": "code",
   "execution_count": 96,
   "id": "61b79f2f",
   "metadata": {},
   "outputs": [],
   "source": [
    "o1 = A"
   ]
  },
  {
   "cell_type": "code",
   "execution_count": 97,
   "id": "fcc01599",
   "metadata": {},
   "outputs": [
    {
     "name": "stdout",
     "output_type": "stream",
     "text": [
      "abc fonksiyonu\n"
     ]
    }
   ],
   "source": [
    "o1.abc()"
   ]
  },
  {
   "cell_type": "markdown",
   "id": "afed8384",
   "metadata": {},
   "source": [
    "---"
   ]
  },
  {
   "cell_type": "markdown",
   "id": "1a5499db",
   "metadata": {},
   "source": [
    "## __init__ Metodu (Constructor)\n",
    "\n",
    "Sınıftan bir örnek (instance) oluşturulduğunda otomatik olarak çağrılan özel bir metoddur."
   ]
  },
  {
   "cell_type": "code",
   "execution_count": 119,
   "id": "282e73a1",
   "metadata": {},
   "outputs": [],
   "source": [
    "class Kisi:\n",
    "    def __init__(self, ad, yil):\n",
    "        self.ad = ad\n",
    "        self.yil = yil\n",
    "        print(\"init metodu çalıştı\")"
   ]
  },
  {
   "cell_type": "code",
   "execution_count": 101,
   "id": "163f7f41",
   "metadata": {},
   "outputs": [
    {
     "name": "stdout",
     "output_type": "stream",
     "text": [
      "init metodu çalıştı\n",
      "init metodu çalıştı\n"
     ]
    }
   ],
   "source": [
    "kisi1 = Kisi(\"Zeynep\", 1985)\n",
    "kisi2 = Kisi(\"Gulay\", 1991)"
   ]
  },
  {
   "cell_type": "code",
   "execution_count": 105,
   "id": "2650538b",
   "metadata": {},
   "outputs": [
    {
     "name": "stdout",
     "output_type": "stream",
     "text": [
      "Zeynep 1985\n",
      "Gulay 1991\n"
     ]
    }
   ],
   "source": [
    "print(kisi1.ad, kisi1.yil)\n",
    "print(kisi2.ad, kisi2.yil)"
   ]
  },
  {
   "cell_type": "code",
   "execution_count": 106,
   "id": "b03df3e4",
   "metadata": {},
   "outputs": [
    {
     "name": "stdout",
     "output_type": "stream",
     "text": [
      "<class '__main__.Kisi'>\n"
     ]
    }
   ],
   "source": [
    "print(type(kisi1))"
   ]
  },
  {
   "cell_type": "markdown",
   "id": "be8c74d9",
   "metadata": {},
   "source": [
    "---"
   ]
  },
  {
   "cell_type": "code",
   "execution_count": 121,
   "id": "2f03ecaf",
   "metadata": {},
   "outputs": [],
   "source": [
    "class Kisi:\n",
    "    adres_bilgisi = \"bilgi yok\"\n",
    "    def __init__(self, ad, yil):\n",
    "        self.ad = ad\n",
    "        self.yil = yil\n",
    "        print(\"init metodu çalıştı\")"
   ]
  },
  {
   "cell_type": "code",
   "execution_count": 116,
   "id": "3228b91e",
   "metadata": {},
   "outputs": [
    {
     "name": "stdout",
     "output_type": "stream",
     "text": [
      "init metodu çalıştı\n",
      "ad: Özgür \n",
      "yıl: 2024 \n",
      "adres bilgisi: bilgi yok\n"
     ]
    }
   ],
   "source": [
    "kisi1 = Kisi(\"Özgür\", 2024)\n",
    "print(f\"ad: {kisi1.ad} \\nyıl: {kisi1.yil} \\nadres bilgisi: {kisi1.adres_bilgisi}\")"
   ]
  },
  {
   "cell_type": "code",
   "execution_count": 113,
   "id": "de65c1a5",
   "metadata": {},
   "outputs": [],
   "source": [
    "class Kisi:\n",
    "    def __init__(self, ad, yil, adres):\n",
    "        self.ad = ad\n",
    "        self.yil = yil\n",
    "        self.adres = adres\n",
    "        print(\"init metodu çalıştı\")"
   ]
  },
  {
   "cell_type": "code",
   "execution_count": 114,
   "id": "e7fb727e",
   "metadata": {},
   "outputs": [
    {
     "ename": "TypeError",
     "evalue": "Kisi.__init__() missing 1 required positional argument: 'adres'",
     "output_type": "error",
     "traceback": [
      "\u001b[31m---------------------------------------------------------------------------\u001b[39m",
      "\u001b[31mTypeError\u001b[39m                                 Traceback (most recent call last)",
      "\u001b[36mCell\u001b[39m\u001b[36m \u001b[39m\u001b[32mIn[114]\u001b[39m\u001b[32m, line 1\u001b[39m\n\u001b[32m----> \u001b[39m\u001b[32m1\u001b[39m kisi1 = \u001b[43mKisi\u001b[49m\u001b[43m(\u001b[49m\u001b[33;43m\"\u001b[39;49m\u001b[33;43mAhmet\u001b[39;49m\u001b[33;43m\"\u001b[39;49m\u001b[43m,\u001b[49m\u001b[32;43m2025\u001b[39;49m\u001b[43m)\u001b[49m\n",
      "\u001b[31mTypeError\u001b[39m: Kisi.__init__() missing 1 required positional argument: 'adres'"
     ]
    }
   ],
   "source": [
    "kisi1 = Kisi(\"Ahmet\",2025)"
   ]
  },
  {
   "cell_type": "markdown",
   "id": "57a664f9",
   "metadata": {},
   "source": [
    "* Peki ya ismi veya tarihi güncellemek istersek?"
   ]
  },
  {
   "cell_type": "code",
   "execution_count": 117,
   "id": "e67297ad",
   "metadata": {},
   "outputs": [],
   "source": [
    "kisi1.ad = \"Yasemin\"\n",
    "kisi1.yil = 1992"
   ]
  },
  {
   "cell_type": "code",
   "execution_count": 118,
   "id": "e235dc4d",
   "metadata": {},
   "outputs": [
    {
     "name": "stdout",
     "output_type": "stream",
     "text": [
      "Yasemin 1992\n"
     ]
    }
   ],
   "source": [
    "print(kisi1.ad, kisi1.yil)"
   ]
  },
  {
   "cell_type": "code",
   "execution_count": 122,
   "id": "a4b4c03f",
   "metadata": {},
   "outputs": [
    {
     "name": "stdout",
     "output_type": "stream",
     "text": [
      "init metodu çalıştı\n",
      "ad: Ayse \n",
      "yıl: 2022 \n",
      "adres bilgisi: bilgi yok\n"
     ]
    }
   ],
   "source": [
    "kisi2 = Kisi(ad=\"Ayse\", yil=2022)\n",
    "print(f\"ad: {kisi2.ad} \\nyıl: {kisi2.yil} \\nadres bilgisi: {kisi2.adres_bilgisi}\")"
   ]
  },
  {
   "cell_type": "code",
   "execution_count": null,
   "id": "1b3747cf",
   "metadata": {},
   "outputs": [],
   "source": [
    "class Kisi:\n",
    "    adres_bilgisi = \"bilgi yok\"\n",
    "    def __init__(self, ad, yil,adres):\n",
    "        self.ad = ad\n",
    "        self.yil = yil\n",
    "        self.adres = adres\n",
    "        print(\"init metodu çalıştı\")"
   ]
  },
  {
   "cell_type": "code",
   "execution_count": 130,
   "id": "9d6d017a",
   "metadata": {},
   "outputs": [
    {
     "name": "stdout",
     "output_type": "stream",
     "text": [
      "init metodu çalıştı\n",
      "ad: Ayse \n",
      "yıl: 2022 \n",
      "adres bilgisi: adres\n"
     ]
    }
   ],
   "source": [
    "kisi2 = Kisi(ad=\"Ayse\", yil=2022, adres=\"adres\")\n",
    "print(f\"ad: {kisi2.ad} \\nyıl: {kisi2.yil} \\nadres bilgisi: {kisi2.adres}\")"
   ]
  },
  {
   "cell_type": "markdown",
   "id": "0c33f99d",
   "metadata": {},
   "source": [
    "---"
   ]
  },
  {
   "cell_type": "markdown",
   "id": "ce65dd74",
   "metadata": {},
   "source": [
    "## Instance (Örnek) Metodları\n",
    "\n",
    "Bir sınıfın örneklerine ait metodlardır. İlk parametre olarak self alırlar."
   ]
  },
  {
   "cell_type": "code",
   "execution_count": 142,
   "id": "ba837ea5",
   "metadata": {},
   "outputs": [],
   "source": [
    "class Kisi:\n",
    "    adres_bilgisi = \"bilgi yok\"\n",
    "\n",
    "    def __init__(self, ad, yil):\n",
    "        self.ad = ad\n",
    "        self.yil = yil\n",
    "        print(\"init metodu çalıştı\")\n",
    "\n",
    "\n",
    "    # instance methods (self yapısı alanlar)\n",
    "    def baslangic(self):\n",
    "        print(f\"Merhaba. Benim adım {self.ad} doğum yılım {self.yil}\")"
   ]
  },
  {
   "cell_type": "code",
   "execution_count": 143,
   "id": "08b5137b",
   "metadata": {},
   "outputs": [
    {
     "name": "stdout",
     "output_type": "stream",
     "text": [
      "init metodu çalıştı\n",
      "init metodu çalıştı\n"
     ]
    }
   ],
   "source": [
    "kisi1 = Kisi(\"Özgür\", 1995)\n",
    "kisi2 = Kisi(\"Sıla\", 1990)"
   ]
  },
  {
   "cell_type": "code",
   "execution_count": 144,
   "id": "eff3d70f",
   "metadata": {},
   "outputs": [
    {
     "name": "stdout",
     "output_type": "stream",
     "text": [
      "Merhaba. Benim adım Özgür doğum yılım 1995\n",
      "Merhaba. Benim adım Sıla doğum yılım 1990\n"
     ]
    }
   ],
   "source": [
    "kisi1.baslangic()\n",
    "kisi2.baslangic()"
   ]
  },
  {
   "cell_type": "markdown",
   "id": "0ec02ddf",
   "metadata": {},
   "source": [
    "---"
   ]
  },
  {
   "cell_type": "code",
   "execution_count": 145,
   "id": "305524b2",
   "metadata": {},
   "outputs": [],
   "source": [
    "class Kisi:\n",
    "    def __init__(self, ad, yil):\n",
    "        self.ad = ad\n",
    "        self.yil = yil\n",
    "        print(\"init metodu çalıştı\")\n",
    "\n",
    "    # instance methods (self yapısı alanlar)\n",
    "    def baslangic(self):\n",
    "        print(\"Merhaba. Benim adım \"+ self.ad)\n",
    "\n",
    "    def yasHesapla(self):\n",
    "        return 2025 - self.yil"
   ]
  },
  {
   "cell_type": "code",
   "execution_count": 146,
   "id": "8ebe780a",
   "metadata": {},
   "outputs": [
    {
     "name": "stdout",
     "output_type": "stream",
     "text": [
      "init metodu çalıştı\n"
     ]
    }
   ],
   "source": [
    "kisi1 = Kisi(\"Muhammed\", 2003)"
   ]
  },
  {
   "cell_type": "code",
   "execution_count": 147,
   "id": "b4137f2f",
   "metadata": {},
   "outputs": [
    {
     "data": {
      "text/plain": [
       "22"
      ]
     },
     "execution_count": 147,
     "metadata": {},
     "output_type": "execute_result"
    }
   ],
   "source": [
    "kisi1.yasHesapla()"
   ]
  },
  {
   "cell_type": "markdown",
   "id": "76799684",
   "metadata": {},
   "source": [
    "---"
   ]
  },
  {
   "cell_type": "code",
   "execution_count": null,
   "id": "6c05cd7e",
   "metadata": {},
   "outputs": [],
   "source": [
    "class Circle:\n",
    "    pi = 3.14\n",
    "    def __init__(self, yaricap=1):\n",
    "        self.yaricap = yaricap\n",
    "    # Methods\n",
    "    def cevre_hesapla(self):\n",
    "        return 2 * self.pi * self.yaricap\n",
    "    def alan_hesapla(self):\n",
    "        return self.pi * (self.yaricap**2)"
   ]
  },
  {
   "cell_type": "code",
   "execution_count": 149,
   "id": "2ec28e5c",
   "metadata": {},
   "outputs": [],
   "source": [
    "c1 = Circle(5)\n",
    "c2 = Circle()"
   ]
  },
  {
   "cell_type": "code",
   "execution_count": 153,
   "id": "27486f9b",
   "metadata": {},
   "outputs": [
    {
     "name": "stdout",
     "output_type": "stream",
     "text": [
      "\n",
      " c1'in alanı: 78.5 \n",
      " c2'nin çevresi:31.400000000000002\n",
      "\n",
      " c2'in alanı: 3.14 \n",
      " c2'nin çevresi:6.28\n"
     ]
    }
   ],
   "source": [
    "print(f\"\\n c1'in alanı: {c1.alan_hesapla()} \\n c2'nin çevresi:{c1.cevre_hesapla()}\" )\n",
    "print(f\"\\n c2'in alanı: {c2.alan_hesapla()} \\n c2'nin çevresi:{c2.cevre_hesapla()}\" )"
   ]
  },
  {
   "cell_type": "markdown",
   "id": "d5bccea8",
   "metadata": {},
   "source": [
    "---"
   ]
  },
  {
   "cell_type": "markdown",
   "id": "3a093265",
   "metadata": {},
   "source": [
    "## Sınıf Metodları (@classmethod)\n",
    "Sınıfın kendisi üzerinde çalışan metodlardır. İlk parametre olarak cls (class) alırlar.\n",
    "\n",
    "Buradaki cls, class'ı temsil eder."
   ]
  },
  {
   "cell_type": "code",
   "execution_count": 154,
   "id": "0d4cb3e8",
   "metadata": {},
   "outputs": [],
   "source": [
    "class Pizza:\n",
    "    def __init__(self, malzemeler):\n",
    "        self.malzemeler = malzemeler\n",
    "\n",
    "    @classmethod\n",
    "    def margarita(cls):\n",
    "        return cls([\"mozzarella peyniri\", \"domates sosu\"])\n",
    "    \n",
    "    @classmethod\n",
    "    def prosciutto(cls):\n",
    "        return cls([\"mozzarella peyniri\", \"domates sosu\", \"jambon\"])"
   ]
  },
  {
   "cell_type": "code",
   "execution_count": 155,
   "id": "d941f9f5",
   "metadata": {},
   "outputs": [],
   "source": [
    "p1 = Pizza([\"Mozzarella peyniri\", \"domates sosu\"])"
   ]
  },
  {
   "cell_type": "code",
   "execution_count": 156,
   "id": "eba015e4",
   "metadata": {},
   "outputs": [
    {
     "data": {
      "text/plain": [
       "<__main__.Pizza at 0x1ccb3e3b250>"
      ]
     },
     "execution_count": 156,
     "metadata": {},
     "output_type": "execute_result"
    }
   ],
   "source": [
    "p1.margarita()"
   ]
  },
  {
   "cell_type": "code",
   "execution_count": 157,
   "id": "ed0f52fd",
   "metadata": {},
   "outputs": [
    {
     "name": "stdout",
     "output_type": "stream",
     "text": [
      "<__main__.Pizza object at 0x000001CCB54A9450>\n",
      "['mozzarella peyniri', 'domates sosu']\n"
     ]
    }
   ],
   "source": [
    "print(Pizza.margarita())\n",
    "p1 = Pizza.margarita()\n",
    "print(p1.malzemeler)"
   ]
  },
  {
   "cell_type": "code",
   "execution_count": 159,
   "id": "860eef35",
   "metadata": {},
   "outputs": [
    {
     "name": "stdout",
     "output_type": "stream",
     "text": [
      "['mozzarella peyniri', 'domates sosu', 'jambon']\n"
     ]
    }
   ],
   "source": [
    "p2 = Pizza.prosciutto()\n",
    "print(p2.malzemeler)"
   ]
  },
  {
   "cell_type": "code",
   "execution_count": 161,
   "id": "118fe761",
   "metadata": {},
   "outputs": [],
   "source": [
    "class Pizza:\n",
    "    def __init__(self, malzemeler):\n",
    "        self.malzemeler = malzemeler\n",
    "\n",
    "    @classmethod\n",
    "    def margarita(cls, extra):\n",
    "        return cls([\"mozzarella peyniri\", \"domates sosu\"] + extra) \n",
    "    \n",
    "    @classmethod\n",
    "    def prosciutto(cls):\n",
    "        return cls([\"mozzarella peyniri\", \"domates sosu\", \"jambon\"])"
   ]
  },
  {
   "cell_type": "code",
   "execution_count": 164,
   "id": "9f550ee3",
   "metadata": {},
   "outputs": [
    {
     "name": "stdout",
     "output_type": "stream",
     "text": [
      "['mozzarella peyniri', 'domates sosu', 'Su', 'sarimsak', 'soğan']\n"
     ]
    }
   ],
   "source": [
    "#print(Pizza.margarita([\"salam\"]))\n",
    "p1 = Pizza.margarita([\"Su\",\"sarimsak\",\"soğan\"])\n",
    "print(p1.malzemeler)"
   ]
  },
  {
   "cell_type": "markdown",
   "id": "5885a3dd",
   "metadata": {},
   "source": [
    "---"
   ]
  },
  {
   "cell_type": "markdown",
   "id": "62f60f16",
   "metadata": {},
   "source": [
    "## Statik Metodlar (@staticmethod)\n",
    "\n",
    "Ne sınıfa ne de örneğe bağlı olan metodlardır. Yani self ve cls almazlar."
   ]
  },
  {
   "cell_type": "code",
   "execution_count": 165,
   "id": "2eda5458",
   "metadata": {},
   "outputs": [],
   "source": [
    "class Matematik:\n",
    "    @staticmethod\n",
    "    def topla(a, b):\n",
    "        return a + b\n",
    "\n",
    "    @staticmethod\n",
    "    def carp(a, b):\n",
    "        return a * b"
   ]
  },
  {
   "cell_type": "code",
   "execution_count": 166,
   "id": "f3ec2509",
   "metadata": {},
   "outputs": [
    {
     "name": "stdout",
     "output_type": "stream",
     "text": [
      "8\n",
      "15\n"
     ]
    }
   ],
   "source": [
    "print(Matematik.topla(5, 3))  # 8\n",
    "print(Matematik.carp(5, 3))   # 15"
   ]
  },
  {
   "cell_type": "markdown",
   "id": "478ea567",
   "metadata": {},
   "source": [
    "---"
   ]
  },
  {
   "cell_type": "markdown",
   "id": "55bcd092",
   "metadata": {},
   "source": [
    "## Kalıtım (Inheritance)\n",
    "\n",
    "Bir sınıfın başka bir sınıftan özelliklerini miras alması diyebiliriz."
   ]
  },
  {
   "cell_type": "code",
   "execution_count": 169,
   "id": "aae55cda",
   "metadata": {},
   "outputs": [],
   "source": [
    "class Hayvan:\n",
    "    def __init__(self, ad):\n",
    "        self.ad = ad\n",
    "    \n",
    "    def ses_cikar(self):\n",
    "        return \"Ses çıkarıyor...\"\n",
    "  \n",
    "class Kedi(Hayvan):\n",
    "    def ses_cikar(self):\n",
    "        return \"Miyav!\"\n",
    "\n",
    "class Kopek(Hayvan):\n",
    "    def ses_cikar(self):\n",
    "        return \"Hav Hav!\"\n"
   ]
  },
  {
   "cell_type": "code",
   "execution_count": 170,
   "id": "d8505116",
   "metadata": {},
   "outputs": [
    {
     "data": {
      "text/plain": [
       "'Ses çıkarıyor...'"
      ]
     },
     "execution_count": 170,
     "metadata": {},
     "output_type": "execute_result"
    }
   ],
   "source": [
    "h1 = Hayvan(\"kedi\")\n",
    "h1.ses_cikar()"
   ]
  },
  {
   "cell_type": "code",
   "execution_count": 171,
   "id": "dac9ea39",
   "metadata": {},
   "outputs": [
    {
     "data": {
      "text/plain": [
       "'Miyav!'"
      ]
     },
     "execution_count": 171,
     "metadata": {},
     "output_type": "execute_result"
    }
   ],
   "source": [
    "kedi = Kedi(\"pisipisi\")\n",
    "kedi.ses_cikar()"
   ]
  },
  {
   "cell_type": "code",
   "execution_count": 172,
   "id": "212bcbfd",
   "metadata": {},
   "outputs": [
    {
     "data": {
      "text/plain": [
       "'Hav Hav!'"
      ]
     },
     "execution_count": 172,
     "metadata": {},
     "output_type": "execute_result"
    }
   ],
   "source": [
    "kopek = Kopek(\"karabaş\")\n",
    "kopek.ses_cikar()"
   ]
  }
 ],
 "metadata": {
  "kernelspec": {
   "display_name": "Python 3",
   "language": "python",
   "name": "python3"
  },
  "language_info": {
   "codemirror_mode": {
    "name": "ipython",
    "version": 3
   },
   "file_extension": ".py",
   "mimetype": "text/x-python",
   "name": "python",
   "nbconvert_exporter": "python",
   "pygments_lexer": "ipython3",
   "version": "3.13.3"
  }
 },
 "nbformat": 4,
 "nbformat_minor": 5
}
