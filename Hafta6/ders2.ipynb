{
 "cells": [
  {
   "cell_type": "code",
   "execution_count": 4,
   "id": "83f0fe51",
   "metadata": {},
   "outputs": [],
   "source": [
    "import numpy as np"
   ]
  },
  {
   "cell_type": "code",
   "execution_count": 7,
   "id": "2d381755",
   "metadata": {},
   "outputs": [],
   "source": [
    "liste1 = [[1,2,3,4],[1,2,3]]"
   ]
  },
  {
   "cell_type": "code",
   "execution_count": 17,
   "id": "36f1ac3e",
   "metadata": {},
   "outputs": [
    {
     "name": "stdout",
     "output_type": "stream",
     "text": [
      "7\n"
     ]
    }
   ],
   "source": [
    "t = 0\n",
    "for i in range(len(liste1)):\n",
    "    t += len(liste1[i])\n",
    "print(t)"
   ]
  },
  {
   "cell_type": "code",
   "execution_count": 23,
   "id": "d052b4bb",
   "metadata": {},
   "outputs": [],
   "source": [
    "arr = np.array([[1,2,3],[4,5,6]],dtype=\"int\")"
   ]
  },
  {
   "cell_type": "code",
   "execution_count": 25,
   "id": "ceeecdef",
   "metadata": {},
   "outputs": [
    {
     "data": {
      "text/plain": [
       "array([['1', '2', '3'],\n",
       "       ['4', '5', '6']], dtype='<U21')"
      ]
     },
     "execution_count": 25,
     "metadata": {},
     "output_type": "execute_result"
    }
   ],
   "source": [
    "arr.astype(\"str\")"
   ]
  },
  {
   "cell_type": "code",
   "execution_count": 26,
   "id": "92b6d542",
   "metadata": {},
   "outputs": [
    {
     "name": "stdout",
     "output_type": "stream",
     "text": [
      "[ 4 10 18] \n",
      "\n",
      "32\n"
     ]
    }
   ],
   "source": [
    "a = np.array([1, 2, 3])\n",
    "b = np.array([4, 5, 6])\n",
    "\n",
    "print(a*b,\"\\n\")\n",
    "print(np.dot(a,b))"
   ]
  },
  {
   "cell_type": "code",
   "execution_count": 42,
   "id": "3c4a687e",
   "metadata": {},
   "outputs": [
    {
     "data": {
      "text/plain": [
       "array([[1],\n",
       "       [4]])"
      ]
     },
     "execution_count": 42,
     "metadata": {},
     "output_type": "execute_result"
    }
   ],
   "source": [
    "matrix = np.array([ [1, 2, 3], \n",
    "                    [4, 5, 6], \n",
    "                    [7, 8, 9] ])\n",
    "\n",
    "matrix[0:2, 0:1]\n",
    "#cevap: 2, 2, 8, hata"
   ]
  },
  {
   "cell_type": "code",
   "execution_count": null,
   "id": "a3173dd7",
   "metadata": {},
   "outputs": [],
   "source": [
    "for i in range(10)"
   ]
  },
  {
   "cell_type": "code",
   "execution_count": null,
   "id": "ff9f6572",
   "metadata": {},
   "outputs": [],
   "source": [
    "liste1 =([  [1, 2, 3], \n",
    "            [4, 5, 6], \n",
    "            [7, 8, 9] ])"
   ]
  },
  {
   "cell_type": "code",
   "execution_count": 38,
   "id": "c3511040",
   "metadata": {},
   "outputs": [
    {
     "data": {
      "text/plain": [
       "5"
      ]
     },
     "execution_count": 38,
     "metadata": {},
     "output_type": "execute_result"
    }
   ],
   "source": [
    "liste1[1][1]"
   ]
  },
  {
   "cell_type": "code",
   "execution_count": null,
   "id": "7ce5778c",
   "metadata": {},
   "outputs": [
    {
     "name": "stdout",
     "output_type": "stream",
     "text": [
      "[[11 22]\n",
      " [13 24]]\n"
     ]
    }
   ],
   "source": [
    "a = np.array([[1, 2], [3, 4]])\n",
    "b = np.array([10, 20])\n",
    "\n",
    "print(a + b)\n",
    "\n",
    "#[[11,22],[13,24]]"
   ]
  },
  {
   "cell_type": "code",
   "execution_count": null,
   "id": "7fe4b737",
   "metadata": {},
   "outputs": [
    {
     "name": "stdout",
     "output_type": "stream",
     "text": [
      "[False  True False  True]\n"
     ]
    }
   ],
   "source": [
    "arr = np.array([1, 2, 3, 4])\n",
    "\n",
    "print(arr % 2 == 0)"
   ]
  },
  {
   "cell_type": "code",
   "execution_count": 51,
   "id": "c4e8a732",
   "metadata": {},
   "outputs": [
    {
     "name": "stdout",
     "output_type": "stream",
     "text": [
      "[0 1 2 3 4 5] \n",
      "\n",
      "[[0 1 2]\n",
      " [3 4 5]] \n",
      "\n",
      "[[0]\n",
      " [1]\n",
      " [2]\n",
      " [3]\n",
      " [4]\n",
      " [5]] \n",
      "\n"
     ]
    }
   ],
   "source": [
    "arr = np.arange(6)\n",
    "print(arr, \"\\n\")\n",
    "print(arr.reshape(2,3),\"\\n\")\n",
    "print(arr.reshape(6,1),\"\\n\")"
   ]
  },
  {
   "cell_type": "code",
   "execution_count": null,
   "id": "c20fa16e",
   "metadata": {},
   "outputs": [],
   "source": [
    "print(np.random.rand(3,4),\"\\n\") # 0 ile 1 arasında 3 satır 4 sütunluk rastgele değer üretir. Eşit olasılık.\n",
    "print(np.random.randn(2,5)) # 0 ile 1 arasında ort=0, std=1 olacak şekilde normal dağılım olacak şekilde rastgele sayı üretir.\n",
    "print(np.random.randint(1,50,15), \"\\n\") # 1 ile 50 arasında rastgele 15 tane sayı üretir."
   ]
  },
  {
   "cell_type": "code",
   "execution_count": 57,
   "id": "4a42330f",
   "metadata": {},
   "outputs": [
    {
     "data": {
      "text/plain": [
       "array([[0.35892815, 0.07844604],\n",
       "       [0.2920642 , 0.70273794],\n",
       "       [0.19277416, 0.40354685]])"
      ]
     },
     "execution_count": 57,
     "metadata": {},
     "output_type": "execute_result"
    }
   ],
   "source": [
    "np.random.rand(3,2)"
   ]
  },
  {
   "cell_type": "code",
   "execution_count": 58,
   "id": "a5ef90c0",
   "metadata": {},
   "outputs": [
    {
     "data": {
      "text/plain": [
       "array([0.96844003, 0.96288906, 0.33482081])"
      ]
     },
     "execution_count": 58,
     "metadata": {},
     "output_type": "execute_result"
    }
   ],
   "source": [
    "np.random.rand(3)"
   ]
  },
  {
   "cell_type": "code",
   "execution_count": 59,
   "id": "92fb77e9",
   "metadata": {},
   "outputs": [
    {
     "data": {
      "text/plain": [
       "array([ 2.33282893, -0.86692772])"
      ]
     },
     "execution_count": 59,
     "metadata": {},
     "output_type": "execute_result"
    }
   ],
   "source": [
    "np.random.randn(2)"
   ]
  },
  {
   "cell_type": "code",
   "execution_count": 62,
   "id": "b75ed718",
   "metadata": {},
   "outputs": [
    {
     "data": {
      "text/plain": [
       "array([1, 2, 3, 4, 5])"
      ]
     },
     "execution_count": 62,
     "metadata": {},
     "output_type": "execute_result"
    }
   ],
   "source": [
    "#1. Elemanları [1, 2, 3, 4, 5] olan bir NumPy dizisi nasıl oluşturulur?\n",
    "np.arange(6)\n",
    "liste1 = np.array([1, 2, 3, 4, 5])\n",
    "liste1"
   ]
  },
  {
   "cell_type": "code",
   "execution_count": null,
   "id": "ca99d4f1",
   "metadata": {},
   "outputs": [],
   "source": [
    "#2 satır ve 3 sütundan oluşan, tüm elemanları 0 olan bir NumPy dizisi nasıl oluşturulur?"
   ]
  },
  {
   "cell_type": "code",
   "execution_count": 66,
   "id": "bb65882d",
   "metadata": {},
   "outputs": [
    {
     "data": {
      "text/plain": [
       "array([[0, 0, 0],\n",
       "       [0, 0, 0]])"
      ]
     },
     "execution_count": 66,
     "metadata": {},
     "output_type": "execute_result"
    }
   ],
   "source": [
    "np.zeros((2,3),dtype='int')"
   ]
  },
  {
   "cell_type": "code",
   "execution_count": null,
   "id": "190d5b0c",
   "metadata": {},
   "outputs": [],
   "source": [
    "#3. Bir NumPy dizisinin boyutlarını (shape) nasıl öğrenirsiniz?"
   ]
  },
  {
   "cell_type": "code",
   "execution_count": 71,
   "id": "193e40d1",
   "metadata": {},
   "outputs": [
    {
     "data": {
      "text/plain": [
       "(5,)"
      ]
     },
     "execution_count": 71,
     "metadata": {},
     "output_type": "execute_result"
    }
   ],
   "source": [
    "liste1 = np.array([1, 2, 3, 4, 5])\n",
    "liste1.shape"
   ]
  },
  {
   "cell_type": "code",
   "execution_count": 72,
   "id": "8183ba6a",
   "metadata": {},
   "outputs": [
    {
     "data": {
      "text/plain": [
       "dtype('int64')"
      ]
     },
     "execution_count": 72,
     "metadata": {},
     "output_type": "execute_result"
    }
   ],
   "source": [
    "#4. Bir NumPy dizisinin elemanlarının veri tipini (dtype) nasıl öğrenirsiniz?\n",
    "liste1.dtype"
   ]
  },
  {
   "cell_type": "code",
   "execution_count": null,
   "id": "d4339438",
   "metadata": {},
   "outputs": [],
   "source": [
    "#5. a = np.array([1, 2, 3]) ve b = np.array([4, 5, 6]) dizileri verildiğinde, bu iki dizinin eleman bazında toplamını nasıl bulursunuz?"
   ]
  },
  {
   "cell_type": "code",
   "execution_count": 73,
   "id": "07bc8620",
   "metadata": {},
   "outputs": [
    {
     "data": {
      "text/plain": [
       "array([5, 7, 9])"
      ]
     },
     "execution_count": 73,
     "metadata": {},
     "output_type": "execute_result"
    }
   ],
   "source": [
    "a = np.array([1, 2, 3])\n",
    "b = np.array([4, 5, 6])\n",
    "a+b"
   ]
  },
  {
   "cell_type": "code",
   "execution_count": null,
   "id": "0ea2ccb0",
   "metadata": {},
   "outputs": [],
   "source": [
    "#6. arr = np.array([10, 20, 30, 40, 50]) dizisinin ortalamasını nasıl hesaplarsınız?"
   ]
  },
  {
   "cell_type": "code",
   "execution_count": 86,
   "id": "b697d736",
   "metadata": {},
   "outputs": [
    {
     "data": {
      "text/plain": [
       "np.int64(30)"
      ]
     },
     "execution_count": 86,
     "metadata": {},
     "output_type": "execute_result"
    }
   ],
   "source": [
    "arr = np.array([10, 20, 30, 40, 50])\n",
    "arr.mean(dtype=int)"
   ]
  },
  {
   "cell_type": "code",
   "execution_count": null,
   "id": "d23325d4",
   "metadata": {},
   "outputs": [],
   "source": [
    "#7. arr = np.array([1, 2, 3, 4, 5, 6]) dizisini 2 satır ve 3 sütunluk bir diziye nasıl yeniden şekillendirirsiniz"
   ]
  },
  {
   "cell_type": "code",
   "execution_count": 88,
   "id": "47558e1a",
   "metadata": {},
   "outputs": [
    {
     "data": {
      "text/plain": [
       "array([[1, 2],\n",
       "       [3, 4],\n",
       "       [5, 6]])"
      ]
     },
     "execution_count": 88,
     "metadata": {},
     "output_type": "execute_result"
    }
   ],
   "source": [
    "arr = np.array([1, 2, 3, 4, 5, 6])\n",
    "arr.reshape(3,2)"
   ]
  },
  {
   "cell_type": "code",
   "execution_count": 92,
   "id": "39eb49f8",
   "metadata": {},
   "outputs": [
    {
     "data": {
      "text/plain": [
       "array([3, 4, 5, 6])"
      ]
     },
     "execution_count": 92,
     "metadata": {},
     "output_type": "execute_result"
    }
   ],
   "source": [
    "#arr = np.array([0, 1, 2, 3, 4, 5, 6, 7, 8, 9]) dizisinden 3 ile 7 arasındaki (7 dahil değil) elemanları nasıl seçersiniz (slicing)?\n",
    "\n",
    "arr = np.array([0, 1, 2, 3, 4, 5, 6, 7, 8, 9]) \n",
    "arr[3:7]"
   ]
  },
  {
   "cell_type": "code",
   "execution_count": 93,
   "id": "05ee32f0",
   "metadata": {},
   "outputs": [
    {
     "name": "stdout",
     "output_type": "stream",
     "text": [
      "[ 1  2  3  4  5  6  7  8  9 10]\n"
     ]
    }
   ],
   "source": [
    "#9. Elemanları 1'den 10'a kadar (10 dahil) olan bir NumPy dizisi nasıl oluşturulur?\n",
    "arr=np.arange(1,11)\n",
    "print(arr)"
   ]
  },
  {
   "cell_type": "code",
   "execution_count": null,
   "id": "4e627b67",
   "metadata": {},
   "outputs": [],
   "source": [
    "#1. arr = np.array([1, 5, 2, 7, 3, 8, 4, 6]) dizisi verildiğinde, 5'ten büyük olan elemanları boolean indeksleme (boolean indexing) kullanarak nasıl seçersiniz?"
   ]
  },
  {
   "cell_type": "code",
   "execution_count": 94,
   "id": "6a0076e2",
   "metadata": {},
   "outputs": [
    {
     "data": {
      "text/plain": [
       "array([False, False, False,  True, False,  True, False,  True])"
      ]
     },
     "execution_count": 94,
     "metadata": {},
     "output_type": "execute_result"
    }
   ],
   "source": [
    "arr=np.array([1,5,2,7,3,8,4,6])\n",
    "arr>5"
   ]
  },
  {
   "cell_type": "code",
   "execution_count": 105,
   "id": "a22a52f7",
   "metadata": {},
   "outputs": [
    {
     "name": "stdout",
     "output_type": "stream",
     "text": [
      "[False, False, False, True, False, True, False, True]\n"
     ]
    }
   ],
   "source": [
    "liste=[1,5,2,7,3,8,4,6]\n",
    "sonuc=[]\n",
    "for i in (liste):\n",
    "    if i>5:\n",
    "        sonuc.append(True)\n",
    "    else:\n",
    "        sonuc.append(False)\n",
    "print(sonuc)"
   ]
  },
  {
   "cell_type": "code",
   "execution_count": null,
   "id": "b90d41da",
   "metadata": {},
   "outputs": [],
   "source": [
    "#2. A = np.array([[1, 2], [3, 4]]) ve B = np.array([[5, 6], [7, 8]]) matrisleri verildiğinde, bu iki matrisin çarpımını (matris çarpımı) nasıl hesaplarsınız?"
   ]
  },
  {
   "cell_type": "code",
   "execution_count": 108,
   "id": "6e2ce222",
   "metadata": {},
   "outputs": [
    {
     "data": {
      "text/plain": [
       "array([[19, 22],\n",
       "       [43, 50]])"
      ]
     },
     "execution_count": 108,
     "metadata": {},
     "output_type": "execute_result"
    }
   ],
   "source": [
    "A = np.array([[1, 2], [3, 4]]) \n",
    "B = np.array([[5, 6], [7, 8]])\n",
    "np.dot(A,B)"
   ]
  },
  {
   "cell_type": "code",
   "execution_count": 109,
   "id": "41a388e1",
   "metadata": {},
   "outputs": [
    {
     "data": {
      "text/plain": [
       "array([[19, 22],\n",
       "       [43, 50]])"
      ]
     },
     "execution_count": 109,
     "metadata": {},
     "output_type": "execute_result"
    }
   ],
   "source": [
    "A@B"
   ]
  },
  {
   "cell_type": "code",
   "execution_count": null,
   "id": "a1117df8",
   "metadata": {},
   "outputs": [],
   "source": [
    "#3. arr = np.array([1, 2, 2, 3, 4, 4, 4, 5, 5]) dizisindeki benzersiz (unique) elemanları ve bu elemanların kaçar kez tekrarlandığını nasıl bulursunuz?"
   ]
  },
  {
   "cell_type": "code",
   "execution_count": null,
   "id": "20d74e9c",
   "metadata": {},
   "outputs": [
    {
     "name": "stdout",
     "output_type": "stream",
     "text": [
      "[1 2 3 4 5]\n",
      "UniqueCountsResult(values=array([1, 2, 3, 4, 5]), counts=array([1, 2, 1, 3, 2]))\n",
      "[1 2 3 4 5] [1 2 1 3 2]\n"
     ]
    }
   ],
   "source": [
    "arr = np.array([1, 2, 2, 3, 4, 4, 4, 5, 5])\n",
    "print(np.unique(arr))\n",
    "print(np.unique_counts(arr))\n",
    "\n",
    "benzersizler, sayisi =  np.unique(arr,return_counts=True)\n",
    "print(benzersizler, sayisi)\n"
   ]
  },
  {
   "cell_type": "code",
   "execution_count": null,
   "id": "a87c05c9",
   "metadata": {},
   "outputs": [],
   "source": []
  },
  {
   "cell_type": "code",
   "execution_count": 139,
   "id": "70f65706",
   "metadata": {},
   "outputs": [],
   "source": [
    "liste =np.array( [\"zeynep\", \"şevval\", \"Özgür\"])\n",
    "\n",
    "def sec():\n",
    "    rand = np.random.randint(1,101)\n",
    "    sec = \"\"\n",
    "    if rand <= 90:\n",
    "        sec = \"Gulay\"\n",
    "        return sec, rand\n",
    "    else:\n",
    "        sec = np.random.choice(liste)\n",
    "        return sec, rand"
   ]
  },
  {
   "cell_type": "code",
   "execution_count": 166,
   "id": "0c449e91",
   "metadata": {},
   "outputs": [
    {
     "data": {
      "text/plain": [
       "('Gulay', 81)"
      ]
     },
     "execution_count": 166,
     "metadata": {},
     "output_type": "execute_result"
    }
   ],
   "source": [
    "sec()"
   ]
  },
  {
   "cell_type": "code",
   "execution_count": null,
   "id": "b46b7909",
   "metadata": {},
   "outputs": [],
   "source": []
  }
 ],
 "metadata": {
  "kernelspec": {
   "display_name": "Python 3",
   "language": "python",
   "name": "python3"
  },
  "language_info": {
   "codemirror_mode": {
    "name": "ipython",
    "version": 3
   },
   "file_extension": ".py",
   "mimetype": "text/x-python",
   "name": "python",
   "nbconvert_exporter": "python",
   "pygments_lexer": "ipython3",
   "version": "3.13.3"
  }
 },
 "nbformat": 4,
 "nbformat_minor": 5
}
