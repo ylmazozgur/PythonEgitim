{
 "cells": [
  {
   "cell_type": "markdown",
   "id": "380abebf",
   "metadata": {},
   "source": [
    "# Numpy\n",
    "\n",
    "* Python'da bilimsel hesaplamalar ve veri analizi için temel kütüphanedir. \n",
    "* **Yüksek performanslı çok boyutlu diziler (arrays)** vu bu diziler üzerinde işlemler yapmamızı sağlar"
   ]
  },
  {
   "cell_type": "code",
   "execution_count": null,
   "id": "2c72aaa6",
   "metadata": {},
   "outputs": [],
   "source": [
    "import numpy as np"
   ]
  },
  {
   "cell_type": "markdown",
   "id": "305dc43c",
   "metadata": {},
   "source": [
    "### 1.1 Numpy Dizisi (Array) Oluşturma"
   ]
  },
  {
   "cell_type": "markdown",
   "id": "949375f8",
   "metadata": {},
   "source": [
    "* Temel liste ve numpy listesi"
   ]
  },
  {
   "cell_type": "code",
   "execution_count": 8,
   "id": "0c41e970",
   "metadata": {},
   "outputs": [
    {
     "name": "stdout",
     "output_type": "stream",
     "text": [
      "<class 'list'>\n",
      "<class 'numpy.ndarray'>\n",
      "<class 'numpy.ndarray'>\n",
      "<class 'numpy.ndarray'>\n"
     ]
    }
   ],
   "source": [
    "liste1 = [1,2,3]\n",
    "#liste2 = np.array([4,5,6]) # 1 boyutlu (vektör)\n",
    "liste2 = np.array([4,5,6])\n",
    "liste3 = np.array(liste1)\n",
    "liste4 = np.array([[1,2,3],[4,5,6]]) \n",
    "\n",
    "print(type(liste1))\n",
    "print(type(liste2))\n",
    "print(type(liste3))\n",
    "print(type(liste4))"
   ]
  },
  {
   "cell_type": "code",
   "execution_count": 14,
   "id": "6555ef28",
   "metadata": {},
   "outputs": [
    {
     "name": "stdout",
     "output_type": "stream",
     "text": [
      "[0. 0. 0. 0. 0.] \n",
      "\n",
      "[[0. 0. 0. 0.]\n",
      " [0. 0. 0. 0.]\n",
      " [0. 0. 0. 0.]]\n"
     ]
    },
    {
     "data": {
      "text/plain": [
       "array([[0., 0., 0., 0., 0.],\n",
       "       [0., 0., 0., 0., 0.]])"
      ]
     },
     "execution_count": 14,
     "metadata": {},
     "output_type": "execute_result"
    }
   ],
   "source": [
    "# 0'lardan oluşan matris\n",
    "print(np.zeros(5),\"\\n\") # tek boyutlu\n",
    "\n",
    "print(np.zeros((3,4))) # iki boyutlu\n",
    "np.zeros((2,5))"
   ]
  },
  {
   "cell_type": "code",
   "execution_count": 21,
   "id": "50a63b10",
   "metadata": {},
   "outputs": [
    {
     "name": "stdout",
     "output_type": "stream",
     "text": [
      "[1. 1.] \n",
      "\n",
      "[[1. 1. 1.]\n",
      " [1. 1. 1.]\n",
      " [1. 1. 1.]\n",
      " [1. 1. 1.]\n",
      " [1. 1. 1.]]\n"
     ]
    }
   ],
   "source": [
    "# 1'lerden oluşan matris\n",
    "print(np.ones(2), \"\\n\") # tek boyutlu\n",
    "np.ones(4)\n",
    "\n",
    "print(np.ones((5,3))) # iki boyutlu\n"
   ]
  },
  {
   "cell_type": "code",
   "execution_count": 30,
   "id": "a72fe116",
   "metadata": {},
   "outputs": [
    {
     "name": "stdout",
     "output_type": "stream",
     "text": [
      "[[6. 6. 6.]\n",
      " [6. 6. 6.]]\n",
      "<class 'numpy.float64'>\n"
     ]
    }
   ],
   "source": [
    "# 5'lerden oluşan bir matris oluşturalım.\n",
    "\n",
    "n = np.ones((2,3)) + 5\n",
    "print(n)\n",
    "n[1][1]\n",
    "print(type(n[0] [0]))"
   ]
  },
  {
   "cell_type": "code",
   "execution_count": 31,
   "id": "210a79ec",
   "metadata": {},
   "outputs": [
    {
     "data": {
      "text/plain": [
       "float"
      ]
     },
     "execution_count": 31,
     "metadata": {},
     "output_type": "execute_result"
    }
   ],
   "source": [
    "x = 3.4\n",
    "type(x)"
   ]
  },
  {
   "cell_type": "code",
   "execution_count": 36,
   "id": "f6df06e0",
   "metadata": {},
   "outputs": [],
   "source": [
    "def hesapla(x, y=2):\n",
    "    print(x + y)"
   ]
  },
  {
   "cell_type": "code",
   "execution_count": 38,
   "id": "12c4974f",
   "metadata": {},
   "outputs": [
    {
     "name": "stdout",
     "output_type": "stream",
     "text": [
      "7.6\n"
     ]
    }
   ],
   "source": [
    "hesapla(3, 4.6)"
   ]
  },
  {
   "cell_type": "code",
   "execution_count": 39,
   "id": "9fddbbc4",
   "metadata": {},
   "outputs": [
    {
     "data": {
      "text/plain": [
       "array([[1, 0, 0],\n",
       "       [0, 1, 0],\n",
       "       [0, 0, 1]])"
      ]
     },
     "execution_count": 39,
     "metadata": {},
     "output_type": "execute_result"
    }
   ],
   "source": [
    "# birim matris\n",
    "\n",
    "np.eye(3,dtype=\"int\")"
   ]
  },
  {
   "cell_type": "code",
   "execution_count": null,
   "id": "ab84f0c4",
   "metadata": {},
   "outputs": [
    {
     "name": "stdout",
     "output_type": "stream",
     "text": [
      "[ 0  1  2  3  4  5  6  7  8  9 10 11 12 13 14 15 16 17 18 19]\n",
      "[1 2 3 4 5 6 7 8 9]\n",
      "[1 3 5 7 9]\n",
      "[1.  1.3 1.6 1.9 2.2 2.5 2.8 3.1 3.4 3.7 4.  4.3 4.6 4.9]\n"
     ]
    }
   ],
   "source": [
    "# numpy'a özgü range fonksiyonu\n",
    "print(np.arange(20)) # 0,1,2,3,...,19\n",
    "print(np.arange(1,10)) # 1'den başla 10'a kadar git.\n",
    "print(np.arange(1,10,2)) # 1'den başla 10'a kadar git ve 2 atlayarak devam et.\n",
    "print(np.arange(1,5, 0.3)) # 1'den 5'e kadar 0.3 atlayarak ilerle\n",
    "np.arange()"
   ]
  },
  {
   "cell_type": "code",
   "execution_count": 42,
   "id": "df82eec1",
   "metadata": {},
   "outputs": [
    {
     "name": "stdout",
     "output_type": "stream",
     "text": [
      "[1. 3. 5.]\n",
      "[0.   0.25 0.5  0.75 1.  ]\n"
     ]
    }
   ],
   "source": [
    "# eşit aralıklardan oluşan bir dizi oluşturalım.\n",
    "\n",
    "print(np.linspace(1,5,3)) # 1 ile 5 arasında eşit aralıklı 3 sayı \n",
    "print(np.linspace(0,1,5)) # 0 ile 1 arasında eşit aralıklı 5 sayı "
   ]
  },
  {
   "cell_type": "markdown",
   "id": "88ff5ad7",
   "metadata": {},
   "source": [
    "### 1.2 Dizi Özellikleri"
   ]
  },
  {
   "cell_type": "code",
   "execution_count": null,
   "id": "b8b9d587",
   "metadata": {},
   "outputs": [],
   "source": [
    "liste2 = np.array([4,5,6])\n",
    "liste4 = np.array([[1,2,3],\n",
    "                   [4,5,6]]) "
   ]
  },
  {
   "cell_type": "code",
   "execution_count": 130,
   "id": "6dde1774",
   "metadata": {},
   "outputs": [
    {
     "name": "stdout",
     "output_type": "stream",
     "text": [
      "(3,)\n"
     ]
    },
    {
     "data": {
      "text/plain": [
       "array(['4', '5', '6'], dtype='<U21')"
      ]
     },
     "execution_count": 130,
     "metadata": {},
     "output_type": "execute_result"
    }
   ],
   "source": [
    "print(liste2.shape)  # dizinin kaç satır kaç sütundan oluştuğu bilgisini verir.\n",
    "liste4.ndim # dizinin kaç boyutlu olduğunu verir.(dimension)\n",
    "liste2.size # dizinin kaç elemanlı olduğunu verir\n",
    "liste4.size\n",
    "liste2.dtype # elemanların veri tipini verir\n",
    "liste4.dtype\n",
    "liste2.nbytes # Dizinin bellekte kapladığı toplam alan (byte cinsinden)\n",
    "liste4.nbytes\n",
    "liste2.T # Dizinin transpozu\n",
    "liste4.T\n",
    "liste4.flatten() # çok boyutlu diziyi tek boyutlu diziye indirir.\n",
    "liste2.astype(str) # Veri tipini değiştirir. (float, int, str)"
   ]
  },
  {
   "cell_type": "markdown",
   "id": "77eadad8",
   "metadata": {},
   "source": [
    "## 2. Dizi İşlemleri"
   ]
  },
  {
   "cell_type": "markdown",
   "id": "f24b741c",
   "metadata": {},
   "source": [
    "### 2.1 Matematiksel İşlemler"
   ]
  },
  {
   "cell_type": "code",
   "execution_count": 78,
   "id": "7d1a8e40",
   "metadata": {},
   "outputs": [
    {
     "name": "stdout",
     "output_type": "stream",
     "text": [
      "5\n",
      "7\n",
      "9\n"
     ]
    }
   ],
   "source": [
    "liste1 = [1, 2, 3]\n",
    "liste2 = [4, 5, 6]\n",
    "for i in range(len(liste1)):\n",
    "    print(liste1[i]+liste2[i])"
   ]
  },
  {
   "cell_type": "code",
   "execution_count": 79,
   "id": "714f3572",
   "metadata": {},
   "outputs": [],
   "source": [
    "arr1 = np.array(liste1)\n",
    "arr2 = np.array(liste2)"
   ]
  },
  {
   "cell_type": "code",
   "execution_count": 89,
   "id": "43f6bbe4",
   "metadata": {},
   "outputs": [
    {
     "name": "stdout",
     "output_type": "stream",
     "text": [
      "[1, 2, 3, 4, 5, 6]\n",
      "[5 7 9]\n",
      "[ 5 10 15]\n",
      "32\n",
      "[False False  True]\n"
     ]
    }
   ],
   "source": [
    "arr1 = np.array([1, 2, 3])\n",
    "arr2 = np.array([4, 5, 6])\n",
    "print(liste1 + liste2)\n",
    "print(arr1 + arr2)\n",
    "print(arr1 * 5)\n",
    "#print(arr2 / 2)\n",
    "print( np.dot(arr1, arr2)) # iç çarpım: 1*4 + 2*5 + 3*6 = 32\n",
    "print( arr1 > 2)\n"
   ]
  },
  {
   "cell_type": "markdown",
   "id": "be4778b6",
   "metadata": {},
   "source": [
    "### 2.2 İndeksleme ve Dilimleme"
   ]
  },
  {
   "cell_type": "code",
   "execution_count": 93,
   "id": "721e7ad3",
   "metadata": {},
   "outputs": [
    {
     "data": {
      "text/plain": [
       "array([0, 1, 2, 3, 4, 5, 6, 7, 8, 9])"
      ]
     },
     "execution_count": 93,
     "metadata": {},
     "output_type": "execute_result"
    }
   ],
   "source": [
    "a = np.arange(10)\n",
    "a"
   ]
  },
  {
   "cell_type": "code",
   "execution_count": 92,
   "id": "990d3562",
   "metadata": {},
   "outputs": [
    {
     "data": {
      "text/plain": [
       "np.int64(4)"
      ]
     },
     "execution_count": 92,
     "metadata": {},
     "output_type": "execute_result"
    }
   ],
   "source": [
    "a[2]"
   ]
  },
  {
   "cell_type": "code",
   "execution_count": 95,
   "id": "65f2f8c8",
   "metadata": {},
   "outputs": [
    {
     "data": {
      "text/plain": [
       "array([0, 2, 4, 6, 8])"
      ]
     },
     "execution_count": 95,
     "metadata": {},
     "output_type": "execute_result"
    }
   ],
   "source": [
    "a[::2]"
   ]
  },
  {
   "cell_type": "code",
   "execution_count": 96,
   "id": "e1c60ec0",
   "metadata": {},
   "outputs": [],
   "source": [
    "matrix = np.array([ [1, 2, 3], [4, 5, 6], [7, 8, 9] ])"
   ]
  },
  {
   "cell_type": "code",
   "execution_count": 98,
   "id": "4c9c432b",
   "metadata": {},
   "outputs": [
    {
     "name": "stdout",
     "output_type": "stream",
     "text": [
      "6\n"
     ]
    }
   ],
   "source": [
    "matrix[2][1]\n",
    "print(matrix[1, 2]) # 6 (2.satır, 3.sütun)\n",
    "#print(matrix[:, 0]) # Tüm satırların birinci sütunu\n",
    "#print(matrix[0:2, 1:3]) # [[2, 3], [5, 6]] --> 0 ile 1. satır arasından, 1 ile 2. sütunlarından değerlerini getirir."
   ]
  },
  {
   "cell_type": "code",
   "execution_count": 118,
   "id": "83726a9b",
   "metadata": {},
   "outputs": [
    {
     "data": {
      "text/plain": [
       "np.float64(0.8939966636005579)"
      ]
     },
     "execution_count": 118,
     "metadata": {},
     "output_type": "execute_result"
    }
   ],
   "source": [
    "np.sin(90)"
   ]
  },
  {
   "cell_type": "markdown",
   "id": "97c6b4ba",
   "metadata": {},
   "source": [
    "### 2.3 Broadcasting\n",
    "\n",
    "Farklı boyutlu dizileri işleme alma:"
   ]
  },
  {
   "cell_type": "code",
   "execution_count": 119,
   "id": "904b7f6d",
   "metadata": {},
   "outputs": [
    {
     "name": "stdout",
     "output_type": "stream",
     "text": [
      "[[11 22]\n",
      " [13 24]]\n"
     ]
    }
   ],
   "source": [
    "a = np.array([[1, 2], [3, 4]])\n",
    "b = np.array([10, 20])\n",
    "print(a + b)  # Burada b matrisi otomatik olarak genişledi yani [[10, 20], [10,20]] şekline geldi."
   ]
  },
  {
   "cell_type": "markdown",
   "id": "060dd49a",
   "metadata": {},
   "source": [
    "## 3. Matematiksel Fonksiyonlar"
   ]
  },
  {
   "cell_type": "code",
   "execution_count": null,
   "id": "eff00dc5",
   "metadata": {},
   "outputs": [
    {
     "name": "stdout",
     "output_type": "stream",
     "text": [
      "10\n",
      "2.5\n",
      "1.118033988749895\n",
      "1.25\n",
      "2.5\n",
      "[ 0.84147098  0.90929743  0.14112001 -0.7568025 ]\n",
      "[0.         0.69314718 1.09861229 1.38629436]\n",
      "[1 2 3 4]\n",
      "[1.         1.41421356 1.73205081 2.        ]\n",
      "[False  True False  True]\n"
     ]
    }
   ],
   "source": [
    "arr = np.array([1, 2, 3, 4])\n",
    "\n",
    "print(np.sum(arr)) # 10 --> elemanların toplamı\n",
    "print(np.mean(arr)) # arr dizisinin ortalaması\n",
    "print(np.std(arr)) # standart sapması\n",
    "print(np.var(arr)) # varyans\n",
    "print(np.median(arr)) # median\n",
    "print(np.sin(arr)) # sinüs değerleri\n",
    "print(np.log(arr)) # Doğal logaritması\n",
    "print(np.unique(arr)) # Dizinin içersini benzersiz değerlere dönüştürür. (1,1,1,2,3,4,5,5) -> (1,2,3,4,5)\n",
    "print(np.sqrt(arr)) # karekök alma\n",
    "print(arr % 2 == 0) # arr dizisindeki her bir elemanın 2'ye bölünüp bölünmediğini kontrol ediyor."
   ]
  },
  {
   "cell_type": "markdown",
   "id": "a6d159e8",
   "metadata": {},
   "source": [
    "## 4. Dizi Manipülasyonu"
   ]
  },
  {
   "cell_type": "code",
   "execution_count": 140,
   "id": "386601bd",
   "metadata": {},
   "outputs": [
    {
     "name": "stdout",
     "output_type": "stream",
     "text": [
      "[array([0, 1]), array([2, 3]), array([4, 5])]\n"
     ]
    }
   ],
   "source": [
    "# Yeniden şekillendirme\n",
    "arr = np.arange(6)  # [[0,1,2], [3,4,5]]\n",
    "\n",
    "# Birleştirme\n",
    "a = np.array([1, 2])\n",
    "b = np.array([3, 4])\n",
    "#concat = np.concatenate((a, b))  # [1,2,3,4]\n",
    "\n",
    "# Split\n",
    "parcalar = np.split(arr, 3)  # İki parçaya ayırır\n",
    "print(parcalar)\n"
   ]
  },
  {
   "cell_type": "code",
   "execution_count": 131,
   "id": "6d93c1ca",
   "metadata": {},
   "outputs": [
    {
     "data": {
      "text/plain": [
       "array([4, 6])"
      ]
     },
     "execution_count": 131,
     "metadata": {},
     "output_type": "execute_result"
    }
   ],
   "source": [
    "a = np.array([1, 2])\n",
    "b = np.array([3, 4])\n",
    "a+b"
   ]
  },
  {
   "cell_type": "markdown",
   "id": "df8c7961",
   "metadata": {},
   "source": [
    "## 5. Rastgele Sayı Üretme"
   ]
  },
  {
   "cell_type": "code",
   "execution_count": 160,
   "id": "ec2a6989",
   "metadata": {},
   "outputs": [
    {
     "name": "stdout",
     "output_type": "stream",
     "text": [
      "[48 37 10 24 21  6 49 12 36 25 24 27 26 29 11] \n",
      "\n"
     ]
    }
   ],
   "source": [
    "#print(np.random.rand(3,4),\"\\n\") # 0 ile 1 arasında 3 satır 4 sütunluk rastgele değer üretir. Eşit olasılık.\n",
    "\n",
    "#print(np.random.randn(2,5)) # 0 ile 1 arasında ort=0, std=1 olacak şekilde normal dağılım olacak şekilde rastgele sayı üretir.\n",
    "\n",
    "print(np.random.randint(1,50,15), \"\\n\") # 1 ile 50 arasında rastgele 15 tane sayı üretir.\n"
   ]
  },
  {
   "cell_type": "code",
   "execution_count": 163,
   "id": "7b40314b",
   "metadata": {},
   "outputs": [
    {
     "name": "stdout",
     "output_type": "stream",
     "text": [
      "Python: 1.5845441818237305 saniye\n",
      "NumPy: 0.45421266555786133 saniye\n"
     ]
    }
   ],
   "source": [
    "import time\n",
    "\n",
    "# Veri boyutu\n",
    "N = 10**7\n",
    "\n",
    "# Python listeleri\n",
    "liste1 = list(range(N))\n",
    "liste2 = list(range(N))\n",
    "\n",
    "# NumPy dizileri\n",
    "numpy_dizi1 = np.array(liste1)\n",
    "numpy_dizi2 = np.array(liste2)\n",
    "\n",
    "# Python listesi ile toplama\n",
    "start = time.time()\n",
    "toplam = [x + y for x, y in zip(liste1, liste2)]\n",
    "print(\"Python:\", time.time() - start, \"saniye\")\n",
    "\n",
    "# NumPy ile toplama\n",
    "start = time.time()\n",
    "toplam = numpy_dizi1 + numpy_dizi2\n",
    "print(\"NumPy:\", time.time() - start, \"saniye\")"
   ]
  },
  {
   "cell_type": "code",
   "execution_count": null,
   "id": "17f17541",
   "metadata": {},
   "outputs": [
    {
     "data": {
      "text/plain": [
       "False"
      ]
     },
     "execution_count": 162,
     "metadata": {},
     "output_type": "execute_result"
    }
   ],
   "source": []
  }
 ],
 "metadata": {
  "kernelspec": {
   "display_name": "Python 3",
   "language": "python",
   "name": "python3"
  },
  "language_info": {
   "codemirror_mode": {
    "name": "ipython",
    "version": 3
   },
   "file_extension": ".py",
   "mimetype": "text/x-python",
   "name": "python",
   "nbconvert_exporter": "python",
   "pygments_lexer": "ipython3",
   "version": "3.13.3"
  }
 },
 "nbformat": 4,
 "nbformat_minor": 5
}
